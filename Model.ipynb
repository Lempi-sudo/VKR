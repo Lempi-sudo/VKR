{
 "cells": [
  {
   "cell_type": "code",
   "execution_count": 1,
   "id": "3248a785",
   "metadata": {},
   "outputs": [],
   "source": [
    "import numpy as np\n",
    "import matplotlib.pyplot as plt\n",
    "import pandas as pd \n"
   ]
  },
  {
   "cell_type": "code",
   "execution_count": 2,
   "id": "c7048f0d",
   "metadata": {},
   "outputs": [
    {
     "data": {
      "text/html": [
       "<div>\n",
       "<style scoped>\n",
       "    .dataframe tbody tr th:only-of-type {\n",
       "        vertical-align: middle;\n",
       "    }\n",
       "\n",
       "    .dataframe tbody tr th {\n",
       "        vertical-align: top;\n",
       "    }\n",
       "\n",
       "    .dataframe thead th {\n",
       "        text-align: right;\n",
       "    }\n",
       "</style>\n",
       "<table border=\"1\" class=\"dataframe\">\n",
       "  <thead>\n",
       "    <tr style=\"text-align: right;\">\n",
       "      <th></th>\n",
       "      <th>Unnamed: 0</th>\n",
       "      <th>bit</th>\n",
       "      <th>feature_1</th>\n",
       "      <th>feature_2</th>\n",
       "      <th>feature_3</th>\n",
       "      <th>feature_4</th>\n",
       "    </tr>\n",
       "  </thead>\n",
       "  <tbody>\n",
       "    <tr>\n",
       "      <th>0</th>\n",
       "      <td>0</td>\n",
       "      <td>1.0</td>\n",
       "      <td>0.0</td>\n",
       "      <td>18.5</td>\n",
       "      <td>-5.0</td>\n",
       "      <td>1.5</td>\n",
       "    </tr>\n",
       "    <tr>\n",
       "      <th>1</th>\n",
       "      <td>1</td>\n",
       "      <td>0.0</td>\n",
       "      <td>-4.5</td>\n",
       "      <td>-33.5</td>\n",
       "      <td>-4.5</td>\n",
       "      <td>-42.0</td>\n",
       "    </tr>\n",
       "    <tr>\n",
       "      <th>2</th>\n",
       "      <td>2</td>\n",
       "      <td>1.0</td>\n",
       "      <td>10.5</td>\n",
       "      <td>91.5</td>\n",
       "      <td>5.5</td>\n",
       "      <td>87.0</td>\n",
       "    </tr>\n",
       "    <tr>\n",
       "      <th>3</th>\n",
       "      <td>3</td>\n",
       "      <td>0.0</td>\n",
       "      <td>-31.0</td>\n",
       "      <td>-5.5</td>\n",
       "      <td>-35.5</td>\n",
       "      <td>-5.5</td>\n",
       "    </tr>\n",
       "    <tr>\n",
       "      <th>4</th>\n",
       "      <td>4</td>\n",
       "      <td>1.0</td>\n",
       "      <td>-16.5</td>\n",
       "      <td>13.0</td>\n",
       "      <td>-11.0</td>\n",
       "      <td>-6.0</td>\n",
       "    </tr>\n",
       "    <tr>\n",
       "      <th>...</th>\n",
       "      <td>...</td>\n",
       "      <td>...</td>\n",
       "      <td>...</td>\n",
       "      <td>...</td>\n",
       "      <td>...</td>\n",
       "      <td>...</td>\n",
       "    </tr>\n",
       "    <tr>\n",
       "      <th>511995</th>\n",
       "      <td>511995</td>\n",
       "      <td>1.0</td>\n",
       "      <td>-6.5</td>\n",
       "      <td>3.0</td>\n",
       "      <td>-1.0</td>\n",
       "      <td>9.0</td>\n",
       "    </tr>\n",
       "    <tr>\n",
       "      <th>511996</th>\n",
       "      <td>511996</td>\n",
       "      <td>0.0</td>\n",
       "      <td>-3.5</td>\n",
       "      <td>0.5</td>\n",
       "      <td>0.5</td>\n",
       "      <td>-2.5</td>\n",
       "    </tr>\n",
       "    <tr>\n",
       "      <th>511997</th>\n",
       "      <td>511997</td>\n",
       "      <td>0.0</td>\n",
       "      <td>0.5</td>\n",
       "      <td>-8.0</td>\n",
       "      <td>0.5</td>\n",
       "      <td>-2.5</td>\n",
       "    </tr>\n",
       "    <tr>\n",
       "      <th>511998</th>\n",
       "      <td>511998</td>\n",
       "      <td>0.0</td>\n",
       "      <td>2.0</td>\n",
       "      <td>28.0</td>\n",
       "      <td>-2.0</td>\n",
       "      <td>28.0</td>\n",
       "    </tr>\n",
       "    <tr>\n",
       "      <th>511999</th>\n",
       "      <td>511999</td>\n",
       "      <td>0.0</td>\n",
       "      <td>28.0</td>\n",
       "      <td>3.5</td>\n",
       "      <td>27.5</td>\n",
       "      <td>9.0</td>\n",
       "    </tr>\n",
       "  </tbody>\n",
       "</table>\n",
       "<p>512000 rows × 6 columns</p>\n",
       "</div>"
      ],
      "text/plain": [
       "        Unnamed: 0  bit  feature_1  feature_2  feature_3  feature_4\n",
       "0                0  1.0        0.0       18.5       -5.0        1.5\n",
       "1                1  0.0       -4.5      -33.5       -4.5      -42.0\n",
       "2                2  1.0       10.5       91.5        5.5       87.0\n",
       "3                3  0.0      -31.0       -5.5      -35.5       -5.5\n",
       "4                4  1.0      -16.5       13.0      -11.0       -6.0\n",
       "...            ...  ...        ...        ...        ...        ...\n",
       "511995      511995  1.0       -6.5        3.0       -1.0        9.0\n",
       "511996      511996  0.0       -3.5        0.5        0.5       -2.5\n",
       "511997      511997  0.0        0.5       -8.0        0.5       -2.5\n",
       "511998      511998  0.0        2.0       28.0       -2.0       28.0\n",
       "511999      511999  0.0       28.0        3.5       27.5        9.0\n",
       "\n",
       "[512000 rows x 6 columns]"
      ]
     },
     "execution_count": 2,
     "metadata": {},
     "output_type": "execute_result"
    }
   ],
   "source": [
    "dataset = pd.read_csv('feature_vec/image_water_mark_dataset.txt')\n",
    "dataset"
   ]
  },
  {
   "cell_type": "code",
   "execution_count": 3,
   "id": "a5b22786",
   "metadata": {},
   "outputs": [
    {
     "data": {
      "text/plain": [
       "Unnamed: 0      int64\n",
       "bit           float64\n",
       "feature_1     float64\n",
       "feature_2     float64\n",
       "feature_3     float64\n",
       "feature_4     float64\n",
       "dtype: object"
      ]
     },
     "execution_count": 3,
     "metadata": {},
     "output_type": "execute_result"
    }
   ],
   "source": [
    "dataset.dtypes"
   ]
  },
  {
   "cell_type": "code",
   "execution_count": 4,
   "id": "56da0f2e",
   "metadata": {},
   "outputs": [
    {
     "data": {
      "text/plain": [
       "array([[  0. ,  18.5,  -5. ,   1.5],\n",
       "       [ -4.5, -33.5,  -4.5, -42. ],\n",
       "       [ 10.5,  91.5,   5.5,  87. ],\n",
       "       ...,\n",
       "       [  0.5,  -8. ,   0.5,  -2.5],\n",
       "       [  2. ,  28. ,  -2. ,  28. ],\n",
       "       [ 28. ,   3.5,  27.5,   9. ]])"
      ]
     },
     "execution_count": 4,
     "metadata": {},
     "output_type": "execute_result"
    }
   ],
   "source": [
    "X = dataset.iloc[:,[2,3,4,5]].values\n",
    "X"
   ]
  },
  {
   "cell_type": "code",
   "execution_count": 5,
   "id": "98896fdf",
   "metadata": {},
   "outputs": [
    {
     "data": {
      "text/plain": [
       "dtype('float64')"
      ]
     },
     "execution_count": 5,
     "metadata": {},
     "output_type": "execute_result"
    }
   ],
   "source": [
    "X.dtype"
   ]
  },
  {
   "cell_type": "code",
   "execution_count": 6,
   "id": "bbc2c0ca",
   "metadata": {},
   "outputs": [
    {
     "data": {
      "text/plain": [
       "array([1., 0., 1., ..., 0., 0., 0.])"
      ]
     },
     "execution_count": 6,
     "metadata": {},
     "output_type": "execute_result"
    }
   ],
   "source": [
    "y = dataset.iloc[:, 1].values\n",
    "y"
   ]
  },
  {
   "cell_type": "code",
   "execution_count": 7,
   "id": "02e376d6",
   "metadata": {},
   "outputs": [],
   "source": [
    "from sklearn.model_selection import train_test_split\n",
    "\n",
    "X_train, X_test, y_train, y_test = train_test_split(X, y, test_size = 0.9, random_state=None, shuffle=False)"
   ]
  },
  {
   "cell_type": "code",
   "execution_count": 8,
   "id": "b3d79864",
   "metadata": {},
   "outputs": [
    {
     "data": {
      "text/plain": [
       "array([1., 0., 1., ..., 0., 0., 0.])"
      ]
     },
     "execution_count": 8,
     "metadata": {},
     "output_type": "execute_result"
    }
   ],
   "source": [
    "y_train"
   ]
  },
  {
   "cell_type": "code",
   "execution_count": 9,
   "id": "813285de",
   "metadata": {},
   "outputs": [
    {
     "data": {
      "text/plain": [
       "51200"
      ]
     },
     "execution_count": 9,
     "metadata": {},
     "output_type": "execute_result"
    }
   ],
   "source": [
    "y_train.size"
   ]
  },
  {
   "cell_type": "code",
   "execution_count": 10,
   "id": "294c938d",
   "metadata": {},
   "outputs": [
    {
     "data": {
      "text/plain": [
       "array([[  0. ,  18.5,  -5. ,   1.5],\n",
       "       [ -4.5, -33.5,  -4.5, -42. ],\n",
       "       [ 10.5,  91.5,   5.5,  87. ],\n",
       "       ...,\n",
       "       [ -4.5,  -7.5,  -5. ,  -5. ],\n",
       "       [ -7. ,   6.5, -10. ,   7. ],\n",
       "       [ -6. ,   7. ,   6.5,   5. ]])"
      ]
     },
     "execution_count": 10,
     "metadata": {},
     "output_type": "execute_result"
    }
   ],
   "source": [
    "X_train"
   ]
  },
  {
   "cell_type": "code",
   "execution_count": 11,
   "id": "221cbabe",
   "metadata": {},
   "outputs": [
    {
     "data": {
      "text/plain": [
       "204800"
      ]
     },
     "execution_count": 11,
     "metadata": {},
     "output_type": "execute_result"
    }
   ],
   "source": [
    "X_train.size"
   ]
  },
  {
   "cell_type": "code",
   "execution_count": 12,
   "id": "e29302c1",
   "metadata": {},
   "outputs": [
    {
     "name": "stdout",
     "output_type": "stream",
     "text": [
      "Iteration 1, loss = 0.63927113\n",
      "Validation score: 0.741797\n",
      "Iteration 2, loss = 0.51062327\n",
      "Validation score: 0.832812\n",
      "Iteration 3, loss = 0.35662873\n",
      "Validation score: 0.876172\n",
      "Iteration 4, loss = 0.26474100\n",
      "Validation score: 0.890625\n",
      "Iteration 5, loss = 0.21313286\n",
      "Validation score: 0.908594\n",
      "Iteration 6, loss = 0.18178136\n",
      "Validation score: 0.919922\n",
      "Iteration 7, loss = 0.16054799\n",
      "Validation score: 0.962500\n",
      "Iteration 8, loss = 0.14405405\n",
      "Validation score: 0.962891\n",
      "Iteration 9, loss = 0.13438874\n",
      "Validation score: 0.966016\n",
      "Iteration 10, loss = 0.12235442\n",
      "Validation score: 0.976172\n",
      "Iteration 11, loss = 0.11387113\n",
      "Validation score: 0.976758\n",
      "Iteration 12, loss = 0.10491149\n",
      "Validation score: 0.979102\n",
      "Iteration 13, loss = 0.09875389\n",
      "Validation score: 0.976367\n",
      "Iteration 14, loss = 0.09355703\n",
      "Validation score: 0.981445\n",
      "Iteration 15, loss = 0.08697741\n",
      "Validation score: 0.980469\n",
      "Iteration 16, loss = 0.08291944\n",
      "Validation score: 0.977539\n",
      "Iteration 17, loss = 0.08086303\n",
      "Validation score: 0.984961\n",
      "Iteration 18, loss = 0.07854952\n",
      "Validation score: 0.979883\n",
      "Iteration 19, loss = 0.07787401\n",
      "Validation score: 0.983203\n",
      "Iteration 20, loss = 0.07733762\n",
      "Validation score: 0.983789\n",
      "Iteration 21, loss = 0.07176189\n",
      "Validation score: 0.982227\n",
      "Iteration 22, loss = 0.07211323\n",
      "Validation score: 0.983789\n",
      "Iteration 23, loss = 0.06936137\n",
      "Validation score: 0.984375\n",
      "Iteration 24, loss = 0.06889506\n",
      "Validation score: 0.979883\n",
      "Iteration 25, loss = 0.06916428\n",
      "Validation score: 0.985547\n",
      "Iteration 26, loss = 0.06611697\n",
      "Validation score: 0.983398\n",
      "Iteration 27, loss = 0.06454364\n",
      "Validation score: 0.984766\n",
      "Iteration 28, loss = 0.06849447\n",
      "Validation score: 0.985547\n",
      "Iteration 29, loss = 0.06555438\n",
      "Validation score: 0.984570\n",
      "Iteration 30, loss = 0.05977710\n",
      "Validation score: 0.982812\n",
      "Iteration 31, loss = 0.06226122\n",
      "Validation score: 0.985742\n",
      "Iteration 32, loss = 0.06377935\n",
      "Validation score: 0.983789\n",
      "Iteration 33, loss = 0.06039663\n",
      "Validation score: 0.977930\n",
      "Iteration 34, loss = 0.06154644\n",
      "Validation score: 0.983789\n",
      "Iteration 35, loss = 0.06450417\n",
      "Validation score: 0.984766\n",
      "Iteration 36, loss = 0.06135071\n",
      "Validation score: 0.983789\n",
      "Iteration 37, loss = 0.05927212\n",
      "Validation score: 0.985547\n",
      "Iteration 38, loss = 0.06004522\n",
      "Validation score: 0.982812\n",
      "Iteration 39, loss = 0.06256619\n",
      "Validation score: 0.981055\n",
      "Iteration 40, loss = 0.06077543\n",
      "Validation score: 0.983398\n",
      "Iteration 41, loss = 0.06177071\n",
      "Validation score: 0.984570\n",
      "Iteration 42, loss = 0.05720856\n",
      "Validation score: 0.985156\n",
      "Validation score did not improve more than tol=0.000100 for 10 consecutive epochs. Stopping.\n"
     ]
    },
    {
     "data": {
      "text/plain": [
       "MLPClassifier(early_stopping=True, hidden_layer_sizes=(20, 15, 10, 5),\n",
       "              max_iter=1000, verbose=True)"
      ]
     },
     "execution_count": 12,
     "metadata": {},
     "output_type": "execute_result"
    }
   ],
   "source": [
    "from sklearn.neural_network import MLPClassifier\n",
    "clf = MLPClassifier(hidden_layer_sizes = (20,15,10,5) , max_iter=1000 ,early_stopping=True , verbose=True)\n",
    "clf.fit(X_train, y_train)\n"
   ]
  },
  {
   "cell_type": "code",
   "execution_count": 25,
   "id": "45cc8c2c",
   "metadata": {},
   "outputs": [
    {
     "data": {
      "text/plain": [
       "460800"
      ]
     },
     "execution_count": 25,
     "metadata": {},
     "output_type": "execute_result"
    }
   ],
   "source": [
    "y_predict=clf.predict(X_test)\n",
    "y_predict.size"
   ]
  },
  {
   "cell_type": "code",
   "execution_count": 14,
   "id": "fe0f383a",
   "metadata": {},
   "outputs": [
    {
     "data": {
      "text/html": [
       "<div>\n",
       "<style scoped>\n",
       "    .dataframe tbody tr th:only-of-type {\n",
       "        vertical-align: middle;\n",
       "    }\n",
       "\n",
       "    .dataframe tbody tr th {\n",
       "        vertical-align: top;\n",
       "    }\n",
       "\n",
       "    .dataframe thead th {\n",
       "        text-align: right;\n",
       "    }\n",
       "</style>\n",
       "<table border=\"1\" class=\"dataframe\">\n",
       "  <thead>\n",
       "    <tr style=\"text-align: right;\">\n",
       "      <th></th>\n",
       "      <th>0</th>\n",
       "      <th>1</th>\n",
       "    </tr>\n",
       "  </thead>\n",
       "  <tbody>\n",
       "    <tr>\n",
       "      <th>0</th>\n",
       "      <td>195046</td>\n",
       "      <td>2504</td>\n",
       "    </tr>\n",
       "    <tr>\n",
       "      <th>1</th>\n",
       "      <td>3721</td>\n",
       "      <td>259529</td>\n",
       "    </tr>\n",
       "  </tbody>\n",
       "</table>\n",
       "</div>"
      ],
      "text/plain": [
       "        0       1\n",
       "0  195046    2504\n",
       "1    3721  259529"
      ]
     },
     "execution_count": 14,
     "metadata": {},
     "output_type": "execute_result"
    }
   ],
   "source": [
    "from sklearn.metrics import confusion_matrix\n",
    "cm = confusion_matrix(y_test, y_predict)\n",
    "pd.DataFrame(cm)"
   ]
  },
  {
   "cell_type": "code",
   "execution_count": 17,
   "id": "96e696d5",
   "metadata": {},
   "outputs": [
    {
     "data": {
      "text/plain": [
       "0.9864908854166666"
      ]
     },
     "execution_count": 17,
     "metadata": {},
     "output_type": "execute_result"
    }
   ],
   "source": [
    "from sklearn.metrics import accuracy_score\n",
    "accuracy_score(y_test, y_predict)"
   ]
  },
  {
   "cell_type": "code",
   "execution_count": 18,
   "id": "fffafffa",
   "metadata": {},
   "outputs": [
    {
     "name": "stdout",
     "output_type": "stream",
     "text": [
      "              precision    recall  f1-score   support\n",
      "\n",
      "         0.0       0.98      0.99      0.98    197550\n",
      "         1.0       0.99      0.99      0.99    263250\n",
      "\n",
      "    accuracy                           0.99    460800\n",
      "   macro avg       0.99      0.99      0.99    460800\n",
      "weighted avg       0.99      0.99      0.99    460800\n",
      "\n"
     ]
    }
   ],
   "source": [
    "from sklearn.metrics import classification_report\n",
    "print(classification_report(y_test, y_predict))"
   ]
  },
  {
   "cell_type": "code",
   "execution_count": 19,
   "id": "b6010aa2",
   "metadata": {},
   "outputs": [
    {
     "name": "stderr",
     "output_type": "stream",
     "text": [
      "d:\\code\\python\\nir\\venv\\lib\\site-packages\\sklearn\\utils\\deprecation.py:87: FutureWarning: Function plot_roc_curve is deprecated; Function `plot_roc_curve` is deprecated in 1.0 and will be removed in 1.2. Use one of the class methods: RocCurveDisplay.from_predictions or RocCurveDisplay.from_estimator.\n",
      "  warnings.warn(msg, category=FutureWarning)\n"
     ]
    },
    {
     "data": {
      "image/png": "[encoded data removed]",
      "text/plain": [
       "<Figure size 432x288 with 1 Axes>"
      ]
     },
     "metadata": {
      "needs_background": "light"
     },
     "output_type": "display_data"
    }
   ],
   "source": [
    "import matplotlib.pyplot as plt  # doctest: +SKIP\n",
    "from sklearn.metrics import plot_roc_curve\n",
    "plot_roc_curve(clf, X_test, y_test)\n",
    "plt.show()"
   ]
  },
  {
   "cell_type": "code",
   "execution_count": null,
   "id": "43c0177c",
   "metadata": {},
   "outputs": [
    {
     "name": "stdout",
     "output_type": "stream",
     "text": [
      "Iteration 1, loss = 0.33377452\n",
      "Validation score: 0.973036\n",
      "Iteration 2, loss = 0.11863364\n",
      "Validation score: 0.983181\n",
      "Iteration 3, loss = 0.09719075\n",
      "Validation score: 0.985758\n",
      "Iteration 4, loss = 0.08428692\n",
      "Validation score: 0.985487\n",
      "Iteration 5, loss = 0.07578808\n",
      "Validation score: 0.986844\n",
      "Iteration 6, loss = 0.06780191\n",
      "Validation score: 0.987657\n",
      "Iteration 7, loss = 0.06184039\n",
      "Validation score: 0.987142\n",
      "Iteration 8, loss = 0.05978355\n",
      "Validation score: 0.988553\n",
      "Iteration 9, loss = 0.05782843\n",
      "Validation score: 0.988281\n",
      "Iteration 10, loss = 0.05657050\n",
      "Validation score: 0.987467\n",
      "Iteration 11, loss = 0.05603915\n",
      "Validation score: 0.983100\n",
      "Iteration 12, loss = 0.05560055\n",
      "Validation score: 0.988878\n",
      "Iteration 13, loss = 0.05300902\n",
      "Validation score: 0.987196\n",
      "Iteration 14, loss = 0.05384916\n",
      "Validation score: 0.988688\n",
      "Iteration 15, loss = 0.05327915\n",
      "Validation score: 0.986355\n",
      "Iteration 16, loss = 0.05176137\n",
      "Validation score: 0.989285\n",
      "Iteration 17, loss = 0.05346227\n",
      "Validation score: 0.979384\n",
      "Iteration 18, loss = 0.05130564\n",
      "Validation score: 0.988959\n",
      "Iteration 19, loss = 0.05154292\n",
      "Validation score: 0.986599\n",
      "Iteration 20, loss = 0.05057877\n",
      "Validation score: 0.987549\n",
      "Iteration 21, loss = 0.05087479\n",
      "Validation score: 0.988742\n",
      "Iteration 22, loss = 0.05061621\n",
      "Validation score: 0.989122\n",
      "Iteration 23, loss = 0.05000690\n",
      "Validation score: 0.988390\n",
      "Iteration 24, loss = 0.05130168\n",
      "Validation score: 0.988173\n",
      "Iteration 25, loss = 0.04978307\n",
      "Validation score: 0.988281\n",
      "Iteration 26, loss = 0.04927740\n",
      "Validation score: 0.989773\n",
      "Iteration 27, loss = 0.04841746\n",
      "Validation score: 0.989421\n",
      "Iteration 28, loss = 0.04935638\n",
      "Validation score: 0.989556\n",
      "Iteration 29, loss = 0.04962665\n",
      "Validation score: 0.988308\n",
      "Iteration 30, loss = 0.04816222\n",
      "Validation score: 0.988661\n",
      "Iteration 31, loss = 0.04813697\n",
      "Validation score: 0.989529\n",
      "Iteration 32, loss = 0.04781600\n",
      "Validation score: 0.989719\n",
      "Iteration 33, loss = 0.04909826\n",
      "Validation score: 0.989204\n",
      "Iteration 34, loss = 0.04751193\n",
      "Validation score: 0.988932\n",
      "Iteration 35, loss = 0.04745767\n",
      "Validation score: 0.989638\n",
      "Iteration 36, loss = 0.04677389\n",
      "Validation score: 0.989963\n",
      "Iteration 37, loss = 0.04807812\n",
      "Validation score: 0.989339\n",
      "Iteration 38, loss = 0.04852552\n",
      "Validation score: 0.986979\n",
      "Iteration 39, loss = 0.04766986\n",
      "Validation score: 0.989393\n",
      "Iteration 40, loss = 0.04717115\n",
      "Validation score: 0.988987\n",
      "Iteration 41, loss = 0.04666482\n",
      "Validation score: 0.988254\n",
      "Iteration 42, loss = 0.04809544\n",
      "Validation score: 0.986165\n",
      "Iteration 43, loss = 0.04670841\n",
      "Validation score: 0.989529\n",
      "Iteration 44, loss = 0.04685941\n",
      "Validation score: 0.989095\n",
      "Iteration 45, loss = 0.04636009\n",
      "Validation score: 0.988091\n",
      "Iteration 46, loss = 0.04732360\n",
      "Validation score: 0.986138\n",
      "Iteration 47, loss = 0.04601612\n",
      "Validation score: 0.986138\n",
      "Validation score did not improve more than tol=0.000100 for 10 consecutive epochs. Stopping.\n",
      "Iteration 1, loss = 0.31379494\n",
      "Validation score: 0.969781\n",
      "Iteration 2, loss = 0.09393415\n",
      "Validation score: 0.983181\n",
      "Iteration 3, loss = 0.06738351\n",
      "Validation score: 0.988118\n",
      "Iteration 4, loss = 0.06016475\n",
      "Validation score: 0.988851\n",
      "Iteration 5, loss = 0.05683384\n",
      "Validation score: 0.989529\n",
      "Iteration 6, loss = 0.05517161\n",
      "Validation score: 0.988308\n",
      "Iteration 7, loss = 0.05449379\n",
      "Validation score: 0.990017\n",
      "Iteration 8, loss = 0.05339973\n",
      "Validation score: 0.990234\n",
      "Iteration 9, loss = 0.05438339\n",
      "Validation score: 0.989176\n",
      "Iteration 10, loss = 0.05172049\n",
      "Validation score: 0.988661\n",
      "Iteration 11, loss = 0.05203754\n",
      "Validation score: 0.990831\n",
      "Iteration 12, loss = 0.05147476\n",
      "Validation score: 0.990804\n",
      "Iteration 13, loss = 0.05246064\n",
      "Validation score: 0.989285\n",
      "Iteration 14, loss = 0.05111914\n",
      "Validation score: 0.988878\n",
      "Iteration 15, loss = 0.05071697\n",
      "Validation score: 0.987793\n",
      "Iteration 16, loss = 0.05068910\n",
      "Validation score: 0.984755\n",
      "Iteration 17, loss = 0.05091245\n",
      "Validation score: 0.990777\n",
      "Iteration 18, loss = 0.05055677\n",
      "Validation score: 0.986762\n",
      "Iteration 19, loss = 0.04998410\n",
      "Validation score: 0.991048\n",
      "Iteration 20, loss = 0.04950914\n",
      "Validation score: 0.988851\n",
      "Iteration 21, loss = 0.05019645\n",
      "Validation score: 0.988987\n",
      "Iteration 22, loss = 0.04770187\n",
      "Validation score: 0.989393\n",
      "Iteration 23, loss = 0.04826810\n",
      "Validation score: 0.991021\n",
      "Iteration 24, loss = 0.04890920\n",
      "Validation score: 0.990126\n",
      "Iteration 25, loss = 0.04840603\n",
      "Validation score: 0.990424\n",
      "Iteration 26, loss = 0.04829651\n",
      "Validation score: 0.989827\n",
      "Iteration 27, loss = 0.04822741\n",
      "Validation score: 0.990804\n",
      "Iteration 28, loss = 0.04829424\n",
      "Validation score: 0.988227\n",
      "Iteration 29, loss = 0.04771912\n",
      "Validation score: 0.991211\n",
      "Iteration 30, loss = 0.04709459\n",
      "Validation score: 0.989909\n",
      "Iteration 31, loss = 0.04801968\n",
      "Validation score: 0.990994\n",
      "Iteration 32, loss = 0.04566357\n",
      "Validation score: 0.990343\n",
      "Iteration 33, loss = 0.04625182\n",
      "Validation score: 0.989746\n",
      "Iteration 34, loss = 0.04681496\n",
      "Validation score: 0.988444\n",
      "Iteration 35, loss = 0.04610035\n",
      "Validation score: 0.989692\n",
      "Iteration 36, loss = 0.04624937\n",
      "Validation score: 0.991130\n",
      "Iteration 37, loss = 0.04564116\n",
      "Validation score: 0.991319\n",
      "Iteration 38, loss = 0.04808965\n",
      "Validation score: 0.990614\n",
      "Iteration 39, loss = 0.04477005\n",
      "Validation score: 0.988634\n",
      "Iteration 40, loss = 0.04674916\n",
      "Validation score: 0.989258\n",
      "Iteration 41, loss = 0.04550896\n",
      "Validation score: 0.988905\n",
      "Iteration 42, loss = 0.04645845\n",
      "Validation score: 0.989204\n",
      "Iteration 43, loss = 0.04569755\n",
      "Validation score: 0.989529\n",
      "Iteration 44, loss = 0.04570800\n",
      "Validation score: 0.990044\n",
      "Iteration 45, loss = 0.04571758\n",
      "Validation score: 0.990072\n",
      "Iteration 46, loss = 0.04570423\n",
      "Validation score: 0.991645\n",
      "Iteration 47, loss = 0.04418097\n",
      "Validation score: 0.991428\n",
      "Iteration 48, loss = 0.04478933\n",
      "Validation score: 0.989393\n",
      "Iteration 49, loss = 0.04475580\n",
      "Validation score: 0.990885\n",
      "Iteration 50, loss = 0.04493706\n",
      "Validation score: 0.990723\n",
      "Iteration 51, loss = 0.04440183\n",
      "Validation score: 0.991401\n",
      "Iteration 52, loss = 0.04474429\n",
      "Validation score: 0.989800\n",
      "Iteration 53, loss = 0.04435540\n",
      "Validation score: 0.991184\n",
      "Iteration 54, loss = 0.04468573\n",
      "Validation score: 0.990533\n",
      "Iteration 55, loss = 0.04309673\n",
      "Validation score: 0.988959\n",
      "Iteration 56, loss = 0.04445940\n",
      "Validation score: 0.991374\n",
      "Iteration 57, loss = 0.04419637\n",
      "Validation score: 0.990099\n",
      "Validation score did not improve more than tol=0.000100 for 10 consecutive epochs. Stopping.\n",
      "Iteration 1, loss = 0.38044580\n",
      "Validation score: 0.958252\n",
      "Iteration 2, loss = 0.14255942\n",
      "Validation score: 0.980170\n",
      "Iteration 3, loss = 0.09988753\n",
      "Validation score: 0.980414\n",
      "Iteration 4, loss = 0.08115811\n",
      "Validation score: 0.983317\n",
      "Iteration 5, loss = 0.07043473\n",
      "Validation score: 0.984104\n",
      "Iteration 6, loss = 0.06513078\n",
      "Validation score: 0.987142\n",
      "Iteration 7, loss = 0.06078453\n",
      "Validation score: 0.988281\n",
      "Iteration 8, loss = 0.05747798\n",
      "Validation score: 0.988091\n",
      "Iteration 9, loss = 0.05563233\n",
      "Validation score: 0.988363\n",
      "Iteration 10, loss = 0.05509915\n",
      "Validation score: 0.987793\n",
      "Iteration 11, loss = 0.05252843\n",
      "Validation score: 0.986952\n",
      "Iteration 12, loss = 0.05152722\n",
      "Validation score: 0.988227\n",
      "Iteration 13, loss = 0.05159291\n",
      "Validation score: 0.987901\n",
      "Iteration 14, loss = 0.05000138\n",
      "Validation score: 0.989041\n",
      "Iteration 15, loss = 0.04995523\n",
      "Validation score: 0.989665\n",
      "Iteration 16, loss = 0.04868111\n",
      "Validation score: 0.988525\n",
      "Iteration 17, loss = 0.04875241\n",
      "Validation score: 0.990614\n",
      "Iteration 18, loss = 0.04819176\n",
      "Validation score: 0.989556\n",
      "Iteration 19, loss = 0.04817160\n",
      "Validation score: 0.987657\n",
      "Iteration 20, loss = 0.04775455\n",
      "Validation score: 0.989990\n",
      "Iteration 21, loss = 0.04716085\n",
      "Validation score: 0.989204\n",
      "Iteration 22, loss = 0.04714516\n",
      "Validation score: 0.990451\n",
      "Iteration 23, loss = 0.04614076\n",
      "Validation score: 0.987874\n",
      "Iteration 24, loss = 0.04567298\n",
      "Validation score: 0.989963\n",
      "Iteration 25, loss = 0.04630898\n",
      "Validation score: 0.988173\n",
      "Iteration 26, loss = 0.04527791\n",
      "Validation score: 0.990940\n",
      "Iteration 27, loss = 0.04595209\n",
      "Validation score: 0.990967\n",
      "Iteration 28, loss = 0.04507326\n",
      "Validation score: 0.989366\n",
      "Iteration 29, loss = 0.04481537\n",
      "Validation score: 0.991021\n",
      "Iteration 30, loss = 0.04474761\n",
      "Validation score: 0.989448\n",
      "Iteration 31, loss = 0.04455835\n",
      "Validation score: 0.990044\n",
      "Iteration 32, loss = 0.04564861\n",
      "Validation score: 0.988118\n",
      "Iteration 33, loss = 0.04339949\n",
      "Validation score: 0.988797\n"
     ]
    },
    {
     "name": "stdout",
     "output_type": "stream",
     "text": [
      "Iteration 34, loss = 0.04453605\n",
      "Validation score: 0.990940\n",
      "Iteration 35, loss = 0.04368461\n",
      "Validation score: 0.990940\n",
      "Iteration 36, loss = 0.04396682\n",
      "Validation score: 0.990316\n",
      "Iteration 37, loss = 0.04415077\n",
      "Validation score: 0.991265\n",
      "Iteration 38, loss = 0.04372862\n",
      "Validation score: 0.990858\n",
      "Iteration 39, loss = 0.04417938\n",
      "Validation score: 0.990370\n",
      "Iteration 40, loss = 0.04362911\n",
      "Validation score: 0.988878\n",
      "Iteration 41, loss = 0.04341812\n",
      "Validation score: 0.988281\n",
      "Iteration 42, loss = 0.04289549\n",
      "Validation score: 0.989692\n",
      "Iteration 43, loss = 0.04298856\n",
      "Validation score: 0.988797\n",
      "Iteration 44, loss = 0.04386684\n",
      "Validation score: 0.989556\n",
      "Iteration 45, loss = 0.04250767\n",
      "Validation score: 0.989610\n",
      "Iteration 46, loss = 0.04285118\n",
      "Validation score: 0.990804\n",
      "Iteration 47, loss = 0.04262266\n",
      "Validation score: 0.990913\n",
      "Iteration 48, loss = 0.04245492\n",
      "Validation score: 0.990099\n",
      "Validation score did not improve more than tol=0.000100 for 10 consecutive epochs. Stopping.\n",
      "Iteration 1, loss = 0.34289378\n",
      "Validation score: 0.952176\n",
      "Iteration 2, loss = 0.12521886\n",
      "Validation score: 0.976020\n",
      "Iteration 3, loss = 0.08954023\n",
      "Validation score: 0.981418\n",
      "Iteration 4, loss = 0.07624781\n",
      "Validation score: 0.985569\n",
      "Iteration 5, loss = 0.07032725\n",
      "Validation score: 0.977322\n",
      "Iteration 6, loss = 0.06624822\n",
      "Validation score: 0.983941\n",
      "Iteration 7, loss = 0.06289665\n",
      "Validation score: 0.984782\n",
      "Iteration 8, loss = 0.06099727\n",
      "Validation score: 0.987196\n",
      "Iteration 9, loss = 0.05920579\n",
      "Validation score: 0.988363\n",
      "Iteration 10, loss = 0.05836855\n",
      "Validation score: 0.987712\n",
      "Iteration 11, loss = 0.05845215\n",
      "Validation score: 0.986871\n",
      "Iteration 12, loss = 0.05757575\n",
      "Validation score: 0.987196\n",
      "Iteration 13, loss = 0.05511708\n",
      "Validation score: 0.987874\n",
      "Iteration 14, loss = 0.05533586\n",
      "Validation score: 0.987901\n",
      "Iteration 15, loss = 0.05490130\n",
      "Validation score: 0.982151\n",
      "Iteration 16, loss = 0.05416827\n",
      "Validation score: 0.988363\n",
      "Iteration 17, loss = 0.05288949\n",
      "Validation score: 0.984456\n",
      "Iteration 18, loss = 0.05306883\n",
      "Validation score: 0.988146\n",
      "Iteration 19, loss = 0.05189179\n",
      "Validation score: 0.986111\n",
      "Iteration 20, loss = 0.05095712\n",
      "Validation score: 0.989773\n",
      "Iteration 21, loss = 0.05173696\n",
      "Validation score: 0.987359\n",
      "Iteration 22, loss = 0.05108507\n",
      "Validation score: 0.989122\n",
      "Iteration 23, loss = 0.05020502\n",
      "Validation score: 0.987467\n",
      "Iteration 24, loss = 0.05220186\n",
      "Validation score: 0.988770\n",
      "Iteration 25, loss = 0.05013538\n",
      "Validation score: 0.988363\n"
     ]
    }
   ],
   "source": [
    "from sklearn.model_selection import cross_val_score\n",
    "from sklearn import metrics\n",
    "scores = cross_val_score(clf, X_test, y_test, cv=5, scoring='accuracy')"
   ]
  },
  {
   "cell_type": "code",
   "execution_count": null,
   "id": "03a87b7b",
   "metadata": {},
   "outputs": [],
   "source": [
    "scores"
   ]
  },
  {
   "cell_type": "code",
   "execution_count": 26,
   "id": "5820552b",
   "metadata": {},
   "outputs": [
    {
     "data": {
      "text/plain": [
       "1024"
      ]
     },
     "execution_count": 26,
     "metadata": {},
     "output_type": "execute_result"
    }
   ],
   "source": [
    "y_predict=y_predict[1024:2048]\n",
    "y_predict.size"
   ]
  },
  {
   "cell_type": "code",
   "execution_count": 27,
   "id": "f0bc4639",
   "metadata": {},
   "outputs": [],
   "source": [
    "y_predict[y_predict>0]=255"
   ]
  },
  {
   "cell_type": "code",
   "execution_count": 28,
   "id": "ec1bc36c",
   "metadata": {},
   "outputs": [
    {
     "data": {
      "text/plain": [
       "array([[255.,   0., 255., ..., 255., 255., 255.],\n",
       "       [255.,   0., 255., ...,   0.,   0.,   0.],\n",
       "       [255.,   0., 255., ...,   0.,   0.,   0.],\n",
       "       ...,\n",
       "       [255.,   0.,   0., ..., 255., 255.,   0.],\n",
       "       [255.,   0.,   0., ...,   0.,   0.,   0.],\n",
       "       [255.,   0.,   0., ...,   0.,   0.,   0.]])"
      ]
     },
     "execution_count": 28,
     "metadata": {},
     "output_type": "execute_result"
    }
   ],
   "source": [
    "y_predict=y_predict.reshape(32,32)\n",
    "y_predict"
   ]
  },
  {
   "cell_type": "code",
   "execution_count": 29,
   "id": "830f463e",
   "metadata": {},
   "outputs": [],
   "source": [
    "from PIL import Image\n",
    "img = Image.fromarray(y_predict.astype(np.uint8))\n",
    "img.show()\n",
    "          "
   ]
  },
  {
   "cell_type": "code",
   "execution_count": null,
   "id": "a8e8cea8",
   "metadata": {},
   "outputs": [],
   "source": []
  },
  {
   "cell_type": "code",
   "execution_count": null,
   "id": "db17ada1",
   "metadata": {},
   "outputs": [],
   "source": []
  }
 ],
 "metadata": {
  "kernelspec": {
   "display_name": "Python 3 (ipykernel)",
   "language": "python",
   "name": "python3"
  },
  "language_info": {
   "codemirror_mode": {
    "name": "ipython",
    "version": 3
   },
   "file_extension": ".py",
   "mimetype": "text/x-python",
   "name": "python",
   "nbconvert_exporter": "python",
   "pygments_lexer": "ipython3",
   "version": "3.9.0"
  }
 },
 "nbformat": 4,
 "nbformat_minor": 5
}
