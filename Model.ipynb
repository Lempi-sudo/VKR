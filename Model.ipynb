{
 "cells": [
  {
   "cell_type": "code",
   "execution_count": 1,
   "id": "3248a785",
   "metadata": {},
   "outputs": [],
   "source": [
    "import numpy as np\n",
    "import matplotlib.pyplot as plt\n",
    "import pandas as pd \n",
    "from sklearn.model_selection import train_test_split"
   ]
  },
  {
   "cell_type": "code",
   "execution_count": 2,
   "id": "c7048f0d",
   "metadata": {},
   "outputs": [
    {
     "data": {
      "text/html": [
       "<div>\n",
       "<style scoped>\n",
       "    .dataframe tbody tr th:only-of-type {\n",
       "        vertical-align: middle;\n",
       "    }\n",
       "\n",
       "    .dataframe tbody tr th {\n",
       "        vertical-align: top;\n",
       "    }\n",
       "\n",
       "    .dataframe thead th {\n",
       "        text-align: right;\n",
       "    }\n",
       "</style>\n",
       "<table border=\"1\" class=\"dataframe\">\n",
       "  <thead>\n",
       "    <tr style=\"text-align: right;\">\n",
       "      <th></th>\n",
       "      <th>Unnamed: 0</th>\n",
       "      <th>bit</th>\n",
       "      <th>feature_1</th>\n",
       "      <th>feature_2</th>\n",
       "      <th>feature_3</th>\n",
       "      <th>feature_4</th>\n",
       "    </tr>\n",
       "  </thead>\n",
       "  <tbody>\n",
       "    <tr>\n",
       "      <th>0</th>\n",
       "      <td>0</td>\n",
       "      <td>1.0</td>\n",
       "      <td>0.0</td>\n",
       "      <td>18.5</td>\n",
       "      <td>-5.0</td>\n",
       "      <td>1.5</td>\n",
       "    </tr>\n",
       "    <tr>\n",
       "      <th>1</th>\n",
       "      <td>1</td>\n",
       "      <td>1.0</td>\n",
       "      <td>-4.5</td>\n",
       "      <td>-33.5</td>\n",
       "      <td>0.5</td>\n",
       "      <td>-42.0</td>\n",
       "    </tr>\n",
       "    <tr>\n",
       "      <th>2</th>\n",
       "      <td>2</td>\n",
       "      <td>1.0</td>\n",
       "      <td>10.5</td>\n",
       "      <td>91.5</td>\n",
       "      <td>5.5</td>\n",
       "      <td>87.0</td>\n",
       "    </tr>\n",
       "    <tr>\n",
       "      <th>3</th>\n",
       "      <td>3</td>\n",
       "      <td>1.0</td>\n",
       "      <td>-31.0</td>\n",
       "      <td>-5.5</td>\n",
       "      <td>-35.5</td>\n",
       "      <td>23.5</td>\n",
       "    </tr>\n",
       "    <tr>\n",
       "      <th>4</th>\n",
       "      <td>4</td>\n",
       "      <td>1.0</td>\n",
       "      <td>-16.5</td>\n",
       "      <td>13.0</td>\n",
       "      <td>-11.0</td>\n",
       "      <td>-6.0</td>\n",
       "    </tr>\n",
       "    <tr>\n",
       "      <th>...</th>\n",
       "      <td>...</td>\n",
       "      <td>...</td>\n",
       "      <td>...</td>\n",
       "      <td>...</td>\n",
       "      <td>...</td>\n",
       "      <td>...</td>\n",
       "    </tr>\n",
       "    <tr>\n",
       "      <th>102395</th>\n",
       "      <td>102395</td>\n",
       "      <td>1.0</td>\n",
       "      <td>-6.5</td>\n",
       "      <td>3.0</td>\n",
       "      <td>-1.0</td>\n",
       "      <td>9.0</td>\n",
       "    </tr>\n",
       "    <tr>\n",
       "      <th>102396</th>\n",
       "      <td>102396</td>\n",
       "      <td>1.0</td>\n",
       "      <td>-3.5</td>\n",
       "      <td>16.5</td>\n",
       "      <td>0.5</td>\n",
       "      <td>-2.5</td>\n",
       "    </tr>\n",
       "    <tr>\n",
       "      <th>102397</th>\n",
       "      <td>102397</td>\n",
       "      <td>1.0</td>\n",
       "      <td>0.5</td>\n",
       "      <td>-8.0</td>\n",
       "      <td>6.5</td>\n",
       "      <td>-2.5</td>\n",
       "    </tr>\n",
       "    <tr>\n",
       "      <th>102398</th>\n",
       "      <td>102398</td>\n",
       "      <td>1.0</td>\n",
       "      <td>2.0</td>\n",
       "      <td>28.0</td>\n",
       "      <td>-2.0</td>\n",
       "      <td>49.0</td>\n",
       "    </tr>\n",
       "    <tr>\n",
       "      <th>102399</th>\n",
       "      <td>102399</td>\n",
       "      <td>1.0</td>\n",
       "      <td>28.0</td>\n",
       "      <td>3.5</td>\n",
       "      <td>29.5</td>\n",
       "      <td>9.0</td>\n",
       "    </tr>\n",
       "  </tbody>\n",
       "</table>\n",
       "<p>102400 rows × 6 columns</p>\n",
       "</div>"
      ],
      "text/plain": [
       "        Unnamed: 0  bit  feature_1  feature_2  feature_3  feature_4\n",
       "0                0  1.0        0.0       18.5       -5.0        1.5\n",
       "1                1  1.0       -4.5      -33.5        0.5      -42.0\n",
       "2                2  1.0       10.5       91.5        5.5       87.0\n",
       "3                3  1.0      -31.0       -5.5      -35.5       23.5\n",
       "4                4  1.0      -16.5       13.0      -11.0       -6.0\n",
       "...            ...  ...        ...        ...        ...        ...\n",
       "102395      102395  1.0       -6.5        3.0       -1.0        9.0\n",
       "102396      102396  1.0       -3.5       16.5        0.5       -2.5\n",
       "102397      102397  1.0        0.5       -8.0        6.5       -2.5\n",
       "102398      102398  1.0        2.0       28.0       -2.0       49.0\n",
       "102399      102399  1.0       28.0        3.5       29.5        9.0\n",
       "\n",
       "[102400 rows x 6 columns]"
      ]
     },
     "execution_count": 2,
     "metadata": {},
     "output_type": "execute_result"
    }
   ],
   "source": [
    "dataset = pd.read_csv('feature_vec/Image_with_water.txt')\n",
    "dataset"
   ]
  },
  {
   "cell_type": "code",
   "execution_count": 3,
   "id": "a5b22786",
   "metadata": {},
   "outputs": [
    {
     "data": {
      "text/plain": [
       "Unnamed: 0      int64\n",
       "bit           float64\n",
       "feature_1     float64\n",
       "feature_2     float64\n",
       "feature_3     float64\n",
       "feature_4     float64\n",
       "dtype: object"
      ]
     },
     "execution_count": 3,
     "metadata": {},
     "output_type": "execute_result"
    }
   ],
   "source": [
    "dataset.dtypes"
   ]
  },
  {
   "cell_type": "code",
   "execution_count": 4,
   "id": "56da0f2e",
   "metadata": {},
   "outputs": [
    {
     "data": {
      "text/plain": [
       "array([[  0. ,  18.5,  -5. ,   1.5],\n",
       "       [ -4.5, -33.5,   0.5, -42. ],\n",
       "       [ 10.5,  91.5,   5.5,  87. ],\n",
       "       ...,\n",
       "       [  0.5,  -8. ,   6.5,  -2.5],\n",
       "       [  2. ,  28. ,  -2. ,  49. ],\n",
       "       [ 28. ,   3.5,  29.5,   9. ]])"
      ]
     },
     "execution_count": 4,
     "metadata": {},
     "output_type": "execute_result"
    }
   ],
   "source": [
    "X = dataset.iloc[:,[2,3,4,5]].values\n",
    "X"
   ]
  },
  {
   "cell_type": "code",
   "execution_count": 5,
   "id": "98896fdf",
   "metadata": {},
   "outputs": [
    {
     "data": {
      "text/plain": [
       "dtype('float64')"
      ]
     },
     "execution_count": 5,
     "metadata": {},
     "output_type": "execute_result"
    }
   ],
   "source": [
    "X.dtype"
   ]
  },
  {
   "cell_type": "code",
   "execution_count": 6,
   "id": "bbc2c0ca",
   "metadata": {},
   "outputs": [
    {
     "data": {
      "text/plain": [
       "array([1., 1., 1., ..., 1., 1., 1.])"
      ]
     },
     "execution_count": 6,
     "metadata": {},
     "output_type": "execute_result"
    }
   ],
   "source": [
    "y = dataset.iloc[:, 1].values\n",
    "y"
   ]
  },
  {
   "cell_type": "code",
   "execution_count": 7,
   "id": "e29302c1",
   "metadata": {},
   "outputs": [
    {
     "name": "stdout",
     "output_type": "stream",
     "text": [
      "Iteration 1, loss = 0.53959892\n",
      "Validation score: 0.842969\n",
      "Iteration 2, loss = 0.27197672\n",
      "Validation score: 0.940430\n",
      "Iteration 3, loss = 0.15761122\n",
      "Validation score: 0.966992\n",
      "Iteration 4, loss = 0.12202758\n",
      "Validation score: 0.972754\n",
      "Iteration 5, loss = 0.10962226\n",
      "Validation score: 0.971973\n",
      "Iteration 6, loss = 0.10050715\n",
      "Validation score: 0.978516\n",
      "Iteration 7, loss = 0.09334558\n",
      "Validation score: 0.981543\n",
      "Iteration 8, loss = 0.08802586\n",
      "Validation score: 0.978809\n",
      "Iteration 9, loss = 0.08649785\n",
      "Validation score: 0.979883\n",
      "Iteration 10, loss = 0.08151309\n",
      "Validation score: 0.976562\n",
      "Iteration 11, loss = 0.07954993\n",
      "Validation score: 0.985059\n",
      "Iteration 12, loss = 0.07603574\n",
      "Validation score: 0.984180\n",
      "Iteration 13, loss = 0.07276275\n",
      "Validation score: 0.981934\n",
      "Iteration 14, loss = 0.07329320\n",
      "Validation score: 0.985742\n",
      "Iteration 15, loss = 0.06917337\n",
      "Validation score: 0.982617\n",
      "Iteration 16, loss = 0.06858817\n",
      "Validation score: 0.986719\n",
      "Iteration 17, loss = 0.06589450\n",
      "Validation score: 0.984668\n",
      "Iteration 18, loss = 0.06488192\n",
      "Validation score: 0.985938\n",
      "Iteration 19, loss = 0.06715054\n",
      "Validation score: 0.985840\n",
      "Iteration 20, loss = 0.06243341\n",
      "Validation score: 0.986914\n",
      "Iteration 21, loss = 0.06407072\n",
      "Validation score: 0.984375\n",
      "Iteration 22, loss = 0.06242171\n",
      "Validation score: 0.985449\n",
      "Iteration 23, loss = 0.06301390\n",
      "Validation score: 0.987109\n",
      "Iteration 24, loss = 0.06205498\n",
      "Validation score: 0.983984\n",
      "Iteration 25, loss = 0.05886942\n",
      "Validation score: 0.984277\n",
      "Iteration 26, loss = 0.06016106\n",
      "Validation score: 0.985156\n",
      "Iteration 27, loss = 0.05965654\n",
      "Validation score: 0.986914\n",
      "Iteration 28, loss = 0.05906020\n",
      "Validation score: 0.985645\n",
      "Iteration 29, loss = 0.06030291\n",
      "Validation score: 0.988184\n",
      "Iteration 30, loss = 0.05735086\n",
      "Validation score: 0.984766\n",
      "Iteration 31, loss = 0.05901209\n",
      "Validation score: 0.980957\n",
      "Iteration 32, loss = 0.05773499\n",
      "Validation score: 0.988574\n",
      "Iteration 33, loss = 0.05751154\n",
      "Validation score: 0.988477\n",
      "Iteration 34, loss = 0.05780251\n",
      "Validation score: 0.985449\n",
      "Iteration 35, loss = 0.05705909\n",
      "Validation score: 0.987305\n",
      "Iteration 36, loss = 0.05699412\n",
      "Validation score: 0.986523\n",
      "Iteration 37, loss = 0.05507602\n",
      "Validation score: 0.982227\n",
      "Iteration 38, loss = 0.05561305\n",
      "Validation score: 0.986230\n",
      "Iteration 39, loss = 0.05559006\n",
      "Validation score: 0.986719\n",
      "Iteration 40, loss = 0.05560021\n",
      "Validation score: 0.987988\n",
      "Iteration 41, loss = 0.05370084\n",
      "Validation score: 0.986035\n",
      "Iteration 42, loss = 0.05561369\n",
      "Validation score: 0.989355\n",
      "Iteration 43, loss = 0.05387288\n",
      "Validation score: 0.988867\n",
      "Iteration 44, loss = 0.05262807\n",
      "Validation score: 0.979688\n",
      "Iteration 45, loss = 0.05465926\n",
      "Validation score: 0.988477\n",
      "Iteration 46, loss = 0.05395583\n",
      "Validation score: 0.986426\n",
      "Iteration 47, loss = 0.05526078\n",
      "Validation score: 0.988281\n",
      "Iteration 48, loss = 0.05262372\n",
      "Validation score: 0.987207\n",
      "Iteration 49, loss = 0.05435319\n",
      "Validation score: 0.983887\n",
      "Iteration 50, loss = 0.05276260\n",
      "Validation score: 0.987012\n",
      "Iteration 51, loss = 0.05177741\n",
      "Validation score: 0.987402\n",
      "Iteration 52, loss = 0.05314293\n",
      "Validation score: 0.986035\n",
      "Iteration 53, loss = 0.05326095\n",
      "Validation score: 0.989453\n",
      "Validation score did not improve more than tol=0.000100 for 10 consecutive epochs. Stopping.\n"
     ]
    },
    {
     "data": {
      "text/plain": [
       "MLPClassifier(early_stopping=True, hidden_layer_sizes=(20, 15, 10, 5),\n",
       "              max_iter=1000, verbose=True)"
      ]
     },
     "execution_count": 7,
     "metadata": {},
     "output_type": "execute_result"
    }
   ],
   "source": [
    "from sklearn.neural_network import MLPClassifier\n",
    "clf = MLPClassifier(hidden_layer_sizes = (20,15,10,5) , max_iter=1000 ,early_stopping=True , verbose=True)\n",
    "clf.fit(X, y)\n"
   ]
  },
  {
   "cell_type": "code",
   "execution_count": 8,
   "id": "2df74f6e",
   "metadata": {},
   "outputs": [
    {
     "data": {
      "text/html": [
       "<div>\n",
       "<style scoped>\n",
       "    .dataframe tbody tr th:only-of-type {\n",
       "        vertical-align: middle;\n",
       "    }\n",
       "\n",
       "    .dataframe tbody tr th {\n",
       "        vertical-align: top;\n",
       "    }\n",
       "\n",
       "    .dataframe thead th {\n",
       "        text-align: right;\n",
       "    }\n",
       "</style>\n",
       "<table border=\"1\" class=\"dataframe\">\n",
       "  <thead>\n",
       "    <tr style=\"text-align: right;\">\n",
       "      <th></th>\n",
       "      <th>Unnamed: 0</th>\n",
       "      <th>bit</th>\n",
       "      <th>feature_1</th>\n",
       "      <th>feature_2</th>\n",
       "      <th>feature_3</th>\n",
       "      <th>feature_4</th>\n",
       "    </tr>\n",
       "  </thead>\n",
       "  <tbody>\n",
       "    <tr>\n",
       "      <th>0</th>\n",
       "      <td>0</td>\n",
       "      <td>1.0</td>\n",
       "      <td>2.0</td>\n",
       "      <td>0.5</td>\n",
       "      <td>0.0</td>\n",
       "      <td>0.5</td>\n",
       "    </tr>\n",
       "    <tr>\n",
       "      <th>1</th>\n",
       "      <td>1</td>\n",
       "      <td>1.0</td>\n",
       "      <td>0.0</td>\n",
       "      <td>0.5</td>\n",
       "      <td>0.0</td>\n",
       "      <td>2.0</td>\n",
       "    </tr>\n",
       "    <tr>\n",
       "      <th>2</th>\n",
       "      <td>2</td>\n",
       "      <td>1.0</td>\n",
       "      <td>-0.5</td>\n",
       "      <td>0.5</td>\n",
       "      <td>2.5</td>\n",
       "      <td>0.5</td>\n",
       "    </tr>\n",
       "    <tr>\n",
       "      <th>3</th>\n",
       "      <td>3</td>\n",
       "      <td>1.0</td>\n",
       "      <td>1.0</td>\n",
       "      <td>-1.0</td>\n",
       "      <td>0.0</td>\n",
       "      <td>2.5</td>\n",
       "    </tr>\n",
       "    <tr>\n",
       "      <th>4</th>\n",
       "      <td>4</td>\n",
       "      <td>1.0</td>\n",
       "      <td>1.5</td>\n",
       "      <td>0.5</td>\n",
       "      <td>0.5</td>\n",
       "      <td>0.5</td>\n",
       "    </tr>\n",
       "    <tr>\n",
       "      <th>...</th>\n",
       "      <td>...</td>\n",
       "      <td>...</td>\n",
       "      <td>...</td>\n",
       "      <td>...</td>\n",
       "      <td>...</td>\n",
       "      <td>...</td>\n",
       "    </tr>\n",
       "    <tr>\n",
       "      <th>1019</th>\n",
       "      <td>1019</td>\n",
       "      <td>1.0</td>\n",
       "      <td>1.0</td>\n",
       "      <td>-3.0</td>\n",
       "      <td>-3.5</td>\n",
       "      <td>-2.0</td>\n",
       "    </tr>\n",
       "    <tr>\n",
       "      <th>1020</th>\n",
       "      <td>1020</td>\n",
       "      <td>1.0</td>\n",
       "      <td>-1.5</td>\n",
       "      <td>3.5</td>\n",
       "      <td>2.0</td>\n",
       "      <td>-1.0</td>\n",
       "    </tr>\n",
       "    <tr>\n",
       "      <th>1021</th>\n",
       "      <td>1021</td>\n",
       "      <td>1.0</td>\n",
       "      <td>-10.0</td>\n",
       "      <td>11.0</td>\n",
       "      <td>3.0</td>\n",
       "      <td>-4.0</td>\n",
       "    </tr>\n",
       "    <tr>\n",
       "      <th>1022</th>\n",
       "      <td>1022</td>\n",
       "      <td>1.0</td>\n",
       "      <td>-7.5</td>\n",
       "      <td>4.5</td>\n",
       "      <td>-9.0</td>\n",
       "      <td>1.0</td>\n",
       "    </tr>\n",
       "    <tr>\n",
       "      <th>1023</th>\n",
       "      <td>1023</td>\n",
       "      <td>1.0</td>\n",
       "      <td>-3.5</td>\n",
       "      <td>3.0</td>\n",
       "      <td>-1.5</td>\n",
       "      <td>0.5</td>\n",
       "    </tr>\n",
       "  </tbody>\n",
       "</table>\n",
       "<p>1024 rows × 6 columns</p>\n",
       "</div>"
      ],
      "text/plain": [
       "      Unnamed: 0  bit  feature_1  feature_2  feature_3  feature_4\n",
       "0              0  1.0        2.0        0.5        0.0        0.5\n",
       "1              1  1.0        0.0        0.5        0.0        2.0\n",
       "2              2  1.0       -0.5        0.5        2.5        0.5\n",
       "3              3  1.0        1.0       -1.0        0.0        2.5\n",
       "4              4  1.0        1.5        0.5        0.5        0.5\n",
       "...          ...  ...        ...        ...        ...        ...\n",
       "1019        1019  1.0        1.0       -3.0       -3.5       -2.0\n",
       "1020        1020  1.0       -1.5        3.5        2.0       -1.0\n",
       "1021        1021  1.0      -10.0       11.0        3.0       -4.0\n",
       "1022        1022  1.0       -7.5        4.5       -9.0        1.0\n",
       "1023        1023  1.0       -3.5        3.0       -1.5        0.5\n",
       "\n",
       "[1024 rows x 6 columns]"
      ]
     },
     "execution_count": 8,
     "metadata": {},
     "output_type": "execute_result"
    }
   ],
   "source": [
    "dataset = pd.read_csv('feature_vec/test_data.txt')\n",
    "dataset"
   ]
  },
  {
   "cell_type": "code",
   "execution_count": 9,
   "id": "1caaffb1",
   "metadata": {},
   "outputs": [
    {
     "data": {
      "text/plain": [
       "array([[  2. ,   0.5,   0. ,   0.5],\n",
       "       [  0. ,   0.5,   0. ,   2. ],\n",
       "       [ -0.5,   0.5,   2.5,   0.5],\n",
       "       ...,\n",
       "       [-10. ,  11. ,   3. ,  -4. ],\n",
       "       [ -7.5,   4.5,  -9. ,   1. ],\n",
       "       [ -3.5,   3. ,  -1.5,   0.5]])"
      ]
     },
     "execution_count": 9,
     "metadata": {},
     "output_type": "execute_result"
    }
   ],
   "source": [
    "X_test = dataset.iloc[:,[2,3,4,5]].values\n",
    "X_test"
   ]
  },
  {
   "cell_type": "code",
   "execution_count": 10,
   "id": "47569f79",
   "metadata": {},
   "outputs": [
    {
     "data": {
      "text/plain": [
       "array([1., 1., 1., ..., 1., 1., 1.])"
      ]
     },
     "execution_count": 10,
     "metadata": {},
     "output_type": "execute_result"
    }
   ],
   "source": [
    "y_test=dataset.iloc[:,1].values\n",
    "y_test"
   ]
  },
  {
   "cell_type": "code",
   "execution_count": 11,
   "id": "45cc8c2c",
   "metadata": {},
   "outputs": [],
   "source": [
    "y_pretict=clf.predict(X_test)"
   ]
  },
  {
   "cell_type": "code",
   "execution_count": 12,
   "id": "fe0f383a",
   "metadata": {},
   "outputs": [
    {
     "data": {
      "text/html": [
       "<div>\n",
       "<style scoped>\n",
       "    .dataframe tbody tr th:only-of-type {\n",
       "        vertical-align: middle;\n",
       "    }\n",
       "\n",
       "    .dataframe tbody tr th {\n",
       "        vertical-align: top;\n",
       "    }\n",
       "\n",
       "    .dataframe thead th {\n",
       "        text-align: right;\n",
       "    }\n",
       "</style>\n",
       "<table border=\"1\" class=\"dataframe\">\n",
       "  <thead>\n",
       "    <tr style=\"text-align: right;\">\n",
       "      <th></th>\n",
       "      <th>0</th>\n",
       "      <th>1</th>\n",
       "    </tr>\n",
       "  </thead>\n",
       "  <tbody>\n",
       "    <tr>\n",
       "      <th>0</th>\n",
       "      <td>294</td>\n",
       "      <td>1</td>\n",
       "    </tr>\n",
       "    <tr>\n",
       "      <th>1</th>\n",
       "      <td>4</td>\n",
       "      <td>725</td>\n",
       "    </tr>\n",
       "  </tbody>\n",
       "</table>\n",
       "</div>"
      ],
      "text/plain": [
       "     0    1\n",
       "0  294    1\n",
       "1    4  725"
      ]
     },
     "execution_count": 12,
     "metadata": {},
     "output_type": "execute_result"
    }
   ],
   "source": [
    "from sklearn.metrics import confusion_matrix\n",
    "cm = confusion_matrix(y_test, y_pretict)\n",
    "pd.DataFrame(cm)"
   ]
  },
  {
   "cell_type": "code",
   "execution_count": 13,
   "id": "5820552b",
   "metadata": {},
   "outputs": [
    {
     "data": {
      "text/plain": [
       "array([[1., 1., 1., ..., 1., 1., 1.],\n",
       "       [1., 1., 1., ..., 1., 1., 1.],\n",
       "       [1., 1., 1., ..., 1., 1., 1.],\n",
       "       ...,\n",
       "       [1., 1., 1., ..., 1., 1., 1.],\n",
       "       [1., 1., 1., ..., 1., 1., 1.],\n",
       "       [1., 1., 1., ..., 1., 1., 1.]])"
      ]
     },
     "execution_count": 13,
     "metadata": {},
     "output_type": "execute_result"
    }
   ],
   "source": [
    "y_pretict=y_pretict.reshape(32,32)\n",
    "y_pretict"
   ]
  },
  {
   "cell_type": "code",
   "execution_count": 14,
   "id": "f0bc4639",
   "metadata": {},
   "outputs": [],
   "source": [
    "y_pretict[y_pretict>0]=255"
   ]
  },
  {
   "cell_type": "code",
   "execution_count": 15,
   "id": "ec1bc36c",
   "metadata": {},
   "outputs": [
    {
     "data": {
      "text/plain": [
       "array([[255., 255., 255., ..., 255., 255., 255.],\n",
       "       [255., 255., 255., ..., 255., 255., 255.],\n",
       "       [255., 255., 255., ..., 255., 255., 255.],\n",
       "       ...,\n",
       "       [255., 255., 255., ..., 255., 255., 255.],\n",
       "       [255., 255., 255., ..., 255., 255., 255.],\n",
       "       [255., 255., 255., ..., 255., 255., 255.]])"
      ]
     },
     "execution_count": 15,
     "metadata": {},
     "output_type": "execute_result"
    }
   ],
   "source": [
    "y_pretict"
   ]
  },
  {
   "cell_type": "code",
   "execution_count": null,
   "id": "830f463e",
   "metadata": {},
   "outputs": [],
   "source": [
    "from PIL import Image\n",
    "img = Image.fromarray(y_pretict.astype(np.uint8))\n",
    "img.show()\n",
    "          "
   ]
  },
  {
   "cell_type": "code",
   "execution_count": null,
   "id": "a8e8cea8",
   "metadata": {},
   "outputs": [],
   "source": []
  },
  {
   "cell_type": "code",
   "execution_count": null,
   "id": "db17ada1",
   "metadata": {},
   "outputs": [],
   "source": []
  }
 ],
 "metadata": {
  "kernelspec": {
   "display_name": "Python 3 (ipykernel)",
   "language": "python",
   "name": "python3"
  },
  "language_info": {
   "codemirror_mode": {
    "name": "ipython",
    "version": 3
   },
   "file_extension": ".py",
   "mimetype": "text/x-python",
   "name": "python",
   "nbconvert_exporter": "python",
   "pygments_lexer": "ipython3",
   "version": "3.9.0"
  }
 },
 "nbformat": 4,
 "nbformat_minor": 5
}
