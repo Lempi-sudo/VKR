{
 "cells": [
  {
   "cell_type": "code",
   "execution_count": 1,
   "id": "fb9373b5",
   "metadata": {},
   "outputs": [],
   "source": [
    "import numpy as np\n",
    "import matplotlib.pyplot as plt\n",
    "import pandas as pd \n",
    "from PIL import Image\n",
    "from sklearn.metrics import confusion_matrix\n",
    "from sklearn.metrics import accuracy_score\n",
    "from sklearn.model_selection import train_test_split\n",
    "from sklearn.neural_network import MLPClassifier\n",
    "from sklearn.metrics import classification_report"
   ]
  },
  {
   "cell_type": "code",
   "execution_count": 27,
   "id": "d10fd550",
   "metadata": {},
   "outputs": [
    {
     "data": {
      "text/html": [
       "<div>\n",
       "<style scoped>\n",
       "    .dataframe tbody tr th:only-of-type {\n",
       "        vertical-align: middle;\n",
       "    }\n",
       "\n",
       "    .dataframe tbody tr th {\n",
       "        vertical-align: top;\n",
       "    }\n",
       "\n",
       "    .dataframe thead th {\n",
       "        text-align: right;\n",
       "    }\n",
       "</style>\n",
       "<table border=\"1\" class=\"dataframe\">\n",
       "  <thead>\n",
       "    <tr style=\"text-align: right;\">\n",
       "      <th></th>\n",
       "      <th>bit</th>\n",
       "      <th>feature_1</th>\n",
       "      <th>feature_2</th>\n",
       "      <th>feature_3</th>\n",
       "      <th>feature_4</th>\n",
       "    </tr>\n",
       "  </thead>\n",
       "  <tbody>\n",
       "    <tr>\n",
       "      <th>0</th>\n",
       "      <td>1</td>\n",
       "      <td>-4.5</td>\n",
       "      <td>-1.0</td>\n",
       "      <td>-3.5</td>\n",
       "      <td>-2.0</td>\n",
       "    </tr>\n",
       "    <tr>\n",
       "      <th>1</th>\n",
       "      <td>0</td>\n",
       "      <td>-3.5</td>\n",
       "      <td>1.5</td>\n",
       "      <td>-8.5</td>\n",
       "      <td>1.0</td>\n",
       "    </tr>\n",
       "    <tr>\n",
       "      <th>2</th>\n",
       "      <td>1</td>\n",
       "      <td>3.5</td>\n",
       "      <td>-1.0</td>\n",
       "      <td>1.5</td>\n",
       "      <td>0.0</td>\n",
       "    </tr>\n",
       "    <tr>\n",
       "      <th>3</th>\n",
       "      <td>1</td>\n",
       "      <td>16.0</td>\n",
       "      <td>6.0</td>\n",
       "      <td>18.5</td>\n",
       "      <td>2.0</td>\n",
       "    </tr>\n",
       "    <tr>\n",
       "      <th>4</th>\n",
       "      <td>1</td>\n",
       "      <td>-0.5</td>\n",
       "      <td>-2.0</td>\n",
       "      <td>1.0</td>\n",
       "      <td>-3.0</td>\n",
       "    </tr>\n",
       "    <tr>\n",
       "      <th>...</th>\n",
       "      <td>...</td>\n",
       "      <td>...</td>\n",
       "      <td>...</td>\n",
       "      <td>...</td>\n",
       "      <td>...</td>\n",
       "    </tr>\n",
       "    <tr>\n",
       "      <th>1019</th>\n",
       "      <td>0</td>\n",
       "      <td>251.0</td>\n",
       "      <td>-12.0</td>\n",
       "      <td>251.0</td>\n",
       "      <td>-4.5</td>\n",
       "    </tr>\n",
       "    <tr>\n",
       "      <th>1020</th>\n",
       "      <td>1</td>\n",
       "      <td>-7.5</td>\n",
       "      <td>71.0</td>\n",
       "      <td>-22.0</td>\n",
       "      <td>69.5</td>\n",
       "    </tr>\n",
       "    <tr>\n",
       "      <th>1021</th>\n",
       "      <td>1</td>\n",
       "      <td>1.0</td>\n",
       "      <td>0.0</td>\n",
       "      <td>0.0</td>\n",
       "      <td>0.0</td>\n",
       "    </tr>\n",
       "    <tr>\n",
       "      <th>1022</th>\n",
       "      <td>1</td>\n",
       "      <td>1.0</td>\n",
       "      <td>-1.0</td>\n",
       "      <td>0.0</td>\n",
       "      <td>-1.0</td>\n",
       "    </tr>\n",
       "    <tr>\n",
       "      <th>1023</th>\n",
       "      <td>0</td>\n",
       "      <td>-0.5</td>\n",
       "      <td>-2.0</td>\n",
       "      <td>-1.0</td>\n",
       "      <td>0.0</td>\n",
       "    </tr>\n",
       "  </tbody>\n",
       "</table>\n",
       "<p>1024 rows × 5 columns</p>\n",
       "</div>"
      ],
      "text/plain": [
       "      bit  feature_1  feature_2  feature_3  feature_4\n",
       "0       1       -4.5       -1.0       -3.5       -2.0\n",
       "1       0       -3.5        1.5       -8.5        1.0\n",
       "2       1        3.5       -1.0        1.5        0.0\n",
       "3       1       16.0        6.0       18.5        2.0\n",
       "4       1       -0.5       -2.0        1.0       -3.0\n",
       "...   ...        ...        ...        ...        ...\n",
       "1019    0      251.0      -12.0      251.0       -4.5\n",
       "1020    1       -7.5       71.0      -22.0       69.5\n",
       "1021    1        1.0        0.0        0.0        0.0\n",
       "1022    1        1.0       -1.0        0.0       -1.0\n",
       "1023    0       -0.5       -2.0       -1.0        0.0\n",
       "\n",
       "[1024 rows x 5 columns]"
      ]
     },
     "execution_count": 27,
     "metadata": {},
     "output_type": "execute_result"
    }
   ],
   "source": [
    "AttackDataFrame = pd.read_csv('feature_vec/RandomWMFeatVec.txt')\n",
    "del AttackDataFrame['Unnamed: 0']\n",
    "AttackDataFrame"
   ]
  },
  {
   "cell_type": "code",
   "execution_count": 37,
   "id": "50368173",
   "metadata": {},
   "outputs": [
    {
     "data": {
      "text/plain": [
       "array([[-4.5, -1. , -3.5, -2. ],\n",
       "       [-3.5,  1.5, -8.5,  1. ],\n",
       "       [ 3.5, -1. ,  1.5,  0. ],\n",
       "       ...,\n",
       "       [ 1. ,  0. ,  0. ,  0. ],\n",
       "       [ 1. , -1. ,  0. , -1. ],\n",
       "       [-0.5, -2. , -1. ,  0. ]])"
      ]
     },
     "execution_count": 37,
     "metadata": {},
     "output_type": "execute_result"
    }
   ],
   "source": [
    "X = AttackDataFrame.iloc[:,[1,2,3,4]].values  \n",
    "X"
   ]
  },
  {
   "cell_type": "code",
   "execution_count": 38,
   "id": "0868e9dc",
   "metadata": {},
   "outputs": [
    {
     "data": {
      "text/plain": [
       "array([[1],\n",
       "       [0],\n",
       "       [1],\n",
       "       ...,\n",
       "       [1],\n",
       "       [1],\n",
       "       [0]], dtype=int64)"
      ]
     },
     "execution_count": 38,
     "metadata": {},
     "output_type": "execute_result"
    }
   ],
   "source": [
    "Y=AttackDataFrame.iloc[:,[0]].values\n",
    "Y"
   ]
  },
  {
   "cell_type": "code",
   "execution_count": 39,
   "id": "c5eb832a",
   "metadata": {},
   "outputs": [],
   "source": [
    "X_train, X_test, y_train, y_test = train_test_split(X, Y, test_size=0.9, random_state=42)\n"
   ]
  },
  {
   "cell_type": "code",
   "execution_count": 40,
   "id": "898ddb24",
   "metadata": {},
   "outputs": [
    {
     "data": {
      "text/plain": [
       "408"
      ]
     },
     "execution_count": 40,
     "metadata": {},
     "output_type": "execute_result"
    }
   ],
   "source": [
    "X_train.size"
   ]
  },
  {
   "cell_type": "code",
   "execution_count": 41,
   "id": "359e3522",
   "metadata": {},
   "outputs": [
    {
     "data": {
      "text/plain": [
       "array([[ -8. ,  11. , -14. ,  19. ],\n",
       "       [  8.5,  10. ,  -1.5,  17.5],\n",
       "       [ -3. , -92. ,  -3.5, -33.5],\n",
       "       ...,\n",
       "       [ -1. ,   0. ,  -0.5,  -1. ],\n",
       "       [ -1. ,  -1. ,  -1. ,  -1. ],\n",
       "       [ -2. ,   7.5,  -9. ,   4.5]])"
      ]
     },
     "execution_count": 41,
     "metadata": {},
     "output_type": "execute_result"
    }
   ],
   "source": [
    "X_test"
   ]
  },
  {
   "cell_type": "code",
   "execution_count": 42,
   "id": "cd7bc98d",
   "metadata": {},
   "outputs": [
    {
     "data": {
      "text/plain": [
       "102"
      ]
     },
     "execution_count": 42,
     "metadata": {},
     "output_type": "execute_result"
    }
   ],
   "source": [
    "y_train.size "
   ]
  },
  {
   "cell_type": "code",
   "execution_count": 43,
   "id": "e3f9c1a2",
   "metadata": {},
   "outputs": [
    {
     "data": {
      "text/plain": [
       "922"
      ]
     },
     "execution_count": 43,
     "metadata": {},
     "output_type": "execute_result"
    }
   ],
   "source": [
    "y_test.size"
   ]
  },
  {
   "cell_type": "code",
   "execution_count": 44,
   "id": "4022c070",
   "metadata": {},
   "outputs": [
    {
     "name": "stdout",
     "output_type": "stream",
     "text": [
      "Iteration 1, loss = 1.27059107\n",
      "Validation score: 0.454545\n",
      "Iteration 2, loss = 1.21297723\n",
      "Validation score: 0.454545\n",
      "Iteration 3, loss = 1.16237101\n",
      "Validation score: 0.454545\n",
      "Iteration 4, loss = 1.12619952\n",
      "Validation score: 0.454545\n",
      "Iteration 5, loss = 1.09311377\n",
      "Validation score: 0.454545\n",
      "Iteration 6, loss = 1.06092773\n",
      "Validation score: 0.545455\n",
      "Iteration 7, loss = 1.03006874\n",
      "Validation score: 0.545455\n",
      "Iteration 8, loss = 1.00135013\n",
      "Validation score: 0.545455\n",
      "Iteration 9, loss = 0.97417017\n",
      "Validation score: 0.545455\n",
      "Iteration 10, loss = 0.94755998\n",
      "Validation score: 0.545455\n",
      "Iteration 11, loss = 0.92067697\n",
      "Validation score: 0.545455\n",
      "Iteration 12, loss = 0.89522708\n",
      "Validation score: 0.545455\n",
      "Iteration 13, loss = 0.87110367\n",
      "Validation score: 0.545455\n",
      "Iteration 14, loss = 0.84868847\n",
      "Validation score: 0.545455\n",
      "Iteration 15, loss = 0.82667657\n",
      "Validation score: 0.545455\n",
      "Iteration 16, loss = 0.80519526\n",
      "Validation score: 0.545455\n",
      "Iteration 17, loss = 0.78360407\n",
      "Validation score: 0.545455\n",
      "Validation score did not improve more than tol=0.000100 for 10 consecutive epochs. Stopping.\n"
     ]
    },
    {
     "name": "stderr",
     "output_type": "stream",
     "text": [
      "d:\\code\\python\\nir\\venv\\lib\\site-packages\\sklearn\\neural_network\\_multilayer_perceptron.py:1109: DataConversionWarning: A column-vector y was passed when a 1d array was expected. Please change the shape of y to (n_samples, ), for example using ravel().\n",
      "  y = column_or_1d(y, warn=True)\n"
     ]
    },
    {
     "data": {
      "text/plain": [
       "MLPClassifier(early_stopping=True, hidden_layer_sizes=(20, 15, 10, 5),\n",
       "              max_iter=1000, verbose=True)"
      ]
     },
     "execution_count": 44,
     "metadata": {},
     "output_type": "execute_result"
    }
   ],
   "source": [
    "from sklearn.neural_network import MLPClassifier\n",
    "clf = MLPClassifier(hidden_layer_sizes = (20,15,10,5) , max_iter=1000 ,early_stopping=True , verbose=True)\n",
    "clf.fit(X_train, y_train)"
   ]
  },
  {
   "cell_type": "code",
   "execution_count": 45,
   "id": "971258f1",
   "metadata": {},
   "outputs": [
    {
     "data": {
      "text/plain": [
       "922"
      ]
     },
     "execution_count": 45,
     "metadata": {},
     "output_type": "execute_result"
    }
   ],
   "source": [
    "y_predict=clf.predict(X_test)\n",
    "y_predict.size"
   ]
  },
  {
   "cell_type": "code",
   "execution_count": 46,
   "id": "68e6d0be",
   "metadata": {},
   "outputs": [
    {
     "data": {
      "text/html": [
       "<div>\n",
       "<style scoped>\n",
       "    .dataframe tbody tr th:only-of-type {\n",
       "        vertical-align: middle;\n",
       "    }\n",
       "\n",
       "    .dataframe tbody tr th {\n",
       "        vertical-align: top;\n",
       "    }\n",
       "\n",
       "    .dataframe thead th {\n",
       "        text-align: right;\n",
       "    }\n",
       "</style>\n",
       "<table border=\"1\" class=\"dataframe\">\n",
       "  <thead>\n",
       "    <tr style=\"text-align: right;\">\n",
       "      <th></th>\n",
       "      <th>0</th>\n",
       "      <th>1</th>\n",
       "    </tr>\n",
       "  </thead>\n",
       "  <tbody>\n",
       "    <tr>\n",
       "      <th>0</th>\n",
       "      <td>132</td>\n",
       "      <td>333</td>\n",
       "    </tr>\n",
       "    <tr>\n",
       "      <th>1</th>\n",
       "      <td>129</td>\n",
       "      <td>328</td>\n",
       "    </tr>\n",
       "  </tbody>\n",
       "</table>\n",
       "</div>"
      ],
      "text/plain": [
       "     0    1\n",
       "0  132  333\n",
       "1  129  328"
      ]
     },
     "execution_count": 46,
     "metadata": {},
     "output_type": "execute_result"
    }
   ],
   "source": [
    "from sklearn.metrics import confusion_matrix\n",
    "cm = confusion_matrix(y_test, y_predict)\n",
    "pd.DataFrame(cm)"
   ]
  },
  {
   "cell_type": "code",
   "execution_count": 47,
   "id": "2575ea64",
   "metadata": {},
   "outputs": [
    {
     "name": "stdout",
     "output_type": "stream",
     "text": [
      "              precision    recall  f1-score   support\n",
      "\n",
      "           0       0.51      0.28      0.36       465\n",
      "           1       0.50      0.72      0.59       457\n",
      "\n",
      "    accuracy                           0.50       922\n",
      "   macro avg       0.50      0.50      0.48       922\n",
      "weighted avg       0.50      0.50      0.47       922\n",
      "\n"
     ]
    }
   ],
   "source": [
    "print(classification_report(y_test, y_predict))"
   ]
  },
  {
   "cell_type": "code",
   "execution_count": 49,
   "id": "c73a45bd",
   "metadata": {},
   "outputs": [],
   "source": [
    "X_image_test = AttackDataFrame.iloc[:,[1,2,3,4]].values  \n",
    "i=0\n",
    "y=X_image_test[1024*i:1024*(i+1)]\n",
    "y_predict_image=clf.predict(y)\n",
    "y_predict_image[y_predict_image>0]=255\n",
    "y_predict_image=y_predict_image.reshape(32,32)\n",
    "img = Image.fromarray(y_predict_image.astype(np.uint8))\n",
    "img.show()"
   ]
  },
  {
   "cell_type": "code",
   "execution_count": 21,
   "id": "fb21a56d",
   "metadata": {},
   "outputs": [
    {
     "data": {
      "text/html": [
       "<div>\n",
       "<style scoped>\n",
       "    .dataframe tbody tr th:only-of-type {\n",
       "        vertical-align: middle;\n",
       "    }\n",
       "\n",
       "    .dataframe tbody tr th {\n",
       "        vertical-align: top;\n",
       "    }\n",
       "\n",
       "    .dataframe thead th {\n",
       "        text-align: right;\n",
       "    }\n",
       "</style>\n",
       "<table border=\"1\" class=\"dataframe\">\n",
       "  <thead>\n",
       "    <tr style=\"text-align: right;\">\n",
       "      <th></th>\n",
       "      <th>bit</th>\n",
       "      <th>feature_1</th>\n",
       "      <th>feature_2</th>\n",
       "      <th>feature_3</th>\n",
       "      <th>feature_4</th>\n",
       "    </tr>\n",
       "  </thead>\n",
       "  <tbody>\n",
       "    <tr>\n",
       "      <th>0</th>\n",
       "      <td>1</td>\n",
       "      <td>6.5</td>\n",
       "      <td>5.5</td>\n",
       "      <td>8.5</td>\n",
       "      <td>7.5</td>\n",
       "    </tr>\n",
       "    <tr>\n",
       "      <th>1</th>\n",
       "      <td>1</td>\n",
       "      <td>10.5</td>\n",
       "      <td>-8.5</td>\n",
       "      <td>-1.5</td>\n",
       "      <td>-1.5</td>\n",
       "    </tr>\n",
       "    <tr>\n",
       "      <th>2</th>\n",
       "      <td>1</td>\n",
       "      <td>-1.0</td>\n",
       "      <td>-15.5</td>\n",
       "      <td>-12.5</td>\n",
       "      <td>9.5</td>\n",
       "    </tr>\n",
       "    <tr>\n",
       "      <th>3</th>\n",
       "      <td>1</td>\n",
       "      <td>-18.5</td>\n",
       "      <td>25.0</td>\n",
       "      <td>12.5</td>\n",
       "      <td>-5.5</td>\n",
       "    </tr>\n",
       "    <tr>\n",
       "      <th>4</th>\n",
       "      <td>1</td>\n",
       "      <td>6.5</td>\n",
       "      <td>-26.0</td>\n",
       "      <td>0.0</td>\n",
       "      <td>4.0</td>\n",
       "    </tr>\n",
       "    <tr>\n",
       "      <th>...</th>\n",
       "      <td>...</td>\n",
       "      <td>...</td>\n",
       "      <td>...</td>\n",
       "      <td>...</td>\n",
       "      <td>...</td>\n",
       "    </tr>\n",
       "    <tr>\n",
       "      <th>1019</th>\n",
       "      <td>1</td>\n",
       "      <td>14.0</td>\n",
       "      <td>25.5</td>\n",
       "      <td>6.0</td>\n",
       "      <td>7.0</td>\n",
       "    </tr>\n",
       "    <tr>\n",
       "      <th>1020</th>\n",
       "      <td>1</td>\n",
       "      <td>-19.5</td>\n",
       "      <td>34.5</td>\n",
       "      <td>-22.0</td>\n",
       "      <td>-44.0</td>\n",
       "    </tr>\n",
       "    <tr>\n",
       "      <th>1021</th>\n",
       "      <td>1</td>\n",
       "      <td>-0.5</td>\n",
       "      <td>9.0</td>\n",
       "      <td>28.5</td>\n",
       "      <td>33.0</td>\n",
       "    </tr>\n",
       "    <tr>\n",
       "      <th>1022</th>\n",
       "      <td>1</td>\n",
       "      <td>-49.5</td>\n",
       "      <td>-33.0</td>\n",
       "      <td>-11.0</td>\n",
       "      <td>-29.5</td>\n",
       "    </tr>\n",
       "    <tr>\n",
       "      <th>1023</th>\n",
       "      <td>1</td>\n",
       "      <td>-1.5</td>\n",
       "      <td>2.0</td>\n",
       "      <td>-14.0</td>\n",
       "      <td>-28.0</td>\n",
       "    </tr>\n",
       "  </tbody>\n",
       "</table>\n",
       "<p>1024 rows × 5 columns</p>\n",
       "</div>"
      ],
      "text/plain": [
       "      bit  feature_1  feature_2  feature_3  feature_4\n",
       "0       1        6.5        5.5        8.5        7.5\n",
       "1       1       10.5       -8.5       -1.5       -1.5\n",
       "2       1       -1.0      -15.5      -12.5        9.5\n",
       "3       1      -18.5       25.0       12.5       -5.5\n",
       "4       1        6.5      -26.0        0.0        4.0\n",
       "...   ...        ...        ...        ...        ...\n",
       "1019    1       14.0       25.5        6.0        7.0\n",
       "1020    1      -19.5       34.5      -22.0      -44.0\n",
       "1021    1       -0.5        9.0       28.5       33.0\n",
       "1022    1      -49.5      -33.0      -11.0      -29.5\n",
       "1023    1       -1.5        2.0      -14.0      -28.0\n",
       "\n",
       "[1024 rows x 5 columns]"
      ]
     },
     "execution_count": 21,
     "metadata": {},
     "output_type": "execute_result"
    }
   ],
   "source": [
    "imageWM2Frame = pd.read_csv('feature_vec/Task1/anotherCWFearVec.txt')\n",
    "del imageWM2Frame['Unnamed: 0']\n",
    "imageWM2Frame"
   ]
  },
  {
   "cell_type": "code",
   "execution_count": 22,
   "id": "1b9222f4",
   "metadata": {},
   "outputs": [
    {
     "data": {
      "text/plain": [
       "4096"
      ]
     },
     "execution_count": 22,
     "metadata": {},
     "output_type": "execute_result"
    }
   ],
   "source": [
    "XimageWM2 = imageWM2Frame.iloc[:,[1,2,3,4]].values  \n",
    "XimageWM2.size"
   ]
  },
  {
   "cell_type": "code",
   "execution_count": 23,
   "id": "fc9207b4",
   "metadata": {},
   "outputs": [
    {
     "data": {
      "text/plain": [
       "array([[1],\n",
       "       [1],\n",
       "       [1],\n",
       "       ...,\n",
       "       [1],\n",
       "       [1],\n",
       "       [1]], dtype=int64)"
      ]
     },
     "execution_count": 23,
     "metadata": {},
     "output_type": "execute_result"
    }
   ],
   "source": [
    "YimageWM2=imageWM2Frame.iloc[:,[0]].values\n",
    "YimageWM2"
   ]
  },
  {
   "cell_type": "code",
   "execution_count": 28,
   "id": "09ab1e30",
   "metadata": {},
   "outputs": [
    {
     "data": {
      "text/plain": [
       "1024"
      ]
     },
     "execution_count": 28,
     "metadata": {},
     "output_type": "execute_result"
    }
   ],
   "source": [
    "y_predict_cw2=clf.predict(XimageWM2)\n",
    "y_predict_cw2.size\n",
    "\n"
   ]
  },
  {
   "cell_type": "code",
   "execution_count": 29,
   "id": "4fac6681",
   "metadata": {},
   "outputs": [
    {
     "data": {
      "text/html": [
       "<div>\n",
       "<style scoped>\n",
       "    .dataframe tbody tr th:only-of-type {\n",
       "        vertical-align: middle;\n",
       "    }\n",
       "\n",
       "    .dataframe tbody tr th {\n",
       "        vertical-align: top;\n",
       "    }\n",
       "\n",
       "    .dataframe thead th {\n",
       "        text-align: right;\n",
       "    }\n",
       "</style>\n",
       "<table border=\"1\" class=\"dataframe\">\n",
       "  <thead>\n",
       "    <tr style=\"text-align: right;\">\n",
       "      <th></th>\n",
       "      <th>0</th>\n",
       "      <th>1</th>\n",
       "    </tr>\n",
       "  </thead>\n",
       "  <tbody>\n",
       "    <tr>\n",
       "      <th>0</th>\n",
       "      <td>442</td>\n",
       "      <td>14</td>\n",
       "    </tr>\n",
       "    <tr>\n",
       "      <th>1</th>\n",
       "      <td>8</td>\n",
       "      <td>560</td>\n",
       "    </tr>\n",
       "  </tbody>\n",
       "</table>\n",
       "</div>"
      ],
      "text/plain": [
       "     0    1\n",
       "0  442   14\n",
       "1    8  560"
      ]
     },
     "execution_count": 29,
     "metadata": {},
     "output_type": "execute_result"
    }
   ],
   "source": [
    "cm = confusion_matrix(YimageWM2, y_predict_cw2)\n",
    "pd.DataFrame(cm)"
   ]
  },
  {
   "cell_type": "code",
   "execution_count": 30,
   "id": "fa745322",
   "metadata": {},
   "outputs": [
    {
     "name": "stdout",
     "output_type": "stream",
     "text": [
      "              precision    recall  f1-score   support\n",
      "\n",
      "           0       0.98      0.97      0.98       456\n",
      "           1       0.98      0.99      0.98       568\n",
      "\n",
      "    accuracy                           0.98      1024\n",
      "   macro avg       0.98      0.98      0.98      1024\n",
      "weighted avg       0.98      0.98      0.98      1024\n",
      "\n"
     ]
    }
   ],
   "source": [
    "print(classification_report(YimageWM2, y_predict_cw2))"
   ]
  },
  {
   "cell_type": "code",
   "execution_count": 31,
   "id": "98449641",
   "metadata": {},
   "outputs": [],
   "source": [
    "y_predict_cw2[y_predict_cw2>0]=255\n",
    "y_predict_cw2=y_predict_cw2.reshape(32,32)\n",
    "img = Image.fromarray(y_predict_cw2.astype(np.uint8))\n",
    "img.show()"
   ]
  },
  {
   "cell_type": "code",
   "execution_count": null,
   "id": "a15ffe12",
   "metadata": {},
   "outputs": [],
   "source": []
  },
  {
   "cell_type": "code",
   "execution_count": null,
   "id": "52f333ee",
   "metadata": {},
   "outputs": [],
   "source": []
  }
 ],
 "metadata": {
  "kernelspec": {
   "display_name": "Python 3 (ipykernel)",
   "language": "python",
   "name": "python3"
  },
  "language_info": {
   "codemirror_mode": {
    "name": "ipython",
    "version": 3
   },
   "file_extension": ".py",
   "mimetype": "text/x-python",
   "name": "python",
   "nbconvert_exporter": "python",
   "pygments_lexer": "ipython3",
   "version": "3.9.0"
  }
 },
 "nbformat": 4,
 "nbformat_minor": 5
}
