{
 "cells": [
  {
   "cell_type": "code",
   "execution_count": 1,
   "id": "fb9373b5",
   "metadata": {},
   "outputs": [],
   "source": [
    "import numpy as np\n",
    "import matplotlib.pyplot as plt\n",
    "import pandas as pd \n",
    "from PIL import Image\n",
    "from sklearn.metrics import confusion_matrix\n",
    "from sklearn.metrics import accuracy_score\n",
    "from sklearn.model_selection import train_test_split\n",
    "from sklearn.neural_network import MLPClassifier\n",
    "from sklearn.metrics import classification_report"
   ]
  },
  {
   "cell_type": "code",
   "execution_count": 2,
   "id": "d10fd550",
   "metadata": {},
   "outputs": [
    {
     "data": {
      "text/html": [
       "<div>\n",
       "<style scoped>\n",
       "    .dataframe tbody tr th:only-of-type {\n",
       "        vertical-align: middle;\n",
       "    }\n",
       "\n",
       "    .dataframe tbody tr th {\n",
       "        vertical-align: top;\n",
       "    }\n",
       "\n",
       "    .dataframe thead th {\n",
       "        text-align: right;\n",
       "    }\n",
       "</style>\n",
       "<table border=\"1\" class=\"dataframe\">\n",
       "  <thead>\n",
       "    <tr style=\"text-align: right;\">\n",
       "      <th></th>\n",
       "      <th>bit</th>\n",
       "      <th>feature_1</th>\n",
       "      <th>feature_2</th>\n",
       "      <th>feature_3</th>\n",
       "      <th>feature_4</th>\n",
       "    </tr>\n",
       "  </thead>\n",
       "  <tbody>\n",
       "    <tr>\n",
       "      <th>0</th>\n",
       "      <td>1</td>\n",
       "      <td>0.0</td>\n",
       "      <td>18.5</td>\n",
       "      <td>-5.0</td>\n",
       "      <td>1.5</td>\n",
       "    </tr>\n",
       "    <tr>\n",
       "      <th>1</th>\n",
       "      <td>1</td>\n",
       "      <td>-4.5</td>\n",
       "      <td>-33.5</td>\n",
       "      <td>0.5</td>\n",
       "      <td>-42.0</td>\n",
       "    </tr>\n",
       "    <tr>\n",
       "      <th>2</th>\n",
       "      <td>1</td>\n",
       "      <td>10.5</td>\n",
       "      <td>91.5</td>\n",
       "      <td>5.5</td>\n",
       "      <td>87.0</td>\n",
       "    </tr>\n",
       "    <tr>\n",
       "      <th>3</th>\n",
       "      <td>1</td>\n",
       "      <td>-31.0</td>\n",
       "      <td>-5.5</td>\n",
       "      <td>-35.5</td>\n",
       "      <td>23.5</td>\n",
       "    </tr>\n",
       "    <tr>\n",
       "      <th>4</th>\n",
       "      <td>1</td>\n",
       "      <td>-16.5</td>\n",
       "      <td>13.0</td>\n",
       "      <td>-11.0</td>\n",
       "      <td>-6.0</td>\n",
       "    </tr>\n",
       "    <tr>\n",
       "      <th>...</th>\n",
       "      <td>...</td>\n",
       "      <td>...</td>\n",
       "      <td>...</td>\n",
       "      <td>...</td>\n",
       "      <td>...</td>\n",
       "    </tr>\n",
       "    <tr>\n",
       "      <th>204795</th>\n",
       "      <td>1</td>\n",
       "      <td>-6.5</td>\n",
       "      <td>3.0</td>\n",
       "      <td>-1.0</td>\n",
       "      <td>9.0</td>\n",
       "    </tr>\n",
       "    <tr>\n",
       "      <th>204796</th>\n",
       "      <td>1</td>\n",
       "      <td>-3.5</td>\n",
       "      <td>16.5</td>\n",
       "      <td>0.5</td>\n",
       "      <td>-2.5</td>\n",
       "    </tr>\n",
       "    <tr>\n",
       "      <th>204797</th>\n",
       "      <td>1</td>\n",
       "      <td>0.5</td>\n",
       "      <td>-8.0</td>\n",
       "      <td>6.5</td>\n",
       "      <td>-2.5</td>\n",
       "    </tr>\n",
       "    <tr>\n",
       "      <th>204798</th>\n",
       "      <td>1</td>\n",
       "      <td>2.0</td>\n",
       "      <td>28.0</td>\n",
       "      <td>-2.0</td>\n",
       "      <td>49.0</td>\n",
       "    </tr>\n",
       "    <tr>\n",
       "      <th>204799</th>\n",
       "      <td>1</td>\n",
       "      <td>28.0</td>\n",
       "      <td>3.5</td>\n",
       "      <td>29.5</td>\n",
       "      <td>9.0</td>\n",
       "    </tr>\n",
       "  </tbody>\n",
       "</table>\n",
       "<p>204800 rows × 5 columns</p>\n",
       "</div>"
      ],
      "text/plain": [
       "        bit  feature_1  feature_2  feature_3  feature_4\n",
       "0         1        0.0       18.5       -5.0        1.5\n",
       "1         1       -4.5      -33.5        0.5      -42.0\n",
       "2         1       10.5       91.5        5.5       87.0\n",
       "3         1      -31.0       -5.5      -35.5       23.5\n",
       "4         1      -16.5       13.0      -11.0       -6.0\n",
       "...     ...        ...        ...        ...        ...\n",
       "204795    1       -6.5        3.0       -1.0        9.0\n",
       "204796    1       -3.5       16.5        0.5       -2.5\n",
       "204797    1        0.5       -8.0        6.5       -2.5\n",
       "204798    1        2.0       28.0       -2.0       49.0\n",
       "204799    1       28.0        3.5       29.5        9.0\n",
       "\n",
       "[204800 rows x 5 columns]"
      ]
     },
     "execution_count": 2,
     "metadata": {},
     "output_type": "execute_result"
    }
   ],
   "source": [
    "AttackDataFrame = pd.read_csv('feature_vec/Task1FeatureVec.txt')\n",
    "del AttackDataFrame['Unnamed: 0']\n",
    "AttackDataFrame"
   ]
  },
  {
   "cell_type": "code",
   "execution_count": 3,
   "id": "50368173",
   "metadata": {},
   "outputs": [
    {
     "data": {
      "text/plain": [
       "array([[  0. ,  18.5,  -5. ,   1.5],\n",
       "       [ -4.5, -33.5,   0.5, -42. ],\n",
       "       [ 10.5,  91.5,   5.5,  87. ],\n",
       "       ...,\n",
       "       [  0.5,  -8. ,   6.5,  -2.5],\n",
       "       [  2. ,  28. ,  -2. ,  49. ],\n",
       "       [ 28. ,   3.5,  29.5,   9. ]])"
      ]
     },
     "execution_count": 3,
     "metadata": {},
     "output_type": "execute_result"
    }
   ],
   "source": [
    "X = AttackDataFrame.iloc[:,[1,2,3,4]].values  \n",
    "X"
   ]
  },
  {
   "cell_type": "code",
   "execution_count": 4,
   "id": "0868e9dc",
   "metadata": {},
   "outputs": [
    {
     "data": {
      "text/plain": [
       "array([[1],\n",
       "       [1],\n",
       "       [1],\n",
       "       ...,\n",
       "       [1],\n",
       "       [1],\n",
       "       [1]], dtype=int64)"
      ]
     },
     "execution_count": 4,
     "metadata": {},
     "output_type": "execute_result"
    }
   ],
   "source": [
    "Y=AttackDataFrame.iloc[:,[0]].values\n",
    "Y"
   ]
  },
  {
   "cell_type": "code",
   "execution_count": 5,
   "id": "c5eb832a",
   "metadata": {},
   "outputs": [],
   "source": [
    "X_train, X_test, y_train, y_test = train_test_split(X, Y, test_size=0.7, random_state=42)\n"
   ]
  },
  {
   "cell_type": "code",
   "execution_count": 14,
   "id": "898ddb24",
   "metadata": {},
   "outputs": [
    {
     "data": {
      "text/plain": [
       "245760"
      ]
     },
     "execution_count": 14,
     "metadata": {},
     "output_type": "execute_result"
    }
   ],
   "source": [
    "X_train.size"
   ]
  },
  {
   "cell_type": "code",
   "execution_count": 19,
   "id": "359e3522",
   "metadata": {},
   "outputs": [
    {
     "data": {
      "text/plain": [
       "array([[ 0.5, -3. ,  4.5, -0.5],\n",
       "       [ 1.5,  0.5, -2. ,  0.5],\n",
       "       [-0.5,  0. , -0.5, -0.5],\n",
       "       ...,\n",
       "       [ 2. , -0.5, -1. , -0.5],\n",
       "       [-0.5, -1.5, -0.5,  1. ],\n",
       "       [-2.5, -4. , -2.5, -4. ]])"
      ]
     },
     "execution_count": 19,
     "metadata": {},
     "output_type": "execute_result"
    }
   ],
   "source": [
    "X_test"
   ]
  },
  {
   "cell_type": "code",
   "execution_count": 17,
   "id": "cd7bc98d",
   "metadata": {},
   "outputs": [
    {
     "data": {
      "text/plain": [
       "61440"
      ]
     },
     "execution_count": 17,
     "metadata": {},
     "output_type": "execute_result"
    }
   ],
   "source": [
    "y_train.size "
   ]
  },
  {
   "cell_type": "code",
   "execution_count": 18,
   "id": "e3f9c1a2",
   "metadata": {},
   "outputs": [
    {
     "data": {
      "text/plain": [
       "143360"
      ]
     },
     "execution_count": 18,
     "metadata": {},
     "output_type": "execute_result"
    }
   ],
   "source": [
    "y_test.size"
   ]
  },
  {
   "cell_type": "code",
   "execution_count": 10,
   "id": "4022c070",
   "metadata": {},
   "outputs": [
    {
     "name": "stderr",
     "output_type": "stream",
     "text": [
      "d:\\code\\python\\nir\\venv\\lib\\site-packages\\sklearn\\neural_network\\_multilayer_perceptron.py:1109: DataConversionWarning: A column-vector y was passed when a 1d array was expected. Please change the shape of y to (n_samples, ), for example using ravel().\n",
      "  y = column_or_1d(y, warn=True)\n"
     ]
    },
    {
     "name": "stdout",
     "output_type": "stream",
     "text": [
      "Iteration 1, loss = 0.65099337\n",
      "Validation score: 0.706543\n",
      "Iteration 2, loss = 0.51493622\n",
      "Validation score: 0.828288\n",
      "Iteration 3, loss = 0.36363961\n",
      "Validation score: 0.913574\n",
      "Iteration 4, loss = 0.25318684\n",
      "Validation score: 0.946777\n",
      "Iteration 5, loss = 0.20118360\n",
      "Validation score: 0.957520\n",
      "Iteration 6, loss = 0.17154185\n",
      "Validation score: 0.963379\n",
      "Iteration 7, loss = 0.15875668\n",
      "Validation score: 0.960612\n",
      "Iteration 8, loss = 0.14658581\n",
      "Validation score: 0.969564\n",
      "Iteration 9, loss = 0.13715310\n",
      "Validation score: 0.962565\n",
      "Iteration 10, loss = 0.13143832\n",
      "Validation score: 0.973470\n",
      "Iteration 11, loss = 0.12523454\n",
      "Validation score: 0.973145\n",
      "Iteration 12, loss = 0.11857813\n",
      "Validation score: 0.974121\n",
      "Iteration 13, loss = 0.11180569\n",
      "Validation score: 0.971680\n",
      "Iteration 14, loss = 0.10778264\n",
      "Validation score: 0.978841\n",
      "Iteration 15, loss = 0.10303657\n",
      "Validation score: 0.978678\n",
      "Iteration 16, loss = 0.10039036\n",
      "Validation score: 0.976725\n",
      "Iteration 17, loss = 0.09843656\n",
      "Validation score: 0.976562\n",
      "Iteration 18, loss = 0.09517452\n",
      "Validation score: 0.980306\n",
      "Iteration 19, loss = 0.08859501\n",
      "Validation score: 0.982747\n",
      "Iteration 20, loss = 0.08798320\n",
      "Validation score: 0.983073\n",
      "Iteration 21, loss = 0.08485709\n",
      "Validation score: 0.979655\n",
      "Iteration 22, loss = 0.08270282\n",
      "Validation score: 0.982096\n",
      "Iteration 23, loss = 0.08031538\n",
      "Validation score: 0.984049\n",
      "Iteration 24, loss = 0.08172356\n",
      "Validation score: 0.982747\n",
      "Iteration 25, loss = 0.07664931\n",
      "Validation score: 0.984375\n",
      "Iteration 26, loss = 0.07810631\n",
      "Validation score: 0.985189\n",
      "Iteration 27, loss = 0.07701873\n",
      "Validation score: 0.982096\n",
      "Iteration 28, loss = 0.07336241\n",
      "Validation score: 0.982910\n",
      "Iteration 29, loss = 0.07408386\n",
      "Validation score: 0.984049\n",
      "Iteration 30, loss = 0.07308694\n",
      "Validation score: 0.981934\n",
      "Iteration 31, loss = 0.07027437\n",
      "Validation score: 0.986165\n",
      "Iteration 32, loss = 0.07035498\n",
      "Validation score: 0.985189\n",
      "Iteration 33, loss = 0.06798135\n",
      "Validation score: 0.983398\n",
      "Iteration 34, loss = 0.07000822\n",
      "Validation score: 0.985677\n",
      "Iteration 35, loss = 0.06692599\n",
      "Validation score: 0.985026\n",
      "Iteration 36, loss = 0.06481793\n",
      "Validation score: 0.983073\n",
      "Iteration 37, loss = 0.06752651\n",
      "Validation score: 0.983236\n",
      "Iteration 38, loss = 0.06655334\n",
      "Validation score: 0.985514\n",
      "Iteration 39, loss = 0.06528438\n",
      "Validation score: 0.985840\n",
      "Iteration 40, loss = 0.06625511\n",
      "Validation score: 0.984049\n",
      "Iteration 41, loss = 0.06347623\n",
      "Validation score: 0.985677\n",
      "Iteration 42, loss = 0.06428656\n",
      "Validation score: 0.983073\n",
      "Validation score did not improve more than tol=0.000100 for 10 consecutive epochs. Stopping.\n"
     ]
    },
    {
     "data": {
      "text/plain": [
       "MLPClassifier(early_stopping=True, hidden_layer_sizes=(20, 15, 10, 5),\n",
       "              max_iter=1000, verbose=True)"
      ]
     },
     "execution_count": 10,
     "metadata": {},
     "output_type": "execute_result"
    }
   ],
   "source": [
    "from sklearn.neural_network import MLPClassifier\n",
    "clf = MLPClassifier(hidden_layer_sizes = (20,15,10,5) , max_iter=1000 ,early_stopping=True , verbose=True)\n",
    "clf.fit(X_train, y_train)"
   ]
  },
  {
   "cell_type": "code",
   "execution_count": 11,
   "id": "971258f1",
   "metadata": {},
   "outputs": [
    {
     "data": {
      "text/plain": [
       "143360"
      ]
     },
     "execution_count": 11,
     "metadata": {},
     "output_type": "execute_result"
    }
   ],
   "source": [
    "y_predict=clf.predict(X_test)\n",
    "y_predict.size"
   ]
  },
  {
   "cell_type": "code",
   "execution_count": 12,
   "id": "68e6d0be",
   "metadata": {},
   "outputs": [
    {
     "data": {
      "text/html": [
       "<div>\n",
       "<style scoped>\n",
       "    .dataframe tbody tr th:only-of-type {\n",
       "        vertical-align: middle;\n",
       "    }\n",
       "\n",
       "    .dataframe tbody tr th {\n",
       "        vertical-align: top;\n",
       "    }\n",
       "\n",
       "    .dataframe thead th {\n",
       "        text-align: right;\n",
       "    }\n",
       "</style>\n",
       "<table border=\"1\" class=\"dataframe\">\n",
       "  <thead>\n",
       "    <tr style=\"text-align: right;\">\n",
       "      <th></th>\n",
       "      <th>0</th>\n",
       "      <th>1</th>\n",
       "    </tr>\n",
       "  </thead>\n",
       "  <tbody>\n",
       "    <tr>\n",
       "      <th>0</th>\n",
       "      <td>58926</td>\n",
       "      <td>890</td>\n",
       "    </tr>\n",
       "    <tr>\n",
       "      <th>1</th>\n",
       "      <td>1330</td>\n",
       "      <td>82214</td>\n",
       "    </tr>\n",
       "  </tbody>\n",
       "</table>\n",
       "</div>"
      ],
      "text/plain": [
       "       0      1\n",
       "0  58926    890\n",
       "1   1330  82214"
      ]
     },
     "execution_count": 12,
     "metadata": {},
     "output_type": "execute_result"
    }
   ],
   "source": [
    "from sklearn.metrics import confusion_matrix\n",
    "cm = confusion_matrix(y_test, y_predict)\n",
    "pd.DataFrame(cm)"
   ]
  },
  {
   "cell_type": "code",
   "execution_count": 13,
   "id": "2575ea64",
   "metadata": {},
   "outputs": [
    {
     "name": "stdout",
     "output_type": "stream",
     "text": [
      "              precision    recall  f1-score   support\n",
      "\n",
      "           0       0.98      0.99      0.98     59816\n",
      "           1       0.99      0.98      0.99     83544\n",
      "\n",
      "    accuracy                           0.98    143360\n",
      "   macro avg       0.98      0.98      0.98    143360\n",
      "weighted avg       0.98      0.98      0.98    143360\n",
      "\n"
     ]
    }
   ],
   "source": [
    "print(classification_report(y_test, y_predict))"
   ]
  },
  {
   "cell_type": "code",
   "execution_count": 25,
   "id": "c73a45bd",
   "metadata": {},
   "outputs": [],
   "source": [
    "X_image_test = AttackDataFrame.iloc[:,[1,2,3,4]].values  \n",
    "i=1\n",
    "y=X_image_test[1024*i:1024*(i+1)]\n",
    "y_predict_image=clf.predict(y)\n",
    "y_predict_image[y_predict_image>0]=255\n",
    "y_predict_image=y_predict_image.reshape(32,32)\n",
    "img = Image.fromarray(y_predict_image.astype(np.uint8))\n",
    "img.show()"
   ]
  },
  {
   "cell_type": "code",
   "execution_count": null,
   "id": "fb21a56d",
   "metadata": {},
   "outputs": [],
   "source": []
  }
 ],
 "metadata": {
  "kernelspec": {
   "display_name": "Python 3 (ipykernel)",
   "language": "python",
   "name": "python3"
  },
  "language_info": {
   "codemirror_mode": {
    "name": "ipython",
    "version": 3
   },
   "file_extension": ".py",
   "mimetype": "text/x-python",
   "name": "python",
   "nbconvert_exporter": "python",
   "pygments_lexer": "ipython3",
   "version": "3.9.0"
  }
 },
 "nbformat": 4,
 "nbformat_minor": 5
}
