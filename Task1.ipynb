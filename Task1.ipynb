{
 "cells": [
  {
   "cell_type": "code",
   "execution_count": 1,
   "id": "fb9373b5",
   "metadata": {},
   "outputs": [],
   "source": [
    "import numpy as np\n",
    "import matplotlib.pyplot as plt\n",
    "import pandas as pd \n",
    "from PIL import Image\n",
    "from sklearn.metrics import confusion_matrix\n",
    "from sklearn.metrics import accuracy_score\n",
    "from sklearn.model_selection import train_test_split\n",
    "from sklearn.neural_network import MLPClassifier\n",
    "from sklearn.metrics import classification_report"
   ]
  },
  {
   "cell_type": "code",
   "execution_count": 4,
   "id": "d10fd550",
   "metadata": {},
   "outputs": [
    {
     "data": {
      "text/html": [
       "<div>\n",
       "<style scoped>\n",
       "    .dataframe tbody tr th:only-of-type {\n",
       "        vertical-align: middle;\n",
       "    }\n",
       "\n",
       "    .dataframe tbody tr th {\n",
       "        vertical-align: top;\n",
       "    }\n",
       "\n",
       "    .dataframe thead th {\n",
       "        text-align: right;\n",
       "    }\n",
       "</style>\n",
       "<table border=\"1\" class=\"dataframe\">\n",
       "  <thead>\n",
       "    <tr style=\"text-align: right;\">\n",
       "      <th></th>\n",
       "      <th>bit</th>\n",
       "      <th>feature_1</th>\n",
       "      <th>feature_2</th>\n",
       "      <th>feature_3</th>\n",
       "      <th>feature_4</th>\n",
       "    </tr>\n",
       "  </thead>\n",
       "  <tbody>\n",
       "    <tr>\n",
       "      <th>0</th>\n",
       "      <td>1</td>\n",
       "      <td>0.0</td>\n",
       "      <td>18.5</td>\n",
       "      <td>-5.0</td>\n",
       "      <td>1.5</td>\n",
       "    </tr>\n",
       "    <tr>\n",
       "      <th>1</th>\n",
       "      <td>1</td>\n",
       "      <td>-4.5</td>\n",
       "      <td>-33.5</td>\n",
       "      <td>0.5</td>\n",
       "      <td>-42.0</td>\n",
       "    </tr>\n",
       "    <tr>\n",
       "      <th>2</th>\n",
       "      <td>1</td>\n",
       "      <td>10.5</td>\n",
       "      <td>91.5</td>\n",
       "      <td>5.5</td>\n",
       "      <td>87.0</td>\n",
       "    </tr>\n",
       "    <tr>\n",
       "      <th>3</th>\n",
       "      <td>1</td>\n",
       "      <td>-31.0</td>\n",
       "      <td>-5.5</td>\n",
       "      <td>-35.5</td>\n",
       "      <td>23.5</td>\n",
       "    </tr>\n",
       "    <tr>\n",
       "      <th>4</th>\n",
       "      <td>1</td>\n",
       "      <td>-16.5</td>\n",
       "      <td>13.0</td>\n",
       "      <td>-11.0</td>\n",
       "      <td>-6.0</td>\n",
       "    </tr>\n",
       "    <tr>\n",
       "      <th>...</th>\n",
       "      <td>...</td>\n",
       "      <td>...</td>\n",
       "      <td>...</td>\n",
       "      <td>...</td>\n",
       "      <td>...</td>\n",
       "    </tr>\n",
       "    <tr>\n",
       "      <th>204795</th>\n",
       "      <td>1</td>\n",
       "      <td>-6.5</td>\n",
       "      <td>3.0</td>\n",
       "      <td>-1.0</td>\n",
       "      <td>9.0</td>\n",
       "    </tr>\n",
       "    <tr>\n",
       "      <th>204796</th>\n",
       "      <td>1</td>\n",
       "      <td>-3.5</td>\n",
       "      <td>16.5</td>\n",
       "      <td>0.5</td>\n",
       "      <td>-2.5</td>\n",
       "    </tr>\n",
       "    <tr>\n",
       "      <th>204797</th>\n",
       "      <td>1</td>\n",
       "      <td>0.5</td>\n",
       "      <td>-8.0</td>\n",
       "      <td>6.5</td>\n",
       "      <td>-2.5</td>\n",
       "    </tr>\n",
       "    <tr>\n",
       "      <th>204798</th>\n",
       "      <td>1</td>\n",
       "      <td>2.0</td>\n",
       "      <td>28.0</td>\n",
       "      <td>-2.0</td>\n",
       "      <td>49.0</td>\n",
       "    </tr>\n",
       "    <tr>\n",
       "      <th>204799</th>\n",
       "      <td>1</td>\n",
       "      <td>28.0</td>\n",
       "      <td>3.5</td>\n",
       "      <td>29.5</td>\n",
       "      <td>9.0</td>\n",
       "    </tr>\n",
       "  </tbody>\n",
       "</table>\n",
       "<p>204800 rows × 5 columns</p>\n",
       "</div>"
      ],
      "text/plain": [
       "        bit  feature_1  feature_2  feature_3  feature_4\n",
       "0         1        0.0       18.5       -5.0        1.5\n",
       "1         1       -4.5      -33.5        0.5      -42.0\n",
       "2         1       10.5       91.5        5.5       87.0\n",
       "3         1      -31.0       -5.5      -35.5       23.5\n",
       "4         1      -16.5       13.0      -11.0       -6.0\n",
       "...     ...        ...        ...        ...        ...\n",
       "204795    1       -6.5        3.0       -1.0        9.0\n",
       "204796    1       -3.5       16.5        0.5       -2.5\n",
       "204797    1        0.5       -8.0        6.5       -2.5\n",
       "204798    1        2.0       28.0       -2.0       49.0\n",
       "204799    1       28.0        3.5       29.5        9.0\n",
       "\n",
       "[204800 rows x 5 columns]"
      ]
     },
     "execution_count": 4,
     "metadata": {},
     "output_type": "execute_result"
    }
   ],
   "source": [
    "AttackDataFrame = pd.read_csv('feature_vec/Task1/Task1FeatureVec.txt')\n",
    "del AttackDataFrame['Unnamed: 0']\n",
    "AttackDataFrame"
   ]
  },
  {
   "cell_type": "code",
   "execution_count": 5,
   "id": "50368173",
   "metadata": {},
   "outputs": [
    {
     "data": {
      "text/plain": [
       "array([[  0. ,  18.5,  -5. ,   1.5],\n",
       "       [ -4.5, -33.5,   0.5, -42. ],\n",
       "       [ 10.5,  91.5,   5.5,  87. ],\n",
       "       ...,\n",
       "       [  0.5,  -8. ,   6.5,  -2.5],\n",
       "       [  2. ,  28. ,  -2. ,  49. ],\n",
       "       [ 28. ,   3.5,  29.5,   9. ]])"
      ]
     },
     "execution_count": 5,
     "metadata": {},
     "output_type": "execute_result"
    }
   ],
   "source": [
    "X = AttackDataFrame.iloc[:,[1,2,3,4]].values  \n",
    "X"
   ]
  },
  {
   "cell_type": "code",
   "execution_count": 6,
   "id": "0868e9dc",
   "metadata": {},
   "outputs": [
    {
     "data": {
      "text/plain": [
       "array([[1],\n",
       "       [1],\n",
       "       [1],\n",
       "       ...,\n",
       "       [1],\n",
       "       [1],\n",
       "       [1]], dtype=int64)"
      ]
     },
     "execution_count": 6,
     "metadata": {},
     "output_type": "execute_result"
    }
   ],
   "source": [
    "Y=AttackDataFrame.iloc[:,[0]].values\n",
    "Y"
   ]
  },
  {
   "cell_type": "code",
   "execution_count": 7,
   "id": "c5eb832a",
   "metadata": {},
   "outputs": [],
   "source": [
    "X_train, X_test, y_train, y_test = train_test_split(X, Y, test_size=0.7, random_state=42)\n"
   ]
  },
  {
   "cell_type": "code",
   "execution_count": 8,
   "id": "898ddb24",
   "metadata": {},
   "outputs": [
    {
     "data": {
      "text/plain": [
       "245760"
      ]
     },
     "execution_count": 8,
     "metadata": {},
     "output_type": "execute_result"
    }
   ],
   "source": [
    "X_train.size"
   ]
  },
  {
   "cell_type": "code",
   "execution_count": 9,
   "id": "359e3522",
   "metadata": {},
   "outputs": [
    {
     "data": {
      "text/plain": [
       "array([[ 0.5, -3. ,  4.5, -0.5],\n",
       "       [ 1.5,  0.5, -2. ,  0.5],\n",
       "       [-0.5,  0. , -0.5, -0.5],\n",
       "       ...,\n",
       "       [ 2. , -0.5, -1. , -0.5],\n",
       "       [-0.5, -1.5, -0.5,  1. ],\n",
       "       [-2.5, -4. , -2.5, -4. ]])"
      ]
     },
     "execution_count": 9,
     "metadata": {},
     "output_type": "execute_result"
    }
   ],
   "source": [
    "X_test"
   ]
  },
  {
   "cell_type": "code",
   "execution_count": 10,
   "id": "cd7bc98d",
   "metadata": {},
   "outputs": [
    {
     "data": {
      "text/plain": [
       "61440"
      ]
     },
     "execution_count": 10,
     "metadata": {},
     "output_type": "execute_result"
    }
   ],
   "source": [
    "y_train.size "
   ]
  },
  {
   "cell_type": "code",
   "execution_count": 11,
   "id": "e3f9c1a2",
   "metadata": {},
   "outputs": [
    {
     "data": {
      "text/plain": [
       "143360"
      ]
     },
     "execution_count": 11,
     "metadata": {},
     "output_type": "execute_result"
    }
   ],
   "source": [
    "y_test.size"
   ]
  },
  {
   "cell_type": "code",
   "execution_count": 12,
   "id": "4022c070",
   "metadata": {},
   "outputs": [
    {
     "name": "stderr",
     "output_type": "stream",
     "text": [
      "d:\\code\\python\\nir\\venv\\lib\\site-packages\\sklearn\\neural_network\\_multilayer_perceptron.py:1109: DataConversionWarning: A column-vector y was passed when a 1d array was expected. Please change the shape of y to (n_samples, ), for example using ravel().\n",
      "  y = column_or_1d(y, warn=True)\n"
     ]
    },
    {
     "name": "stdout",
     "output_type": "stream",
     "text": [
      "Iteration 1, loss = 0.70662796\n",
      "Validation score: 0.716471\n",
      "Iteration 2, loss = 0.54382141\n",
      "Validation score: 0.795410\n",
      "Iteration 3, loss = 0.37273331\n",
      "Validation score: 0.908366\n",
      "Iteration 4, loss = 0.25719390\n",
      "Validation score: 0.929362\n",
      "Iteration 5, loss = 0.18681118\n",
      "Validation score: 0.953613\n",
      "Iteration 6, loss = 0.15086675\n",
      "Validation score: 0.962240\n",
      "Iteration 7, loss = 0.13243399\n",
      "Validation score: 0.967448\n",
      "Iteration 8, loss = 0.11802970\n",
      "Validation score: 0.966471\n",
      "Iteration 9, loss = 0.11325402\n",
      "Validation score: 0.972656\n",
      "Iteration 10, loss = 0.09851262\n",
      "Validation score: 0.975911\n",
      "Iteration 11, loss = 0.09419088\n",
      "Validation score: 0.975586\n",
      "Iteration 12, loss = 0.08873335\n",
      "Validation score: 0.978353\n",
      "Iteration 13, loss = 0.08408035\n",
      "Validation score: 0.978841\n",
      "Iteration 14, loss = 0.08040519\n",
      "Validation score: 0.978353\n",
      "Iteration 15, loss = 0.07752972\n",
      "Validation score: 0.980306\n",
      "Iteration 16, loss = 0.07560731\n",
      "Validation score: 0.980469\n",
      "Iteration 17, loss = 0.07441772\n",
      "Validation score: 0.981283\n",
      "Iteration 18, loss = 0.07048064\n",
      "Validation score: 0.979655\n",
      "Iteration 19, loss = 0.06796002\n",
      "Validation score: 0.982585\n",
      "Iteration 20, loss = 0.06986213\n",
      "Validation score: 0.983236\n",
      "Iteration 21, loss = 0.06833712\n",
      "Validation score: 0.982096\n",
      "Iteration 22, loss = 0.06350854\n",
      "Validation score: 0.982585\n",
      "Iteration 23, loss = 0.06447437\n",
      "Validation score: 0.983561\n",
      "Iteration 24, loss = 0.06257615\n",
      "Validation score: 0.982585\n",
      "Iteration 25, loss = 0.06231730\n",
      "Validation score: 0.985189\n",
      "Iteration 26, loss = 0.06519823\n",
      "Validation score: 0.985026\n",
      "Iteration 27, loss = 0.06155285\n",
      "Validation score: 0.983398\n",
      "Iteration 28, loss = 0.06114940\n",
      "Validation score: 0.984375\n",
      "Iteration 29, loss = 0.06066879\n",
      "Validation score: 0.980469\n",
      "Iteration 30, loss = 0.06045081\n",
      "Validation score: 0.985840\n",
      "Iteration 31, loss = 0.05803333\n",
      "Validation score: 0.986003\n",
      "Iteration 32, loss = 0.05994302\n",
      "Validation score: 0.984212\n",
      "Iteration 33, loss = 0.05778283\n",
      "Validation score: 0.984538\n",
      "Iteration 34, loss = 0.05763903\n",
      "Validation score: 0.981608\n",
      "Iteration 35, loss = 0.05718119\n",
      "Validation score: 0.986165\n",
      "Iteration 36, loss = 0.05632995\n",
      "Validation score: 0.985514\n",
      "Iteration 37, loss = 0.05631417\n",
      "Validation score: 0.986654\n",
      "Iteration 38, loss = 0.05644142\n",
      "Validation score: 0.983398\n",
      "Iteration 39, loss = 0.05476758\n",
      "Validation score: 0.986979\n",
      "Iteration 40, loss = 0.05528872\n",
      "Validation score: 0.986491\n",
      "Iteration 41, loss = 0.05782286\n",
      "Validation score: 0.986979\n",
      "Iteration 42, loss = 0.05363719\n",
      "Validation score: 0.987956\n",
      "Iteration 43, loss = 0.05486886\n",
      "Validation score: 0.981445\n",
      "Iteration 44, loss = 0.05527703\n",
      "Validation score: 0.988444\n",
      "Iteration 45, loss = 0.05587320\n",
      "Validation score: 0.986003\n",
      "Iteration 46, loss = 0.05283703\n",
      "Validation score: 0.984049\n",
      "Iteration 47, loss = 0.05585956\n",
      "Validation score: 0.987956\n",
      "Iteration 48, loss = 0.05539130\n",
      "Validation score: 0.985840\n",
      "Iteration 49, loss = 0.05390675\n",
      "Validation score: 0.986816\n",
      "Iteration 50, loss = 0.05360693\n",
      "Validation score: 0.987305\n",
      "Iteration 51, loss = 0.05314566\n",
      "Validation score: 0.985352\n",
      "Iteration 52, loss = 0.05319098\n",
      "Validation score: 0.988118\n",
      "Iteration 53, loss = 0.05322284\n",
      "Validation score: 0.981934\n",
      "Iteration 54, loss = 0.05115961\n",
      "Validation score: 0.985840\n",
      "Iteration 55, loss = 0.05426596\n",
      "Validation score: 0.988281\n",
      "Validation score did not improve more than tol=0.000100 for 10 consecutive epochs. Stopping.\n"
     ]
    },
    {
     "data": {
      "text/plain": [
       "MLPClassifier(early_stopping=True, hidden_layer_sizes=(20, 15, 10, 5),\n",
       "              max_iter=1000, verbose=True)"
      ]
     },
     "execution_count": 12,
     "metadata": {},
     "output_type": "execute_result"
    }
   ],
   "source": [
    "from sklearn.neural_network import MLPClassifier\n",
    "clf = MLPClassifier(hidden_layer_sizes = (20,15,10,5) , max_iter=1000 ,early_stopping=True , verbose=True)\n",
    "clf.fit(X_train, y_train)"
   ]
  },
  {
   "cell_type": "code",
   "execution_count": 13,
   "id": "971258f1",
   "metadata": {},
   "outputs": [
    {
     "data": {
      "text/plain": [
       "143360"
      ]
     },
     "execution_count": 13,
     "metadata": {},
     "output_type": "execute_result"
    }
   ],
   "source": [
    "y_predict=clf.predict(X_test)\n",
    "y_predict.size"
   ]
  },
  {
   "cell_type": "code",
   "execution_count": 14,
   "id": "68e6d0be",
   "metadata": {},
   "outputs": [
    {
     "data": {
      "text/html": [
       "<div>\n",
       "<style scoped>\n",
       "    .dataframe tbody tr th:only-of-type {\n",
       "        vertical-align: middle;\n",
       "    }\n",
       "\n",
       "    .dataframe tbody tr th {\n",
       "        vertical-align: top;\n",
       "    }\n",
       "\n",
       "    .dataframe thead th {\n",
       "        text-align: right;\n",
       "    }\n",
       "</style>\n",
       "<table border=\"1\" class=\"dataframe\">\n",
       "  <thead>\n",
       "    <tr style=\"text-align: right;\">\n",
       "      <th></th>\n",
       "      <th>0</th>\n",
       "      <th>1</th>\n",
       "    </tr>\n",
       "  </thead>\n",
       "  <tbody>\n",
       "    <tr>\n",
       "      <th>0</th>\n",
       "      <td>59174</td>\n",
       "      <td>642</td>\n",
       "    </tr>\n",
       "    <tr>\n",
       "      <th>1</th>\n",
       "      <td>989</td>\n",
       "      <td>82555</td>\n",
       "    </tr>\n",
       "  </tbody>\n",
       "</table>\n",
       "</div>"
      ],
      "text/plain": [
       "       0      1\n",
       "0  59174    642\n",
       "1    989  82555"
      ]
     },
     "execution_count": 14,
     "metadata": {},
     "output_type": "execute_result"
    }
   ],
   "source": [
    "from sklearn.metrics import confusion_matrix\n",
    "cm = confusion_matrix(y_test, y_predict)\n",
    "pd.DataFrame(cm)"
   ]
  },
  {
   "cell_type": "code",
   "execution_count": 15,
   "id": "2575ea64",
   "metadata": {},
   "outputs": [
    {
     "name": "stdout",
     "output_type": "stream",
     "text": [
      "              precision    recall  f1-score   support\n",
      "\n",
      "           0       0.98      0.99      0.99     59816\n",
      "           1       0.99      0.99      0.99     83544\n",
      "\n",
      "    accuracy                           0.99    143360\n",
      "   macro avg       0.99      0.99      0.99    143360\n",
      "weighted avg       0.99      0.99      0.99    143360\n",
      "\n"
     ]
    }
   ],
   "source": [
    "print(classification_report(y_test, y_predict))"
   ]
  },
  {
   "cell_type": "code",
   "execution_count": 16,
   "id": "c73a45bd",
   "metadata": {},
   "outputs": [],
   "source": [
    "X_image_test = AttackDataFrame.iloc[:,[1,2,3,4]].values  \n",
    "i=1\n",
    "y=X_image_test[1024*i:1024*(i+1)]\n",
    "y_predict_image=clf.predict(y)\n",
    "y_predict_image[y_predict_image>0]=255\n",
    "y_predict_image=y_predict_image.reshape(32,32)\n",
    "img = Image.fromarray(y_predict_image.astype(np.uint8))\n",
    "img.show()"
   ]
  },
  {
   "cell_type": "code",
   "execution_count": 31,
   "id": "fb21a56d",
   "metadata": {},
   "outputs": [
    {
     "data": {
      "text/html": [
       "<div>\n",
       "<style scoped>\n",
       "    .dataframe tbody tr th:only-of-type {\n",
       "        vertical-align: middle;\n",
       "    }\n",
       "\n",
       "    .dataframe tbody tr th {\n",
       "        vertical-align: top;\n",
       "    }\n",
       "\n",
       "    .dataframe thead th {\n",
       "        text-align: right;\n",
       "    }\n",
       "</style>\n",
       "<table border=\"1\" class=\"dataframe\">\n",
       "  <thead>\n",
       "    <tr style=\"text-align: right;\">\n",
       "      <th></th>\n",
       "      <th>bit</th>\n",
       "      <th>feature_1</th>\n",
       "      <th>feature_2</th>\n",
       "      <th>feature_3</th>\n",
       "      <th>feature_4</th>\n",
       "    </tr>\n",
       "  </thead>\n",
       "  <tbody>\n",
       "    <tr>\n",
       "      <th>0</th>\n",
       "      <td>0</td>\n",
       "      <td>-2.5</td>\n",
       "      <td>3.5</td>\n",
       "      <td>-1.0</td>\n",
       "      <td>3.0</td>\n",
       "    </tr>\n",
       "    <tr>\n",
       "      <th>1</th>\n",
       "      <td>0</td>\n",
       "      <td>3.0</td>\n",
       "      <td>1.0</td>\n",
       "      <td>3.0</td>\n",
       "      <td>3.0</td>\n",
       "    </tr>\n",
       "    <tr>\n",
       "      <th>2</th>\n",
       "      <td>1</td>\n",
       "      <td>0.5</td>\n",
       "      <td>0.5</td>\n",
       "      <td>-1.5</td>\n",
       "      <td>2.5</td>\n",
       "    </tr>\n",
       "    <tr>\n",
       "      <th>3</th>\n",
       "      <td>1</td>\n",
       "      <td>0.0</td>\n",
       "      <td>0.5</td>\n",
       "      <td>-0.5</td>\n",
       "      <td>2.5</td>\n",
       "    </tr>\n",
       "    <tr>\n",
       "      <th>4</th>\n",
       "      <td>1</td>\n",
       "      <td>-0.5</td>\n",
       "      <td>35.5</td>\n",
       "      <td>-1.5</td>\n",
       "      <td>38.5</td>\n",
       "    </tr>\n",
       "    <tr>\n",
       "      <th>...</th>\n",
       "      <td>...</td>\n",
       "      <td>...</td>\n",
       "      <td>...</td>\n",
       "      <td>...</td>\n",
       "      <td>...</td>\n",
       "    </tr>\n",
       "    <tr>\n",
       "      <th>1019</th>\n",
       "      <td>0</td>\n",
       "      <td>0.0</td>\n",
       "      <td>-1.5</td>\n",
       "      <td>-2.0</td>\n",
       "      <td>0.0</td>\n",
       "    </tr>\n",
       "    <tr>\n",
       "      <th>1020</th>\n",
       "      <td>0</td>\n",
       "      <td>0.0</td>\n",
       "      <td>-11.0</td>\n",
       "      <td>1.0</td>\n",
       "      <td>1.0</td>\n",
       "    </tr>\n",
       "    <tr>\n",
       "      <th>1021</th>\n",
       "      <td>0</td>\n",
       "      <td>3.5</td>\n",
       "      <td>3.5</td>\n",
       "      <td>3.5</td>\n",
       "      <td>-27.5</td>\n",
       "    </tr>\n",
       "    <tr>\n",
       "      <th>1022</th>\n",
       "      <td>0</td>\n",
       "      <td>11.0</td>\n",
       "      <td>-11.5</td>\n",
       "      <td>-14.0</td>\n",
       "      <td>10.5</td>\n",
       "    </tr>\n",
       "    <tr>\n",
       "      <th>1023</th>\n",
       "      <td>0</td>\n",
       "      <td>0.5</td>\n",
       "      <td>0.0</td>\n",
       "      <td>-12.5</td>\n",
       "      <td>-3.5</td>\n",
       "    </tr>\n",
       "  </tbody>\n",
       "</table>\n",
       "<p>1024 rows × 5 columns</p>\n",
       "</div>"
      ],
      "text/plain": [
       "      bit  feature_1  feature_2  feature_3  feature_4\n",
       "0       0       -2.5        3.5       -1.0        3.0\n",
       "1       0        3.0        1.0        3.0        3.0\n",
       "2       1        0.5        0.5       -1.5        2.5\n",
       "3       1        0.0        0.5       -0.5        2.5\n",
       "4       1       -0.5       35.5       -1.5       38.5\n",
       "...   ...        ...        ...        ...        ...\n",
       "1019    0        0.0       -1.5       -2.0        0.0\n",
       "1020    0        0.0      -11.0        1.0        1.0\n",
       "1021    0        3.5        3.5        3.5      -27.5\n",
       "1022    0       11.0      -11.5      -14.0       10.5\n",
       "1023    0        0.5        0.0      -12.5       -3.5\n",
       "\n",
       "[1024 rows x 5 columns]"
      ]
     },
     "execution_count": 31,
     "metadata": {},
     "output_type": "execute_result"
    }
   ],
   "source": [
    "imageWM2Frame = pd.read_csv('feature_vec/anotherCWFearVec.txt')\n",
    "del imageWM2Frame['Unnamed: 0']\n",
    "imageWM2Frame"
   ]
  },
  {
   "cell_type": "code",
   "execution_count": 33,
   "id": "1b9222f4",
   "metadata": {},
   "outputs": [
    {
     "data": {
      "text/plain": [
       "4096"
      ]
     },
     "execution_count": 33,
     "metadata": {},
     "output_type": "execute_result"
    }
   ],
   "source": [
    "XimageWM2 = imageWM2Frame.iloc[:,[1,2,3,4]].values  \n",
    "XimageWM2.size"
   ]
  },
  {
   "cell_type": "code",
   "execution_count": 34,
   "id": "fc9207b4",
   "metadata": {},
   "outputs": [
    {
     "data": {
      "text/plain": [
       "array([[0],\n",
       "       [0],\n",
       "       [1],\n",
       "       ...,\n",
       "       [0],\n",
       "       [0],\n",
       "       [0]], dtype=int64)"
      ]
     },
     "execution_count": 34,
     "metadata": {},
     "output_type": "execute_result"
    }
   ],
   "source": [
    "YimageWM2=imageWM2Frame.iloc[:,[0]].values\n",
    "YimageWM2"
   ]
  },
  {
   "cell_type": "code",
   "execution_count": 39,
   "id": "09ab1e30",
   "metadata": {},
   "outputs": [
    {
     "data": {
      "text/plain": [
       "1024"
      ]
     },
     "execution_count": 39,
     "metadata": {},
     "output_type": "execute_result"
    }
   ],
   "source": [
    "y_predict_cw2=clf.predict(XimageWM2)\n",
    "y_predict_cw2.size\n",
    "\n"
   ]
  },
  {
   "cell_type": "code",
   "execution_count": 40,
   "id": "4fac6681",
   "metadata": {},
   "outputs": [
    {
     "data": {
      "text/html": [
       "<div>\n",
       "<style scoped>\n",
       "    .dataframe tbody tr th:only-of-type {\n",
       "        vertical-align: middle;\n",
       "    }\n",
       "\n",
       "    .dataframe tbody tr th {\n",
       "        vertical-align: top;\n",
       "    }\n",
       "\n",
       "    .dataframe thead th {\n",
       "        text-align: right;\n",
       "    }\n",
       "</style>\n",
       "<table border=\"1\" class=\"dataframe\">\n",
       "  <thead>\n",
       "    <tr style=\"text-align: right;\">\n",
       "      <th></th>\n",
       "      <th>0</th>\n",
       "      <th>1</th>\n",
       "    </tr>\n",
       "  </thead>\n",
       "  <tbody>\n",
       "    <tr>\n",
       "      <th>0</th>\n",
       "      <td>348</td>\n",
       "      <td>3</td>\n",
       "    </tr>\n",
       "    <tr>\n",
       "      <th>1</th>\n",
       "      <td>14</td>\n",
       "      <td>659</td>\n",
       "    </tr>\n",
       "  </tbody>\n",
       "</table>\n",
       "</div>"
      ],
      "text/plain": [
       "     0    1\n",
       "0  348    3\n",
       "1   14  659"
      ]
     },
     "execution_count": 40,
     "metadata": {},
     "output_type": "execute_result"
    }
   ],
   "source": [
    "cm = confusion_matrix(YimageWM2, y_predict_cw2)\n",
    "pd.DataFrame(cm)"
   ]
  },
  {
   "cell_type": "code",
   "execution_count": 42,
   "id": "98449641",
   "metadata": {},
   "outputs": [],
   "source": [
    "y_predict_cw2[y_predict_cw2>0]=255\n",
    "y_predict_cw2=y_predict_cw2.reshape(32,32)\n",
    "img = Image.fromarray(y_predict_cw2.astype(np.uint8))\n",
    "img.show()"
   ]
  },
  {
   "cell_type": "code",
   "execution_count": null,
   "id": "a15ffe12",
   "metadata": {},
   "outputs": [],
   "source": []
  }
 ],
 "metadata": {
  "kernelspec": {
   "display_name": "Python 3 (ipykernel)",
   "language": "python",
   "name": "python3"
  },
  "language_info": {
   "codemirror_mode": {
    "name": "ipython",
    "version": 3
   },
   "file_extension": ".py",
   "mimetype": "text/x-python",
   "name": "python",
   "nbconvert_exporter": "python",
   "pygments_lexer": "ipython3",
   "version": "3.9.0"
  }
 },
 "nbformat": 4,
 "nbformat_minor": 5
}
