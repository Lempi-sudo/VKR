{
 "cells": [
  {
   "cell_type": "code",
   "execution_count": 3,
   "id": "5f16bf8b",
   "metadata": {},
   "outputs": [],
   "source": [
    "import numpy as np\n",
    "import matplotlib.pyplot as plt\n",
    "import pandas as pd \n",
    "from PIL import Image\n",
    "from sklearn.metrics import confusion_matrix\n",
    "from sklearn.metrics import accuracy_score"
   ]
  },
  {
   "cell_type": "code",
   "execution_count": 4,
   "id": "8bd94c98",
   "metadata": {},
   "outputs": [],
   "source": [
    "path_averege= \"feature_vec/AverageAttack.txt\"\n",
    "path_histogram=\"feature_vec/HistogramAttack.txt\"\n",
    "path_GammaCor=  \"feature_vec/GammaCorrection.txt\"\n",
    "path_JPEG50= \"feature_vec/JPEG50.txt\"\n",
    "path_median=  \"feature_vec/medianAttack.txt\"\n",
    "path_saltpaper=\"feature_vec/SaltPaperAttack.txt\"\n",
    "path_snarpness= \"feature_vec/Sharpness.txt\""
   ]
  },
  {
   "cell_type": "code",
   "execution_count": 5,
   "id": "53abb6e9",
   "metadata": {},
   "outputs": [],
   "source": [
    "def test_train_df(path):\n",
    "    AttackDataFrame = pd.read_csv(path)\n",
    "    del AttackDataFrame['Unnamed: 0']\n",
    "    train_size=len(AttackDataFrame)//2\n",
    "    test_size=len(AttackDataFrame)-train_size\n",
    "    Train = AttackDataFrame.head(train_size)\n",
    "    Test = AttackDataFrame.tail(test_size)\n",
    "    return Train.copy(),Test.copy()"
   ]
  },
  {
   "cell_type": "code",
   "execution_count": 6,
   "id": "09ed0b37",
   "metadata": {},
   "outputs": [],
   "source": [
    "averegeTrain,averegeTest=test_train_df(path_averege)\n",
    "\n",
    "histogramTrain,histogramTest=test_train_df(path_histogram)\n",
    "\n",
    "GammaCorTrain, GammaCorTest=test_train_df(path_GammaCor)\n",
    "\n",
    "JPEG50Train,JPEG50Test=test_train_df(path_JPEG50)\n",
    "\n",
    "medianTrain,medianTest=test_train_df(path_median)\n",
    "\n",
    "saltpaperTrain,saltpaperTest=test_train_df(path_saltpaper)\n",
    "\n",
    "snarpnessTrain,snarpnessTest=test_train_df(path_snarpness)"
   ]
  },
  {
   "cell_type": "code",
   "execution_count": 7,
   "id": "9e5b530e",
   "metadata": {},
   "outputs": [
    {
     "data": {
      "text/html": [
       "<div>\n",
       "<style scoped>\n",
       "    .dataframe tbody tr th:only-of-type {\n",
       "        vertical-align: middle;\n",
       "    }\n",
       "\n",
       "    .dataframe tbody tr th {\n",
       "        vertical-align: top;\n",
       "    }\n",
       "\n",
       "    .dataframe thead th {\n",
       "        text-align: right;\n",
       "    }\n",
       "</style>\n",
       "<table border=\"1\" class=\"dataframe\">\n",
       "  <thead>\n",
       "    <tr style=\"text-align: right;\">\n",
       "      <th></th>\n",
       "      <th>bit</th>\n",
       "      <th>feature_1</th>\n",
       "      <th>feature_2</th>\n",
       "      <th>feature_3</th>\n",
       "      <th>feature_4</th>\n",
       "    </tr>\n",
       "  </thead>\n",
       "  <tbody>\n",
       "    <tr>\n",
       "      <th>0</th>\n",
       "      <td>1</td>\n",
       "      <td>0.0</td>\n",
       "      <td>0.5</td>\n",
       "      <td>-1.0</td>\n",
       "      <td>1.5</td>\n",
       "    </tr>\n",
       "    <tr>\n",
       "      <th>1</th>\n",
       "      <td>1</td>\n",
       "      <td>-6.0</td>\n",
       "      <td>-18.5</td>\n",
       "      <td>-2.5</td>\n",
       "      <td>-20.0</td>\n",
       "    </tr>\n",
       "    <tr>\n",
       "      <th>2</th>\n",
       "      <td>1</td>\n",
       "      <td>15.0</td>\n",
       "      <td>28.0</td>\n",
       "      <td>20.5</td>\n",
       "      <td>33.5</td>\n",
       "    </tr>\n",
       "    <tr>\n",
       "      <th>3</th>\n",
       "      <td>1</td>\n",
       "      <td>-33.0</td>\n",
       "      <td>-2.5</td>\n",
       "      <td>-32.0</td>\n",
       "      <td>-2.5</td>\n",
       "    </tr>\n",
       "    <tr>\n",
       "      <th>4</th>\n",
       "      <td>1</td>\n",
       "      <td>-12.5</td>\n",
       "      <td>-7.0</td>\n",
       "      <td>-16.5</td>\n",
       "      <td>-11.5</td>\n",
       "    </tr>\n",
       "    <tr>\n",
       "      <th>...</th>\n",
       "      <td>...</td>\n",
       "      <td>...</td>\n",
       "      <td>...</td>\n",
       "      <td>...</td>\n",
       "      <td>...</td>\n",
       "    </tr>\n",
       "    <tr>\n",
       "      <th>102395</th>\n",
       "      <td>1</td>\n",
       "      <td>0.5</td>\n",
       "      <td>2.5</td>\n",
       "      <td>-0.5</td>\n",
       "      <td>0.5</td>\n",
       "    </tr>\n",
       "    <tr>\n",
       "      <th>102396</th>\n",
       "      <td>1</td>\n",
       "      <td>0.0</td>\n",
       "      <td>0.5</td>\n",
       "      <td>4.0</td>\n",
       "      <td>-1.0</td>\n",
       "    </tr>\n",
       "    <tr>\n",
       "      <th>102397</th>\n",
       "      <td>1</td>\n",
       "      <td>-0.5</td>\n",
       "      <td>0.0</td>\n",
       "      <td>1.5</td>\n",
       "      <td>-0.5</td>\n",
       "    </tr>\n",
       "    <tr>\n",
       "      <th>102398</th>\n",
       "      <td>1</td>\n",
       "      <td>0.0</td>\n",
       "      <td>2.5</td>\n",
       "      <td>1.0</td>\n",
       "      <td>-1.0</td>\n",
       "    </tr>\n",
       "    <tr>\n",
       "      <th>102399</th>\n",
       "      <td>1</td>\n",
       "      <td>-0.5</td>\n",
       "      <td>2.0</td>\n",
       "      <td>0.0</td>\n",
       "      <td>0.0</td>\n",
       "    </tr>\n",
       "  </tbody>\n",
       "</table>\n",
       "<p>716800 rows × 5 columns</p>\n",
       "</div>"
      ],
      "text/plain": [
       "        bit  feature_1  feature_2  feature_3  feature_4\n",
       "0         1        0.0        0.5       -1.0        1.5\n",
       "1         1       -6.0      -18.5       -2.5      -20.0\n",
       "2         1       15.0       28.0       20.5       33.5\n",
       "3         1      -33.0       -2.5      -32.0       -2.5\n",
       "4         1      -12.5       -7.0      -16.5      -11.5\n",
       "...     ...        ...        ...        ...        ...\n",
       "102395    1        0.5        2.5       -0.5        0.5\n",
       "102396    1        0.0        0.5        4.0       -1.0\n",
       "102397    1       -0.5        0.0        1.5       -0.5\n",
       "102398    1        0.0        2.5        1.0       -1.0\n",
       "102399    1       -0.5        2.0        0.0        0.0\n",
       "\n",
       "[716800 rows x 5 columns]"
      ]
     },
     "execution_count": 7,
     "metadata": {},
     "output_type": "execute_result"
    }
   ],
   "source": [
    "frames = [averegeTrain, histogramTrain, GammaCorTrain , JPEG50Train, medianTrain,saltpaperTrain ,snarpnessTrain]\n",
    "\n",
    "result = pd.concat(frames)\n",
    "result"
   ]
  },
  {
   "cell_type": "code",
   "execution_count": 8,
   "id": "cad56a85",
   "metadata": {},
   "outputs": [],
   "source": [
    "X_train = result.iloc[:,[1,2,3,4]].values\n"
   ]
  },
  {
   "cell_type": "code",
   "execution_count": 9,
   "id": "29f11fd4",
   "metadata": {},
   "outputs": [],
   "source": [
    "y_train = result.iloc[:, 0].values\n"
   ]
  },
  {
   "cell_type": "code",
   "execution_count": 15,
   "id": "d0b5fc68",
   "metadata": {},
   "outputs": [
    {
     "name": "stdout",
     "output_type": "stream",
     "text": [
      "Iteration 1, loss = 0.62619442\n",
      "Validation score: 0.682687\n",
      "Iteration 2, loss = 0.58439248\n",
      "Validation score: 0.693792\n",
      "Iteration 3, loss = 0.57850283\n",
      "Validation score: 0.698186\n",
      "Iteration 4, loss = 0.57584008\n",
      "Validation score: 0.698479\n",
      "Iteration 5, loss = 0.57416122\n",
      "Validation score: 0.701939\n",
      "Iteration 6, loss = 0.57294255\n",
      "Validation score: 0.701228\n",
      "Iteration 7, loss = 0.57199643\n",
      "Validation score: 0.700028\n",
      "Iteration 8, loss = 0.57118241\n",
      "Validation score: 0.702427\n",
      "Iteration 9, loss = 0.57073962\n",
      "Validation score: 0.702553\n",
      "Iteration 10, loss = 0.57013958\n",
      "Validation score: 0.703516\n",
      "Iteration 11, loss = 0.56998378\n",
      "Validation score: 0.703948\n",
      "Iteration 12, loss = 0.56963825\n",
      "Validation score: 0.702720\n",
      "Iteration 13, loss = 0.56911918\n",
      "Validation score: 0.705092\n",
      "Iteration 14, loss = 0.56897597\n",
      "Validation score: 0.701060\n",
      "Iteration 15, loss = 0.56869816\n",
      "Validation score: 0.703544\n",
      "Iteration 16, loss = 0.56835721\n",
      "Validation score: 0.704171\n",
      "Iteration 17, loss = 0.56832862\n",
      "Validation score: 0.702748\n",
      "Iteration 18, loss = 0.56810142\n",
      "Validation score: 0.704660\n",
      "Iteration 19, loss = 0.56785152\n",
      "Validation score: 0.704311\n",
      "Iteration 20, loss = 0.56780722\n",
      "Validation score: 0.705525\n",
      "Iteration 21, loss = 0.56749735\n",
      "Validation score: 0.704520\n",
      "Iteration 22, loss = 0.56760508\n",
      "Validation score: 0.703334\n",
      "Iteration 23, loss = 0.56743722\n",
      "Validation score: 0.705664\n",
      "Iteration 24, loss = 0.56721554\n",
      "Validation score: 0.701911\n",
      "Iteration 25, loss = 0.56707679\n",
      "Validation score: 0.704841\n",
      "Iteration 26, loss = 0.56704567\n",
      "Validation score: 0.704018\n",
      "Iteration 27, loss = 0.56689460\n",
      "Validation score: 0.705399\n",
      "Iteration 28, loss = 0.56680101\n",
      "Validation score: 0.705497\n",
      "Iteration 29, loss = 0.56693433\n",
      "Validation score: 0.706473\n",
      "Iteration 30, loss = 0.56670526\n",
      "Validation score: 0.704534\n",
      "Iteration 31, loss = 0.56663734\n",
      "Validation score: 0.705831\n",
      "Iteration 32, loss = 0.56650436\n",
      "Validation score: 0.706473\n",
      "Iteration 33, loss = 0.56644342\n",
      "Validation score: 0.705371\n",
      "Iteration 34, loss = 0.56633051\n",
      "Validation score: 0.705218\n",
      "Iteration 35, loss = 0.56635814\n",
      "Validation score: 0.706250\n",
      "Iteration 36, loss = 0.56634131\n",
      "Validation score: 0.704213\n",
      "Iteration 37, loss = 0.56610501\n",
      "Validation score: 0.704395\n",
      "Iteration 38, loss = 0.56630261\n",
      "Validation score: 0.705622\n",
      "Iteration 39, loss = 0.56613235\n",
      "Validation score: 0.705748\n",
      "Iteration 40, loss = 0.56610207\n",
      "Validation score: 0.706780\n",
      "Iteration 41, loss = 0.56597889\n",
      "Validation score: 0.705511\n",
      "Iteration 42, loss = 0.56597315\n",
      "Validation score: 0.704632\n",
      "Iteration 43, loss = 0.56588335\n",
      "Validation score: 0.704548\n",
      "Iteration 44, loss = 0.56600161\n",
      "Validation score: 0.705748\n",
      "Iteration 45, loss = 0.56580738\n",
      "Validation score: 0.707213\n",
      "Iteration 46, loss = 0.56588954\n",
      "Validation score: 0.703613\n",
      "Iteration 47, loss = 0.56586718\n",
      "Validation score: 0.706613\n",
      "Iteration 48, loss = 0.56572583\n",
      "Validation score: 0.703627\n",
      "Iteration 49, loss = 0.56572010\n",
      "Validation score: 0.704841\n",
      "Iteration 50, loss = 0.56564104\n",
      "Validation score: 0.705971\n",
      "Iteration 51, loss = 0.56573465\n",
      "Validation score: 0.705957\n",
      "Iteration 52, loss = 0.56575299\n",
      "Validation score: 0.705525\n",
      "Iteration 53, loss = 0.56564972\n",
      "Validation score: 0.705831\n",
      "Iteration 54, loss = 0.56574055\n",
      "Validation score: 0.707422\n",
      "Iteration 55, loss = 0.56549359\n",
      "Validation score: 0.705301\n",
      "Iteration 56, loss = 0.56541931\n",
      "Validation score: 0.706892\n",
      "Iteration 57, loss = 0.56554158\n",
      "Validation score: 0.706306\n",
      "Iteration 58, loss = 0.56547502\n",
      "Validation score: 0.707059\n",
      "Iteration 59, loss = 0.56544320\n",
      "Validation score: 0.706585\n",
      "Iteration 60, loss = 0.56534968\n",
      "Validation score: 0.706306\n",
      "Iteration 61, loss = 0.56543998\n",
      "Validation score: 0.706724\n",
      "Iteration 62, loss = 0.56530857\n",
      "Validation score: 0.707450\n",
      "Iteration 63, loss = 0.56547492\n",
      "Validation score: 0.707045\n",
      "Iteration 64, loss = 0.56522319\n",
      "Validation score: 0.703153\n",
      "Iteration 65, loss = 0.56534798\n",
      "Validation score: 0.705273\n",
      "Validation score did not improve more than tol=0.000100 for 10 consecutive epochs. Stopping.\n"
     ]
    },
    {
     "data": {
      "text/plain": [
       "MLPClassifier(early_stopping=True, hidden_layer_sizes=(20, 15, 10, 5),\n",
       "              max_iter=1000, verbose=True)"
      ]
     },
     "execution_count": 15,
     "metadata": {},
     "output_type": "execute_result"
    }
   ],
   "source": [
    "from sklearn.neural_network import MLPClassifier\n",
    "clf = MLPClassifier(hidden_layer_sizes = (20,15,10,5) , max_iter=1000 ,early_stopping=True , verbose=True)\n",
    "clf.fit(X_train, y_train)"
   ]
  },
  {
   "cell_type": "code",
   "execution_count": 16,
   "id": "91f6cab9",
   "metadata": {},
   "outputs": [
    {
     "data": {
      "text/plain": [
       "102400"
      ]
     },
     "execution_count": 16,
     "metadata": {},
     "output_type": "execute_result"
    }
   ],
   "source": [
    "X_test_s_p = saltpaperTest.iloc[:,[1,2,3,4]].values\n",
    "y_test_s_p = saltpaperTest.iloc[:,0].values\n",
    "len(X_test_s_p)"
   ]
  },
  {
   "cell_type": "code",
   "execution_count": 17,
   "id": "9416b219",
   "metadata": {},
   "outputs": [
    {
     "data": {
      "text/plain": [
       "102400"
      ]
     },
     "execution_count": 17,
     "metadata": {},
     "output_type": "execute_result"
    }
   ],
   "source": [
    "y_predict_s_p=clf.predict(X_test_s_p)\n",
    "y_predict_s_p.size"
   ]
  },
  {
   "cell_type": "code",
   "execution_count": 18,
   "id": "c72247b6",
   "metadata": {},
   "outputs": [
    {
     "data": {
      "text/html": [
       "<div>\n",
       "<style scoped>\n",
       "    .dataframe tbody tr th:only-of-type {\n",
       "        vertical-align: middle;\n",
       "    }\n",
       "\n",
       "    .dataframe tbody tr th {\n",
       "        vertical-align: top;\n",
       "    }\n",
       "\n",
       "    .dataframe thead th {\n",
       "        text-align: right;\n",
       "    }\n",
       "</style>\n",
       "<table border=\"1\" class=\"dataframe\">\n",
       "  <thead>\n",
       "    <tr style=\"text-align: right;\">\n",
       "      <th></th>\n",
       "      <th>0</th>\n",
       "      <th>1</th>\n",
       "    </tr>\n",
       "  </thead>\n",
       "  <tbody>\n",
       "    <tr>\n",
       "      <th>0</th>\n",
       "      <td>36535</td>\n",
       "      <td>6165</td>\n",
       "    </tr>\n",
       "    <tr>\n",
       "      <th>1</th>\n",
       "      <td>3145</td>\n",
       "      <td>56555</td>\n",
       "    </tr>\n",
       "  </tbody>\n",
       "</table>\n",
       "</div>"
      ],
      "text/plain": [
       "       0      1\n",
       "0  36535   6165\n",
       "1   3145  56555"
      ]
     },
     "execution_count": 18,
     "metadata": {},
     "output_type": "execute_result"
    }
   ],
   "source": [
    "from sklearn.metrics import confusion_matrix\n",
    "cm = confusion_matrix(y_test_s_p, y_predict_s_p)\n",
    "pd.DataFrame(cm)"
   ]
  },
  {
   "cell_type": "code",
   "execution_count": 19,
   "id": "f978d59a",
   "metadata": {},
   "outputs": [
    {
     "data": {
      "text/plain": [
       "0.90908203125"
      ]
     },
     "execution_count": 19,
     "metadata": {},
     "output_type": "execute_result"
    }
   ],
   "source": [
    "from sklearn.metrics import accuracy_score\n",
    "accuracy_score(y_test_s_p, y_predict_s_p)"
   ]
  },
  {
   "cell_type": "code",
   "execution_count": 20,
   "id": "c5ee0bfb",
   "metadata": {},
   "outputs": [
    {
     "name": "stdout",
     "output_type": "stream",
     "text": [
      "              precision    recall  f1-score   support\n",
      "\n",
      "           0       0.92      0.86      0.89     42700\n",
      "           1       0.90      0.95      0.92     59700\n",
      "\n",
      "    accuracy                           0.91    102400\n",
      "   macro avg       0.91      0.90      0.91    102400\n",
      "weighted avg       0.91      0.91      0.91    102400\n",
      "\n"
     ]
    }
   ],
   "source": [
    "from sklearn.metrics import classification_report\n",
    "print(classification_report(y_test_s_p, y_predict_s_p))"
   ]
  },
  {
   "cell_type": "code",
   "execution_count": 77,
   "id": "a4c16d9a",
   "metadata": {},
   "outputs": [],
   "source": [
    "i=11\n",
    "y_predict=y_predict_s_p[1024*i:1024*(i+1)]\n",
    "y_predict[y_predict>0]=255\n",
    "y_predict=y_predict.reshape(32,32)\n",
    "img = Image.fromarray(y_predict.astype(np.uint8))\n",
    "img.show()\n"
   ]
  },
  {
   "cell_type": "code",
   "execution_count": null,
   "id": "cd9f5357",
   "metadata": {},
   "outputs": [],
   "source": []
  },
  {
   "cell_type": "code",
   "execution_count": 39,
   "id": "d8df8ad8",
   "metadata": {},
   "outputs": [],
   "source": [
    "X_test_average = averegeTest.iloc[:,[1,2,3,4]].values\n",
    "y_test_average = averegeTest.iloc[:,0].values\n",
    "y_predict_average=clf.predict(X_test_average)\n",
    "\n"
   ]
  },
  {
   "cell_type": "code",
   "execution_count": 40,
   "id": "a9c29857",
   "metadata": {},
   "outputs": [
    {
     "data": {
      "text/html": [
       "<div>\n",
       "<style scoped>\n",
       "    .dataframe tbody tr th:only-of-type {\n",
       "        vertical-align: middle;\n",
       "    }\n",
       "\n",
       "    .dataframe tbody tr th {\n",
       "        vertical-align: top;\n",
       "    }\n",
       "\n",
       "    .dataframe thead th {\n",
       "        text-align: right;\n",
       "    }\n",
       "</style>\n",
       "<table border=\"1\" class=\"dataframe\">\n",
       "  <thead>\n",
       "    <tr style=\"text-align: right;\">\n",
       "      <th></th>\n",
       "      <th>0</th>\n",
       "      <th>1</th>\n",
       "    </tr>\n",
       "  </thead>\n",
       "  <tbody>\n",
       "    <tr>\n",
       "      <th>0</th>\n",
       "      <td>19543</td>\n",
       "      <td>23157</td>\n",
       "    </tr>\n",
       "    <tr>\n",
       "      <th>1</th>\n",
       "      <td>26869</td>\n",
       "      <td>32831</td>\n",
       "    </tr>\n",
       "  </tbody>\n",
       "</table>\n",
       "</div>"
      ],
      "text/plain": [
       "       0      1\n",
       "0  19543  23157\n",
       "1  26869  32831"
      ]
     },
     "execution_count": 40,
     "metadata": {},
     "output_type": "execute_result"
    }
   ],
   "source": [
    "from sklearn.metrics import confusion_matrix\n",
    "cm = confusion_matrix(y_test_average, y_predict_average)\n",
    "pd.DataFrame(cm)"
   ]
  },
  {
   "cell_type": "code",
   "execution_count": 41,
   "id": "ea9fa2c5",
   "metadata": {},
   "outputs": [
    {
     "data": {
      "text/plain": [
       "0.51146484375"
      ]
     },
     "execution_count": 41,
     "metadata": {},
     "output_type": "execute_result"
    }
   ],
   "source": [
    "from sklearn.metrics import accuracy_score\n",
    "accuracy_score(y_test_average, y_predict_average)"
   ]
  },
  {
   "cell_type": "code",
   "execution_count": 42,
   "id": "c7572729",
   "metadata": {},
   "outputs": [
    {
     "name": "stdout",
     "output_type": "stream",
     "text": [
      "              precision    recall  f1-score   support\n",
      "\n",
      "           0       0.42      0.46      0.44     42700\n",
      "           1       0.59      0.55      0.57     59700\n",
      "\n",
      "    accuracy                           0.51    102400\n",
      "   macro avg       0.50      0.50      0.50    102400\n",
      "weighted avg       0.52      0.51      0.51    102400\n",
      "\n"
     ]
    }
   ],
   "source": [
    "from sklearn.metrics import classification_report\n",
    "print(classification_report(y_test_average, y_predict_average))"
   ]
  },
  {
   "cell_type": "code",
   "execution_count": 43,
   "id": "227f6101",
   "metadata": {},
   "outputs": [],
   "source": [
    "i=16\n",
    "y_predict=y_predict_average[1024*i:1024*(i+1)]\n",
    "y_predict[y_predict>0]=255\n",
    "y_predict=y_predict.reshape(32,32)\n",
    "img = Image.fromarray(y_predict.astype(np.uint8))\n",
    "img.show()\n",
    "img.save(\"average_w.tif\")\n"
   ]
  },
  {
   "cell_type": "code",
   "execution_count": null,
   "id": "8e593627",
   "metadata": {},
   "outputs": [],
   "source": []
  },
  {
   "cell_type": "code",
   "execution_count": 44,
   "id": "ef8f8b1e",
   "metadata": {},
   "outputs": [
    {
     "data": {
      "text/plain": [
       "0.754560546875"
      ]
     },
     "execution_count": 44,
     "metadata": {},
     "output_type": "execute_result"
    }
   ],
   "source": [
    "X_test = histogramTest.iloc[:,[1,2,3,4]].values\n",
    "y_test = histogramTest.iloc[:,0].values\n",
    "y_predict=clf.predict(X_test)\n",
    "accuracy_score(y_test, y_predict)\n"
   ]
  },
  {
   "cell_type": "code",
   "execution_count": 45,
   "id": "07363d48",
   "metadata": {},
   "outputs": [
    {
     "data": {
      "text/html": [
       "<div>\n",
       "<style scoped>\n",
       "    .dataframe tbody tr th:only-of-type {\n",
       "        vertical-align: middle;\n",
       "    }\n",
       "\n",
       "    .dataframe tbody tr th {\n",
       "        vertical-align: top;\n",
       "    }\n",
       "\n",
       "    .dataframe thead th {\n",
       "        text-align: right;\n",
       "    }\n",
       "</style>\n",
       "<table border=\"1\" class=\"dataframe\">\n",
       "  <thead>\n",
       "    <tr style=\"text-align: right;\">\n",
       "      <th></th>\n",
       "      <th>0</th>\n",
       "      <th>1</th>\n",
       "    </tr>\n",
       "  </thead>\n",
       "  <tbody>\n",
       "    <tr>\n",
       "      <th>0</th>\n",
       "      <td>25158</td>\n",
       "      <td>17542</td>\n",
       "    </tr>\n",
       "    <tr>\n",
       "      <th>1</th>\n",
       "      <td>7591</td>\n",
       "      <td>52109</td>\n",
       "    </tr>\n",
       "  </tbody>\n",
       "</table>\n",
       "</div>"
      ],
      "text/plain": [
       "       0      1\n",
       "0  25158  17542\n",
       "1   7591  52109"
      ]
     },
     "execution_count": 45,
     "metadata": {},
     "output_type": "execute_result"
    }
   ],
   "source": [
    "\n",
    "cm = confusion_matrix(y_test, y_predict)\n",
    "pd.DataFrame(cm)\n"
   ]
  },
  {
   "cell_type": "code",
   "execution_count": 46,
   "id": "9b3dc4cb",
   "metadata": {},
   "outputs": [],
   "source": [
    "i=11\n",
    "y=y_predict[1024*i:1024*(i+1)]\n",
    "y[y>0]=255\n",
    "y=y.reshape(32,32)\n",
    "img = Image.fromarray(y.astype(np.uint8))\n",
    "img.show()\n",
    "img.save(\"histogram.tif\")\n",
    "\n"
   ]
  },
  {
   "cell_type": "code",
   "execution_count": null,
   "id": "75aa0467",
   "metadata": {},
   "outputs": [],
   "source": []
  },
  {
   "cell_type": "code",
   "execution_count": null,
   "id": "6c26b346",
   "metadata": {},
   "outputs": [],
   "source": []
  },
  {
   "cell_type": "code",
   "execution_count": 47,
   "id": "67434d03",
   "metadata": {},
   "outputs": [
    {
     "data": {
      "text/plain": [
       "0.886865234375"
      ]
     },
     "execution_count": 47,
     "metadata": {},
     "output_type": "execute_result"
    }
   ],
   "source": [
    "X_test = GammaCorTest.iloc[:,[1,2,3,4]].values\n",
    "y_test = GammaCorTest.iloc[:,0].values\n",
    "y_predict=clf.predict(X_test)\n",
    "accuracy_score(y_test, y_predict)"
   ]
  },
  {
   "cell_type": "code",
   "execution_count": 48,
   "id": "958bb0fa",
   "metadata": {},
   "outputs": [
    {
     "data": {
      "text/html": [
       "<div>\n",
       "<style scoped>\n",
       "    .dataframe tbody tr th:only-of-type {\n",
       "        vertical-align: middle;\n",
       "    }\n",
       "\n",
       "    .dataframe tbody tr th {\n",
       "        vertical-align: top;\n",
       "    }\n",
       "\n",
       "    .dataframe thead th {\n",
       "        text-align: right;\n",
       "    }\n",
       "</style>\n",
       "<table border=\"1\" class=\"dataframe\">\n",
       "  <thead>\n",
       "    <tr style=\"text-align: right;\">\n",
       "      <th></th>\n",
       "      <th>0</th>\n",
       "      <th>1</th>\n",
       "    </tr>\n",
       "  </thead>\n",
       "  <tbody>\n",
       "    <tr>\n",
       "      <th>0</th>\n",
       "      <td>36897</td>\n",
       "      <td>5803</td>\n",
       "    </tr>\n",
       "    <tr>\n",
       "      <th>1</th>\n",
       "      <td>5782</td>\n",
       "      <td>53918</td>\n",
       "    </tr>\n",
       "  </tbody>\n",
       "</table>\n",
       "</div>"
      ],
      "text/plain": [
       "       0      1\n",
       "0  36897   5803\n",
       "1   5782  53918"
      ]
     },
     "execution_count": 48,
     "metadata": {},
     "output_type": "execute_result"
    }
   ],
   "source": [
    "cm = confusion_matrix(y_test, y_predict)\n",
    "pd.DataFrame(cm)"
   ]
  },
  {
   "cell_type": "code",
   "execution_count": 49,
   "id": "e8ad7b91",
   "metadata": {},
   "outputs": [],
   "source": [
    "i=11\n",
    "y=y_predict[1024*i:1024*(i+1)]\n",
    "y[y>0]=255\n",
    "y=y.reshape(32,32)\n",
    "img = Image.fromarray(y.astype(np.uint8))\n",
    "img.show()\n",
    "img.save(\"gamma_w.tif\")\n"
   ]
  },
  {
   "cell_type": "code",
   "execution_count": null,
   "id": "e72018d1",
   "metadata": {},
   "outputs": [],
   "source": []
  },
  {
   "cell_type": "code",
   "execution_count": null,
   "id": "7823e697",
   "metadata": {},
   "outputs": [],
   "source": []
  },
  {
   "cell_type": "code",
   "execution_count": null,
   "id": "15601d3d",
   "metadata": {},
   "outputs": [],
   "source": []
  },
  {
   "cell_type": "code",
   "execution_count": 60,
   "id": "f701d807",
   "metadata": {},
   "outputs": [
    {
     "data": {
      "text/plain": [
       "0.546357421875"
      ]
     },
     "execution_count": 60,
     "metadata": {},
     "output_type": "execute_result"
    }
   ],
   "source": [
    "X_test = JPEG50Test.iloc[:,[1,2,3,4]].values\n",
    "y_test = JPEG50Test.iloc[:,0].values\n",
    "y_predict=clf.predict(X_test)\n",
    "accuracy_score(y_test, y_predict)"
   ]
  },
  {
   "cell_type": "code",
   "execution_count": 61,
   "id": "16e31eb6",
   "metadata": {},
   "outputs": [
    {
     "data": {
      "text/html": [
       "<div>\n",
       "<style scoped>\n",
       "    .dataframe tbody tr th:only-of-type {\n",
       "        vertical-align: middle;\n",
       "    }\n",
       "\n",
       "    .dataframe tbody tr th {\n",
       "        vertical-align: top;\n",
       "    }\n",
       "\n",
       "    .dataframe thead th {\n",
       "        text-align: right;\n",
       "    }\n",
       "</style>\n",
       "<table border=\"1\" class=\"dataframe\">\n",
       "  <thead>\n",
       "    <tr style=\"text-align: right;\">\n",
       "      <th></th>\n",
       "      <th>0</th>\n",
       "      <th>1</th>\n",
       "    </tr>\n",
       "  </thead>\n",
       "  <tbody>\n",
       "    <tr>\n",
       "      <th>0</th>\n",
       "      <td>13562</td>\n",
       "      <td>29138</td>\n",
       "    </tr>\n",
       "    <tr>\n",
       "      <th>1</th>\n",
       "      <td>17315</td>\n",
       "      <td>42385</td>\n",
       "    </tr>\n",
       "  </tbody>\n",
       "</table>\n",
       "</div>"
      ],
      "text/plain": [
       "       0      1\n",
       "0  13562  29138\n",
       "1  17315  42385"
      ]
     },
     "execution_count": 61,
     "metadata": {},
     "output_type": "execute_result"
    }
   ],
   "source": [
    "cm = confusion_matrix(y_test, y_predict)\n",
    "pd.DataFrame(cm)"
   ]
  },
  {
   "cell_type": "code",
   "execution_count": 62,
   "id": "188fb778",
   "metadata": {},
   "outputs": [],
   "source": [
    "i=18\n",
    "y=y_predict[1024*i:1024*(i+1)]\n",
    "y[y>0]=255\n",
    "y=y.reshape(32,32)\n",
    "img = Image.fromarray(y.astype(np.uint8))\n",
    "img.show()\n",
    "img.save(\"jpeg_w.tif\")\n"
   ]
  },
  {
   "cell_type": "code",
   "execution_count": null,
   "id": "b93cfaa6",
   "metadata": {},
   "outputs": [],
   "source": []
  },
  {
   "cell_type": "code",
   "execution_count": null,
   "id": "795792c8",
   "metadata": {},
   "outputs": [],
   "source": []
  },
  {
   "cell_type": "code",
   "execution_count": 66,
   "id": "9211e5d3",
   "metadata": {},
   "outputs": [
    {
     "data": {
      "text/plain": [
       "0.532109375"
      ]
     },
     "execution_count": 66,
     "metadata": {},
     "output_type": "execute_result"
    }
   ],
   "source": [
    "\n",
    "X_test = medianTest.iloc[:,[1,2,3,4]].values\n",
    "y_test = medianTest.iloc[:,0].values\n",
    "y_predict=clf.predict(X_test)\n",
    "accuracy_score(y_test, y_predict)"
   ]
  },
  {
   "cell_type": "code",
   "execution_count": 67,
   "id": "4c07132e",
   "metadata": {},
   "outputs": [
    {
     "data": {
      "text/html": [
       "<div>\n",
       "<style scoped>\n",
       "    .dataframe tbody tr th:only-of-type {\n",
       "        vertical-align: middle;\n",
       "    }\n",
       "\n",
       "    .dataframe tbody tr th {\n",
       "        vertical-align: top;\n",
       "    }\n",
       "\n",
       "    .dataframe thead th {\n",
       "        text-align: right;\n",
       "    }\n",
       "</style>\n",
       "<table border=\"1\" class=\"dataframe\">\n",
       "  <thead>\n",
       "    <tr style=\"text-align: right;\">\n",
       "      <th></th>\n",
       "      <th>0</th>\n",
       "      <th>1</th>\n",
       "    </tr>\n",
       "  </thead>\n",
       "  <tbody>\n",
       "    <tr>\n",
       "      <th>0</th>\n",
       "      <td>19538</td>\n",
       "      <td>23162</td>\n",
       "    </tr>\n",
       "    <tr>\n",
       "      <th>1</th>\n",
       "      <td>24750</td>\n",
       "      <td>34950</td>\n",
       "    </tr>\n",
       "  </tbody>\n",
       "</table>\n",
       "</div>"
      ],
      "text/plain": [
       "       0      1\n",
       "0  19538  23162\n",
       "1  24750  34950"
      ]
     },
     "execution_count": 67,
     "metadata": {},
     "output_type": "execute_result"
    }
   ],
   "source": [
    "cm = confusion_matrix(y_test, y_predict)\n",
    "pd.DataFrame(cm)"
   ]
  },
  {
   "cell_type": "code",
   "execution_count": 68,
   "id": "6407d746",
   "metadata": {},
   "outputs": [],
   "source": [
    "i=16\n",
    "y=y_predict[1024*i:1024*(i+1)]\n",
    "y[y>0]=255\n",
    "y=y.reshape(32,32)\n",
    "img = Image.fromarray(y.astype(np.uint8))\n",
    "img.show()\n",
    "img.save(\"median.tif\")\n"
   ]
  },
  {
   "cell_type": "code",
   "execution_count": null,
   "id": "e5c4f880",
   "metadata": {},
   "outputs": [],
   "source": []
  },
  {
   "cell_type": "code",
   "execution_count": null,
   "id": "4bf6dbd5",
   "metadata": {},
   "outputs": [],
   "source": []
  },
  {
   "cell_type": "code",
   "execution_count": 69,
   "id": "8170e3b4",
   "metadata": {},
   "outputs": [
    {
     "data": {
      "text/plain": [
       "0.797939453125"
      ]
     },
     "execution_count": 69,
     "metadata": {},
     "output_type": "execute_result"
    }
   ],
   "source": [
    "\n",
    "X_test = snarpnessTest.iloc[:,[1,2,3,4]].values\n",
    "y_test = snarpnessTest.iloc[:,0].values\n",
    "y_predict=clf.predict(X_test)\n",
    "accuracy_score(y_test, y_predict)"
   ]
  },
  {
   "cell_type": "code",
   "execution_count": 70,
   "id": "4ab9f89f",
   "metadata": {},
   "outputs": [
    {
     "data": {
      "text/html": [
       "<div>\n",
       "<style scoped>\n",
       "    .dataframe tbody tr th:only-of-type {\n",
       "        vertical-align: middle;\n",
       "    }\n",
       "\n",
       "    .dataframe tbody tr th {\n",
       "        vertical-align: top;\n",
       "    }\n",
       "\n",
       "    .dataframe thead th {\n",
       "        text-align: right;\n",
       "    }\n",
       "</style>\n",
       "<table border=\"1\" class=\"dataframe\">\n",
       "  <thead>\n",
       "    <tr style=\"text-align: right;\">\n",
       "      <th></th>\n",
       "      <th>0</th>\n",
       "      <th>1</th>\n",
       "    </tr>\n",
       "  </thead>\n",
       "  <tbody>\n",
       "    <tr>\n",
       "      <th>0</th>\n",
       "      <td>25298</td>\n",
       "      <td>17402</td>\n",
       "    </tr>\n",
       "    <tr>\n",
       "      <th>1</th>\n",
       "      <td>3289</td>\n",
       "      <td>56411</td>\n",
       "    </tr>\n",
       "  </tbody>\n",
       "</table>\n",
       "</div>"
      ],
      "text/plain": [
       "       0      1\n",
       "0  25298  17402\n",
       "1   3289  56411"
      ]
     },
     "execution_count": 70,
     "metadata": {},
     "output_type": "execute_result"
    }
   ],
   "source": [
    "cm = confusion_matrix(y_test, y_predict)\n",
    "pd.DataFrame(cm)"
   ]
  },
  {
   "cell_type": "code",
   "execution_count": 71,
   "id": "b2a4d35d",
   "metadata": {},
   "outputs": [],
   "source": [
    "i=28\n",
    "y=y_predict[1024*i:1024*(i+1)]\n",
    "y[y>0]=255\n",
    "y=y.reshape(32,32)\n",
    "img = Image.fromarray(y.astype(np.uint8))\n",
    "img.show()\n",
    "img.save(\"snarp.tif\")\n",
    "\n"
   ]
  },
  {
   "cell_type": "code",
   "execution_count": null,
   "id": "ccb5fa8d",
   "metadata": {},
   "outputs": [],
   "source": []
  }
 ],
 "metadata": {
  "kernelspec": {
   "display_name": "Python 3 (ipykernel)",
   "language": "python",
   "name": "python3"
  },
  "language_info": {
   "codemirror_mode": {
    "name": "ipython",
    "version": 3
   },
   "file_extension": ".py",
   "mimetype": "text/x-python",
   "name": "python",
   "nbconvert_exporter": "python",
   "pygments_lexer": "ipython3",
   "version": "3.9.0"
  }
 },
 "nbformat": 4,
 "nbformat_minor": 5
}
