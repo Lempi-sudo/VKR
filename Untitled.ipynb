{
 "cells": [
  {
   "cell_type": "code",
   "execution_count": 39,
   "id": "052610de",
   "metadata": {},
   "outputs": [],
   "source": [
    "import numpy as np\n",
    "import matplotlib.pyplot as plt\n",
    "import pandas as pd \n",
    "from PIL import Image\n",
    "from sklearn.metrics import confusion_matrix\n",
    "from sklearn.metrics import accuracy_score"
   ]
  },
  {
   "cell_type": "code",
   "execution_count": 2,
   "id": "7cb7cf19",
   "metadata": {},
   "outputs": [],
   "source": [
    "path_averege= \"feature_vec/AverageAttack.txt\"\n",
    "path_histogram=\"feature_vec/HistogramAttack.txt\"\n",
    "path_GammaCor=  \"feature_vec/GammaCorrection.txt\"\n",
    "path_JPEG50= \"feature_vec/JPEG50.txt\"\n",
    "path_median=  \"feature_vec/medianAttack.txt\"\n",
    "path_saltpaper=\"feature_vec/SaltPaperAttack.txt\"\n",
    "path_snarpness= \"feature_vec/Sharpness.txt\""
   ]
  },
  {
   "cell_type": "code",
   "execution_count": 67,
   "id": "576db008",
   "metadata": {},
   "outputs": [],
   "source": [
    "def test_train_df(path):\n",
    "    AttackDataFrame = pd.read_csv(path)\n",
    "    del AttackDataFrame['Unnamed: 0']\n",
    "    train_size=len(AttackDataFrame)//2\n",
    "    test_size=len(AttackDataFrame)-train_size\n",
    "    Train = AttackDataFrame.head(train_size)\n",
    "    Test = AttackDataFrame.tail(test_size)\n",
    "    return Train.copy(),Test.copy()"
   ]
  },
  {
   "cell_type": "code",
   "execution_count": 68,
   "id": "8377c5d2",
   "metadata": {},
   "outputs": [],
   "source": [
    "averegeTrain,averegeTest=test_train_df(path_averege)\n",
    "\n",
    "histogramTrain,histogramTest=test_train_df(path_histogram)\n",
    "\n",
    "GammaCorTrain, GammaCorTest=test_train_df(path_GammaCor)\n",
    "\n",
    "JPEG50Train,JPEG50Test=test_train_df(path_JPEG50)\n",
    "\n",
    "medianTrain,medianTest=test_train_df(path_median)\n",
    "\n",
    "saltpaperTrain,saltpaperTest=test_train_df(path_saltpaper)\n",
    "\n",
    "snarpnessTrain,snarpnessTest=test_train_df(path_snarpness)"
   ]
  },
  {
   "cell_type": "code",
   "execution_count": 69,
   "id": "ff112e31",
   "metadata": {},
   "outputs": [
    {
     "data": {
      "text/html": [
       "<div>\n",
       "<style scoped>\n",
       "    .dataframe tbody tr th:only-of-type {\n",
       "        vertical-align: middle;\n",
       "    }\n",
       "\n",
       "    .dataframe tbody tr th {\n",
       "        vertical-align: top;\n",
       "    }\n",
       "\n",
       "    .dataframe thead th {\n",
       "        text-align: right;\n",
       "    }\n",
       "</style>\n",
       "<table border=\"1\" class=\"dataframe\">\n",
       "  <thead>\n",
       "    <tr style=\"text-align: right;\">\n",
       "      <th></th>\n",
       "      <th>bit</th>\n",
       "      <th>feature_1</th>\n",
       "      <th>feature_2</th>\n",
       "      <th>feature_3</th>\n",
       "      <th>feature_4</th>\n",
       "    </tr>\n",
       "  </thead>\n",
       "  <tbody>\n",
       "    <tr>\n",
       "      <th>0</th>\n",
       "      <td>1</td>\n",
       "      <td>0.0</td>\n",
       "      <td>0.5</td>\n",
       "      <td>-1.0</td>\n",
       "      <td>1.5</td>\n",
       "    </tr>\n",
       "    <tr>\n",
       "      <th>1</th>\n",
       "      <td>1</td>\n",
       "      <td>-6.0</td>\n",
       "      <td>-18.5</td>\n",
       "      <td>-2.5</td>\n",
       "      <td>-20.0</td>\n",
       "    </tr>\n",
       "    <tr>\n",
       "      <th>2</th>\n",
       "      <td>1</td>\n",
       "      <td>15.0</td>\n",
       "      <td>28.0</td>\n",
       "      <td>20.5</td>\n",
       "      <td>33.5</td>\n",
       "    </tr>\n",
       "    <tr>\n",
       "      <th>3</th>\n",
       "      <td>1</td>\n",
       "      <td>-33.0</td>\n",
       "      <td>-2.5</td>\n",
       "      <td>-32.0</td>\n",
       "      <td>-2.5</td>\n",
       "    </tr>\n",
       "    <tr>\n",
       "      <th>4</th>\n",
       "      <td>1</td>\n",
       "      <td>-12.5</td>\n",
       "      <td>-7.0</td>\n",
       "      <td>-16.5</td>\n",
       "      <td>-11.5</td>\n",
       "    </tr>\n",
       "    <tr>\n",
       "      <th>...</th>\n",
       "      <td>...</td>\n",
       "      <td>...</td>\n",
       "      <td>...</td>\n",
       "      <td>...</td>\n",
       "      <td>...</td>\n",
       "    </tr>\n",
       "    <tr>\n",
       "      <th>102395</th>\n",
       "      <td>1</td>\n",
       "      <td>0.5</td>\n",
       "      <td>2.5</td>\n",
       "      <td>-0.5</td>\n",
       "      <td>0.5</td>\n",
       "    </tr>\n",
       "    <tr>\n",
       "      <th>102396</th>\n",
       "      <td>1</td>\n",
       "      <td>0.0</td>\n",
       "      <td>0.5</td>\n",
       "      <td>4.0</td>\n",
       "      <td>-1.0</td>\n",
       "    </tr>\n",
       "    <tr>\n",
       "      <th>102397</th>\n",
       "      <td>1</td>\n",
       "      <td>-0.5</td>\n",
       "      <td>0.0</td>\n",
       "      <td>1.5</td>\n",
       "      <td>-0.5</td>\n",
       "    </tr>\n",
       "    <tr>\n",
       "      <th>102398</th>\n",
       "      <td>1</td>\n",
       "      <td>0.0</td>\n",
       "      <td>2.5</td>\n",
       "      <td>1.0</td>\n",
       "      <td>-1.0</td>\n",
       "    </tr>\n",
       "    <tr>\n",
       "      <th>102399</th>\n",
       "      <td>1</td>\n",
       "      <td>-0.5</td>\n",
       "      <td>2.0</td>\n",
       "      <td>0.0</td>\n",
       "      <td>0.0</td>\n",
       "    </tr>\n",
       "  </tbody>\n",
       "</table>\n",
       "<p>716800 rows × 5 columns</p>\n",
       "</div>"
      ],
      "text/plain": [
       "        bit  feature_1  feature_2  feature_3  feature_4\n",
       "0         1        0.0        0.5       -1.0        1.5\n",
       "1         1       -6.0      -18.5       -2.5      -20.0\n",
       "2         1       15.0       28.0       20.5       33.5\n",
       "3         1      -33.0       -2.5      -32.0       -2.5\n",
       "4         1      -12.5       -7.0      -16.5      -11.5\n",
       "...     ...        ...        ...        ...        ...\n",
       "102395    1        0.5        2.5       -0.5        0.5\n",
       "102396    1        0.0        0.5        4.0       -1.0\n",
       "102397    1       -0.5        0.0        1.5       -0.5\n",
       "102398    1        0.0        2.5        1.0       -1.0\n",
       "102399    1       -0.5        2.0        0.0        0.0\n",
       "\n",
       "[716800 rows x 5 columns]"
      ]
     },
     "execution_count": 69,
     "metadata": {},
     "output_type": "execute_result"
    }
   ],
   "source": [
    "frames = [averegeTrain, histogramTrain, GammaCorTrain , JPEG50Train, medianTrain,saltpaperTrain ,snarpnessTrain]\n",
    "\n",
    "result = pd.concat(frames)\n",
    "result"
   ]
  },
  {
   "cell_type": "code",
   "execution_count": 70,
   "id": "73dd116f",
   "metadata": {},
   "outputs": [],
   "source": [
    "X_train = result.iloc[:,[1,2,3,4]].values\n"
   ]
  },
  {
   "cell_type": "code",
   "execution_count": 71,
   "id": "172dab83",
   "metadata": {},
   "outputs": [],
   "source": [
    "y_train = result.iloc[:, 0].values\n"
   ]
  },
  {
   "cell_type": "code",
   "execution_count": 72,
   "id": "4535530e",
   "metadata": {},
   "outputs": [
    {
     "name": "stdout",
     "output_type": "stream",
     "text": [
      "Iteration 1, loss = 0.62650663\n",
      "Validation score: 0.678585\n",
      "Iteration 2, loss = 0.58650675\n",
      "Validation score: 0.693792\n",
      "Iteration 3, loss = 0.57884002\n",
      "Validation score: 0.698842\n",
      "Iteration 4, loss = 0.57594887\n",
      "Validation score: 0.701939\n",
      "Iteration 5, loss = 0.57393911\n",
      "Validation score: 0.704325\n",
      "Iteration 6, loss = 0.57292218\n",
      "Validation score: 0.701200\n",
      "Iteration 7, loss = 0.57214693\n",
      "Validation score: 0.703125\n",
      "Iteration 8, loss = 0.57172899\n",
      "Validation score: 0.703767\n",
      "Iteration 9, loss = 0.57132452\n",
      "Validation score: 0.704199\n",
      "Iteration 10, loss = 0.57094353\n",
      "Validation score: 0.701646\n",
      "Iteration 11, loss = 0.57063661\n",
      "Validation score: 0.706724\n",
      "Iteration 12, loss = 0.57032040\n",
      "Validation score: 0.704827\n",
      "Iteration 13, loss = 0.57030497\n",
      "Validation score: 0.705734\n",
      "Iteration 14, loss = 0.56986199\n",
      "Validation score: 0.706724\n",
      "Iteration 15, loss = 0.56970588\n",
      "Validation score: 0.706180\n",
      "Iteration 16, loss = 0.56951173\n",
      "Validation score: 0.705329\n",
      "Iteration 17, loss = 0.56932968\n",
      "Validation score: 0.704757\n",
      "Iteration 18, loss = 0.56920806\n",
      "Validation score: 0.703488\n",
      "Iteration 19, loss = 0.56903272\n",
      "Validation score: 0.706362\n",
      "Iteration 20, loss = 0.56878895\n",
      "Validation score: 0.705678\n",
      "Iteration 21, loss = 0.56874308\n",
      "Validation score: 0.704646\n",
      "Iteration 22, loss = 0.56861887\n",
      "Validation score: 0.706152\n",
      "Validation score did not improve more than tol=0.000100 for 10 consecutive epochs. Stopping.\n"
     ]
    },
    {
     "data": {
      "text/plain": [
       "MLPClassifier(early_stopping=True, hidden_layer_sizes=(20, 15, 10, 5),\n",
       "              max_iter=1000, verbose=True)"
      ]
     },
     "execution_count": 72,
     "metadata": {},
     "output_type": "execute_result"
    }
   ],
   "source": [
    "from sklearn.neural_network import MLPClassifier\n",
    "clf = MLPClassifier(hidden_layer_sizes = (20,15,10,5) , max_iter=1000 ,early_stopping=True , verbose=True)\n",
    "clf.fit(X_train, y_train)"
   ]
  },
  {
   "cell_type": "code",
   "execution_count": 73,
   "id": "27548bb8",
   "metadata": {},
   "outputs": [
    {
     "data": {
      "text/plain": [
       "102400"
      ]
     },
     "execution_count": 73,
     "metadata": {},
     "output_type": "execute_result"
    }
   ],
   "source": [
    "X_test_s_p = saltpaperTest.iloc[:,[1,2,3,4]].values\n",
    "y_test_s_p = saltpaperTest.iloc[:,0].values\n",
    "len(X_test_s_p)"
   ]
  },
  {
   "cell_type": "code",
   "execution_count": 74,
   "id": "c9c3dcc1",
   "metadata": {},
   "outputs": [
    {
     "data": {
      "text/plain": [
       "102400"
      ]
     },
     "execution_count": 74,
     "metadata": {},
     "output_type": "execute_result"
    }
   ],
   "source": [
    "y_predict_s_p=clf.predict(X_test_s_p)\n",
    "y_predict_s_p.size"
   ]
  },
  {
   "cell_type": "code",
   "execution_count": 75,
   "id": "32c4324f",
   "metadata": {},
   "outputs": [
    {
     "data": {
      "text/html": [
       "<div>\n",
       "<style scoped>\n",
       "    .dataframe tbody tr th:only-of-type {\n",
       "        vertical-align: middle;\n",
       "    }\n",
       "\n",
       "    .dataframe tbody tr th {\n",
       "        vertical-align: top;\n",
       "    }\n",
       "\n",
       "    .dataframe thead th {\n",
       "        text-align: right;\n",
       "    }\n",
       "</style>\n",
       "<table border=\"1\" class=\"dataframe\">\n",
       "  <thead>\n",
       "    <tr style=\"text-align: right;\">\n",
       "      <th></th>\n",
       "      <th>0</th>\n",
       "      <th>1</th>\n",
       "    </tr>\n",
       "  </thead>\n",
       "  <tbody>\n",
       "    <tr>\n",
       "      <th>0</th>\n",
       "      <td>36780</td>\n",
       "      <td>5920</td>\n",
       "    </tr>\n",
       "    <tr>\n",
       "      <th>1</th>\n",
       "      <td>4292</td>\n",
       "      <td>55408</td>\n",
       "    </tr>\n",
       "  </tbody>\n",
       "</table>\n",
       "</div>"
      ],
      "text/plain": [
       "       0      1\n",
       "0  36780   5920\n",
       "1   4292  55408"
      ]
     },
     "execution_count": 75,
     "metadata": {},
     "output_type": "execute_result"
    }
   ],
   "source": [
    "from sklearn.metrics import confusion_matrix\n",
    "cm = confusion_matrix(y_test_s_p, y_predict_s_p)\n",
    "pd.DataFrame(cm)"
   ]
  },
  {
   "cell_type": "code",
   "execution_count": 76,
   "id": "4ed04ecc",
   "metadata": {},
   "outputs": [
    {
     "data": {
      "text/plain": [
       "0.9002734375"
      ]
     },
     "execution_count": 76,
     "metadata": {},
     "output_type": "execute_result"
    }
   ],
   "source": [
    "from sklearn.metrics import accuracy_score\n",
    "accuracy_score(y_test_s_p, y_predict_s_p)"
   ]
  },
  {
   "cell_type": "code",
   "execution_count": 77,
   "id": "73e8b86e",
   "metadata": {},
   "outputs": [],
   "source": [
    "i=11\n",
    "y_predict=y_predict_s_p[1024*i:1024*(i+1)]\n",
    "y_predict[y_predict>0]=255\n",
    "y_predict=y_predict.reshape(32,32)\n",
    "img = Image.fromarray(y_predict.astype(np.uint8))\n",
    "img.show()\n"
   ]
  },
  {
   "cell_type": "code",
   "execution_count": null,
   "id": "5f649cc7",
   "metadata": {},
   "outputs": [],
   "source": []
  },
  {
   "cell_type": "code",
   "execution_count": 78,
   "id": "f3ad1e7d",
   "metadata": {},
   "outputs": [],
   "source": [
    "X_test_average = averegeTest.iloc[:,[1,2,3,4]].values\n",
    "y_test_average = averegeTest.iloc[:,0].values\n",
    "y_predict_average=clf.predict(X_test_average)\n",
    "\n"
   ]
  },
  {
   "cell_type": "code",
   "execution_count": 79,
   "id": "0eb52380",
   "metadata": {},
   "outputs": [
    {
     "data": {
      "text/html": [
       "<div>\n",
       "<style scoped>\n",
       "    .dataframe tbody tr th:only-of-type {\n",
       "        vertical-align: middle;\n",
       "    }\n",
       "\n",
       "    .dataframe tbody tr th {\n",
       "        vertical-align: top;\n",
       "    }\n",
       "\n",
       "    .dataframe thead th {\n",
       "        text-align: right;\n",
       "    }\n",
       "</style>\n",
       "<table border=\"1\" class=\"dataframe\">\n",
       "  <thead>\n",
       "    <tr style=\"text-align: right;\">\n",
       "      <th></th>\n",
       "      <th>0</th>\n",
       "      <th>1</th>\n",
       "    </tr>\n",
       "  </thead>\n",
       "  <tbody>\n",
       "    <tr>\n",
       "      <th>0</th>\n",
       "      <td>19716</td>\n",
       "      <td>22984</td>\n",
       "    </tr>\n",
       "    <tr>\n",
       "      <th>1</th>\n",
       "      <td>27782</td>\n",
       "      <td>31918</td>\n",
       "    </tr>\n",
       "  </tbody>\n",
       "</table>\n",
       "</div>"
      ],
      "text/plain": [
       "       0      1\n",
       "0  19716  22984\n",
       "1  27782  31918"
      ]
     },
     "execution_count": 79,
     "metadata": {},
     "output_type": "execute_result"
    }
   ],
   "source": [
    "from sklearn.metrics import confusion_matrix\n",
    "cm = confusion_matrix(y_test_average, y_predict_average)\n",
    "pd.DataFrame(cm)"
   ]
  },
  {
   "cell_type": "code",
   "execution_count": 80,
   "id": "f3a51504",
   "metadata": {},
   "outputs": [
    {
     "data": {
      "text/plain": [
       "0.50423828125"
      ]
     },
     "execution_count": 80,
     "metadata": {},
     "output_type": "execute_result"
    }
   ],
   "source": [
    "from sklearn.metrics import accuracy_score\n",
    "accuracy_score(y_test_average, y_predict_average)"
   ]
  },
  {
   "cell_type": "code",
   "execution_count": 81,
   "id": "7858784f",
   "metadata": {},
   "outputs": [],
   "source": [
    "i=11\n",
    "y_predict=y_predict_average[1024*i:1024*(i+1)]\n",
    "y_predict[y_predict>0]=255\n",
    "y_predict=y_predict.reshape(32,32)\n",
    "img = Image.fromarray(y_predict.astype(np.uint8))\n",
    "img.show()\n"
   ]
  },
  {
   "cell_type": "code",
   "execution_count": null,
   "id": "8a350ece",
   "metadata": {},
   "outputs": [],
   "source": []
  },
  {
   "cell_type": "code",
   "execution_count": 82,
   "id": "1e8e4a94",
   "metadata": {},
   "outputs": [
    {
     "data": {
      "text/plain": [
       "0.75767578125"
      ]
     },
     "execution_count": 82,
     "metadata": {},
     "output_type": "execute_result"
    }
   ],
   "source": [
    "X_test = histogramTest.iloc[:,[1,2,3,4]].values\n",
    "y_test = histogramTest.iloc[:,0].values\n",
    "y_predict=clf.predict(X_test)\n",
    "accuracy_score(y_test, y_predict)\n"
   ]
  },
  {
   "cell_type": "code",
   "execution_count": 83,
   "id": "20e1f22d",
   "metadata": {},
   "outputs": [
    {
     "data": {
      "text/html": [
       "<div>\n",
       "<style scoped>\n",
       "    .dataframe tbody tr th:only-of-type {\n",
       "        vertical-align: middle;\n",
       "    }\n",
       "\n",
       "    .dataframe tbody tr th {\n",
       "        vertical-align: top;\n",
       "    }\n",
       "\n",
       "    .dataframe thead th {\n",
       "        text-align: right;\n",
       "    }\n",
       "</style>\n",
       "<table border=\"1\" class=\"dataframe\">\n",
       "  <thead>\n",
       "    <tr style=\"text-align: right;\">\n",
       "      <th></th>\n",
       "      <th>0</th>\n",
       "      <th>1</th>\n",
       "    </tr>\n",
       "  </thead>\n",
       "  <tbody>\n",
       "    <tr>\n",
       "      <th>0</th>\n",
       "      <td>26011</td>\n",
       "      <td>16689</td>\n",
       "    </tr>\n",
       "    <tr>\n",
       "      <th>1</th>\n",
       "      <td>8125</td>\n",
       "      <td>51575</td>\n",
       "    </tr>\n",
       "  </tbody>\n",
       "</table>\n",
       "</div>"
      ],
      "text/plain": [
       "       0      1\n",
       "0  26011  16689\n",
       "1   8125  51575"
      ]
     },
     "execution_count": 83,
     "metadata": {},
     "output_type": "execute_result"
    }
   ],
   "source": [
    "\n",
    "cm = confusion_matrix(y_test, y_predict)\n",
    "pd.DataFrame(cm)\n"
   ]
  },
  {
   "cell_type": "code",
   "execution_count": 84,
   "id": "27405a07",
   "metadata": {},
   "outputs": [],
   "source": [
    "i=11\n",
    "y=y_predict[1024*i:1024*(i+1)]\n",
    "y[y>0]=255\n",
    "y=y.reshape(32,32)\n",
    "img = Image.fromarray(y.astype(np.uint8))\n",
    "img.show()"
   ]
  },
  {
   "cell_type": "code",
   "execution_count": null,
   "id": "a8583378",
   "metadata": {},
   "outputs": [],
   "source": []
  },
  {
   "cell_type": "code",
   "execution_count": null,
   "id": "3937f729",
   "metadata": {},
   "outputs": [],
   "source": []
  },
  {
   "cell_type": "code",
   "execution_count": 85,
   "id": "36f042ff",
   "metadata": {},
   "outputs": [
    {
     "data": {
      "text/plain": [
       "0.8874609375"
      ]
     },
     "execution_count": 85,
     "metadata": {},
     "output_type": "execute_result"
    }
   ],
   "source": [
    "X_test = GammaCorTest.iloc[:,[1,2,3,4]].values\n",
    "y_test = GammaCorTest.iloc[:,0].values\n",
    "y_predict=clf.predict(X_test)\n",
    "accuracy_score(y_test, y_predict)"
   ]
  },
  {
   "cell_type": "code",
   "execution_count": 86,
   "id": "56e1c416",
   "metadata": {},
   "outputs": [
    {
     "data": {
      "text/html": [
       "<div>\n",
       "<style scoped>\n",
       "    .dataframe tbody tr th:only-of-type {\n",
       "        vertical-align: middle;\n",
       "    }\n",
       "\n",
       "    .dataframe tbody tr th {\n",
       "        vertical-align: top;\n",
       "    }\n",
       "\n",
       "    .dataframe thead th {\n",
       "        text-align: right;\n",
       "    }\n",
       "</style>\n",
       "<table border=\"1\" class=\"dataframe\">\n",
       "  <thead>\n",
       "    <tr style=\"text-align: right;\">\n",
       "      <th></th>\n",
       "      <th>0</th>\n",
       "      <th>1</th>\n",
       "    </tr>\n",
       "  </thead>\n",
       "  <tbody>\n",
       "    <tr>\n",
       "      <th>0</th>\n",
       "      <td>37587</td>\n",
       "      <td>5113</td>\n",
       "    </tr>\n",
       "    <tr>\n",
       "      <th>1</th>\n",
       "      <td>6411</td>\n",
       "      <td>53289</td>\n",
       "    </tr>\n",
       "  </tbody>\n",
       "</table>\n",
       "</div>"
      ],
      "text/plain": [
       "       0      1\n",
       "0  37587   5113\n",
       "1   6411  53289"
      ]
     },
     "execution_count": 86,
     "metadata": {},
     "output_type": "execute_result"
    }
   ],
   "source": [
    "cm = confusion_matrix(y_test, y_predict)\n",
    "pd.DataFrame(cm)"
   ]
  },
  {
   "cell_type": "code",
   "execution_count": 87,
   "id": "8a96ab20",
   "metadata": {},
   "outputs": [],
   "source": [
    "i=11\n",
    "y=y_predict[1024*i:1024*(i+1)]\n",
    "y[y>0]=255\n",
    "y=y.reshape(32,32)\n",
    "img = Image.fromarray(y.astype(np.uint8))\n",
    "img.show()\n",
    "img.save(\"gammaCorWtilda.tif\")"
   ]
  },
  {
   "cell_type": "code",
   "execution_count": null,
   "id": "d88e89b0",
   "metadata": {},
   "outputs": [],
   "source": []
  },
  {
   "cell_type": "code",
   "execution_count": null,
   "id": "8aca8ba0",
   "metadata": {},
   "outputs": [],
   "source": []
  },
  {
   "cell_type": "code",
   "execution_count": null,
   "id": "895be999",
   "metadata": {},
   "outputs": [],
   "source": []
  },
  {
   "cell_type": "code",
   "execution_count": 88,
   "id": "eb072808",
   "metadata": {},
   "outputs": [
    {
     "data": {
      "text/plain": [
       "0.545087890625"
      ]
     },
     "execution_count": 88,
     "metadata": {},
     "output_type": "execute_result"
    }
   ],
   "source": [
    "X_test = JPEG50Test.iloc[:,[1,2,3,4]].values\n",
    "y_test = JPEG50Test.iloc[:,0].values\n",
    "y_predict=clf.predict(X_test)\n",
    "accuracy_score(y_test, y_predict)"
   ]
  },
  {
   "cell_type": "code",
   "execution_count": 89,
   "id": "860bb60a",
   "metadata": {},
   "outputs": [
    {
     "data": {
      "text/html": [
       "<div>\n",
       "<style scoped>\n",
       "    .dataframe tbody tr th:only-of-type {\n",
       "        vertical-align: middle;\n",
       "    }\n",
       "\n",
       "    .dataframe tbody tr th {\n",
       "        vertical-align: top;\n",
       "    }\n",
       "\n",
       "    .dataframe thead th {\n",
       "        text-align: right;\n",
       "    }\n",
       "</style>\n",
       "<table border=\"1\" class=\"dataframe\">\n",
       "  <thead>\n",
       "    <tr style=\"text-align: right;\">\n",
       "      <th></th>\n",
       "      <th>0</th>\n",
       "      <th>1</th>\n",
       "    </tr>\n",
       "  </thead>\n",
       "  <tbody>\n",
       "    <tr>\n",
       "      <th>0</th>\n",
       "      <td>13926</td>\n",
       "      <td>28774</td>\n",
       "    </tr>\n",
       "    <tr>\n",
       "      <th>1</th>\n",
       "      <td>17809</td>\n",
       "      <td>41891</td>\n",
       "    </tr>\n",
       "  </tbody>\n",
       "</table>\n",
       "</div>"
      ],
      "text/plain": [
       "       0      1\n",
       "0  13926  28774\n",
       "1  17809  41891"
      ]
     },
     "execution_count": 89,
     "metadata": {},
     "output_type": "execute_result"
    }
   ],
   "source": [
    "cm = confusion_matrix(y_test, y_predict)\n",
    "pd.DataFrame(cm)"
   ]
  },
  {
   "cell_type": "code",
   "execution_count": 90,
   "id": "4345f371",
   "metadata": {},
   "outputs": [],
   "source": [
    "i=11\n",
    "y=y_predict[1024*i:1024*(i+1)]\n",
    "y[y>0]=255\n",
    "y=y.reshape(32,32)\n",
    "img = Image.fromarray(y.astype(np.uint8))\n",
    "img.show()\n"
   ]
  },
  {
   "cell_type": "code",
   "execution_count": null,
   "id": "c2da4307",
   "metadata": {},
   "outputs": [],
   "source": []
  },
  {
   "cell_type": "code",
   "execution_count": null,
   "id": "03d2b0a3",
   "metadata": {},
   "outputs": [],
   "source": []
  },
  {
   "cell_type": "code",
   "execution_count": 58,
   "id": "f583b749",
   "metadata": {},
   "outputs": [
    {
     "data": {
      "text/plain": [
       "0.5369642857142857"
      ]
     },
     "execution_count": 58,
     "metadata": {},
     "output_type": "execute_result"
    }
   ],
   "source": [
    "\n",
    "X_test = medianTest.iloc[:,[1,2,3,4]].values\n",
    "y_test = medianTest.iloc[:,0].values\n",
    "y_predict=clf.predict(X_test)\n",
    "accuracy_score(y_test, y_predict)"
   ]
  },
  {
   "cell_type": "code",
   "execution_count": 59,
   "id": "e0def226",
   "metadata": {},
   "outputs": [
    {
     "data": {
      "text/html": [
       "<div>\n",
       "<style scoped>\n",
       "    .dataframe tbody tr th:only-of-type {\n",
       "        vertical-align: middle;\n",
       "    }\n",
       "\n",
       "    .dataframe tbody tr th {\n",
       "        vertical-align: top;\n",
       "    }\n",
       "\n",
       "    .dataframe thead th {\n",
       "        text-align: right;\n",
       "    }\n",
       "</style>\n",
       "<table border=\"1\" class=\"dataframe\">\n",
       "  <thead>\n",
       "    <tr style=\"text-align: right;\">\n",
       "      <th></th>\n",
       "      <th>0</th>\n",
       "      <th>1</th>\n",
       "    </tr>\n",
       "  </thead>\n",
       "  <tbody>\n",
       "    <tr>\n",
       "      <th>0</th>\n",
       "      <td>31276</td>\n",
       "      <td>43449</td>\n",
       "    </tr>\n",
       "    <tr>\n",
       "      <th>1</th>\n",
       "      <td>39527</td>\n",
       "      <td>64948</td>\n",
       "    </tr>\n",
       "  </tbody>\n",
       "</table>\n",
       "</div>"
      ],
      "text/plain": [
       "       0      1\n",
       "0  31276  43449\n",
       "1  39527  64948"
      ]
     },
     "execution_count": 59,
     "metadata": {},
     "output_type": "execute_result"
    }
   ],
   "source": [
    "cm = confusion_matrix(y_test, y_predict)\n",
    "pd.DataFrame(cm)"
   ]
  },
  {
   "cell_type": "code",
   "execution_count": 91,
   "id": "42ead3e0",
   "metadata": {},
   "outputs": [],
   "source": [
    "i=56\n",
    "y=y_predict[1024*i:1024*(i+1)]\n",
    "y[y>0]=255\n",
    "y=y.reshape(32,32)\n",
    "img = Image.fromarray(y.astype(np.uint8))\n",
    "img.show()\n"
   ]
  },
  {
   "cell_type": "code",
   "execution_count": null,
   "id": "a95104a4",
   "metadata": {},
   "outputs": [],
   "source": []
  },
  {
   "cell_type": "code",
   "execution_count": null,
   "id": "3c883ee1",
   "metadata": {},
   "outputs": [],
   "source": []
  },
  {
   "cell_type": "code",
   "execution_count": 92,
   "id": "88fec89e",
   "metadata": {},
   "outputs": [
    {
     "data": {
      "text/plain": [
       "0.80548828125"
      ]
     },
     "execution_count": 92,
     "metadata": {},
     "output_type": "execute_result"
    }
   ],
   "source": [
    "\n",
    "X_test = snarpnessTest.iloc[:,[1,2,3,4]].values\n",
    "y_test = snarpnessTest.iloc[:,0].values\n",
    "y_predict=clf.predict(X_test)\n",
    "accuracy_score(y_test, y_predict)"
   ]
  },
  {
   "cell_type": "code",
   "execution_count": 93,
   "id": "45a073ed",
   "metadata": {},
   "outputs": [
    {
     "data": {
      "text/html": [
       "<div>\n",
       "<style scoped>\n",
       "    .dataframe tbody tr th:only-of-type {\n",
       "        vertical-align: middle;\n",
       "    }\n",
       "\n",
       "    .dataframe tbody tr th {\n",
       "        vertical-align: top;\n",
       "    }\n",
       "\n",
       "    .dataframe thead th {\n",
       "        text-align: right;\n",
       "    }\n",
       "</style>\n",
       "<table border=\"1\" class=\"dataframe\">\n",
       "  <thead>\n",
       "    <tr style=\"text-align: right;\">\n",
       "      <th></th>\n",
       "      <th>0</th>\n",
       "      <th>1</th>\n",
       "    </tr>\n",
       "  </thead>\n",
       "  <tbody>\n",
       "    <tr>\n",
       "      <th>0</th>\n",
       "      <td>26467</td>\n",
       "      <td>16233</td>\n",
       "    </tr>\n",
       "    <tr>\n",
       "      <th>1</th>\n",
       "      <td>3685</td>\n",
       "      <td>56015</td>\n",
       "    </tr>\n",
       "  </tbody>\n",
       "</table>\n",
       "</div>"
      ],
      "text/plain": [
       "       0      1\n",
       "0  26467  16233\n",
       "1   3685  56015"
      ]
     },
     "execution_count": 93,
     "metadata": {},
     "output_type": "execute_result"
    }
   ],
   "source": [
    "cm = confusion_matrix(y_test, y_predict)\n",
    "pd.DataFrame(cm)"
   ]
  },
  {
   "cell_type": "code",
   "execution_count": 66,
   "id": "703d0988",
   "metadata": {},
   "outputs": [],
   "source": [
    "i=18\n",
    "y=y_predict[1024*i:1024*(i+1)]\n",
    "y[y>0]=255\n",
    "y=y.reshape(32,32)\n",
    "img = Image.fromarray(y.astype(np.uint8))\n",
    "img.show()\n",
    "img.save(\"snarpnessWtilda.tif\")\n"
   ]
  },
  {
   "cell_type": "code",
   "execution_count": null,
   "id": "c431738f",
   "metadata": {},
   "outputs": [],
   "source": []
  }
 ],
 "metadata": {
  "kernelspec": {
   "display_name": "Python 3 (ipykernel)",
   "language": "python",
   "name": "python3"
  },
  "language_info": {
   "codemirror_mode": {
    "name": "ipython",
    "version": 3
   },
   "file_extension": ".py",
   "mimetype": "text/x-python",
   "name": "python",
   "nbconvert_exporter": "python",
   "pygments_lexer": "ipython3",
   "version": "3.9.0"
  }
 },
 "nbformat": 4,
 "nbformat_minor": 5
}
