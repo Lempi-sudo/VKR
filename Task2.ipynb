{
 "cells": [
  {
   "cell_type": "markdown",
   "id": "55e45a61",
   "metadata": {},
   "source": [
    "#### MLP clf"
   ]
  },
  {
   "cell_type": "code",
   "execution_count": 1,
   "id": "58b00cbd",
   "metadata": {},
   "outputs": [],
   "source": [
    "import numpy as np\n",
    "import matplotlib.pyplot as plt\n",
    "import pandas as pd \n",
    "from PIL import Image\n",
    "from sklearn.metrics import confusion_matrix\n",
    "from sklearn.metrics import accuracy_score\n",
    "from sklearn.model_selection import train_test_split\n",
    "from sklearn.neural_network import MLPClassifier\n",
    "from sklearn.metrics import classification_report"
   ]
  },
  {
   "cell_type": "code",
   "execution_count": 3,
   "id": "04620ed0",
   "metadata": {},
   "outputs": [
    {
     "name": "stdout",
     "output_type": "stream",
     "text": [
      "[[ 0.  -1.5 -1.   0. ]\n",
      " [ 0.   0.  -0.5  0. ]\n",
      " [ 1.   1.5 -7.5 -3.5]\n",
      " ...\n",
      " [-4.5 -4.  -4.  -4. ]\n",
      " [-0.5 -0.5 -0.5  0.5]\n",
      " [-0.5  0.5 -0.5  0. ]]\n"
     ]
    }
   ],
   "source": [
    "No_Attack_frame = pd.read_csv('feature_vec/NO_Attack_Random.txt') # ПАРАМЕТР НА ВХОД ФУНКЦИИ\n",
    "del No_Attack_frame['Unnamed: 0']\n",
    "X = No_Attack_frame.iloc[:,[1,2,3,4]].values  \n",
    "Y=No_Attack_frame.iloc[:,[0]].values\n",
    "X_train, X_test, y_train, y_test = train_test_split(X, Y, test_size=0.35, random_state=42)\n",
    "print(X_test)"
   ]
  },
  {
   "cell_type": "code",
   "execution_count": 9,
   "id": "376063c6",
   "metadata": {},
   "outputs": [
    {
     "name": "stderr",
     "output_type": "stream",
     "text": [
      "d:\\code\\python\\nir\\venv\\lib\\site-packages\\sklearn\\neural_network\\_multilayer_perceptron.py:1109: DataConversionWarning: A column-vector y was passed when a 1d array was expected. Please change the shape of y to (n_samples, ), for example using ravel().\n",
      "  y = column_or_1d(y, warn=True)\n"
     ]
    },
    {
     "name": "stdout",
     "output_type": "stream",
     "text": [
      "Iteration 1, loss = 0.66450674\n",
      "Validation score: 0.711388\n",
      "Iteration 2, loss = 0.51654253\n",
      "Validation score: 0.846605\n",
      "Iteration 3, loss = 0.35755427\n",
      "Validation score: 0.902644\n",
      "Iteration 4, loss = 0.27441367\n",
      "Validation score: 0.919922\n",
      "Iteration 5, loss = 0.22798112\n",
      "Validation score: 0.934044\n",
      "Iteration 6, loss = 0.20252466\n",
      "Validation score: 0.942909\n",
      "Iteration 7, loss = 0.18199859\n",
      "Validation score: 0.945012\n",
      "Iteration 8, loss = 0.16660965\n",
      "Validation score: 0.950270\n",
      "Iteration 9, loss = 0.15676926\n",
      "Validation score: 0.958233\n",
      "Iteration 10, loss = 0.14370857\n",
      "Validation score: 0.964994\n",
      "Iteration 11, loss = 0.13531898\n",
      "Validation score: 0.959435\n",
      "Iteration 12, loss = 0.12954419\n",
      "Validation score: 0.967698\n",
      "Iteration 13, loss = 0.12365530\n",
      "Validation score: 0.969802\n",
      "Iteration 14, loss = 0.11880848\n",
      "Validation score: 0.965595\n",
      "Iteration 15, loss = 0.11684146\n",
      "Validation score: 0.968900\n",
      "Iteration 16, loss = 0.11455130\n",
      "Validation score: 0.973558\n",
      "Iteration 17, loss = 0.11015127\n",
      "Validation score: 0.969802\n",
      "Iteration 18, loss = 0.10777554\n",
      "Validation score: 0.973257\n",
      "Iteration 19, loss = 0.10818680\n",
      "Validation score: 0.957782\n",
      "Iteration 20, loss = 0.11045901\n",
      "Validation score: 0.974309\n",
      "Iteration 21, loss = 0.10317354\n",
      "Validation score: 0.972656\n",
      "Iteration 22, loss = 0.10038926\n",
      "Validation score: 0.972806\n",
      "Iteration 23, loss = 0.10006827\n",
      "Validation score: 0.976112\n",
      "Iteration 24, loss = 0.09814612\n",
      "Validation score: 0.973858\n",
      "Iteration 25, loss = 0.09619249\n",
      "Validation score: 0.973558\n",
      "Iteration 26, loss = 0.09500002\n",
      "Validation score: 0.976713\n",
      "Iteration 27, loss = 0.09518570\n",
      "Validation score: 0.975361\n",
      "Iteration 28, loss = 0.09833102\n",
      "Validation score: 0.977464\n",
      "Iteration 29, loss = 0.09263333\n",
      "Validation score: 0.977314\n",
      "Iteration 30, loss = 0.09310354\n",
      "Validation score: 0.966797\n",
      "Iteration 31, loss = 0.09215822\n",
      "Validation score: 0.978215\n",
      "Iteration 32, loss = 0.08991588\n",
      "Validation score: 0.974309\n",
      "Iteration 33, loss = 0.09022019\n",
      "Validation score: 0.978365\n",
      "Iteration 34, loss = 0.08946682\n",
      "Validation score: 0.976412\n",
      "Iteration 35, loss = 0.09076633\n",
      "Validation score: 0.975661\n",
      "Iteration 36, loss = 0.08771315\n",
      "Validation score: 0.978215\n",
      "Iteration 37, loss = 0.08850143\n",
      "Validation score: 0.978215\n",
      "Iteration 38, loss = 0.08616870\n",
      "Validation score: 0.976412\n",
      "Iteration 39, loss = 0.09041105\n",
      "Validation score: 0.974760\n",
      "Iteration 40, loss = 0.08431392\n",
      "Validation score: 0.978365\n",
      "Iteration 41, loss = 0.08509865\n",
      "Validation score: 0.977614\n",
      "Iteration 42, loss = 0.08522660\n",
      "Validation score: 0.979117\n",
      "Iteration 43, loss = 0.08503192\n",
      "Validation score: 0.978365\n",
      "Iteration 44, loss = 0.08574399\n",
      "Validation score: 0.976562\n",
      "Iteration 45, loss = 0.08600381\n",
      "Validation score: 0.977464\n",
      "Iteration 46, loss = 0.08624643\n",
      "Validation score: 0.973407\n",
      "Iteration 47, loss = 0.08388111\n",
      "Validation score: 0.979868\n",
      "Iteration 48, loss = 0.08181084\n",
      "Validation score: 0.978816\n",
      "Iteration 49, loss = 0.08101918\n",
      "Validation score: 0.978516\n",
      "Iteration 50, loss = 0.08271061\n",
      "Validation score: 0.978065\n",
      "Iteration 51, loss = 0.07863444\n",
      "Validation score: 0.979868\n",
      "Iteration 52, loss = 0.08970403\n",
      "Validation score: 0.978966\n",
      "Iteration 53, loss = 0.07912553\n",
      "Validation score: 0.979868\n",
      "Iteration 54, loss = 0.08251814\n",
      "Validation score: 0.978966\n",
      "Iteration 55, loss = 0.08378137\n",
      "Validation score: 0.979117\n",
      "Iteration 56, loss = 0.07904959\n",
      "Validation score: 0.978666\n",
      "Iteration 57, loss = 0.08011939\n",
      "Validation score: 0.979868\n",
      "Iteration 58, loss = 0.07857636\n",
      "Validation score: 0.973407\n",
      "Validation score did not improve more than tol=0.000100 for 10 consecutive epochs. Stopping.\n"
     ]
    },
    {
     "data": {
      "text/plain": [
       "MLPClassifier(early_stopping=True, hidden_layer_sizes=(20, 15, 10, 5),\n",
       "              max_iter=1000, verbose=True)"
      ]
     },
     "execution_count": 9,
     "metadata": {},
     "output_type": "execute_result"
    }
   ],
   "source": [
    "from sklearn.neural_network import MLPClassifier\n",
    "clf = MLPClassifier(hidden_layer_sizes = (20,15,10,5) , max_iter=1000 ,early_stopping=True , verbose=True)\n",
    "clf.fit(X_train, y_train)"
   ]
  },
  {
   "cell_type": "code",
   "execution_count": 10,
   "id": "7b89ef74",
   "metadata": {},
   "outputs": [
    {
     "name": "stdout",
     "output_type": "stream",
     "text": [
      "              precision    recall  f1-score   support\n",
      "\n",
      "           0       0.98      0.98      0.98     18625\n",
      "           1       0.98      0.98      0.98     17215\n",
      "\n",
      "    accuracy                           0.98     35840\n",
      "   macro avg       0.98      0.98      0.98     35840\n",
      "weighted avg       0.98      0.98      0.98     35840\n",
      "\n"
     ]
    },
    {
     "data": {
      "text/html": [
       "<div>\n",
       "<style scoped>\n",
       "    .dataframe tbody tr th:only-of-type {\n",
       "        vertical-align: middle;\n",
       "    }\n",
       "\n",
       "    .dataframe tbody tr th {\n",
       "        vertical-align: top;\n",
       "    }\n",
       "\n",
       "    .dataframe thead th {\n",
       "        text-align: right;\n",
       "    }\n",
       "</style>\n",
       "<table border=\"1\" class=\"dataframe\">\n",
       "  <thead>\n",
       "    <tr style=\"text-align: right;\">\n",
       "      <th></th>\n",
       "      <th>0</th>\n",
       "      <th>1</th>\n",
       "    </tr>\n",
       "  </thead>\n",
       "  <tbody>\n",
       "    <tr>\n",
       "      <th>0</th>\n",
       "      <td>18288</td>\n",
       "      <td>337</td>\n",
       "    </tr>\n",
       "    <tr>\n",
       "      <th>1</th>\n",
       "      <td>312</td>\n",
       "      <td>16903</td>\n",
       "    </tr>\n",
       "  </tbody>\n",
       "</table>\n",
       "</div>"
      ],
      "text/plain": [
       "       0      1\n",
       "0  18288    337\n",
       "1    312  16903"
      ]
     },
     "execution_count": 10,
     "metadata": {},
     "output_type": "execute_result"
    }
   ],
   "source": [
    "y_predict=clf.predict(X_test)\n",
    "from sklearn.metrics import confusion_matrix\n",
    "print(classification_report(y_test, y_predict))\n",
    "cm = confusion_matrix(y_test, y_predict)\n",
    "pd.DataFrame(cm)"
   ]
  },
  {
   "cell_type": "code",
   "execution_count": 30,
   "id": "5a358a34",
   "metadata": {},
   "outputs": [
    {
     "name": "stdout",
     "output_type": "stream",
     "text": [
      "[[ 0.  -1.5 -1.   0. ]\n",
      " [ 0.   0.  -0.5  0. ]\n",
      " [ 1.   1.5 -7.5 -3.5]\n",
      " ...\n",
      " [-4.5 -4.  -4.  -4. ]\n",
      " [-0.5 -0.5 -0.5  0.5]\n",
      " [-0.5  0.5 -0.5  0. ]]\n"
     ]
    }
   ],
   "source": [
    "No_Attack_frame = pd.read_csv('feature_vec/NO_Attack_Dota.txt') # ПАРАМЕТР НА ВХОД ФУНКЦИИ\n",
    "del No_Attack_frame['Unnamed: 0']\n",
    "X = No_Attack_frame.iloc[:,[1,2,3,4]].values  \n",
    "Y=No_Attack_frame.iloc[:,[0]].values\n",
    "X_train, X_test, y_train, y_test = train_test_split(X, Y, test_size=0.35, random_state=42)\n",
    "print(X_test)"
   ]
  },
  {
   "cell_type": "code",
   "execution_count": 31,
   "id": "196dd2d7",
   "metadata": {},
   "outputs": [
    {
     "name": "stdout",
     "output_type": "stream",
     "text": [
      "              precision    recall  f1-score   support\n",
      "\n",
      "           0       0.99      0.98      0.99     26290\n",
      "           1       0.95      0.98      0.97      9550\n",
      "\n",
      "    accuracy                           0.98     35840\n",
      "   macro avg       0.97      0.98      0.98     35840\n",
      "weighted avg       0.98      0.98      0.98     35840\n",
      "\n"
     ]
    },
    {
     "data": {
      "text/html": [
       "<div>\n",
       "<style scoped>\n",
       "    .dataframe tbody tr th:only-of-type {\n",
       "        vertical-align: middle;\n",
       "    }\n",
       "\n",
       "    .dataframe tbody tr th {\n",
       "        vertical-align: top;\n",
       "    }\n",
       "\n",
       "    .dataframe thead th {\n",
       "        text-align: right;\n",
       "    }\n",
       "</style>\n",
       "<table border=\"1\" class=\"dataframe\">\n",
       "  <thead>\n",
       "    <tr style=\"text-align: right;\">\n",
       "      <th></th>\n",
       "      <th>0</th>\n",
       "      <th>1</th>\n",
       "    </tr>\n",
       "  </thead>\n",
       "  <tbody>\n",
       "    <tr>\n",
       "      <th>0</th>\n",
       "      <td>25807</td>\n",
       "      <td>483</td>\n",
       "    </tr>\n",
       "    <tr>\n",
       "      <th>1</th>\n",
       "      <td>160</td>\n",
       "      <td>9390</td>\n",
       "    </tr>\n",
       "  </tbody>\n",
       "</table>\n",
       "</div>"
      ],
      "text/plain": [
       "       0     1\n",
       "0  25807   483\n",
       "1    160  9390"
      ]
     },
     "execution_count": 31,
     "metadata": {},
     "output_type": "execute_result"
    }
   ],
   "source": [
    "y_predict=clf.predict(X_test)\n",
    "from sklearn.metrics import confusion_matrix\n",
    "print(classification_report(y_test, y_predict))\n",
    "cm = confusion_matrix(y_test, y_predict)\n",
    "pd.DataFrame(cm)"
   ]
  },
  {
   "cell_type": "code",
   "execution_count": 28,
   "id": "1663bce9",
   "metadata": {},
   "outputs": [
    {
     "name": "stdout",
     "output_type": "stream",
     "text": [
      "     0    1\n",
      "0  288   10\n",
      "1    8  718\n"
     ]
    }
   ],
   "source": [
    "No_Attack_frame = pd.read_csv('feature_vec/NO_Attack_CROSS.txt') # ПАРАМЕТР НА ВХОД ФУНКЦИИ\n",
    "del No_Attack_frame['Unnamed: 0']\n",
    "X_image_test = No_Attack_frame.iloc[:,[1,2,3,4]].values  \n",
    "y_image_test = No_Attack_frame.iloc[:,[0]].values  \n",
    "\n",
    "i=5\n",
    "y_test=y_image_test[1024*i:1024*(i+1)]\n",
    "y=X_image_test[1024*i:1024*(i+1)]\n",
    "y_predict_image=clf.predict(y)\n",
    "cm = confusion_matrix(y_predict_image, y_test)\n",
    "print(pd.DataFrame(cm))\n",
    "y_predict_image[y_predict_image>0]=255\n",
    "y_predict_image=y_predict_image.reshape(32,32)\n",
    "img = Image.fromarray(y_predict_image.astype(np.uint8))\n",
    "img.show()\n"
   ]
  },
  {
   "cell_type": "code",
   "execution_count": null,
   "id": "4132db1a",
   "metadata": {},
   "outputs": [],
   "source": []
  },
  {
   "cell_type": "code",
   "execution_count": 34,
   "id": "676386e2",
   "metadata": {},
   "outputs": [
    {
     "name": "stdout",
     "output_type": "stream",
     "text": [
      "     0    1\n",
      "0  741    6\n",
      "1   11  266\n"
     ]
    }
   ],
   "source": [
    "No_Attack_frame = pd.read_csv('feature_vec/NO_Attack_Dota.txt') # ПАРАМЕТР НА ВХОД ФУНКЦИИ\n",
    "del No_Attack_frame['Unnamed: 0']\n",
    "X_image_test = No_Attack_frame.iloc[:,[1,2,3,4]].values  \n",
    "y_image_test = No_Attack_frame.iloc[:,[0]].values  \n",
    "\n",
    "i=3\n",
    "y_test=y_image_test[1024*i:1024*(i+1)]\n",
    "y=X_image_test[1024*i:1024*(i+1)]\n",
    "y_predict_image=clf.predict(y)\n",
    "cm = confusion_matrix(y_predict_image, y_test)\n",
    "print(pd.DataFrame(cm))\n",
    "y_predict_image[y_predict_image>0]=255\n",
    "y_predict_image=y_predict_image.reshape(32,32)\n",
    "img = Image.fromarray(y_predict_image.astype(np.uint8))\n",
    "img.show()"
   ]
  },
  {
   "cell_type": "code",
   "execution_count": 32,
   "id": "f3319288",
   "metadata": {},
   "outputs": [
    {
     "name": "stdout",
     "output_type": "stream",
     "text": [
      "[[ 0.  -1.5 -1.   3. ]\n",
      " [ 0.   0.   1.5  0. ]\n",
      " [ 1.   3.5 -7.5 -3.5]\n",
      " ...\n",
      " [-4.5  1.  -4.  -4. ]\n",
      " [-0.5 -0.5 -0.5  0.5]\n",
      " [-0.5  0.5 -0.5  2. ]]\n"
     ]
    }
   ],
   "source": [
    "No_Attack_frame = pd.read_csv('feature_vec/NO_Attack_CROSS.txt') # ПАРАМЕТР НА ВХОД ФУНКЦИИ\n",
    "del No_Attack_frame['Unnamed: 0']\n",
    "X = No_Attack_frame.iloc[:,[1,2,3,4]].values  \n",
    "Y=No_Attack_frame.iloc[:,[0]].values\n",
    "X_train, X_test, y_train, y_test = train_test_split(X, Y, test_size=0.35, random_state=42)\n",
    "print(X_test)"
   ]
  },
  {
   "cell_type": "code",
   "execution_count": 33,
   "id": "2193b93c",
   "metadata": {},
   "outputs": [
    {
     "name": "stdout",
     "output_type": "stream",
     "text": [
      "              precision    recall  f1-score   support\n",
      "\n",
      "           0       0.96      0.98      0.97     10443\n",
      "           1       0.99      0.98      0.99     25397\n",
      "\n",
      "    accuracy                           0.98     35840\n",
      "   macro avg       0.98      0.98      0.98     35840\n",
      "weighted avg       0.98      0.98      0.98     35840\n",
      "\n"
     ]
    },
    {
     "data": {
      "text/html": [
       "<div>\n",
       "<style scoped>\n",
       "    .dataframe tbody tr th:only-of-type {\n",
       "        vertical-align: middle;\n",
       "    }\n",
       "\n",
       "    .dataframe tbody tr th {\n",
       "        vertical-align: top;\n",
       "    }\n",
       "\n",
       "    .dataframe thead th {\n",
       "        text-align: right;\n",
       "    }\n",
       "</style>\n",
       "<table border=\"1\" class=\"dataframe\">\n",
       "  <thead>\n",
       "    <tr style=\"text-align: right;\">\n",
       "      <th></th>\n",
       "      <th>0</th>\n",
       "      <th>1</th>\n",
       "    </tr>\n",
       "  </thead>\n",
       "  <tbody>\n",
       "    <tr>\n",
       "      <th>0</th>\n",
       "      <td>10251</td>\n",
       "      <td>192</td>\n",
       "    </tr>\n",
       "    <tr>\n",
       "      <th>1</th>\n",
       "      <td>415</td>\n",
       "      <td>24982</td>\n",
       "    </tr>\n",
       "  </tbody>\n",
       "</table>\n",
       "</div>"
      ],
      "text/plain": [
       "       0      1\n",
       "0  10251    192\n",
       "1    415  24982"
      ]
     },
     "execution_count": 33,
     "metadata": {},
     "output_type": "execute_result"
    }
   ],
   "source": [
    "y_predict=clf.predict(X_test)\n",
    "from sklearn.metrics import confusion_matrix\n",
    "print(classification_report(y_test, y_predict))\n",
    "cm = confusion_matrix(y_test, y_predict)\n",
    "pd.DataFrame(cm)"
   ]
  },
  {
   "cell_type": "code",
   "execution_count": null,
   "id": "013bebd8",
   "metadata": {},
   "outputs": [],
   "source": []
  }
 ],
 "metadata": {
  "kernelspec": {
   "display_name": "Python 3 (ipykernel)",
   "language": "python",
   "name": "python3"
  },
  "language_info": {
   "codemirror_mode": {
    "name": "ipython",
    "version": 3
   },
   "file_extension": ".py",
   "mimetype": "text/x-python",
   "name": "python",
   "nbconvert_exporter": "python",
   "pygments_lexer": "ipython3",
   "version": "3.9.0"
  }
 },
 "nbformat": 4,
 "nbformat_minor": 5
}
