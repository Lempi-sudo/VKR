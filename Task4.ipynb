{
 "cells": [
  {
   "cell_type": "code",
   "execution_count": 1,
   "id": "7db6bce9",
   "metadata": {},
   "outputs": [],
   "source": [
    "import numpy as np\n",
    "import matplotlib.pyplot as plt\n",
    "import pandas as pd \n",
    "from PIL import Image\n",
    "from sklearn.metrics import confusion_matrix\n",
    "from sklearn.metrics import accuracy_score\n",
    "from sklearn.model_selection import train_test_split\n",
    "from sklearn.neural_network import MLPClassifier\n",
    "from sklearn.metrics import classification_report\n",
    "from ImageWork import *"
   ]
  },
  {
   "cell_type": "code",
   "execution_count": 2,
   "id": "0c523317",
   "metadata": {},
   "outputs": [],
   "source": [
    "def pobitovo_sravnenie_WaterMark(W1, W2 , total_bit=1024 ):\n",
    "    t1 = W1==W2\n",
    "    sum=t1.sum()\n",
    "    return sum/total_bit*100\n",
    "\n",
    "def NO_AttackModel_Test(dataframe,path_save , title , clf, index_image=5):\n",
    "    X_dataframe = dataframe.iloc[:,[1,2,3,4]].values  \n",
    "    Y_dataframe = dataframe.iloc[:,[0]].values\n",
    "    X_train, X_test, y_train, y_test = train_test_split(X_dataframe, Y_dataframe, test_size=0.4, random_state=42)\n",
    "    print(title)\n",
    "    y_predict=clf.predict(X_test)\n",
    "    cm = confusion_matrix(y_test, y_predict)\n",
    "    print(pd.DataFrame(cm))\n",
    "    print()\n",
    "    print(classification_report(y_test, y_predict))\n",
    "    print()\n",
    "    X_image_test = dataframe.iloc[:,[1,2,3,4]].values  \n",
    "    i=index_image\n",
    "    y=X_image_test[1024*i:1024*(i+1)]\n",
    "    y_predict_image=clf.predict(y)\n",
    "    y_predict_image[y_predict_image>0]=255\n",
    "    y_predict_image=y_predict_image.reshape(32,32)\n",
    "    img = Image.fromarray(y_predict_image.astype(np.uint8))\n",
    "    #img.show()\n",
    "    img.save(path_save)\n",
    "    W=WaterMarkLoader.load(\"Water Mark Image/WaterMarkRandom.jpg\")\n",
    "    WR=WaterMarkLoader.load(path_save)\n",
    "    print(\"побитовое сравнение = \", pobitovo_sravnenie_WaterMark(W,WR))"
   ]
  },
  {
   "cell_type": "code",
   "execution_count": 4,
   "id": "5bfaffe2",
   "metadata": {},
   "outputs": [],
   "source": [
    "No_Attack_frame = pd.read_csv('feature_vec/NO_Attack.txt') # ПАРАМЕТР НА ВХОД ФУНКЦИИ\n",
    "del No_Attack_frame['Unnamed: 0']\n",
    "X = No_Attack_frame.iloc[:,[1,2,3,4]].values  \n",
    "Y=No_Attack_frame.iloc[:,[0]].values\n",
    "X_train, X_test, y_train, y_test = train_test_split(X, Y, test_size=0.7, random_state=42)"
   ]
  },
  {
   "cell_type": "code",
   "execution_count": 5,
   "id": "213d86bb",
   "metadata": {},
   "outputs": [
    {
     "name": "stderr",
     "output_type": "stream",
     "text": [
      "d:\\code\\python\\nir\\venv\\lib\\site-packages\\sklearn\\neural_network\\_multilayer_perceptron.py:1109: DataConversionWarning: A column-vector y was passed when a 1d array was expected. Please change the shape of y to (n_samples, ), for example using ravel().\n",
      "  y = column_or_1d(y, warn=True)\n"
     ]
    },
    {
     "name": "stdout",
     "output_type": "stream",
     "text": [
      "Iteration 1, loss = 0.68948614\n",
      "Validation score: 0.689616\n",
      "Iteration 2, loss = 0.54971777\n",
      "Validation score: 0.787272\n",
      "Iteration 3, loss = 0.39124042\n",
      "Validation score: 0.900879\n",
      "Iteration 4, loss = 0.26059237\n",
      "Validation score: 0.939616\n",
      "Iteration 5, loss = 0.20002631\n",
      "Validation score: 0.952148\n",
      "Iteration 6, loss = 0.16992892\n",
      "Validation score: 0.965820\n",
      "Iteration 7, loss = 0.14449928\n",
      "Validation score: 0.973145\n",
      "Iteration 8, loss = 0.13033809\n",
      "Validation score: 0.974609\n",
      "Iteration 9, loss = 0.12018298\n",
      "Validation score: 0.976725\n",
      "Iteration 10, loss = 0.11025311\n",
      "Validation score: 0.977051\n",
      "Iteration 11, loss = 0.10200822\n",
      "Validation score: 0.976074\n",
      "Iteration 12, loss = 0.09698244\n",
      "Validation score: 0.979004\n",
      "Iteration 13, loss = 0.09056064\n",
      "Validation score: 0.980306\n",
      "Iteration 14, loss = 0.08471389\n",
      "Validation score: 0.980794\n",
      "Iteration 15, loss = 0.08323376\n",
      "Validation score: 0.979818\n",
      "Iteration 16, loss = 0.08099127\n",
      "Validation score: 0.983398\n",
      "Iteration 17, loss = 0.07809320\n",
      "Validation score: 0.977051\n",
      "Iteration 18, loss = 0.07700174\n",
      "Validation score: 0.983887\n",
      "Iteration 19, loss = 0.07512209\n",
      "Validation score: 0.984538\n",
      "Iteration 20, loss = 0.07400182\n",
      "Validation score: 0.982910\n",
      "Iteration 21, loss = 0.07219205\n",
      "Validation score: 0.986003\n",
      "Iteration 22, loss = 0.07219408\n",
      "Validation score: 0.985352\n",
      "Iteration 23, loss = 0.07091115\n",
      "Validation score: 0.985514\n",
      "Iteration 24, loss = 0.06948699\n",
      "Validation score: 0.982585\n",
      "Iteration 25, loss = 0.06825060\n",
      "Validation score: 0.986979\n",
      "Iteration 26, loss = 0.06732351\n",
      "Validation score: 0.984538\n",
      "Iteration 27, loss = 0.06663524\n",
      "Validation score: 0.985026\n",
      "Iteration 28, loss = 0.06428867\n",
      "Validation score: 0.984701\n",
      "Iteration 29, loss = 0.06448173\n",
      "Validation score: 0.984375\n",
      "Iteration 30, loss = 0.06364567\n",
      "Validation score: 0.985026\n",
      "Iteration 31, loss = 0.06206961\n",
      "Validation score: 0.986654\n",
      "Iteration 32, loss = 0.06163151\n",
      "Validation score: 0.983561\n",
      "Iteration 33, loss = 0.06317168\n",
      "Validation score: 0.986654\n",
      "Iteration 34, loss = 0.05953545\n",
      "Validation score: 0.985189\n",
      "Iteration 35, loss = 0.06012707\n",
      "Validation score: 0.987467\n",
      "Iteration 36, loss = 0.05954198\n",
      "Validation score: 0.987630\n",
      "Iteration 37, loss = 0.05895956\n",
      "Validation score: 0.986165\n",
      "Iteration 38, loss = 0.05849333\n",
      "Validation score: 0.987630\n",
      "Iteration 39, loss = 0.05955097\n",
      "Validation score: 0.984212\n",
      "Iteration 40, loss = 0.05983011\n",
      "Validation score: 0.987142\n",
      "Iteration 41, loss = 0.05826333\n",
      "Validation score: 0.986654\n",
      "Iteration 42, loss = 0.05781967\n",
      "Validation score: 0.987630\n",
      "Iteration 43, loss = 0.05819198\n",
      "Validation score: 0.986654\n",
      "Iteration 44, loss = 0.05647783\n",
      "Validation score: 0.986165\n",
      "Iteration 45, loss = 0.05758916\n",
      "Validation score: 0.985514\n",
      "Iteration 46, loss = 0.05612079\n",
      "Validation score: 0.985026\n",
      "Iteration 47, loss = 0.05732040\n",
      "Validation score: 0.987956\n",
      "Iteration 48, loss = 0.05686416\n",
      "Validation score: 0.987142\n",
      "Iteration 49, loss = 0.05354961\n",
      "Validation score: 0.986003\n",
      "Iteration 50, loss = 0.05389566\n",
      "Validation score: 0.987467\n",
      "Iteration 51, loss = 0.05557778\n",
      "Validation score: 0.987467\n",
      "Iteration 52, loss = 0.05423381\n",
      "Validation score: 0.987142\n",
      "Iteration 53, loss = 0.05331030\n",
      "Validation score: 0.988444\n",
      "Iteration 54, loss = 0.05519695\n",
      "Validation score: 0.981934\n",
      "Iteration 55, loss = 0.05401575\n",
      "Validation score: 0.984538\n",
      "Iteration 56, loss = 0.05366413\n",
      "Validation score: 0.987467\n",
      "Iteration 57, loss = 0.05447967\n",
      "Validation score: 0.987305\n",
      "Iteration 58, loss = 0.05311800\n",
      "Validation score: 0.984049\n",
      "Iteration 59, loss = 0.05336084\n",
      "Validation score: 0.988770\n",
      "Iteration 60, loss = 0.05444310\n",
      "Validation score: 0.987305\n",
      "Iteration 61, loss = 0.05187378\n",
      "Validation score: 0.987467\n",
      "Iteration 62, loss = 0.05398468\n",
      "Validation score: 0.987630\n",
      "Iteration 63, loss = 0.05252008\n",
      "Validation score: 0.988444\n",
      "Iteration 64, loss = 0.05313622\n",
      "Validation score: 0.988281\n",
      "Iteration 65, loss = 0.05113909\n",
      "Validation score: 0.989258\n",
      "Iteration 66, loss = 0.05120233\n",
      "Validation score: 0.985514\n",
      "Iteration 67, loss = 0.04979934\n",
      "Validation score: 0.986165\n",
      "Iteration 68, loss = 0.05064465\n",
      "Validation score: 0.987305\n",
      "Iteration 69, loss = 0.05191414\n",
      "Validation score: 0.986979\n",
      "Iteration 70, loss = 0.05344565\n",
      "Validation score: 0.984701\n",
      "Iteration 71, loss = 0.05146668\n",
      "Validation score: 0.986979\n",
      "Iteration 72, loss = 0.05005757\n",
      "Validation score: 0.987630\n",
      "Iteration 73, loss = 0.05037003\n",
      "Validation score: 0.987467\n",
      "Iteration 74, loss = 0.05026034\n",
      "Validation score: 0.985026\n",
      "Iteration 75, loss = 0.04995332\n",
      "Validation score: 0.987956\n",
      "Iteration 76, loss = 0.05077147\n",
      "Validation score: 0.987630\n",
      "Validation score did not improve more than tol=0.000100 for 10 consecutive epochs. Stopping.\n"
     ]
    },
    {
     "data": {
      "text/plain": [
       "MLPClassifier(early_stopping=True, hidden_layer_sizes=(20, 15, 10, 5),\n",
       "              max_iter=1000, verbose=True)"
      ]
     },
     "execution_count": 5,
     "metadata": {},
     "output_type": "execute_result"
    }
   ],
   "source": [
    "from sklearn.neural_network import MLPClassifier\n",
    "clf_no_attack = MLPClassifier(hidden_layer_sizes = (20,15,10,5) , max_iter=1000 ,early_stopping=True , verbose=True)\n",
    "clf_no_attack.fit(X_train, y_train)"
   ]
  },
  {
   "cell_type": "code",
   "execution_count": 6,
   "id": "c58c6caa",
   "metadata": {},
   "outputs": [
    {
     "name": "stdout",
     "output_type": "stream",
     "text": [
      "       0      1\n",
      "0  73456    631\n",
      "1   1054  68219\n",
      "              precision    recall  f1-score   support\n",
      "\n",
      "           0       0.99      0.99      0.99     74087\n",
      "           1       0.99      0.98      0.99     69273\n",
      "\n",
      "    accuracy                           0.99    143360\n",
      "   macro avg       0.99      0.99      0.99    143360\n",
      "weighted avg       0.99      0.99      0.99    143360\n",
      "\n"
     ]
    }
   ],
   "source": [
    "y_predict=clf_no_attack.predict(X_test)\n",
    "from sklearn.metrics import confusion_matrix\n",
    "cm = confusion_matrix(y_test, y_predict)\n",
    "print(pd.DataFrame(cm))\n",
    "print(classification_report(y_test, y_predict))"
   ]
  },
  {
   "cell_type": "code",
   "execution_count": 8,
   "id": "dcf92e60",
   "metadata": {},
   "outputs": [
    {
     "name": "stdout",
     "output_type": "stream",
     "text": [
      "побитовое сравнение =  98.92578125\n"
     ]
    }
   ],
   "source": [
    "X_image_test = No_Attack_frame.iloc[:,[1,2,3,4]].values  \n",
    "i=4\n",
    "y=X_image_test[1024*i:1024*(i+1)]\n",
    "y_predict_image=clf_no_attack.predict(y)\n",
    "y_predict_image[y_predict_image>0]=255\n",
    "y_predict_image=y_predict_image.reshape(32,32)\n",
    "img = Image.fromarray(y_predict_image.astype(np.uint8))\n",
    "#img.show()\n",
    "img.save(\"W_R/WR1.tif\")\n",
    "W=WaterMarkLoader.load(\"Water Mark Image/WaterMarkRandom.jpg\")\n",
    "WR=WaterMarkLoader.load(\"W_R/WR1.tif\")\n",
    "print(\"побитовое сравнение = \", pobitovo_sravnenie_WaterMark(W,WR))"
   ]
  },
  {
   "cell_type": "code",
   "execution_count": 9,
   "id": "b433d734",
   "metadata": {},
   "outputs": [],
   "source": [
    "path_averege= \"feature_vec/AverageAttack.txt\"\n",
    "path_histogram=\"feature_vec/HistogramAttack.txt\"\n",
    "path_GammaCor=  \"feature_vec/GammaCorrection.txt\"\n",
    "path_JPEG50= \"feature_vec/JPEG50.txt\"\n",
    "path_median=  \"feature_vec/medianAttack.txt\"\n",
    "path_saltpaper=\"feature_vec/SaltPaperAttack.txt\"\n",
    "path_snarpness= \"feature_vec/Sharpness.txt\""
   ]
  },
  {
   "cell_type": "code",
   "execution_count": 10,
   "id": "c87bc6e1",
   "metadata": {},
   "outputs": [
    {
     "data": {
      "text/html": [
       "<div>\n",
       "<style scoped>\n",
       "    .dataframe tbody tr th:only-of-type {\n",
       "        vertical-align: middle;\n",
       "    }\n",
       "\n",
       "    .dataframe tbody tr th {\n",
       "        vertical-align: top;\n",
       "    }\n",
       "\n",
       "    .dataframe thead th {\n",
       "        text-align: right;\n",
       "    }\n",
       "</style>\n",
       "<table border=\"1\" class=\"dataframe\">\n",
       "  <thead>\n",
       "    <tr style=\"text-align: right;\">\n",
       "      <th></th>\n",
       "      <th>bit</th>\n",
       "      <th>feature_1</th>\n",
       "      <th>feature_2</th>\n",
       "      <th>feature_3</th>\n",
       "      <th>feature_4</th>\n",
       "    </tr>\n",
       "  </thead>\n",
       "  <tbody>\n",
       "    <tr>\n",
       "      <th>0</th>\n",
       "      <td>1</td>\n",
       "      <td>0.0</td>\n",
       "      <td>0.5</td>\n",
       "      <td>-1.0</td>\n",
       "      <td>2.5</td>\n",
       "    </tr>\n",
       "    <tr>\n",
       "      <th>1</th>\n",
       "      <td>0</td>\n",
       "      <td>-6.0</td>\n",
       "      <td>-18.5</td>\n",
       "      <td>-2.5</td>\n",
       "      <td>-19.0</td>\n",
       "    </tr>\n",
       "    <tr>\n",
       "      <th>2</th>\n",
       "      <td>1</td>\n",
       "      <td>15.0</td>\n",
       "      <td>28.0</td>\n",
       "      <td>20.5</td>\n",
       "      <td>34.0</td>\n",
       "    </tr>\n",
       "    <tr>\n",
       "      <th>3</th>\n",
       "      <td>1</td>\n",
       "      <td>-33.0</td>\n",
       "      <td>-2.5</td>\n",
       "      <td>-32.0</td>\n",
       "      <td>-2.5</td>\n",
       "    </tr>\n",
       "    <tr>\n",
       "      <th>4</th>\n",
       "      <td>1</td>\n",
       "      <td>-12.5</td>\n",
       "      <td>-7.0</td>\n",
       "      <td>-16.5</td>\n",
       "      <td>-11.5</td>\n",
       "    </tr>\n",
       "    <tr>\n",
       "      <th>...</th>\n",
       "      <td>...</td>\n",
       "      <td>...</td>\n",
       "      <td>...</td>\n",
       "      <td>...</td>\n",
       "      <td>...</td>\n",
       "    </tr>\n",
       "    <tr>\n",
       "      <th>204795</th>\n",
       "      <td>0</td>\n",
       "      <td>-6.5</td>\n",
       "      <td>3.0</td>\n",
       "      <td>-1.0</td>\n",
       "      <td>3.0</td>\n",
       "    </tr>\n",
       "    <tr>\n",
       "      <th>204796</th>\n",
       "      <td>1</td>\n",
       "      <td>-3.5</td>\n",
       "      <td>16.5</td>\n",
       "      <td>0.5</td>\n",
       "      <td>-2.5</td>\n",
       "    </tr>\n",
       "    <tr>\n",
       "      <th>204797</th>\n",
       "      <td>1</td>\n",
       "      <td>0.5</td>\n",
       "      <td>-8.0</td>\n",
       "      <td>6.5</td>\n",
       "      <td>-2.5</td>\n",
       "    </tr>\n",
       "    <tr>\n",
       "      <th>204798</th>\n",
       "      <td>1</td>\n",
       "      <td>2.0</td>\n",
       "      <td>28.0</td>\n",
       "      <td>-2.0</td>\n",
       "      <td>49.0</td>\n",
       "    </tr>\n",
       "    <tr>\n",
       "      <th>204799</th>\n",
       "      <td>0</td>\n",
       "      <td>28.0</td>\n",
       "      <td>3.5</td>\n",
       "      <td>27.5</td>\n",
       "      <td>9.0</td>\n",
       "    </tr>\n",
       "  </tbody>\n",
       "</table>\n",
       "<p>1638400 rows × 5 columns</p>\n",
       "</div>"
      ],
      "text/plain": [
       "        bit  feature_1  feature_2  feature_3  feature_4\n",
       "0         1        0.0        0.5       -1.0        2.5\n",
       "1         0       -6.0      -18.5       -2.5      -19.0\n",
       "2         1       15.0       28.0       20.5       34.0\n",
       "3         1      -33.0       -2.5      -32.0       -2.5\n",
       "4         1      -12.5       -7.0      -16.5      -11.5\n",
       "...     ...        ...        ...        ...        ...\n",
       "204795    0       -6.5        3.0       -1.0        3.0\n",
       "204796    1       -3.5       16.5        0.5       -2.5\n",
       "204797    1        0.5       -8.0        6.5       -2.5\n",
       "204798    1        2.0       28.0       -2.0       49.0\n",
       "204799    0       28.0        3.5       27.5        9.0\n",
       "\n",
       "[1638400 rows x 5 columns]"
      ]
     },
     "execution_count": 10,
     "metadata": {},
     "output_type": "execute_result"
    }
   ],
   "source": [
    "averege=pd.read_csv(path_averege) \n",
    "histogram=pd.read_csv(path_histogram)\n",
    "GammaCor=pd.read_csv(path_GammaCor) \n",
    "JPEG50=pd.read_csv(path_JPEG50) \n",
    "median=pd.read_csv(path_median) \n",
    "saltpaper=pd.read_csv(path_saltpaper)\n",
    "snarpness=pd.read_csv(path_snarpness) \n",
    "frames = [averege, histogram, GammaCor , JPEG50, median,saltpaper ,snarpness, No_Attack_frame]\n",
    "DataFrame = pd.concat(frames)\n",
    "del DataFrame['Unnamed: 0']\n",
    "del saltpaper['Unnamed: 0']\n",
    "del averege['Unnamed: 0']\n",
    "del histogram['Unnamed: 0']\n",
    "del GammaCor['Unnamed: 0']\n",
    "del median['Unnamed: 0']\n",
    "del JPEG50['Unnamed: 0']\n",
    "del snarpness['Unnamed: 0']\n",
    "\n",
    "DataFrame"
   ]
  },
  {
   "cell_type": "markdown",
   "id": "6cfca419",
   "metadata": {},
   "source": [
    "### тестирую модель обученную на noattack подсовываю атакованные изображения"
   ]
  },
  {
   "cell_type": "code",
   "execution_count": 12,
   "id": "43d0eba7",
   "metadata": {},
   "outputs": [
    {
     "name": "stdout",
     "output_type": "stream",
     "text": [
      "ПРОВЕРКА ДЛЯ АТАКИ СОЛЬ-ПЕРЕЦ. МОДЕЛЬ ОБУЧЕНА НА НЕАТАКОВАННЫХ ИЗОБРАЖЕНИЯХ\n",
      "       0      1\n",
      "0  38675   3709\n",
      "1   1957  37579\n",
      "\n",
      "              precision    recall  f1-score   support\n",
      "\n",
      "           0       0.95      0.91      0.93     42384\n",
      "           1       0.91      0.95      0.93     39536\n",
      "\n",
      "    accuracy                           0.93     81920\n",
      "   macro avg       0.93      0.93      0.93     81920\n",
      "weighted avg       0.93      0.93      0.93     81920\n",
      "\n",
      "\n",
      "побитовое сравнение =  93.75\n"
     ]
    }
   ],
   "source": [
    "NO_AttackModel_Test(saltpaper,\"W_R/WR_SP.tif\", \"ПРОВЕРКА ДЛЯ АТАКИ СОЛЬ-ПЕРЕЦ. МОДЕЛЬ ОБУЧЕНА НА НЕАТАКОВАННЫХ ИЗОБРАЖЕНИЯХ\",clf_no_attack)"
   ]
  },
  {
   "cell_type": "code",
   "execution_count": 27,
   "id": "211ace01",
   "metadata": {},
   "outputs": [
    {
     "name": "stdout",
     "output_type": "stream",
     "text": [
      "ПРОВЕРКА ДЛЯ АТАКИ JPEG50. МОДЕЛЬ ОБУЧЕНА НА НЕАТАКОВАННЫХ ИЗОБРАЖЕНИЯХ\n",
      "       0      1\n",
      "0  21610  20774\n",
      "1  19898  19638\n",
      "\n",
      "              precision    recall  f1-score   support\n",
      "\n",
      "           0       0.52      0.51      0.52     42384\n",
      "           1       0.49      0.50      0.49     39536\n",
      "\n",
      "    accuracy                           0.50     81920\n",
      "   macro avg       0.50      0.50      0.50     81920\n",
      "weighted avg       0.50      0.50      0.50     81920\n",
      "\n",
      "\n",
      "побитовое сравнение =  49.0234375\n"
     ]
    }
   ],
   "source": [
    "NO_AttackModel_Test(JPEG50,\"W_R/WR_JPEG50.tif\", \"ПРОВЕРКА ДЛЯ АТАКИ JPEG50. МОДЕЛЬ ОБУЧЕНА НА НЕАТАКОВАННЫХ ИЗОБРАЖЕНИЯХ\",clf_no_attack)"
   ]
  },
  {
   "cell_type": "code",
   "execution_count": 16,
   "id": "7a3bda18",
   "metadata": {},
   "outputs": [
    {
     "name": "stdout",
     "output_type": "stream",
     "text": [
      "ПРОВЕРКА ДЛЯ АТАКИ averege - среднее. МОДЕЛЬ ОБУЧЕНА НА НЕАТАКОВАННЫХ ИЗОБРАЖЕНИЯХ\n",
      "       0      1\n",
      "0  22202  20182\n",
      "1  20488  19048\n",
      "\n",
      "              precision    recall  f1-score   support\n",
      "\n",
      "           0       0.52      0.52      0.52     42384\n",
      "           1       0.49      0.48      0.48     39536\n",
      "\n",
      "    accuracy                           0.50     81920\n",
      "   macro avg       0.50      0.50      0.50     81920\n",
      "weighted avg       0.50      0.50      0.50     81920\n",
      "\n",
      "\n",
      "побитовое сравнение =  50.29296875\n"
     ]
    }
   ],
   "source": [
    "NO_AttackModel_Test(averege,\"W_R/WR_averege.tif\", \"ПРОВЕРКА ДЛЯ АТАКИ averege - среднее. МОДЕЛЬ ОБУЧЕНА НА НЕАТАКОВАННЫХ ИЗОБРАЖЕНИЯХ\",clf_no_attack)"
   ]
  },
  {
   "cell_type": "code",
   "execution_count": 18,
   "id": "5aea1974",
   "metadata": {},
   "outputs": [
    {
     "name": "stdout",
     "output_type": "stream",
     "text": [
      "ПРОВЕРКА ДЛЯ АТАКИ histogram. МОДЕЛЬ ОБУЧЕНА НА НЕАТАКОВАННЫХ ИЗОБРАЖЕНИЯХ\n",
      "       0      1\n",
      "0  25060  17324\n",
      "1   6032  33504\n",
      "\n",
      "              precision    recall  f1-score   support\n",
      "\n",
      "           0       0.81      0.59      0.68     42384\n",
      "           1       0.66      0.85      0.74     39536\n",
      "\n",
      "    accuracy                           0.71     81920\n",
      "   macro avg       0.73      0.72      0.71     81920\n",
      "weighted avg       0.74      0.71      0.71     81920\n",
      "\n",
      "\n",
      "побитовое сравнение =  74.0234375\n"
     ]
    }
   ],
   "source": [
    "NO_AttackModel_Test(histogram,\"W_R/WR_histogram.tif\", \"ПРОВЕРКА ДЛЯ АТАКИ histogram. МОДЕЛЬ ОБУЧЕНА НА НЕАТАКОВАННЫХ ИЗОБРАЖЕНИЯХ\",clf_no_attack)"
   ]
  },
  {
   "cell_type": "code",
   "execution_count": 19,
   "id": "12a69535",
   "metadata": {},
   "outputs": [
    {
     "name": "stdout",
     "output_type": "stream",
     "text": [
      "ПРОВЕРКА ДЛЯ АТАКИ GammaCor. МОДЕЛЬ ОБУЧЕНА НА НЕАТАКОВАННЫХ ИЗОБРАЖЕНИЯХ\n",
      "       0      1\n",
      "0  35990   6394\n",
      "1   4013  35523\n",
      "\n",
      "              precision    recall  f1-score   support\n",
      "\n",
      "           0       0.90      0.85      0.87     42384\n",
      "           1       0.85      0.90      0.87     39536\n",
      "\n",
      "    accuracy                           0.87     81920\n",
      "   macro avg       0.87      0.87      0.87     81920\n",
      "weighted avg       0.87      0.87      0.87     81920\n",
      "\n",
      "\n",
      "побитовое сравнение =  91.30859375\n"
     ]
    }
   ],
   "source": [
    "NO_AttackModel_Test(GammaCor,\"W_R/WR_GammaCor.tif\", \"ПРОВЕРКА ДЛЯ АТАКИ GammaCor. МОДЕЛЬ ОБУЧЕНА НА НЕАТАКОВАННЫХ ИЗОБРАЖЕНИЯХ\",clf_no_attack)"
   ]
  },
  {
   "cell_type": "code",
   "execution_count": 20,
   "id": "e9258322",
   "metadata": {},
   "outputs": [
    {
     "name": "stdout",
     "output_type": "stream",
     "text": [
      "ПРОВЕРКА ДЛЯ АТАКИ median. МОДЕЛЬ ОБУЧЕНА НА НЕАТАКОВАННЫХ ИЗОБРАЖЕНИЯХ\n",
      "       0      1\n",
      "0  22409  19975\n",
      "1  18954  20582\n",
      "\n",
      "              precision    recall  f1-score   support\n",
      "\n",
      "           0       0.54      0.53      0.54     42384\n",
      "           1       0.51      0.52      0.51     39536\n",
      "\n",
      "    accuracy                           0.52     81920\n",
      "   macro avg       0.52      0.52      0.52     81920\n",
      "weighted avg       0.53      0.52      0.52     81920\n",
      "\n",
      "\n",
      "побитовое сравнение =  51.171875\n"
     ]
    }
   ],
   "source": [
    "NO_AttackModel_Test(median,\"W_R/WR_median.tif\", \"ПРОВЕРКА ДЛЯ АТАКИ median. МОДЕЛЬ ОБУЧЕНА НА НЕАТАКОВАННЫХ ИЗОБРАЖЕНИЯХ\",clf_no_attack)"
   ]
  },
  {
   "cell_type": "code",
   "execution_count": 21,
   "id": "07f1653b",
   "metadata": {},
   "outputs": [
    {
     "name": "stdout",
     "output_type": "stream",
     "text": [
      "ПРОВЕРКА ДЛЯ АТАКИ snarpness. МОДЕЛЬ ОБУЧЕНА НА НЕАТАКОВАННЫХ ИЗОБРАЖЕНИЯХ\n",
      "       0      1\n",
      "0  22297  20087\n",
      "1   1592  37944\n",
      "\n",
      "              precision    recall  f1-score   support\n",
      "\n",
      "           0       0.93      0.53      0.67     42384\n",
      "           1       0.65      0.96      0.78     39536\n",
      "\n",
      "    accuracy                           0.74     81920\n",
      "   macro avg       0.79      0.74      0.73     81920\n",
      "weighted avg       0.80      0.74      0.72     81920\n",
      "\n",
      "\n",
      "побитовое сравнение =  69.43359375\n"
     ]
    }
   ],
   "source": [
    "NO_AttackModel_Test(snarpness,\"W_R/WR_snarpness.tif\", \"ПРОВЕРКА ДЛЯ АТАКИ snarpness. МОДЕЛЬ ОБУЧЕНА НА НЕАТАКОВАННЫХ ИЗОБРАЖЕНИЯХ\",clf_no_attack)"
   ]
  },
  {
   "cell_type": "markdown",
   "id": "dd455357",
   "metadata": {},
   "source": [
    "### тестирую модель обученную на attack image подсовываю атакованные изображения"
   ]
  },
  {
   "cell_type": "code",
   "execution_count": 22,
   "id": "a01d42e4",
   "metadata": {},
   "outputs": [],
   "source": [
    "X = DataFrame.iloc[:,[1,2,3,4]].values  \n",
    "Y=DataFrame.iloc[:,[0]].values\n",
    "X_train, X_test, y_train, y_test = train_test_split(X, Y, test_size=0.4, random_state=42)"
   ]
  },
  {
   "cell_type": "code",
   "execution_count": 23,
   "id": "47132d03",
   "metadata": {},
   "outputs": [
    {
     "name": "stderr",
     "output_type": "stream",
     "text": [
      "d:\\code\\python\\nir\\venv\\lib\\site-packages\\sklearn\\neural_network\\_multilayer_perceptron.py:1109: DataConversionWarning: A column-vector y was passed when a 1d array was expected. Please change the shape of y to (n_samples, ), for example using ravel().\n",
      "  y = column_or_1d(y, warn=True)\n"
     ]
    },
    {
     "name": "stdout",
     "output_type": "stream",
     "text": [
      "Iteration 1, loss = 0.60660233\n",
      "Validation score: 0.727142\n",
      "Iteration 2, loss = 0.56195773\n",
      "Validation score: 0.731079\n",
      "Iteration 3, loss = 0.55707667\n",
      "Validation score: 0.731415\n",
      "Iteration 4, loss = 0.55446285\n",
      "Validation score: 0.731150\n",
      "Iteration 5, loss = 0.55265360\n",
      "Validation score: 0.731923\n",
      "Iteration 6, loss = 0.55140917\n",
      "Validation score: 0.732564\n",
      "Iteration 7, loss = 0.55026103\n",
      "Validation score: 0.733409\n",
      "Iteration 8, loss = 0.54959499\n",
      "Validation score: 0.734324\n",
      "Iteration 9, loss = 0.54921661\n",
      "Validation score: 0.732391\n",
      "Iteration 10, loss = 0.54868680\n",
      "Validation score: 0.733714\n",
      "Iteration 11, loss = 0.54840074\n",
      "Validation score: 0.734894\n",
      "Iteration 12, loss = 0.54800837\n",
      "Validation score: 0.734131\n",
      "Iteration 13, loss = 0.54777755\n",
      "Validation score: 0.734863\n",
      "Iteration 14, loss = 0.54739209\n",
      "Validation score: 0.734802\n",
      "Iteration 15, loss = 0.54720574\n",
      "Validation score: 0.734782\n",
      "Iteration 16, loss = 0.54706063\n",
      "Validation score: 0.733073\n",
      "Iteration 17, loss = 0.54681804\n",
      "Validation score: 0.734029\n",
      "Iteration 18, loss = 0.54666776\n",
      "Validation score: 0.734182\n",
      "Iteration 19, loss = 0.54653545\n",
      "Validation score: 0.734639\n",
      "Iteration 20, loss = 0.54613988\n",
      "Validation score: 0.735392\n",
      "Iteration 21, loss = 0.54603103\n",
      "Validation score: 0.734843\n",
      "Iteration 22, loss = 0.54585813\n",
      "Validation score: 0.734456\n",
      "Iteration 23, loss = 0.54577051\n",
      "Validation score: 0.733459\n",
      "Iteration 24, loss = 0.54576899\n",
      "Validation score: 0.734914\n",
      "Iteration 25, loss = 0.54556553\n",
      "Validation score: 0.734070\n",
      "Iteration 26, loss = 0.54555910\n",
      "Validation score: 0.732442\n",
      "Iteration 27, loss = 0.54527239\n",
      "Validation score: 0.734436\n",
      "Iteration 28, loss = 0.54529435\n",
      "Validation score: 0.735433\n",
      "Iteration 29, loss = 0.54502517\n",
      "Validation score: 0.734477\n",
      "Iteration 30, loss = 0.54506955\n",
      "Validation score: 0.734192\n",
      "Iteration 31, loss = 0.54489363\n",
      "Validation score: 0.734517\n",
      "Validation score did not improve more than tol=0.000100 for 10 consecutive epochs. Stopping.\n"
     ]
    },
    {
     "data": {
      "text/plain": [
       "MLPClassifier(early_stopping=True, hidden_layer_sizes=(20, 15, 10, 5),\n",
       "              max_iter=1000, verbose=True)"
      ]
     },
     "execution_count": 23,
     "metadata": {},
     "output_type": "execute_result"
    }
   ],
   "source": [
    "clf_attack = MLPClassifier(hidden_layer_sizes = (20,15,10,5) , max_iter=1000 ,early_stopping=True , verbose=True)\n",
    "clf_attack.fit(X_train, y_train)"
   ]
  },
  {
   "cell_type": "code",
   "execution_count": 24,
   "id": "0b713193",
   "metadata": {},
   "outputs": [
    {
     "data": {
      "text/html": [
       "<div>\n",
       "<style scoped>\n",
       "    .dataframe tbody tr th:only-of-type {\n",
       "        vertical-align: middle;\n",
       "    }\n",
       "\n",
       "    .dataframe tbody tr th {\n",
       "        vertical-align: top;\n",
       "    }\n",
       "\n",
       "    .dataframe thead th {\n",
       "        text-align: right;\n",
       "    }\n",
       "</style>\n",
       "<table border=\"1\" class=\"dataframe\">\n",
       "  <thead>\n",
       "    <tr style=\"text-align: right;\">\n",
       "      <th></th>\n",
       "      <th>0</th>\n",
       "      <th>1</th>\n",
       "    </tr>\n",
       "  </thead>\n",
       "  <tbody>\n",
       "    <tr>\n",
       "      <th>0</th>\n",
       "      <td>256567</td>\n",
       "      <td>81617</td>\n",
       "    </tr>\n",
       "    <tr>\n",
       "      <th>1</th>\n",
       "      <td>91641</td>\n",
       "      <td>225535</td>\n",
       "    </tr>\n",
       "  </tbody>\n",
       "</table>\n",
       "</div>"
      ],
      "text/plain": [
       "        0       1\n",
       "0  256567   81617\n",
       "1   91641  225535"
      ]
     },
     "execution_count": 24,
     "metadata": {},
     "output_type": "execute_result"
    }
   ],
   "source": [
    "y_predict=clf_attack.predict(X_test)\n",
    "cm = confusion_matrix(y_test, y_predict)\n",
    "pd.DataFrame(cm)"
   ]
  },
  {
   "cell_type": "code",
   "execution_count": 25,
   "id": "79d6ab93",
   "metadata": {},
   "outputs": [
    {
     "name": "stdout",
     "output_type": "stream",
     "text": [
      "              precision    recall  f1-score   support\n",
      "\n",
      "           0       0.74      0.76      0.75    338184\n",
      "           1       0.73      0.71      0.72    317176\n",
      "\n",
      "    accuracy                           0.74    655360\n",
      "   macro avg       0.74      0.73      0.74    655360\n",
      "weighted avg       0.74      0.74      0.74    655360\n",
      "\n"
     ]
    }
   ],
   "source": [
    "print(classification_report(y_test, y_predict))"
   ]
  },
  {
   "cell_type": "code",
   "execution_count": 28,
   "id": "48ffec9f",
   "metadata": {},
   "outputs": [
    {
     "name": "stdout",
     "output_type": "stream",
     "text": [
      "ПРОВЕРКА ДЛЯ АТАКИ JPEG50. МОДЕЛЬ ОБУЧЕНА НА АТАКОВАННЫХ ИЗОБРАЖЕНИЯХ\n",
      "       0      1\n",
      "0  25147  17237\n",
      "1  22702  16834\n",
      "\n",
      "              precision    recall  f1-score   support\n",
      "\n",
      "           0       0.53      0.59      0.56     42384\n",
      "           1       0.49      0.43      0.46     39536\n",
      "\n",
      "    accuracy                           0.51     81920\n",
      "   macro avg       0.51      0.51      0.51     81920\n",
      "weighted avg       0.51      0.51      0.51     81920\n",
      "\n",
      "\n",
      "побитовое сравнение =  50.5859375\n"
     ]
    }
   ],
   "source": [
    "NO_AttackModel_Test(JPEG50,\"W_R/WR_JPEG50.tif\", \"ПРОВЕРКА ДЛЯ АТАКИ JPEG50. МОДЕЛЬ ОБУЧЕНА НА АТАКОВАННЫХ ИЗОБРАЖЕНИЯХ\",clf_attack)"
   ]
  },
  {
   "cell_type": "code",
   "execution_count": 29,
   "id": "f52f5429",
   "metadata": {},
   "outputs": [
    {
     "name": "stdout",
     "output_type": "stream",
     "text": [
      "ПРОВЕРКА ДЛЯ АТАКИ СОЛЬ-ПЕРЕЦ. МОДЕЛЬ ОБУЧЕНА НА НЕАТАКОВАННЫХ ИЗОБРАЖЕНИЯХ\n",
      "       0      1\n",
      "0  38913   3471\n",
      "1   4861  34675\n",
      "\n",
      "              precision    recall  f1-score   support\n",
      "\n",
      "           0       0.89      0.92      0.90     42384\n",
      "           1       0.91      0.88      0.89     39536\n",
      "\n",
      "    accuracy                           0.90     81920\n",
      "   macro avg       0.90      0.90      0.90     81920\n",
      "weighted avg       0.90      0.90      0.90     81920\n",
      "\n",
      "\n",
      "побитовое сравнение =  91.69921875\n"
     ]
    }
   ],
   "source": [
    "NO_AttackModel_Test(saltpaper,\"W_R/WR_SP.tif\", \"ПРОВЕРКА ДЛЯ АТАКИ СОЛЬ-ПЕРЕЦ. МОДЕЛЬ ОБУЧЕНА НА НЕАТАКОВАННЫХ ИЗОБРАЖЕНИЯХ\",clf_attack)"
   ]
  },
  {
   "cell_type": "code",
   "execution_count": 30,
   "id": "01b38f43",
   "metadata": {},
   "outputs": [
    {
     "name": "stdout",
     "output_type": "stream",
     "text": [
      "ПРОВЕРКА ДЛЯ АТАКИ median. МОДЕЛЬ ОБУЧЕНА НА НЕАТАКОВАННЫХ ИЗОБРАЖЕНИЯХ\n",
      "       0      1\n",
      "0  24797  17587\n",
      "1  20906  18630\n",
      "\n",
      "              precision    recall  f1-score   support\n",
      "\n",
      "           0       0.54      0.59      0.56     42384\n",
      "           1       0.51      0.47      0.49     39536\n",
      "\n",
      "    accuracy                           0.53     81920\n",
      "   macro avg       0.53      0.53      0.53     81920\n",
      "weighted avg       0.53      0.53      0.53     81920\n",
      "\n",
      "\n",
      "побитовое сравнение =  52.83203125\n"
     ]
    }
   ],
   "source": [
    "NO_AttackModel_Test(median,\"W_R/WR_median.tif\", \"ПРОВЕРКА ДЛЯ АТАКИ median. МОДЕЛЬ ОБУЧЕНА НА НЕАТАКОВАННЫХ ИЗОБРАЖЕНИЯХ\",clf_attack)"
   ]
  },
  {
   "cell_type": "code",
   "execution_count": null,
   "id": "f2e6e8ea",
   "metadata": {},
   "outputs": [],
   "source": []
  }
 ],
 "metadata": {
  "kernelspec": {
   "display_name": "Python 3 (ipykernel)",
   "language": "python",
   "name": "python3"
  },
  "language_info": {
   "codemirror_mode": {
    "name": "ipython",
    "version": 3
   },
   "file_extension": ".py",
   "mimetype": "text/x-python",
   "name": "python",
   "nbconvert_exporter": "python",
   "pygments_lexer": "ipython3",
   "version": "3.9.0"
  }
 },
 "nbformat": 4,
 "nbformat_minor": 5
}
