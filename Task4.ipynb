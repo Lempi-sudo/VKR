{
 "cells": [
  {
   "cell_type": "code",
   "execution_count": 1,
   "id": "7db6bce9",
   "metadata": {},
   "outputs": [],
   "source": [
    "import numpy as np\n",
    "import matplotlib.pyplot as plt\n",
    "import pandas as pd \n",
    "from PIL import Image\n",
    "from sklearn.metrics import confusion_matrix\n",
    "from sklearn.metrics import accuracy_score\n",
    "from sklearn.model_selection import train_test_split\n",
    "from sklearn.neural_network import MLPClassifier\n",
    "from sklearn.metrics import classification_report\n",
    "from ImageWork import *\n",
    "import cv2"
   ]
  },
  {
   "cell_type": "code",
   "execution_count": 62,
   "id": "0c523317",
   "metadata": {},
   "outputs": [],
   "source": [
    "def pobitovo_sravnenie_WaterMark(W1, W2 , total_bit=1024 ):\n",
    "    t1 = W1==W2\n",
    "    sum=t1.sum()\n",
    "    return sum/total_bit*100\n",
    "\n",
    "def psnr(W, Wr):\n",
    "    e = (np.sum((W - Wr) ** 2)) / (len(W) * len(W))\n",
    "    p = 10 * np.log10(255 ** 2 / e)\n",
    "    return p\n",
    "    \n",
    "\n",
    "def psnrCV2(W, Wr):\n",
    "    p=cv2.PSNR(W,Wr)\n",
    "    return p\n",
    "\n",
    "\n",
    "def one_WM(DataFrame , path_save , path_water_mark , clf):\n",
    "    del DataFrame['Unnamed: 0']\n",
    "    X = DataFrame.iloc[:,[1,2,3,4]].values  \n",
    "    Y=DataFrame.iloc[:,[0]].values\n",
    "    y_predict_image=clf.predict(X)\n",
    "    y_predict_image[y_predict_image>0]=255\n",
    "    y_predict_image=y_predict_image.reshape(32,32)\n",
    "    img = Image.fromarray(y_predict_image.astype(np.uint8))\n",
    "    img.show()\n",
    "    img.save(path_save)\n",
    "    W=WaterMarkLoader.load(path_water_mark)\n",
    "    WR=WaterMarkLoader.load(path_save)\n",
    "    print(\"побитовое сравнение = \", pobitovo_sravnenie_WaterMark(W,WR))\n",
    "    \n",
    "\n",
    "def NO_AttackModel_Test(dataframe,path_save , title , clf, path_water_mark=\"Water Mark Image/WaterMarkRandom.jpg\", index_image=1):\n",
    "    X_dataframe = dataframe.iloc[:,[1,2,3,4]].values  \n",
    "    Y_dataframe = dataframe.iloc[:,[0]].values\n",
    "    X_train, X_test, y_train, y_test = train_test_split(X_dataframe, Y_dataframe, test_size=0.4, random_state=42)\n",
    "    print(title)\n",
    "    y_predict=clf.predict(X_test)\n",
    "    cm = confusion_matrix(y_test, y_predict)\n",
    "    print(pd.DataFrame(cm))\n",
    "    print()\n",
    "    print(classification_report(y_test, y_predict))\n",
    "    print()\n",
    "    X_image_test = dataframe.iloc[:,[1,2,3,4]].values  \n",
    "    i=index_image\n",
    "    y=X_image_test[1024*i:1024*(i+1)]\n",
    "    y_predict_image=clf.predict(y)\n",
    "    y_predict_image[y_predict_image>0]=255\n",
    "    y_predict_image=y_predict_image.reshape(32,32)\n",
    "    img = Image.fromarray(y_predict_image.astype(np.uint8))\n",
    "    img.show()\n",
    "    img.save(path_save)\n",
    "    W=WaterMarkLoader.load(path_water_mark)\n",
    "    WR=WaterMarkLoader.load(path_save)\n",
    "    print(\"побитовое сравнение = \", pobitovo_sravnenie_WaterMark(W,WR))\n"
   ]
  },
  {
   "cell_type": "code",
   "execution_count": 4,
   "id": "5bfaffe2",
   "metadata": {},
   "outputs": [],
   "source": [
    "No_Attack_frame = pd.read_csv('feature_vec/NO_Attack.txt') # ПАРАМЕТР НА ВХОД ФУНКЦИИ\n",
    "del No_Attack_frame['Unnamed: 0']\n",
    "X = No_Attack_frame.iloc[:,[1,2,3,4]].values  \n",
    "Y=No_Attack_frame.iloc[:,[0]].values\n",
    "X_train, X_test, y_train, y_test = train_test_split(X, Y, test_size=0.35, random_state=42)"
   ]
  },
  {
   "cell_type": "code",
   "execution_count": 5,
   "id": "213d86bb",
   "metadata": {},
   "outputs": [
    {
     "name": "stderr",
     "output_type": "stream",
     "text": [
      "d:\\code\\python\\nir\\venv\\lib\\site-packages\\sklearn\\neural_network\\_multilayer_perceptron.py:1109: DataConversionWarning: A column-vector y was passed when a 1d array was expected. Please change the shape of y to (n_samples, ), for example using ravel().\n",
      "  y = column_or_1d(y, warn=True)\n"
     ]
    },
    {
     "name": "stdout",
     "output_type": "stream",
     "text": [
      "Iteration 1, loss = 0.67568280\n",
      "Validation score: 0.734225\n",
      "Iteration 2, loss = 0.45310213\n",
      "Validation score: 0.896334\n",
      "Iteration 3, loss = 0.22664440\n",
      "Validation score: 0.954778\n",
      "Iteration 4, loss = 0.15300323\n",
      "Validation score: 0.971755\n",
      "Iteration 5, loss = 0.12707220\n",
      "Validation score: 0.977314\n",
      "Iteration 6, loss = 0.11211234\n",
      "Validation score: 0.980168\n",
      "Iteration 7, loss = 0.10108586\n",
      "Validation score: 0.978591\n",
      "Iteration 8, loss = 0.09277103\n",
      "Validation score: 0.982722\n",
      "Iteration 9, loss = 0.08530878\n",
      "Validation score: 0.985352\n",
      "Iteration 10, loss = 0.08349619\n",
      "Validation score: 0.979793\n",
      "Iteration 11, loss = 0.07703186\n",
      "Validation score: 0.984450\n",
      "Iteration 12, loss = 0.07645089\n",
      "Validation score: 0.979417\n",
      "Iteration 13, loss = 0.08522400\n",
      "Validation score: 0.982647\n",
      "Iteration 14, loss = 0.07013130\n",
      "Validation score: 0.977990\n",
      "Iteration 15, loss = 0.07164427\n",
      "Validation score: 0.985427\n",
      "Iteration 16, loss = 0.06785500\n",
      "Validation score: 0.986704\n",
      "Iteration 17, loss = 0.07327704\n",
      "Validation score: 0.984225\n",
      "Iteration 18, loss = 0.06736452\n",
      "Validation score: 0.986028\n",
      "Iteration 19, loss = 0.06707892\n",
      "Validation score: 0.988131\n",
      "Iteration 20, loss = 0.06551166\n",
      "Validation score: 0.985051\n",
      "Iteration 21, loss = 0.06503801\n",
      "Validation score: 0.986854\n",
      "Iteration 22, loss = 0.06363232\n",
      "Validation score: 0.985802\n",
      "Iteration 23, loss = 0.06842039\n",
      "Validation score: 0.987004\n",
      "Iteration 24, loss = 0.06333532\n",
      "Validation score: 0.987530\n",
      "Iteration 25, loss = 0.06476325\n",
      "Validation score: 0.986028\n",
      "Iteration 26, loss = 0.06003863\n",
      "Validation score: 0.988206\n",
      "Iteration 27, loss = 0.06143884\n",
      "Validation score: 0.987455\n",
      "Iteration 28, loss = 0.06254529\n",
      "Validation score: 0.985502\n",
      "Iteration 29, loss = 0.05940797\n",
      "Validation score: 0.985802\n",
      "Iteration 30, loss = 0.05955803\n",
      "Validation score: 0.984375\n",
      "Validation score did not improve more than tol=0.000100 for 10 consecutive epochs. Stopping.\n"
     ]
    },
    {
     "data": {
      "text/plain": [
       "MLPClassifier(early_stopping=True, hidden_layer_sizes=(20, 15, 10, 5),\n",
       "              max_iter=1000, verbose=True)"
      ]
     },
     "execution_count": 5,
     "metadata": {},
     "output_type": "execute_result"
    }
   ],
   "source": [
    "from sklearn.neural_network import MLPClassifier\n",
    "clf_no_attack = MLPClassifier(hidden_layer_sizes = (20,15,10,5) , max_iter=1000 ,early_stopping=True , verbose=True)\n",
    "clf_no_attack.fit(X_train, y_train)"
   ]
  },
  {
   "cell_type": "code",
   "execution_count": 6,
   "id": "c58c6caa",
   "metadata": {},
   "outputs": [
    {
     "name": "stdout",
     "output_type": "stream",
     "text": [
      "       0      1\n",
      "0  36802    296\n",
      "1    446  34136\n",
      "              precision    recall  f1-score   support\n",
      "\n",
      "           0       0.99      0.99      0.99     37098\n",
      "           1       0.99      0.99      0.99     34582\n",
      "\n",
      "    accuracy                           0.99     71680\n",
      "   macro avg       0.99      0.99      0.99     71680\n",
      "weighted avg       0.99      0.99      0.99     71680\n",
      "\n"
     ]
    }
   ],
   "source": [
    "y_predict=clf_no_attack.predict(X_test)\n",
    "from sklearn.metrics import confusion_matrix\n",
    "cm = confusion_matrix(y_test, y_predict)\n",
    "print(pd.DataFrame(cm))\n",
    "print(classification_report(y_test, y_predict))"
   ]
  },
  {
   "cell_type": "code",
   "execution_count": 7,
   "id": "dcf92e60",
   "metadata": {},
   "outputs": [
    {
     "name": "stdout",
     "output_type": "stream",
     "text": [
      "побитовое сравнение =  99.12109375\n"
     ]
    }
   ],
   "source": [
    "X_image_test = No_Attack_frame.iloc[:,[1,2,3,4]].values  \n",
    "i=4\n",
    "y=X_image_test[1024*i:1024*(i+1)]\n",
    "y_predict_image=clf_no_attack.predict(y)\n",
    "y_predict_image[y_predict_image>0]=255\n",
    "y_predict_image=y_predict_image.reshape(32,32)\n",
    "img = Image.fromarray(y_predict_image.astype(np.uint8))\n",
    "#img.show()\n",
    "img.save(\"W_R/WR1.tif\")\n",
    "W=WaterMarkLoader.load(\"Water Mark Image/WaterMarkRandom.jpg\")\n",
    "WR=WaterMarkLoader.load(\"W_R/WR1.tif\")\n",
    "print(\"побитовое сравнение = \", pobitovo_sravnenie_WaterMark(W,WR))"
   ]
  },
  {
   "cell_type": "code",
   "execution_count": 8,
   "id": "b433d734",
   "metadata": {},
   "outputs": [],
   "source": [
    "path_averege= \"feature_vec/AverageAttack.txt\"\n",
    "path_histogram=\"feature_vec/HistogramAttack.txt\"\n",
    "path_GammaCor=  \"feature_vec/GammaCorrection.txt\"\n",
    "path_JPEG50= \"feature_vec/JPEG50.txt\"\n",
    "path_median=  \"feature_vec/medianAttack.txt\"\n",
    "path_saltpaper=\"feature_vec/SaltPaperAttack.txt\"\n",
    "path_snarpness= \"feature_vec/Sharpness.txt\""
   ]
  },
  {
   "cell_type": "code",
   "execution_count": 10,
   "id": "c87bc6e1",
   "metadata": {},
   "outputs": [
    {
     "data": {
      "text/html": [
       "<div>\n",
       "<style scoped>\n",
       "    .dataframe tbody tr th:only-of-type {\n",
       "        vertical-align: middle;\n",
       "    }\n",
       "\n",
       "    .dataframe tbody tr th {\n",
       "        vertical-align: top;\n",
       "    }\n",
       "\n",
       "    .dataframe thead th {\n",
       "        text-align: right;\n",
       "    }\n",
       "</style>\n",
       "<table border=\"1\" class=\"dataframe\">\n",
       "  <thead>\n",
       "    <tr style=\"text-align: right;\">\n",
       "      <th></th>\n",
       "      <th>bit</th>\n",
       "      <th>feature_1</th>\n",
       "      <th>feature_2</th>\n",
       "      <th>feature_3</th>\n",
       "      <th>feature_4</th>\n",
       "    </tr>\n",
       "  </thead>\n",
       "  <tbody>\n",
       "    <tr>\n",
       "      <th>0</th>\n",
       "      <td>1</td>\n",
       "      <td>0.0</td>\n",
       "      <td>0.5</td>\n",
       "      <td>-1.0</td>\n",
       "      <td>2.5</td>\n",
       "    </tr>\n",
       "    <tr>\n",
       "      <th>1</th>\n",
       "      <td>0</td>\n",
       "      <td>-6.0</td>\n",
       "      <td>-18.5</td>\n",
       "      <td>-2.5</td>\n",
       "      <td>-19.0</td>\n",
       "    </tr>\n",
       "    <tr>\n",
       "      <th>2</th>\n",
       "      <td>1</td>\n",
       "      <td>15.0</td>\n",
       "      <td>28.0</td>\n",
       "      <td>20.5</td>\n",
       "      <td>34.0</td>\n",
       "    </tr>\n",
       "    <tr>\n",
       "      <th>3</th>\n",
       "      <td>1</td>\n",
       "      <td>-33.0</td>\n",
       "      <td>-2.5</td>\n",
       "      <td>-32.0</td>\n",
       "      <td>-2.5</td>\n",
       "    </tr>\n",
       "    <tr>\n",
       "      <th>4</th>\n",
       "      <td>1</td>\n",
       "      <td>-12.5</td>\n",
       "      <td>-7.0</td>\n",
       "      <td>-16.5</td>\n",
       "      <td>-11.5</td>\n",
       "    </tr>\n",
       "    <tr>\n",
       "      <th>...</th>\n",
       "      <td>...</td>\n",
       "      <td>...</td>\n",
       "      <td>...</td>\n",
       "      <td>...</td>\n",
       "      <td>...</td>\n",
       "    </tr>\n",
       "    <tr>\n",
       "      <th>204795</th>\n",
       "      <td>0</td>\n",
       "      <td>-64.0</td>\n",
       "      <td>31.0</td>\n",
       "      <td>-24.5</td>\n",
       "      <td>35.0</td>\n",
       "    </tr>\n",
       "    <tr>\n",
       "      <th>204796</th>\n",
       "      <td>1</td>\n",
       "      <td>-14.0</td>\n",
       "      <td>-14.5</td>\n",
       "      <td>-2.5</td>\n",
       "      <td>-10.0</td>\n",
       "    </tr>\n",
       "    <tr>\n",
       "      <th>204797</th>\n",
       "      <td>1</td>\n",
       "      <td>12.0</td>\n",
       "      <td>6.5</td>\n",
       "      <td>-0.5</td>\n",
       "      <td>9.0</td>\n",
       "    </tr>\n",
       "    <tr>\n",
       "      <th>204798</th>\n",
       "      <td>1</td>\n",
       "      <td>13.0</td>\n",
       "      <td>-30.0</td>\n",
       "      <td>-22.0</td>\n",
       "      <td>-3.0</td>\n",
       "    </tr>\n",
       "    <tr>\n",
       "      <th>204799</th>\n",
       "      <td>0</td>\n",
       "      <td>7.0</td>\n",
       "      <td>-20.0</td>\n",
       "      <td>-6.0</td>\n",
       "      <td>10.0</td>\n",
       "    </tr>\n",
       "  </tbody>\n",
       "</table>\n",
       "<p>1433600 rows × 5 columns</p>\n",
       "</div>"
      ],
      "text/plain": [
       "        bit  feature_1  feature_2  feature_3  feature_4\n",
       "0         1        0.0        0.5       -1.0        2.5\n",
       "1         0       -6.0      -18.5       -2.5      -19.0\n",
       "2         1       15.0       28.0       20.5       34.0\n",
       "3         1      -33.0       -2.5      -32.0       -2.5\n",
       "4         1      -12.5       -7.0      -16.5      -11.5\n",
       "...     ...        ...        ...        ...        ...\n",
       "204795    0      -64.0       31.0      -24.5       35.0\n",
       "204796    1      -14.0      -14.5       -2.5      -10.0\n",
       "204797    1       12.0        6.5       -0.5        9.0\n",
       "204798    1       13.0      -30.0      -22.0       -3.0\n",
       "204799    0        7.0      -20.0       -6.0       10.0\n",
       "\n",
       "[1433600 rows x 5 columns]"
      ]
     },
     "execution_count": 10,
     "metadata": {},
     "output_type": "execute_result"
    }
   ],
   "source": [
    "averege=pd.read_csv(path_averege) \n",
    "histogram=pd.read_csv(path_histogram)\n",
    "GammaCor=pd.read_csv(path_GammaCor) \n",
    "JPEG50=pd.read_csv(path_JPEG50) \n",
    "median=pd.read_csv(path_median) \n",
    "saltpaper=pd.read_csv(path_saltpaper)\n",
    "snarpness=pd.read_csv(path_snarpness) \n",
    "frames = [averege, histogram, GammaCor , JPEG50, median,saltpaper ,snarpness]\n",
    "DataFrame = pd.concat(frames)\n",
    "del DataFrame['Unnamed: 0']\n",
    "del saltpaper['Unnamed: 0']\n",
    "del averege['Unnamed: 0']\n",
    "del histogram['Unnamed: 0']\n",
    "del GammaCor['Unnamed: 0']\n",
    "del median['Unnamed: 0']\n",
    "del JPEG50['Unnamed: 0']\n",
    "del snarpness['Unnamed: 0']\n",
    "\n",
    "DataFrame"
   ]
  },
  {
   "cell_type": "markdown",
   "id": "6cfca419",
   "metadata": {},
   "source": [
    "### тестирую модель обученную на noattack подсовываю атакованные изображения"
   ]
  },
  {
   "cell_type": "code",
   "execution_count": 11,
   "id": "43d0eba7",
   "metadata": {
    "scrolled": true
   },
   "outputs": [
    {
     "name": "stdout",
     "output_type": "stream",
     "text": [
      "ПРОВЕРКА ДЛЯ АТАКИ СОЛЬ-ПЕРЕЦ. МОДЕЛЬ ОБУЧЕНА НА НЕАТАКОВАННЫХ ИЗОБРАЖЕНИЯХ\n",
      "       0      1\n",
      "0  38663   3721\n",
      "1   1725  37811\n",
      "\n",
      "              precision    recall  f1-score   support\n",
      "\n",
      "           0       0.96      0.91      0.93     42384\n",
      "           1       0.91      0.96      0.93     39536\n",
      "\n",
      "    accuracy                           0.93     81920\n",
      "   macro avg       0.93      0.93      0.93     81920\n",
      "weighted avg       0.93      0.93      0.93     81920\n",
      "\n",
      "\n",
      "побитовое сравнение =  93.06640625\n"
     ]
    }
   ],
   "source": [
    "NO_AttackModel_Test(saltpaper,\"W_R/WR_SP.tif\", \"ПРОВЕРКА ДЛЯ АТАКИ СОЛЬ-ПЕРЕЦ. МОДЕЛЬ ОБУЧЕНА НА НЕАТАКОВАННЫХ ИЗОБРАЖЕНИЯХ\",clf_no_attack,)"
   ]
  },
  {
   "cell_type": "code",
   "execution_count": 12,
   "id": "486e7a88",
   "metadata": {},
   "outputs": [
    {
     "name": "stdout",
     "output_type": "stream",
     "text": [
      "побитовое сравнение =  94.921875\n"
     ]
    }
   ],
   "source": [
    "Attack_Dota_SP = pd.read_csv('feature_vec/SaltPaperAttackDota.txt') # ПАРАМЕТР НА ВХОД ФУНКЦИИ\n",
    "one_WM(Attack_Dota_SP ,\"W_R/WR_SP_Dota.tif\",\"Water Mark Image/waterMark3.jpg\" , clf_no_attack )\n"
   ]
  },
  {
   "cell_type": "code",
   "execution_count": 13,
   "id": "211ace01",
   "metadata": {},
   "outputs": [
    {
     "name": "stdout",
     "output_type": "stream",
     "text": [
      "ПРОВЕРКА ДЛЯ АТАКИ JPEG50. МОДЕЛЬ ОБУЧЕНА НА НЕАТАКОВАННЫХ ИЗОБРАЖЕНИЯХ\n",
      "       0      1\n",
      "0  21573  20811\n",
      "1  19876  19660\n",
      "\n",
      "              precision    recall  f1-score   support\n",
      "\n",
      "           0       0.52      0.51      0.51     42384\n",
      "           1       0.49      0.50      0.49     39536\n",
      "\n",
      "    accuracy                           0.50     81920\n",
      "   macro avg       0.50      0.50      0.50     81920\n",
      "weighted avg       0.50      0.50      0.50     81920\n",
      "\n",
      "\n",
      "побитовое сравнение =  52.24609375\n"
     ]
    }
   ],
   "source": [
    "NO_AttackModel_Test(JPEG50,\"W_R/WR_JPEG50.tif\", \"ПРОВЕРКА ДЛЯ АТАКИ JPEG50. МОДЕЛЬ ОБУЧЕНА НА НЕАТАКОВАННЫХ ИЗОБРАЖЕНИЯХ\",clf_no_attack)"
   ]
  },
  {
   "cell_type": "code",
   "execution_count": 14,
   "id": "630ba6cf",
   "metadata": {},
   "outputs": [
    {
     "name": "stdout",
     "output_type": "stream",
     "text": [
      "побитовое сравнение =  54.6875\n"
     ]
    }
   ],
   "source": [
    "Attack_Dota_jpeg = pd.read_csv('feature_vec/JPEG50Dota.txt') # ПАРАМЕТР НА ВХОД ФУНКЦИИ\n",
    "one_WM(Attack_Dota_jpeg ,\"W_R/WR_jpeg_Dota.tif\",\"Water Mark Image/waterMark3.jpg\" ,clf_no_attack )"
   ]
  },
  {
   "cell_type": "code",
   "execution_count": 15,
   "id": "7a3bda18",
   "metadata": {},
   "outputs": [
    {
     "name": "stdout",
     "output_type": "stream",
     "text": [
      "ПРОВЕРКА ДЛЯ АТАКИ averege - среднее. МОДЕЛЬ ОБУЧЕНА НА НЕАТАКОВАННЫХ ИЗОБРАЖЕНИЯХ\n",
      "       0      1\n",
      "0  22186  20198\n",
      "1  20414  19122\n",
      "\n",
      "              precision    recall  f1-score   support\n",
      "\n",
      "           0       0.52      0.52      0.52     42384\n",
      "           1       0.49      0.48      0.48     39536\n",
      "\n",
      "    accuracy                           0.50     81920\n",
      "   macro avg       0.50      0.50      0.50     81920\n",
      "weighted avg       0.50      0.50      0.50     81920\n",
      "\n",
      "\n",
      "побитовое сравнение =  50.29296875\n"
     ]
    }
   ],
   "source": [
    "NO_AttackModel_Test(averege,\"W_R/WR_averege.tif\", \"ПРОВЕРКА ДЛЯ АТАКИ averege - среднее. МОДЕЛЬ ОБУЧЕНА НА НЕАТАКОВАННЫХ ИЗОБРАЖЕНИЯХ\",clf_no_attack)"
   ]
  },
  {
   "cell_type": "code",
   "execution_count": 17,
   "id": "5318a487",
   "metadata": {},
   "outputs": [
    {
     "name": "stdout",
     "output_type": "stream",
     "text": [
      "побитовое сравнение =  54.39453125\n"
     ]
    }
   ],
   "source": [
    "Attack_Dota_Average = pd.read_csv('feature_vec/AverageAttackDota.txt') # ПАРАМЕТР НА ВХОД ФУНКЦИИ\n",
    "one_WM(Attack_Dota_Average ,\"W_R/WR_Average_Dota.tif\",\"Water Mark Image/waterMark3.jpg\",clf_no_attack )"
   ]
  },
  {
   "cell_type": "code",
   "execution_count": 18,
   "id": "5aea1974",
   "metadata": {},
   "outputs": [
    {
     "name": "stdout",
     "output_type": "stream",
     "text": [
      "ПРОВЕРКА ДЛЯ АТАКИ histogram. МОДЕЛЬ ОБУЧЕНА НА НЕАТАКОВАННЫХ ИЗОБРАЖЕНИЯХ\n",
      "       0      1\n",
      "0  24893  17491\n",
      "1   5939  33597\n",
      "\n",
      "              precision    recall  f1-score   support\n",
      "\n",
      "           0       0.81      0.59      0.68     42384\n",
      "           1       0.66      0.85      0.74     39536\n",
      "\n",
      "    accuracy                           0.71     81920\n",
      "   macro avg       0.73      0.72      0.71     81920\n",
      "weighted avg       0.74      0.71      0.71     81920\n",
      "\n",
      "\n",
      "побитовое сравнение =  70.21484375\n"
     ]
    }
   ],
   "source": [
    "NO_AttackModel_Test(histogram,\"W_R/WR_histogram.tif\", \"ПРОВЕРКА ДЛЯ АТАКИ histogram. МОДЕЛЬ ОБУЧЕНА НА НЕАТАКОВАННЫХ ИЗОБРАЖЕНИЯХ\",clf_no_attack)"
   ]
  },
  {
   "cell_type": "code",
   "execution_count": 19,
   "id": "ad455ccc",
   "metadata": {},
   "outputs": [
    {
     "name": "stdout",
     "output_type": "stream",
     "text": [
      "побитовое сравнение =  82.32421875\n"
     ]
    }
   ],
   "source": [
    "Attack_Dota_Histogram = pd.read_csv('feature_vec/HistogramAttackDota.txt') # ПАРАМЕТР НА ВХОД ФУНКЦИИ\n",
    "one_WM(Attack_Dota_Histogram ,\"W_R/WR_Histogram_Dota.tif\",\"Water Mark Image/waterMark3.jpg\",clf_no_attack )"
   ]
  },
  {
   "cell_type": "code",
   "execution_count": 20,
   "id": "12a69535",
   "metadata": {},
   "outputs": [
    {
     "name": "stdout",
     "output_type": "stream",
     "text": [
      "ПРОВЕРКА ДЛЯ АТАКИ GammaCor. МОДЕЛЬ ОБУЧЕНА НА НЕАТАКОВАННЫХ ИЗОБРАЖЕНИЯХ\n",
      "       0      1\n",
      "0  36009   6375\n",
      "1   3885  35651\n",
      "\n",
      "              precision    recall  f1-score   support\n",
      "\n",
      "           0       0.90      0.85      0.88     42384\n",
      "           1       0.85      0.90      0.87     39536\n",
      "\n",
      "    accuracy                           0.87     81920\n",
      "   macro avg       0.88      0.88      0.87     81920\n",
      "weighted avg       0.88      0.87      0.87     81920\n",
      "\n",
      "\n",
      "побитовое сравнение =  90.8203125\n"
     ]
    }
   ],
   "source": [
    "NO_AttackModel_Test(GammaCor,\"W_R/WR_GammaCor.tif\", \"ПРОВЕРКА ДЛЯ АТАКИ GammaCor. МОДЕЛЬ ОБУЧЕНА НА НЕАТАКОВАННЫХ ИЗОБРАЖЕНИЯХ\",clf_no_attack)"
   ]
  },
  {
   "cell_type": "code",
   "execution_count": 21,
   "id": "b87b8f03",
   "metadata": {},
   "outputs": [
    {
     "name": "stdout",
     "output_type": "stream",
     "text": [
      "побитовое сравнение =  53.515625\n"
     ]
    }
   ],
   "source": [
    "Attack_Dota_GammaCorrection= pd.read_csv('feature_vec/GammaCorrectionCross.txt') # ПАРАМЕТР НА ВХОД ФУНКЦИИ\n",
    "one_WM(Attack_Dota_GammaCorrection ,\"W_R/WR_GammaCorrection.tif\",\"Water Mark Image/waterMark3.jpg\",clf_no_attack )"
   ]
  },
  {
   "cell_type": "code",
   "execution_count": 22,
   "id": "e9258322",
   "metadata": {},
   "outputs": [
    {
     "name": "stdout",
     "output_type": "stream",
     "text": [
      "ПРОВЕРКА ДЛЯ АТАКИ median. МОДЕЛЬ ОБУЧЕНА НА НЕАТАКОВАННЫХ ИЗОБРАЖЕНИЯХ\n",
      "       0      1\n",
      "0  22352  20032\n",
      "1  18855  20681\n",
      "\n",
      "              precision    recall  f1-score   support\n",
      "\n",
      "           0       0.54      0.53      0.53     42384\n",
      "           1       0.51      0.52      0.52     39536\n",
      "\n",
      "    accuracy                           0.53     81920\n",
      "   macro avg       0.53      0.53      0.53     81920\n",
      "weighted avg       0.53      0.53      0.53     81920\n",
      "\n",
      "\n",
      "побитовое сравнение =  54.296875\n"
     ]
    }
   ],
   "source": [
    "NO_AttackModel_Test(median,\"W_R/WR_median.tif\", \"ПРОВЕРКА ДЛЯ АТАКИ median. МОДЕЛЬ ОБУЧЕНА НА НЕАТАКОВАННЫХ ИЗОБРАЖЕНИЯХ\",clf_no_attack)"
   ]
  },
  {
   "cell_type": "code",
   "execution_count": 25,
   "id": "37d74469",
   "metadata": {},
   "outputs": [
    {
     "name": "stdout",
     "output_type": "stream",
     "text": [
      "побитовое сравнение =  64.16015625\n"
     ]
    }
   ],
   "source": [
    "Attack_Cross_medianAttack= pd.read_csv('feature_vec/medianAttackCross.txt') # ПАРАМЕТР НА ВХОД ФУНКЦИИ\n",
    "one_WM(Attack_Cross_medianAttack ,\"W_R/medianAttackCross.tif\",\"Water Mark Image/waterMark2.jpg\",clf_no_attack )"
   ]
  },
  {
   "cell_type": "code",
   "execution_count": 26,
   "id": "07f1653b",
   "metadata": {},
   "outputs": [
    {
     "name": "stdout",
     "output_type": "stream",
     "text": [
      "ПРОВЕРКА ДЛЯ АТАКИ snarpness. МОДЕЛЬ ОБУЧЕНА НА НЕАТАКОВАННЫХ ИЗОБРАЖЕНИЯХ\n",
      "       0      1\n",
      "0  21931  20453\n",
      "1   1557  37979\n",
      "\n",
      "              precision    recall  f1-score   support\n",
      "\n",
      "           0       0.93      0.52      0.67     42384\n",
      "           1       0.65      0.96      0.78     39536\n",
      "\n",
      "    accuracy                           0.73     81920\n",
      "   macro avg       0.79      0.74      0.72     81920\n",
      "weighted avg       0.80      0.73      0.72     81920\n",
      "\n",
      "\n",
      "побитовое сравнение =  71.6796875\n"
     ]
    }
   ],
   "source": [
    "NO_AttackModel_Test(snarpness,\"W_R/WR_snarpness.tif\", \"ПРОВЕРКА ДЛЯ АТАКИ snarpness. МОДЕЛЬ ОБУЧЕНА НА НЕАТАКОВАННЫХ ИЗОБРАЖЕНИЯХ\",clf_no_attack)"
   ]
  },
  {
   "cell_type": "code",
   "execution_count": 28,
   "id": "76f92dd6",
   "metadata": {},
   "outputs": [
    {
     "name": "stdout",
     "output_type": "stream",
     "text": [
      "побитовое сравнение =  75.1953125\n"
     ]
    }
   ],
   "source": [
    "Attack_Cross_Sharpness= pd.read_csv('feature_vec/SharpnessCross.txt') # ПАРАМЕТР НА ВХОД ФУНКЦИИ\n",
    "one_WM(Attack_Cross_Sharpness ,\"W_R/SharpnessCross.tif\",\"Water Mark Image/waterMark2.jpg\",clf_no_attack )"
   ]
  },
  {
   "cell_type": "markdown",
   "id": "dd455357",
   "metadata": {},
   "source": [
    "### тестирую модель обученную на attack image подсовываю атакованные изображения"
   ]
  },
  {
   "cell_type": "code",
   "execution_count": 29,
   "id": "a01d42e4",
   "metadata": {},
   "outputs": [],
   "source": [
    "X = DataFrame.iloc[:,[1,2,3,4]].values  \n",
    "Y=DataFrame.iloc[:,[0]].values\n",
    "X_train, X_test, y_train, y_test = train_test_split(X, Y, test_size=0.4, random_state=42)"
   ]
  },
  {
   "cell_type": "code",
   "execution_count": 30,
   "id": "47132d03",
   "metadata": {},
   "outputs": [
    {
     "name": "stderr",
     "output_type": "stream",
     "text": [
      "d:\\code\\python\\nir\\venv\\lib\\site-packages\\sklearn\\neural_network\\_multilayer_perceptron.py:1109: DataConversionWarning: A column-vector y was passed when a 1d array was expected. Please change the shape of y to (n_samples, ), for example using ravel().\n",
      "  y = column_or_1d(y, warn=True)\n"
     ]
    },
    {
     "name": "stdout",
     "output_type": "stream",
     "text": [
      "Iteration 1, loss = 0.63125830\n",
      "Validation score: 0.687663\n",
      "Iteration 2, loss = 0.59838462\n",
      "Validation score: 0.697126\n",
      "Iteration 3, loss = 0.59200977\n",
      "Validation score: 0.698661\n",
      "Iteration 4, loss = 0.58934567\n",
      "Validation score: 0.700288\n",
      "Iteration 5, loss = 0.58787448\n",
      "Validation score: 0.700323\n",
      "Iteration 6, loss = 0.58675213\n",
      "Validation score: 0.702648\n",
      "Iteration 7, loss = 0.58566990\n",
      "Validation score: 0.701800\n",
      "Iteration 8, loss = 0.58504335\n",
      "Validation score: 0.702486\n",
      "Iteration 9, loss = 0.58437845\n",
      "Validation score: 0.703183\n",
      "Iteration 10, loss = 0.58367957\n",
      "Validation score: 0.703764\n",
      "Iteration 11, loss = 0.58340228\n",
      "Validation score: 0.703950\n",
      "Iteration 12, loss = 0.58296515\n",
      "Validation score: 0.705032\n",
      "Iteration 13, loss = 0.58274818\n",
      "Validation score: 0.703532\n",
      "Iteration 14, loss = 0.58248540\n",
      "Validation score: 0.703974\n",
      "Iteration 15, loss = 0.58232573\n",
      "Validation score: 0.704160\n",
      "Iteration 16, loss = 0.58217310\n",
      "Validation score: 0.704799\n",
      "Iteration 17, loss = 0.58208981\n",
      "Validation score: 0.703927\n",
      "Iteration 18, loss = 0.58177384\n",
      "Validation score: 0.704450\n",
      "Iteration 19, loss = 0.58166443\n",
      "Validation score: 0.702509\n",
      "Iteration 20, loss = 0.58149948\n",
      "Validation score: 0.702613\n",
      "Iteration 21, loss = 0.58148850\n",
      "Validation score: 0.704613\n",
      "Iteration 22, loss = 0.58143915\n",
      "Validation score: 0.703590\n",
      "Iteration 23, loss = 0.58116266\n",
      "Validation score: 0.703939\n",
      "Validation score did not improve more than tol=0.000100 for 10 consecutive epochs. Stopping.\n"
     ]
    },
    {
     "data": {
      "text/plain": [
       "MLPClassifier(early_stopping=True, hidden_layer_sizes=(20, 15, 10, 5),\n",
       "              max_iter=1000, verbose=True)"
      ]
     },
     "execution_count": 30,
     "metadata": {},
     "output_type": "execute_result"
    }
   ],
   "source": [
    "clf_attack = MLPClassifier(hidden_layer_sizes = (20,15,10,5) , max_iter=1000 ,early_stopping=True , verbose=True)\n",
    "clf_attack.fit(X_train, y_train)"
   ]
  },
  {
   "cell_type": "code",
   "execution_count": 31,
   "id": "0b713193",
   "metadata": {},
   "outputs": [
    {
     "name": "stdout",
     "output_type": "stream",
     "text": [
      "        0       1\n",
      "0  223773   72156\n",
      "1   97905  179606\n",
      "              precision    recall  f1-score   support\n",
      "\n",
      "           0       0.70      0.76      0.72    295929\n",
      "           1       0.71      0.65      0.68    277511\n",
      "\n",
      "    accuracy                           0.70    573440\n",
      "   macro avg       0.70      0.70      0.70    573440\n",
      "weighted avg       0.70      0.70      0.70    573440\n",
      "\n"
     ]
    }
   ],
   "source": [
    "y_predict=clf_attack.predict(X_test)\n",
    "cm = confusion_matrix(y_test, y_predict)\n",
    "print(pd.DataFrame(cm))\n",
    "print(classification_report(y_test, y_predict))"
   ]
  },
  {
   "cell_type": "code",
   "execution_count": 32,
   "id": "2b614fcd",
   "metadata": {},
   "outputs": [
    {
     "name": "stdout",
     "output_type": "stream",
     "text": [
      "ПРОВЕРКА ДЛЯ АТАКИ СОЛЬ-ПЕРЕЦ. МОДЕЛЬ ОБУЧЕНА НА НЕАТАКОВАННЫХ ИЗОБРАЖЕНИЯХ\n",
      "       0      1\n",
      "0  39068   3316\n",
      "1   6571  32965\n",
      "\n",
      "              precision    recall  f1-score   support\n",
      "\n",
      "           0       0.86      0.92      0.89     42384\n",
      "           1       0.91      0.83      0.87     39536\n",
      "\n",
      "    accuracy                           0.88     81920\n",
      "   macro avg       0.88      0.88      0.88     81920\n",
      "weighted avg       0.88      0.88      0.88     81920\n",
      "\n",
      "\n",
      "побитовое сравнение =  86.5234375\n"
     ]
    }
   ],
   "source": [
    "NO_AttackModel_Test(saltpaper,\"W_R/WR_SP.tif\", \"ПРОВЕРКА ДЛЯ АТАКИ СОЛЬ-ПЕРЕЦ. МОДЕЛЬ ОБУЧЕНА НА НЕАТАКОВАННЫХ ИЗОБРАЖЕНИЯХ\",clf_attack)"
   ]
  },
  {
   "cell_type": "code",
   "execution_count": 34,
   "id": "f77526a9",
   "metadata": {},
   "outputs": [
    {
     "name": "stdout",
     "output_type": "stream",
     "text": [
      "побитовое сравнение =  84.27734375\n"
     ]
    }
   ],
   "source": [
    "Attack_Dota_SP = pd.read_csv('feature_vec/SaltPaperAttackDota.txt') # ПАРАМЕТР НА ВХОД ФУНКЦИИ\n",
    "one_WM(Attack_Dota_SP ,\"W_R/WR_SP_Dota.tif\",\"Water Mark Image/waterMark3.jpg\",clf_attack )\n"
   ]
  },
  {
   "cell_type": "code",
   "execution_count": 37,
   "id": "cd3b457f",
   "metadata": {
    "scrolled": true
   },
   "outputs": [
    {
     "name": "stdout",
     "output_type": "stream",
     "text": [
      "ПРОВЕРКА ДЛЯ АТАКИ averege - среднее. МОДЕЛЬ ОБУЧЕНА НА НЕАТАКОВАННЫХ ИЗОБРАЖЕНИЯХ\n",
      "       0      1\n",
      "0  26705  15679\n",
      "1  24552  14984\n",
      "\n",
      "              precision    recall  f1-score   support\n",
      "\n",
      "           0       0.52      0.63      0.57     42384\n",
      "           1       0.49      0.38      0.43     39536\n",
      "\n",
      "    accuracy                           0.51     81920\n",
      "   macro avg       0.50      0.50      0.50     81920\n",
      "weighted avg       0.51      0.51      0.50     81920\n",
      "\n",
      "\n",
      "побитовое сравнение =  51.7578125\n"
     ]
    }
   ],
   "source": [
    "NO_AttackModel_Test(averege,\"W_R/WR_averege.tif\", \"ПРОВЕРКА ДЛЯ АТАКИ averege - среднее. МОДЕЛЬ ОБУЧЕНА НА НЕАТАКОВАННЫХ ИЗОБРАЖЕНИЯХ\",clf_attack)"
   ]
  },
  {
   "cell_type": "code",
   "execution_count": 38,
   "id": "0de8524f",
   "metadata": {},
   "outputs": [
    {
     "name": "stdout",
     "output_type": "stream",
     "text": [
      "побитовое сравнение =  51.7578125\n"
     ]
    }
   ],
   "source": [
    "Attack_Dota_Average = pd.read_csv('feature_vec/AverageAttackDota.txt') # ПАРАМЕТР НА ВХОД ФУНКЦИИ\n",
    "one_WM(Attack_Dota_Average ,\"W_R/WR_Average_Dota.tif\",\"Water Mark Image/waterMark3.jpg\",clf_attack )"
   ]
  },
  {
   "cell_type": "code",
   "execution_count": 39,
   "id": "b7bf146c",
   "metadata": {},
   "outputs": [
    {
     "name": "stdout",
     "output_type": "stream",
     "text": [
      "ПРОВЕРКА ДЛЯ АТАКИ histogram. МОДЕЛЬ ОБУЧЕНА НА НЕАТАКОВАННЫХ ИЗОБРАЖЕНИЯХ\n",
      "       0      1\n",
      "0  33186   9198\n",
      "1   8942  30594\n",
      "\n",
      "              precision    recall  f1-score   support\n",
      "\n",
      "           0       0.79      0.78      0.79     42384\n",
      "           1       0.77      0.77      0.77     39536\n",
      "\n",
      "    accuracy                           0.78     81920\n",
      "   macro avg       0.78      0.78      0.78     81920\n",
      "weighted avg       0.78      0.78      0.78     81920\n",
      "\n",
      "\n",
      "побитовое сравнение =  81.640625\n"
     ]
    }
   ],
   "source": [
    "NO_AttackModel_Test(histogram,\"W_R/WR_histogram.tif\", \"ПРОВЕРКА ДЛЯ АТАКИ histogram. МОДЕЛЬ ОБУЧЕНА НА НЕАТАКОВАННЫХ ИЗОБРАЖЕНИЯХ\",clf_attack)"
   ]
  },
  {
   "cell_type": "code",
   "execution_count": 40,
   "id": "79ab7f95",
   "metadata": {},
   "outputs": [
    {
     "name": "stdout",
     "output_type": "stream",
     "text": [
      "побитовое сравнение =  84.86328125\n"
     ]
    }
   ],
   "source": [
    "Attack_Dota_Histogram = pd.read_csv('feature_vec/HistogramAttackDota.txt') # ПАРАМЕТР НА ВХОД ФУНКЦИИ\n",
    "one_WM(Attack_Dota_Histogram ,\"W_R/WR_Histogram_Dota.tif\",\"Water Mark Image/waterMark3.jpg\",clf_attack )"
   ]
  },
  {
   "cell_type": "code",
   "execution_count": 41,
   "id": "526e8bd7",
   "metadata": {},
   "outputs": [
    {
     "name": "stdout",
     "output_type": "stream",
     "text": [
      "ПРОВЕРКА ДЛЯ АТАКИ GammaCor. МОДЕЛЬ ОБУЧЕНА НА НЕАТАКОВАННЫХ ИЗОБРАЖЕНИЯХ\n",
      "       0      1\n",
      "0  40530   1854\n",
      "1   7217  32319\n",
      "\n",
      "              precision    recall  f1-score   support\n",
      "\n",
      "           0       0.85      0.96      0.90     42384\n",
      "           1       0.95      0.82      0.88     39536\n",
      "\n",
      "    accuracy                           0.89     81920\n",
      "   macro avg       0.90      0.89      0.89     81920\n",
      "weighted avg       0.90      0.89      0.89     81920\n",
      "\n",
      "\n",
      "побитовое сравнение =  87.3046875\n"
     ]
    }
   ],
   "source": [
    "NO_AttackModel_Test(GammaCor,\"W_R/WR_GammaCor.tif\", \"ПРОВЕРКА ДЛЯ АТАКИ GammaCor. МОДЕЛЬ ОБУЧЕНА НА НЕАТАКОВАННЫХ ИЗОБРАЖЕНИЯХ\",clf_attack)"
   ]
  },
  {
   "cell_type": "code",
   "execution_count": 42,
   "id": "c03a7e22",
   "metadata": {},
   "outputs": [
    {
     "name": "stdout",
     "output_type": "stream",
     "text": [
      "побитовое сравнение =  49.21875\n"
     ]
    }
   ],
   "source": [
    "Attack_Dota_GammaCorrection= pd.read_csv('feature_vec/GammaCorrectionCross.txt') # ПАРАМЕТР НА ВХОД ФУНКЦИИ\n",
    "one_WM(Attack_Dota_GammaCorrection ,\"W_R/WR_GammaCorrection.tif\",\"Water Mark Image/waterMark3.jpg\",clf_attack )"
   ]
  },
  {
   "cell_type": "code",
   "execution_count": 43,
   "id": "aa516f4d",
   "metadata": {},
   "outputs": [
    {
     "name": "stdout",
     "output_type": "stream",
     "text": [
      "ПРОВЕРКА ДЛЯ АТАКИ median. МОДЕЛЬ ОБУЧЕНА НА НЕАТАКОВАННЫХ ИЗОБРАЖЕНИЯХ\n",
      "       0      1\n",
      "0  26142  16242\n",
      "1  22072  17464\n",
      "\n",
      "              precision    recall  f1-score   support\n",
      "\n",
      "           0       0.54      0.62      0.58     42384\n",
      "           1       0.52      0.44      0.48     39536\n",
      "\n",
      "    accuracy                           0.53     81920\n",
      "   macro avg       0.53      0.53      0.53     81920\n",
      "weighted avg       0.53      0.53      0.53     81920\n",
      "\n",
      "\n",
      "побитовое сравнение =  54.8828125\n"
     ]
    }
   ],
   "source": [
    "NO_AttackModel_Test(median,\"W_R/WR_median.tif\", \"ПРОВЕРКА ДЛЯ АТАКИ median. МОДЕЛЬ ОБУЧЕНА НА НЕАТАКОВАННЫХ ИЗОБРАЖЕНИЯХ\",clf_attack)"
   ]
  },
  {
   "cell_type": "code",
   "execution_count": 44,
   "id": "64402a65",
   "metadata": {},
   "outputs": [
    {
     "name": "stdout",
     "output_type": "stream",
     "text": [
      "побитовое сравнение =  57.71484375\n"
     ]
    }
   ],
   "source": [
    "Attack_Cross_medianAttack= pd.read_csv('feature_vec/medianAttackCross.txt') # ПАРАМЕТР НА ВХОД ФУНКЦИИ\n",
    "one_WM(Attack_Cross_medianAttack ,\"W_R/medianAttackCross.tif\",\"Water Mark Image/waterMark2.jpg\",clf_attack )"
   ]
  },
  {
   "cell_type": "code",
   "execution_count": 45,
   "id": "c4ccd601",
   "metadata": {},
   "outputs": [
    {
     "name": "stdout",
     "output_type": "stream",
     "text": [
      "ПРОВЕРКА ДЛЯ АТАКИ snarpness. МОДЕЛЬ ОБУЧЕНА НА НЕАТАКОВАННЫХ ИЗОБРАЖЕНИЯХ\n",
      "       0      1\n",
      "0  32650   9734\n",
      "1   4406  35130\n",
      "\n",
      "              precision    recall  f1-score   support\n",
      "\n",
      "           0       0.88      0.77      0.82     42384\n",
      "           1       0.78      0.89      0.83     39536\n",
      "\n",
      "    accuracy                           0.83     81920\n",
      "   macro avg       0.83      0.83      0.83     81920\n",
      "weighted avg       0.83      0.83      0.83     81920\n",
      "\n",
      "\n",
      "побитовое сравнение =  83.49609375\n"
     ]
    }
   ],
   "source": [
    "NO_AttackModel_Test(snarpness,\"W_R/WR_snarpness.tif\", \"ПРОВЕРКА ДЛЯ АТАКИ snarpness. МОДЕЛЬ ОБУЧЕНА НА НЕАТАКОВАННЫХ ИЗОБРАЖЕНИЯХ\",clf_attack)"
   ]
  },
  {
   "cell_type": "code",
   "execution_count": 46,
   "id": "d0f5b146",
   "metadata": {},
   "outputs": [
    {
     "name": "stdout",
     "output_type": "stream",
     "text": [
      "побитовое сравнение =  78.3203125\n"
     ]
    }
   ],
   "source": [
    "Attack_Cross_Sharpness= pd.read_csv('feature_vec/SharpnessCross.txt') # ПАРАМЕТР НА ВХОД ФУНКЦИИ\n",
    "one_WM(Attack_Cross_Sharpness ,\"W_R/SharpnessCross.tif\",\"Water Mark Image/waterMark2.jpg\",clf_attack )"
   ]
  },
  {
   "cell_type": "code",
   "execution_count": 47,
   "id": "fe25c6e0",
   "metadata": {},
   "outputs": [
    {
     "name": "stdout",
     "output_type": "stream",
     "text": [
      "ПРОВЕРКА ДЛЯ АТАКИ JPEG50. МОДЕЛЬ ОБУЧЕНА НА НЕАТАКОВАННЫХ ИЗОБРАЖЕНИЯХ\n",
      "       0      1\n",
      "0  26495  15889\n",
      "1  23860  15676\n",
      "\n",
      "              precision    recall  f1-score   support\n",
      "\n",
      "           0       0.53      0.63      0.57     42384\n",
      "           1       0.50      0.40      0.44     39536\n",
      "\n",
      "    accuracy                           0.51     81920\n",
      "   macro avg       0.51      0.51      0.51     81920\n",
      "weighted avg       0.51      0.51      0.51     81920\n",
      "\n",
      "\n",
      "побитовое сравнение =  51.46484375\n"
     ]
    }
   ],
   "source": [
    "NO_AttackModel_Test(JPEG50,\"W_R/WR_JPEG50.tif\", \"ПРОВЕРКА ДЛЯ АТАКИ JPEG50. МОДЕЛЬ ОБУЧЕНА НА НЕАТАКОВАННЫХ ИЗОБРАЖЕНИЯХ\",clf_attack)"
   ]
  },
  {
   "cell_type": "code",
   "execution_count": 48,
   "id": "7b587a42",
   "metadata": {},
   "outputs": [
    {
     "name": "stdout",
     "output_type": "stream",
     "text": [
      "побитовое сравнение =  54.98046875\n"
     ]
    }
   ],
   "source": [
    "Attack_Dota_jpeg = pd.read_csv('feature_vec/JPEG50Dota.txt') # ПАРАМЕТР НА ВХОД ФУНКЦИИ\n",
    "one_WM(Attack_Dota_jpeg ,\"W_R/WR_jpeg_Dota.tif\",\"Water Mark Image/waterMark3.jpg\" ,clf_attack )"
   ]
  },
  {
   "cell_type": "markdown",
   "id": "fa1ca33b",
   "metadata": {},
   "source": [
    "#  Обучаю сеть на одной конкретной атаке и смотрю на результат"
   ]
  },
  {
   "cell_type": "markdown",
   "id": "5f89886b",
   "metadata": {},
   "source": [
    "### Медианная фильтрация"
   ]
  },
  {
   "cell_type": "code",
   "execution_count": 59,
   "id": "d2c19c3c",
   "metadata": {},
   "outputs": [
    {
     "data": {
      "text/html": [
       "<div>\n",
       "<style scoped>\n",
       "    .dataframe tbody tr th:only-of-type {\n",
       "        vertical-align: middle;\n",
       "    }\n",
       "\n",
       "    .dataframe tbody tr th {\n",
       "        vertical-align: top;\n",
       "    }\n",
       "\n",
       "    .dataframe thead th {\n",
       "        text-align: right;\n",
       "    }\n",
       "</style>\n",
       "<table border=\"1\" class=\"dataframe\">\n",
       "  <thead>\n",
       "    <tr style=\"text-align: right;\">\n",
       "      <th></th>\n",
       "      <th>bit</th>\n",
       "      <th>feature_1</th>\n",
       "      <th>feature_2</th>\n",
       "      <th>feature_3</th>\n",
       "      <th>feature_4</th>\n",
       "    </tr>\n",
       "  </thead>\n",
       "  <tbody>\n",
       "    <tr>\n",
       "      <th>0</th>\n",
       "      <td>1</td>\n",
       "      <td>0.0</td>\n",
       "      <td>0.0</td>\n",
       "      <td>-1.5</td>\n",
       "      <td>1.5</td>\n",
       "    </tr>\n",
       "    <tr>\n",
       "      <th>1</th>\n",
       "      <td>0</td>\n",
       "      <td>-3.0</td>\n",
       "      <td>-31.5</td>\n",
       "      <td>-5.0</td>\n",
       "      <td>-38.0</td>\n",
       "    </tr>\n",
       "    <tr>\n",
       "      <th>2</th>\n",
       "      <td>1</td>\n",
       "      <td>0.0</td>\n",
       "      <td>27.0</td>\n",
       "      <td>0.5</td>\n",
       "      <td>29.5</td>\n",
       "    </tr>\n",
       "    <tr>\n",
       "      <th>3</th>\n",
       "      <td>1</td>\n",
       "      <td>-31.0</td>\n",
       "      <td>-3.5</td>\n",
       "      <td>-44.0</td>\n",
       "      <td>3.5</td>\n",
       "    </tr>\n",
       "    <tr>\n",
       "      <th>4</th>\n",
       "      <td>1</td>\n",
       "      <td>-21.0</td>\n",
       "      <td>0.0</td>\n",
       "      <td>-18.0</td>\n",
       "      <td>-3.5</td>\n",
       "    </tr>\n",
       "    <tr>\n",
       "      <th>...</th>\n",
       "      <td>...</td>\n",
       "      <td>...</td>\n",
       "      <td>...</td>\n",
       "      <td>...</td>\n",
       "      <td>...</td>\n",
       "    </tr>\n",
       "    <tr>\n",
       "      <th>204795</th>\n",
       "      <td>0</td>\n",
       "      <td>-6.5</td>\n",
       "      <td>3.0</td>\n",
       "      <td>-1.0</td>\n",
       "      <td>3.0</td>\n",
       "    </tr>\n",
       "    <tr>\n",
       "      <th>204796</th>\n",
       "      <td>1</td>\n",
       "      <td>-3.5</td>\n",
       "      <td>16.5</td>\n",
       "      <td>0.5</td>\n",
       "      <td>-2.5</td>\n",
       "    </tr>\n",
       "    <tr>\n",
       "      <th>204797</th>\n",
       "      <td>1</td>\n",
       "      <td>0.5</td>\n",
       "      <td>-8.0</td>\n",
       "      <td>6.5</td>\n",
       "      <td>-2.5</td>\n",
       "    </tr>\n",
       "    <tr>\n",
       "      <th>204798</th>\n",
       "      <td>1</td>\n",
       "      <td>2.0</td>\n",
       "      <td>28.0</td>\n",
       "      <td>-2.0</td>\n",
       "      <td>49.0</td>\n",
       "    </tr>\n",
       "    <tr>\n",
       "      <th>204799</th>\n",
       "      <td>0</td>\n",
       "      <td>28.0</td>\n",
       "      <td>3.5</td>\n",
       "      <td>27.5</td>\n",
       "      <td>9.0</td>\n",
       "    </tr>\n",
       "  </tbody>\n",
       "</table>\n",
       "<p>409600 rows × 5 columns</p>\n",
       "</div>"
      ],
      "text/plain": [
       "        bit  feature_1  feature_2  feature_3  feature_4\n",
       "0         1        0.0        0.0       -1.5        1.5\n",
       "1         0       -3.0      -31.5       -5.0      -38.0\n",
       "2         1        0.0       27.0        0.5       29.5\n",
       "3         1      -31.0       -3.5      -44.0        3.5\n",
       "4         1      -21.0        0.0      -18.0       -3.5\n",
       "...     ...        ...        ...        ...        ...\n",
       "204795    0       -6.5        3.0       -1.0        3.0\n",
       "204796    1       -3.5       16.5        0.5       -2.5\n",
       "204797    1        0.5       -8.0        6.5       -2.5\n",
       "204798    1        2.0       28.0       -2.0       49.0\n",
       "204799    0       28.0        3.5       27.5        9.0\n",
       "\n",
       "[409600 rows x 5 columns]"
      ]
     },
     "execution_count": 59,
     "metadata": {},
     "output_type": "execute_result"
    }
   ],
   "source": [
    "median=pd.read_csv(path_median) \n",
    "No_Attack_frame = pd.read_csv('feature_vec/NO_Attack.txt') # ПАРАМЕТР НА ВХОД ФУНКЦИИ\n",
    "frames = [ median , No_Attack_frame ]\n",
    "DataFrame = pd.concat(frames)\n",
    "del DataFrame['Unnamed: 0']\n",
    "del median['Unnamed: 0']\n",
    "DataFrame"
   ]
  },
  {
   "cell_type": "code",
   "execution_count": 60,
   "id": "c40a63bf",
   "metadata": {},
   "outputs": [],
   "source": [
    "X = DataFrame.iloc[:,[1,2,3,4]].values  \n",
    "Y=DataFrame.iloc[:,[0]].values\n",
    "X_train, X_test, y_train, y_test = train_test_split(X, Y, test_size=0.35, random_state=42)"
   ]
  },
  {
   "cell_type": "code",
   "execution_count": 61,
   "id": "1aa01ac3",
   "metadata": {},
   "outputs": [
    {
     "name": "stderr",
     "output_type": "stream",
     "text": [
      "d:\\code\\python\\nir\\venv\\lib\\site-packages\\sklearn\\neural_network\\_multilayer_perceptron.py:1109: DataConversionWarning: A column-vector y was passed when a 1d array was expected. Please change the shape of y to (n_samples, ), for example using ravel().\n",
      "  y = column_or_1d(y, warn=True)\n"
     ]
    },
    {
     "name": "stdout",
     "output_type": "stream",
     "text": [
      "Iteration 1, loss = 0.66260449\n",
      "Validation score: 0.661546\n",
      "Iteration 2, loss = 0.61370609\n",
      "Validation score: 0.709923\n",
      "Iteration 3, loss = 0.58499339\n",
      "Validation score: 0.723182\n",
      "Iteration 4, loss = 0.56657940\n",
      "Validation score: 0.739183\n",
      "Iteration 5, loss = 0.55635697\n",
      "Validation score: 0.740723\n",
      "Iteration 6, loss = 0.55101474\n",
      "Validation score: 0.746357\n",
      "Iteration 7, loss = 0.54729739\n",
      "Validation score: 0.747521\n",
      "Iteration 8, loss = 0.54526871\n",
      "Validation score: 0.747671\n",
      "Iteration 9, loss = 0.54396809\n",
      "Validation score: 0.749061\n",
      "Iteration 10, loss = 0.54360169\n",
      "Validation score: 0.749023\n",
      "Iteration 11, loss = 0.54020137\n",
      "Validation score: 0.750601\n",
      "Iteration 12, loss = 0.53939494\n",
      "Validation score: 0.751390\n",
      "Iteration 13, loss = 0.53872741\n",
      "Validation score: 0.751164\n",
      "Iteration 14, loss = 0.53835521\n",
      "Validation score: 0.749099\n",
      "Iteration 15, loss = 0.53758356\n",
      "Validation score: 0.751540\n",
      "Iteration 16, loss = 0.53705065\n",
      "Validation score: 0.749437\n",
      "Iteration 17, loss = 0.53655836\n",
      "Validation score: 0.752479\n",
      "Iteration 18, loss = 0.53657038\n",
      "Validation score: 0.751164\n",
      "Iteration 19, loss = 0.53621755\n",
      "Validation score: 0.752366\n",
      "Iteration 20, loss = 0.53582521\n",
      "Validation score: 0.753831\n",
      "Iteration 21, loss = 0.53571574\n",
      "Validation score: 0.751765\n",
      "Iteration 22, loss = 0.53521701\n",
      "Validation score: 0.752930\n",
      "Iteration 23, loss = 0.53518905\n",
      "Validation score: 0.751164\n",
      "Iteration 24, loss = 0.53444418\n",
      "Validation score: 0.750300\n",
      "Iteration 25, loss = 0.53446052\n",
      "Validation score: 0.751653\n",
      "Iteration 26, loss = 0.53467333\n",
      "Validation score: 0.751164\n",
      "Iteration 27, loss = 0.53409531\n",
      "Validation score: 0.753418\n",
      "Iteration 28, loss = 0.53442129\n",
      "Validation score: 0.753193\n",
      "Iteration 29, loss = 0.53394534\n",
      "Validation score: 0.754132\n",
      "Iteration 30, loss = 0.53386205\n",
      "Validation score: 0.753155\n",
      "Iteration 31, loss = 0.53366436\n",
      "Validation score: 0.753005\n",
      "Iteration 32, loss = 0.53330286\n",
      "Validation score: 0.751502\n",
      "Iteration 33, loss = 0.53343440\n",
      "Validation score: 0.752667\n",
      "Iteration 34, loss = 0.53321966\n",
      "Validation score: 0.753606\n",
      "Iteration 35, loss = 0.53264728\n",
      "Validation score: 0.753568\n",
      "Iteration 36, loss = 0.53273899\n",
      "Validation score: 0.753117\n",
      "Iteration 37, loss = 0.53207873\n",
      "Validation score: 0.752291\n",
      "Iteration 38, loss = 0.53255049\n",
      "Validation score: 0.754432\n",
      "Iteration 39, loss = 0.53212875\n",
      "Validation score: 0.753418\n",
      "Iteration 40, loss = 0.53247921\n",
      "Validation score: 0.752855\n",
      "Iteration 41, loss = 0.53168951\n",
      "Validation score: 0.753981\n",
      "Iteration 42, loss = 0.53158844\n",
      "Validation score: 0.752779\n",
      "Iteration 43, loss = 0.53152337\n",
      "Validation score: 0.752592\n",
      "Iteration 44, loss = 0.53212497\n",
      "Validation score: 0.752855\n",
      "Iteration 45, loss = 0.53150743\n",
      "Validation score: 0.751728\n",
      "Iteration 46, loss = 0.53137290\n",
      "Validation score: 0.754056\n",
      "Iteration 47, loss = 0.53120905\n",
      "Validation score: 0.753230\n",
      "Iteration 48, loss = 0.53118508\n",
      "Validation score: 0.752517\n",
      "Iteration 49, loss = 0.53131275\n",
      "Validation score: 0.749887\n",
      "Validation score did not improve more than tol=0.000100 for 10 consecutive epochs. Stopping.\n"
     ]
    },
    {
     "data": {
      "text/plain": [
       "MLPClassifier(early_stopping=True, hidden_layer_sizes=(20, 15, 10, 5),\n",
       "              max_iter=1000, verbose=True)"
      ]
     },
     "execution_count": 61,
     "metadata": {},
     "output_type": "execute_result"
    }
   ],
   "source": [
    "clf_specific_attack = MLPClassifier(hidden_layer_sizes = (20,15,10,5) , max_iter=1000 ,early_stopping=True , verbose=True)\n",
    "clf_specific_attack.fit(X_train, y_train)"
   ]
  },
  {
   "cell_type": "code",
   "execution_count": 63,
   "id": "02436ec1",
   "metadata": {},
   "outputs": [
    {
     "name": "stdout",
     "output_type": "stream",
     "text": [
      "ПРОВЕРКА ДЛЯ АТАКИ median. МОДЕЛЬ ОБУЧЕНА НА НЕАТАКОВАННЫХ ИЗОБРАЖЕНИЯХ\n",
      "       0      1\n",
      "0  22893  19491\n",
      "1  19163  20373\n",
      "\n",
      "              precision    recall  f1-score   support\n",
      "\n",
      "           0       0.54      0.54      0.54     42384\n",
      "           1       0.51      0.52      0.51     39536\n",
      "\n",
      "    accuracy                           0.53     81920\n",
      "   macro avg       0.53      0.53      0.53     81920\n",
      "weighted avg       0.53      0.53      0.53     81920\n",
      "\n",
      "\n",
      "побитовое сравнение =  54.98046875\n"
     ]
    }
   ],
   "source": [
    "NO_AttackModel_Test(median,\"W_R/WR_median.tif\", \"ПРОВЕРКА ДЛЯ АТАКИ median. МОДЕЛЬ ОБУЧЕНА НА НЕАТАКОВАННЫХ ИЗОБРАЖЕНИЯХ\",clf_specific_attack)"
   ]
  },
  {
   "cell_type": "code",
   "execution_count": 65,
   "id": "75d040f1",
   "metadata": {},
   "outputs": [
    {
     "name": "stdout",
     "output_type": "stream",
     "text": [
      "побитовое сравнение =  62.6953125\n"
     ]
    }
   ],
   "source": [
    "Attack_Cross_medianAttack= pd.read_csv('feature_vec/medianAttackCross.txt') # ПАРАМЕТР НА ВХОД ФУНКЦИИ\n",
    "one_WM(Attack_Cross_medianAttack ,\"W_R/medianAttackCross.tif\",\"Water Mark Image/waterMark2.jpg\",clf_specific_attack )"
   ]
  },
  {
   "cell_type": "markdown",
   "id": "9996115a",
   "metadata": {},
   "source": [
    "### Среднее"
   ]
  },
  {
   "cell_type": "code",
   "execution_count": 67,
   "id": "80311eed",
   "metadata": {},
   "outputs": [
    {
     "name": "stderr",
     "output_type": "stream",
     "text": [
      "d:\\code\\python\\nir\\venv\\lib\\site-packages\\sklearn\\neural_network\\_multilayer_perceptron.py:1109: DataConversionWarning: A column-vector y was passed when a 1d array was expected. Please change the shape of y to (n_samples, ), for example using ravel().\n",
      "  y = column_or_1d(y, warn=True)\n"
     ]
    },
    {
     "name": "stdout",
     "output_type": "stream",
     "text": [
      "Iteration 1, loss = 0.65988510\n",
      "Validation score: 0.668607\n",
      "Iteration 2, loss = 0.61363296\n",
      "Validation score: 0.714581\n",
      "Iteration 3, loss = 0.58360378\n",
      "Validation score: 0.721867\n",
      "Iteration 4, loss = 0.57001085\n",
      "Validation score: 0.734488\n",
      "Iteration 5, loss = 0.56315088\n",
      "Validation score: 0.731596\n",
      "Iteration 6, loss = 0.55905855\n",
      "Validation score: 0.737868\n",
      "Iteration 7, loss = 0.55591707\n",
      "Validation score: 0.738469\n",
      "Iteration 8, loss = 0.55397974\n",
      "Validation score: 0.741136\n",
      "Iteration 9, loss = 0.55246368\n",
      "Validation score: 0.741136\n",
      "Iteration 10, loss = 0.55051788\n",
      "Validation score: 0.742638\n",
      "Iteration 11, loss = 0.54933223\n",
      "Validation score: 0.743990\n",
      "Iteration 12, loss = 0.54846985\n",
      "Validation score: 0.744967\n",
      "Iteration 13, loss = 0.54803017\n",
      "Validation score: 0.744704\n",
      "Iteration 14, loss = 0.54768195\n",
      "Validation score: 0.743014\n",
      "Iteration 15, loss = 0.54679225\n",
      "Validation score: 0.744892\n",
      "Iteration 16, loss = 0.54647378\n",
      "Validation score: 0.743051\n",
      "Iteration 17, loss = 0.54644176\n",
      "Validation score: 0.745530\n",
      "Iteration 18, loss = 0.54617894\n",
      "Validation score: 0.745981\n",
      "Iteration 19, loss = 0.54544567\n",
      "Validation score: 0.746732\n",
      "Iteration 20, loss = 0.54522546\n",
      "Validation score: 0.743878\n",
      "Iteration 21, loss = 0.54508925\n",
      "Validation score: 0.746319\n",
      "Iteration 22, loss = 0.54491570\n",
      "Validation score: 0.746131\n",
      "Iteration 23, loss = 0.54498809\n",
      "Validation score: 0.745005\n",
      "Iteration 24, loss = 0.54496479\n",
      "Validation score: 0.745793\n",
      "Iteration 25, loss = 0.54415085\n",
      "Validation score: 0.745117\n",
      "Iteration 26, loss = 0.54390789\n",
      "Validation score: 0.745681\n",
      "Iteration 27, loss = 0.54422728\n",
      "Validation score: 0.746131\n",
      "Iteration 28, loss = 0.54419949\n",
      "Validation score: 0.744404\n",
      "Iteration 29, loss = 0.54372822\n",
      "Validation score: 0.745418\n",
      "Iteration 30, loss = 0.54347642\n",
      "Validation score: 0.746732\n",
      "Validation score did not improve more than tol=0.000100 for 10 consecutive epochs. Stopping.\n"
     ]
    },
    {
     "data": {
      "text/plain": [
       "MLPClassifier(early_stopping=True, hidden_layer_sizes=(20, 15, 10, 5),\n",
       "              max_iter=1000, verbose=True)"
      ]
     },
     "execution_count": 67,
     "metadata": {},
     "output_type": "execute_result"
    }
   ],
   "source": [
    "averege=pd.read_csv(path_averege) \n",
    "No_Attack_frame = pd.read_csv('feature_vec/NO_Attack.txt') # ПАРАМЕТР НА ВХОД ФУНКЦИИ\n",
    "frames = [ averege , No_Attack_frame ]\n",
    "DataFrame = pd.concat(frames)\n",
    "del DataFrame['Unnamed: 0']\n",
    "del averege['Unnamed: 0']\n",
    "DataFrame\n",
    "\n",
    "X = DataFrame.iloc[:,[1,2,3,4]].values  \n",
    "Y=DataFrame.iloc[:,[0]].values\n",
    "X_train, X_test, y_train, y_test = train_test_split(X, Y, test_size=0.35, random_state=42)\n",
    "\n",
    "clf_specific_attack = MLPClassifier(hidden_layer_sizes = (20,15,10,5) , max_iter=1000 ,early_stopping=True , verbose=True)\n",
    "clf_specific_attack.fit(X_train, y_train)"
   ]
  },
  {
   "cell_type": "code",
   "execution_count": 68,
   "id": "6ea17271",
   "metadata": {},
   "outputs": [
    {
     "name": "stdout",
     "output_type": "stream",
     "text": [
      "ПРОВЕРКА ДЛЯ АТАКИ average МОДЕЛЬ ОБУЧЕНА НА НЕАТАКОВАННЫХ ИЗОБРАЖЕНИЯХ\n",
      "       0      1\n",
      "0  22750  19634\n",
      "1  19105  20431\n",
      "\n",
      "              precision    recall  f1-score   support\n",
      "\n",
      "           0       0.54      0.54      0.54     42384\n",
      "           1       0.51      0.52      0.51     39536\n",
      "\n",
      "    accuracy                           0.53     81920\n",
      "   macro avg       0.53      0.53      0.53     81920\n",
      "weighted avg       0.53      0.53      0.53     81920\n",
      "\n",
      "\n",
      "побитовое сравнение =  55.078125\n"
     ]
    }
   ],
   "source": [
    "NO_AttackModel_Test(median,\"W_R/WR_average.tif\", \"ПРОВЕРКА ДЛЯ АТАКИ average МОДЕЛЬ ОБУЧЕНА НА НЕАТАКОВАННЫХ ИЗОБРАЖЕНИЯХ\",clf_specific_attack)"
   ]
  },
  {
   "cell_type": "code",
   "execution_count": 69,
   "id": "38189b60",
   "metadata": {},
   "outputs": [
    {
     "name": "stdout",
     "output_type": "stream",
     "text": [
      "побитовое сравнение =  54.1015625\n"
     ]
    }
   ],
   "source": [
    "Attack_Dota_Average = pd.read_csv('feature_vec/AverageAttackDota.txt') # ПАРАМЕТР НА ВХОД ФУНКЦИИ\n",
    "one_WM(Attack_Dota_Average ,\"W_R/WR_Average_Dota.tif\",\"Water Mark Image/waterMark3.jpg\",clf_specific_attack )"
   ]
  },
  {
   "cell_type": "code",
   "execution_count": null,
   "id": "924d490e",
   "metadata": {},
   "outputs": [],
   "source": []
  }
 ],
 "metadata": {
  "kernelspec": {
   "display_name": "Python 3 (ipykernel)",
   "language": "python",
   "name": "python3"
  },
  "language_info": {
   "codemirror_mode": {
    "name": "ipython",
    "version": 3
   },
   "file_extension": ".py",
   "mimetype": "text/x-python",
   "name": "python",
   "nbconvert_exporter": "python",
   "pygments_lexer": "ipython3",
   "version": "3.9.0"
  }
 },
 "nbformat": 4,
 "nbformat_minor": 5
}
