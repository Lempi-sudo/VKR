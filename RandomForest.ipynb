{
 "cells": [
  {
   "cell_type": "code",
   "execution_count": 1,
   "id": "7db6bce9",
   "metadata": {},
   "outputs": [],
   "source": [
    "import numpy as np\n",
    "import matplotlib.pyplot as plt\n",
    "import pandas as pd \n",
    "from PIL import Image\n",
    "from sklearn.metrics import confusion_matrix\n",
    "from sklearn.metrics import accuracy_score\n",
    "from sklearn.model_selection import train_test_split\n",
    "from sklearn.metrics import classification_report\n",
    "from sklearn.ensemble import RandomForestClassifier\n",
    "from ImageWork import *\n",
    "import cv2"
   ]
  },
  {
   "cell_type": "code",
   "execution_count": 2,
   "id": "0c523317",
   "metadata": {},
   "outputs": [],
   "source": [
    "def pobitovo_sravnenie_WaterMark(W1, W2 , total_bit=1024 ):\n",
    "    t1 = W1==W2\n",
    "    sum=t1.sum()\n",
    "    return sum/total_bit*100\n",
    "\n",
    "def psnr(W, Wr):\n",
    "    e = (np.sum((W - Wr) ** 2)) / (len(W) * len(W))\n",
    "    p = 10 * np.log10(255 ** 2 / e)\n",
    "    return p\n",
    "    \n",
    "\n",
    "def psnrCV2(W, Wr):\n",
    "    p=cv2.PSNR(W,Wr)\n",
    "    return p\n",
    "\n",
    "\n",
    "def one_WM(DataFrame , path_save , path_water_mark , clf):\n",
    "    del DataFrame['Unnamed: 0']\n",
    "    X = DataFrame.iloc[:,[1,2,3,4]].values  \n",
    "    Y=DataFrame.iloc[:,[0]].values\n",
    "    y_predict_image=clf.predict(X)\n",
    "    y_predict_image[y_predict_image>0]=255\n",
    "    y_predict_image=y_predict_image.reshape(32,32)\n",
    "    img = Image.fromarray(y_predict_image.astype(np.uint8))\n",
    "    img.show()\n",
    "    img.save(path_save)\n",
    "    W=WaterMarkLoader.load(path_water_mark)\n",
    "    WR=WaterMarkLoader.load(path_save)\n",
    "    print(\"побитовое сравнение = \", pobitovo_sravnenie_WaterMark(W,WR))\n",
    "    \n",
    "\n",
    "def NO_AttackModel_Test(dataframe,path_save , title , clf, path_water_mark=\"Water Mark Image/WaterMarkRandom.jpg\", index_image=1):\n",
    "    X_dataframe = dataframe.iloc[:,[1,2,3,4]].values  \n",
    "    Y_dataframe = dataframe.iloc[:,[0]].values\n",
    "    X_train, X_test, y_train, y_test = train_test_split(X_dataframe, Y_dataframe, test_size=0.4, random_state=42)\n",
    "    print(title)\n",
    "    y_predict=clf.predict(X_test)\n",
    "    cm = confusion_matrix(y_test, y_predict)\n",
    "    print(pd.DataFrame(cm))\n",
    "    print()\n",
    "    print(classification_report(y_test, y_predict))\n",
    "    print()\n",
    "    X_image_test = dataframe.iloc[:,[1,2,3,4]].values  \n",
    "    i=index_image\n",
    "    y=X_image_test[1024*i:1024*(i+1)]\n",
    "    y_predict_image=clf.predict(y)\n",
    "    y_predict_image[y_predict_image>0]=255\n",
    "    y_predict_image=y_predict_image.reshape(32,32)\n",
    "    img = Image.fromarray(y_predict_image.astype(np.uint8))\n",
    "    #img.show()\n",
    "    img.save(path_save)\n",
    "    W=WaterMarkLoader.load(path_water_mark)\n",
    "    WR=WaterMarkLoader.load(path_save)\n",
    "    print(\"побитовое сравнение = \", pobitovo_sravnenie_WaterMark(W,WR))\n"
   ]
  },
  {
   "cell_type": "code",
   "execution_count": 10,
   "id": "5bfaffe2",
   "metadata": {},
   "outputs": [],
   "source": [
    "No_Attack_frame = pd.read_csv('feature_vec/NO_Attack.txt') # ПАРАМЕТР НА ВХОД ФУНКЦИИ\n",
    "del No_Attack_frame['Unnamed: 0']\n",
    "X = No_Attack_frame.iloc[:,[1,2,3,4]].values  \n",
    "Y=No_Attack_frame.iloc[:,[0]].values\n",
    "X_train, X_test, y_train, y_test = train_test_split(X, Y, test_size=0.35, random_state=42)"
   ]
  },
  {
   "cell_type": "code",
   "execution_count": 11,
   "id": "213d86bb",
   "metadata": {},
   "outputs": [
    {
     "name": "stderr",
     "output_type": "stream",
     "text": [
      "C:\\Users\\ANDREY~1\\AppData\\Local\\Temp/ipykernel_12800/2407654023.py:2: DataConversionWarning: A column-vector y was passed when a 1d array was expected. Please change the shape of y to (n_samples,), for example using ravel().\n",
      "  clf_no_attack.fit(X_train, y_train)\n",
      "[Parallel(n_jobs=1)]: Using backend SequentialBackend with 1 concurrent workers.\n",
      "[Parallel(n_jobs=1)]: Done  50 out of  50 | elapsed:    2.3s finished\n"
     ]
    },
    {
     "data": {
      "text/plain": [
       "RandomForestClassifier(max_depth=12, n_estimators=50, verbose=True)"
      ]
     },
     "execution_count": 11,
     "metadata": {},
     "output_type": "execute_result"
    }
   ],
   "source": [
    "clf_no_attack = RandomForestClassifier (max_depth = 12, n_estimators = 50 ,verbose=True)\n",
    "clf_no_attack.fit(X_train, y_train)"
   ]
  },
  {
   "cell_type": "code",
   "execution_count": 12,
   "id": "c58c6caa",
   "metadata": {},
   "outputs": [
    {
     "name": "stderr",
     "output_type": "stream",
     "text": [
      "[Parallel(n_jobs=1)]: Using backend SequentialBackend with 1 concurrent workers.\n"
     ]
    },
    {
     "name": "stdout",
     "output_type": "stream",
     "text": [
      "       0      1\n",
      "0  18314    311\n",
      "1    833  16382\n",
      "              precision    recall  f1-score   support\n",
      "\n",
      "           0       0.96      0.98      0.97     18625\n",
      "           1       0.98      0.95      0.97     17215\n",
      "\n",
      "    accuracy                           0.97     35840\n",
      "   macro avg       0.97      0.97      0.97     35840\n",
      "weighted avg       0.97      0.97      0.97     35840\n",
      "\n"
     ]
    },
    {
     "name": "stderr",
     "output_type": "stream",
     "text": [
      "[Parallel(n_jobs=1)]: Done  50 out of  50 | elapsed:    0.1s finished\n"
     ]
    }
   ],
   "source": [
    "y_predict=clf_no_attack.predict(X_test)\n",
    "from sklearn.metrics import confusion_matrix\n",
    "cm = confusion_matrix(y_test, y_predict)\n",
    "print(pd.DataFrame(cm))\n",
    "print(classification_report(y_test, y_predict))\n",
    "#ПОСМОТРИ КАК ПРОГОНЯТЬ ДИАПОЗОЕ  ВЫСОТ И КОЛИЧЕСТВА УЗЛОВ"
   ]
  },
  {
   "cell_type": "code",
   "execution_count": 9,
   "id": "dcf92e60",
   "metadata": {},
   "outputs": [
    {
     "name": "stderr",
     "output_type": "stream",
     "text": [
      "[Parallel(n_jobs=1)]: Using backend SequentialBackend with 1 concurrent workers.\n",
      "[Parallel(n_jobs=1)]: Done  50 out of  50 | elapsed:    0.0s finished\n"
     ]
    },
    {
     "name": "stdout",
     "output_type": "stream",
     "text": [
      "побитовое сравнение =  57.91015625\n"
     ]
    }
   ],
   "source": [
    "X_image_test = No_Attack_frame.iloc[:,[1,2,3,4]].values  \n",
    "i=4\n",
    "y=X_image_test[1024*i:1024*(i+1)]\n",
    "y_predict_image=clf_no_attack.predict(y)\n",
    "y_predict_image[y_predict_image>0]=255\n",
    "y_predict_image=y_predict_image.reshape(32,32)\n",
    "img = Image.fromarray(y_predict_image.astype(np.uint8))\n",
    "img.show()\n",
    "img.save(\"W_R/WR1.tif\")\n",
    "W=WaterMarkLoader.load(\"Water Mark Image/WaterMarkRandom.jpg\")\n",
    "WR=WaterMarkLoader.load(\"W_R/WR1.tif\")\n",
    "print(\"побитовое сравнение = \", pobitovo_sravnenie_WaterMark(W,WR))"
   ]
  },
  {
   "cell_type": "code",
   "execution_count": 33,
   "id": "b433d734",
   "metadata": {},
   "outputs": [],
   "source": [
    "path_averege= \"feature_vec/AverageAttack.txt\"\n",
    "path_histogram=\"feature_vec/HistogramAttack.txt\"\n",
    "path_GammaCor=  \"feature_vec/GammaCorrection.txt\"\n",
    "path_JPEG50= \"feature_vec/JPEG50.txt\"\n",
    "path_median=  \"feature_vec/medianAttack.txt\"\n",
    "path_saltpaper=\"feature_vec/SaltPaperAttack.txt\"\n",
    "path_snarpness= \"feature_vec/Sharpness.txt\""
   ]
  },
  {
   "cell_type": "code",
   "execution_count": 34,
   "id": "c87bc6e1",
   "metadata": {},
   "outputs": [
    {
     "data": {
      "text/html": [
       "<div>\n",
       "<style scoped>\n",
       "    .dataframe tbody tr th:only-of-type {\n",
       "        vertical-align: middle;\n",
       "    }\n",
       "\n",
       "    .dataframe tbody tr th {\n",
       "        vertical-align: top;\n",
       "    }\n",
       "\n",
       "    .dataframe thead th {\n",
       "        text-align: right;\n",
       "    }\n",
       "</style>\n",
       "<table border=\"1\" class=\"dataframe\">\n",
       "  <thead>\n",
       "    <tr style=\"text-align: right;\">\n",
       "      <th></th>\n",
       "      <th>bit</th>\n",
       "      <th>feature_1</th>\n",
       "      <th>feature_2</th>\n",
       "      <th>feature_3</th>\n",
       "      <th>feature_4</th>\n",
       "    </tr>\n",
       "  </thead>\n",
       "  <tbody>\n",
       "    <tr>\n",
       "      <th>0</th>\n",
       "      <td>1</td>\n",
       "      <td>-0.5</td>\n",
       "      <td>0.0</td>\n",
       "      <td>0.0</td>\n",
       "      <td>0.0</td>\n",
       "    </tr>\n",
       "    <tr>\n",
       "      <th>1</th>\n",
       "      <td>0</td>\n",
       "      <td>0.5</td>\n",
       "      <td>-0.5</td>\n",
       "      <td>0.5</td>\n",
       "      <td>-0.5</td>\n",
       "    </tr>\n",
       "    <tr>\n",
       "      <th>2</th>\n",
       "      <td>1</td>\n",
       "      <td>2.5</td>\n",
       "      <td>0.0</td>\n",
       "      <td>0.5</td>\n",
       "      <td>3.5</td>\n",
       "    </tr>\n",
       "    <tr>\n",
       "      <th>3</th>\n",
       "      <td>1</td>\n",
       "      <td>-1.0</td>\n",
       "      <td>-1.5</td>\n",
       "      <td>3.0</td>\n",
       "      <td>-4.0</td>\n",
       "    </tr>\n",
       "    <tr>\n",
       "      <th>4</th>\n",
       "      <td>1</td>\n",
       "      <td>-0.5</td>\n",
       "      <td>1.0</td>\n",
       "      <td>-2.5</td>\n",
       "      <td>-1.0</td>\n",
       "    </tr>\n",
       "    <tr>\n",
       "      <th>...</th>\n",
       "      <td>...</td>\n",
       "      <td>...</td>\n",
       "      <td>...</td>\n",
       "      <td>...</td>\n",
       "      <td>...</td>\n",
       "    </tr>\n",
       "    <tr>\n",
       "      <th>204795</th>\n",
       "      <td>0</td>\n",
       "      <td>-25.0</td>\n",
       "      <td>-11.0</td>\n",
       "      <td>-12.5</td>\n",
       "      <td>-13.5</td>\n",
       "    </tr>\n",
       "    <tr>\n",
       "      <th>204796</th>\n",
       "      <td>1</td>\n",
       "      <td>8.5</td>\n",
       "      <td>1.5</td>\n",
       "      <td>20.5</td>\n",
       "      <td>5.0</td>\n",
       "    </tr>\n",
       "    <tr>\n",
       "      <th>204797</th>\n",
       "      <td>1</td>\n",
       "      <td>-3.5</td>\n",
       "      <td>11.5</td>\n",
       "      <td>-5.5</td>\n",
       "      <td>-5.0</td>\n",
       "    </tr>\n",
       "    <tr>\n",
       "      <th>204798</th>\n",
       "      <td>1</td>\n",
       "      <td>-1.0</td>\n",
       "      <td>19.5</td>\n",
       "      <td>0.0</td>\n",
       "      <td>-6.0</td>\n",
       "    </tr>\n",
       "    <tr>\n",
       "      <th>204799</th>\n",
       "      <td>0</td>\n",
       "      <td>-1.5</td>\n",
       "      <td>-0.5</td>\n",
       "      <td>-6.5</td>\n",
       "      <td>-2.0</td>\n",
       "    </tr>\n",
       "  </tbody>\n",
       "</table>\n",
       "<p>1433600 rows × 5 columns</p>\n",
       "</div>"
      ],
      "text/plain": [
       "        bit  feature_1  feature_2  feature_3  feature_4\n",
       "0         1       -0.5        0.0        0.0        0.0\n",
       "1         0        0.5       -0.5        0.5       -0.5\n",
       "2         1        2.5        0.0        0.5        3.5\n",
       "3         1       -1.0       -1.5        3.0       -4.0\n",
       "4         1       -0.5        1.0       -2.5       -1.0\n",
       "...     ...        ...        ...        ...        ...\n",
       "204795    0      -25.0      -11.0      -12.5      -13.5\n",
       "204796    1        8.5        1.5       20.5        5.0\n",
       "204797    1       -3.5       11.5       -5.5       -5.0\n",
       "204798    1       -1.0       19.5        0.0       -6.0\n",
       "204799    0       -1.5       -0.5       -6.5       -2.0\n",
       "\n",
       "[1433600 rows x 5 columns]"
      ]
     },
     "execution_count": 34,
     "metadata": {},
     "output_type": "execute_result"
    }
   ],
   "source": [
    "averege=pd.read_csv(path_averege) \n",
    "histogram=pd.read_csv(path_histogram)\n",
    "GammaCor=pd.read_csv(path_GammaCor) \n",
    "JPEG50=pd.read_csv(path_JPEG50) \n",
    "median=pd.read_csv(path_median) \n",
    "saltpaper=pd.read_csv(path_saltpaper)\n",
    "snarpness=pd.read_csv(path_snarpness) \n",
    "frames = [averege, histogram, GammaCor , JPEG50, median,saltpaper ,snarpness]\n",
    "DataFrame = pd.concat(frames)\n",
    "del DataFrame['Unnamed: 0']\n",
    "del saltpaper['Unnamed: 0']\n",
    "del averege['Unnamed: 0']\n",
    "del histogram['Unnamed: 0']\n",
    "del GammaCor['Unnamed: 0']\n",
    "del median['Unnamed: 0']\n",
    "del JPEG50['Unnamed: 0']\n",
    "del snarpness['Unnamed: 0']\n",
    "\n",
    "DataFrame"
   ]
  },
  {
   "cell_type": "markdown",
   "id": "6cfca419",
   "metadata": {},
   "source": [
    "### тестирую модель обученную на noattack подсовываю атакованные изображения"
   ]
  },
  {
   "cell_type": "code",
   "execution_count": 22,
   "id": "43d0eba7",
   "metadata": {
    "scrolled": true
   },
   "outputs": [
    {
     "name": "stdout",
     "output_type": "stream",
     "text": [
      "ПРОВЕРКА ДЛЯ АТАКИ СОЛЬ-ПЕРЕЦ. МОДЕЛЬ ОБУЧЕНА НА НЕАТАКОВАННЫХ ИЗОБРАЖЕНИЯХ\n"
     ]
    },
    {
     "name": "stderr",
     "output_type": "stream",
     "text": [
      "[Parallel(n_jobs=1)]: Using backend SequentialBackend with 1 concurrent workers.\n"
     ]
    },
    {
     "name": "stdout",
     "output_type": "stream",
     "text": [
      "       0      1\n",
      "0  38988   3396\n",
      "1   1055  38481\n",
      "\n",
      "              precision    recall  f1-score   support\n",
      "\n",
      "           0       0.97      0.92      0.95     42384\n",
      "           1       0.92      0.97      0.95     39536\n",
      "\n",
      "    accuracy                           0.95     81920\n",
      "   macro avg       0.95      0.95      0.95     81920\n",
      "weighted avg       0.95      0.95      0.95     81920\n",
      "\n",
      "\n",
      "побитовое сравнение =  95.41015625\n"
     ]
    },
    {
     "name": "stderr",
     "output_type": "stream",
     "text": [
      "[Parallel(n_jobs=1)]: Done  50 out of  50 | elapsed:    0.4s finished\n",
      "[Parallel(n_jobs=1)]: Using backend SequentialBackend with 1 concurrent workers.\n",
      "[Parallel(n_jobs=1)]: Done  50 out of  50 | elapsed:    0.0s finished\n"
     ]
    }
   ],
   "source": [
    "NO_AttackModel_Test(saltpaper,\"W_R/WR_SP.tif\", \"ПРОВЕРКА ДЛЯ АТАКИ СОЛЬ-ПЕРЕЦ. МОДЕЛЬ ОБУЧЕНА НА НЕАТАКОВАННЫХ ИЗОБРАЖЕНИЯХ\",clf_no_attack,)"
   ]
  },
  {
   "cell_type": "code",
   "execution_count": 13,
   "id": "486e7a88",
   "metadata": {},
   "outputs": [
    {
     "ename": "FileNotFoundError",
     "evalue": "[Errno 2] No such file or directory: 'feature_vec/SaltPaperAttackDota.txt'",
     "output_type": "error",
     "traceback": [
      "\u001b[1;31m---------------------------------------------------------------------------\u001b[0m",
      "\u001b[1;31mFileNotFoundError\u001b[0m                         Traceback (most recent call last)",
      "\u001b[1;32mC:\\Users\\ANDREY~1\\AppData\\Local\\Temp/ipykernel_8272/883593581.py\u001b[0m in \u001b[0;36m<module>\u001b[1;34m\u001b[0m\n\u001b[1;32m----> 1\u001b[1;33m \u001b[0mAttack_Dota_SP\u001b[0m \u001b[1;33m=\u001b[0m \u001b[0mpd\u001b[0m\u001b[1;33m.\u001b[0m\u001b[0mread_csv\u001b[0m\u001b[1;33m(\u001b[0m\u001b[1;34m'feature_vec/SaltPaperAttackDota.txt'\u001b[0m\u001b[1;33m)\u001b[0m \u001b[1;31m# ПАРАМЕТР НА ВХОД ФУНКЦИИ\u001b[0m\u001b[1;33m\u001b[0m\u001b[1;33m\u001b[0m\u001b[0m\n\u001b[0m\u001b[0;32m      2\u001b[0m \u001b[0mone_WM\u001b[0m\u001b[1;33m(\u001b[0m\u001b[0mAttack_Dota_SP\u001b[0m \u001b[1;33m,\u001b[0m\u001b[1;34m\"W_R/WR_SP_Dota.tif\"\u001b[0m\u001b[1;33m,\u001b[0m\u001b[1;34m\"Water Mark Image/waterMark3.jpg\"\u001b[0m \u001b[1;33m,\u001b[0m \u001b[0mclf_no_attack\u001b[0m \u001b[1;33m)\u001b[0m\u001b[1;33m\u001b[0m\u001b[1;33m\u001b[0m\u001b[0m\n",
      "\u001b[1;32md:\\code\\python\\nir\\venv\\lib\\site-packages\\pandas\\util\\_decorators.py\u001b[0m in \u001b[0;36mwrapper\u001b[1;34m(*args, **kwargs)\u001b[0m\n\u001b[0;32m    309\u001b[0m                     \u001b[0mstacklevel\u001b[0m\u001b[1;33m=\u001b[0m\u001b[0mstacklevel\u001b[0m\u001b[1;33m,\u001b[0m\u001b[1;33m\u001b[0m\u001b[1;33m\u001b[0m\u001b[0m\n\u001b[0;32m    310\u001b[0m                 )\n\u001b[1;32m--> 311\u001b[1;33m             \u001b[1;32mreturn\u001b[0m \u001b[0mfunc\u001b[0m\u001b[1;33m(\u001b[0m\u001b[1;33m*\u001b[0m\u001b[0margs\u001b[0m\u001b[1;33m,\u001b[0m \u001b[1;33m**\u001b[0m\u001b[0mkwargs\u001b[0m\u001b[1;33m)\u001b[0m\u001b[1;33m\u001b[0m\u001b[1;33m\u001b[0m\u001b[0m\n\u001b[0m\u001b[0;32m    312\u001b[0m \u001b[1;33m\u001b[0m\u001b[0m\n\u001b[0;32m    313\u001b[0m         \u001b[1;32mreturn\u001b[0m \u001b[0mwrapper\u001b[0m\u001b[1;33m\u001b[0m\u001b[1;33m\u001b[0m\u001b[0m\n",
      "\u001b[1;32md:\\code\\python\\nir\\venv\\lib\\site-packages\\pandas\\io\\parsers\\readers.py\u001b[0m in \u001b[0;36mread_csv\u001b[1;34m(filepath_or_buffer, sep, delimiter, header, names, index_col, usecols, squeeze, prefix, mangle_dupe_cols, dtype, engine, converters, true_values, false_values, skipinitialspace, skiprows, skipfooter, nrows, na_values, keep_default_na, na_filter, verbose, skip_blank_lines, parse_dates, infer_datetime_format, keep_date_col, date_parser, dayfirst, cache_dates, iterator, chunksize, compression, thousands, decimal, lineterminator, quotechar, quoting, doublequote, escapechar, comment, encoding, encoding_errors, dialect, error_bad_lines, warn_bad_lines, on_bad_lines, delim_whitespace, low_memory, memory_map, float_precision, storage_options)\u001b[0m\n\u001b[0;32m    584\u001b[0m     \u001b[0mkwds\u001b[0m\u001b[1;33m.\u001b[0m\u001b[0mupdate\u001b[0m\u001b[1;33m(\u001b[0m\u001b[0mkwds_defaults\u001b[0m\u001b[1;33m)\u001b[0m\u001b[1;33m\u001b[0m\u001b[1;33m\u001b[0m\u001b[0m\n\u001b[0;32m    585\u001b[0m \u001b[1;33m\u001b[0m\u001b[0m\n\u001b[1;32m--> 586\u001b[1;33m     \u001b[1;32mreturn\u001b[0m \u001b[0m_read\u001b[0m\u001b[1;33m(\u001b[0m\u001b[0mfilepath_or_buffer\u001b[0m\u001b[1;33m,\u001b[0m \u001b[0mkwds\u001b[0m\u001b[1;33m)\u001b[0m\u001b[1;33m\u001b[0m\u001b[1;33m\u001b[0m\u001b[0m\n\u001b[0m\u001b[0;32m    587\u001b[0m \u001b[1;33m\u001b[0m\u001b[0m\n\u001b[0;32m    588\u001b[0m \u001b[1;33m\u001b[0m\u001b[0m\n",
      "\u001b[1;32md:\\code\\python\\nir\\venv\\lib\\site-packages\\pandas\\io\\parsers\\readers.py\u001b[0m in \u001b[0;36m_read\u001b[1;34m(filepath_or_buffer, kwds)\u001b[0m\n\u001b[0;32m    480\u001b[0m \u001b[1;33m\u001b[0m\u001b[0m\n\u001b[0;32m    481\u001b[0m     \u001b[1;31m# Create the parser.\u001b[0m\u001b[1;33m\u001b[0m\u001b[1;33m\u001b[0m\u001b[1;33m\u001b[0m\u001b[0m\n\u001b[1;32m--> 482\u001b[1;33m     \u001b[0mparser\u001b[0m \u001b[1;33m=\u001b[0m \u001b[0mTextFileReader\u001b[0m\u001b[1;33m(\u001b[0m\u001b[0mfilepath_or_buffer\u001b[0m\u001b[1;33m,\u001b[0m \u001b[1;33m**\u001b[0m\u001b[0mkwds\u001b[0m\u001b[1;33m)\u001b[0m\u001b[1;33m\u001b[0m\u001b[1;33m\u001b[0m\u001b[0m\n\u001b[0m\u001b[0;32m    483\u001b[0m \u001b[1;33m\u001b[0m\u001b[0m\n\u001b[0;32m    484\u001b[0m     \u001b[1;32mif\u001b[0m \u001b[0mchunksize\u001b[0m \u001b[1;32mor\u001b[0m \u001b[0miterator\u001b[0m\u001b[1;33m:\u001b[0m\u001b[1;33m\u001b[0m\u001b[1;33m\u001b[0m\u001b[0m\n",
      "\u001b[1;32md:\\code\\python\\nir\\venv\\lib\\site-packages\\pandas\\io\\parsers\\readers.py\u001b[0m in \u001b[0;36m__init__\u001b[1;34m(self, f, engine, **kwds)\u001b[0m\n\u001b[0;32m    809\u001b[0m             \u001b[0mself\u001b[0m\u001b[1;33m.\u001b[0m\u001b[0moptions\u001b[0m\u001b[1;33m[\u001b[0m\u001b[1;34m\"has_index_names\"\u001b[0m\u001b[1;33m]\u001b[0m \u001b[1;33m=\u001b[0m \u001b[0mkwds\u001b[0m\u001b[1;33m[\u001b[0m\u001b[1;34m\"has_index_names\"\u001b[0m\u001b[1;33m]\u001b[0m\u001b[1;33m\u001b[0m\u001b[1;33m\u001b[0m\u001b[0m\n\u001b[0;32m    810\u001b[0m \u001b[1;33m\u001b[0m\u001b[0m\n\u001b[1;32m--> 811\u001b[1;33m         \u001b[0mself\u001b[0m\u001b[1;33m.\u001b[0m\u001b[0m_engine\u001b[0m \u001b[1;33m=\u001b[0m \u001b[0mself\u001b[0m\u001b[1;33m.\u001b[0m\u001b[0m_make_engine\u001b[0m\u001b[1;33m(\u001b[0m\u001b[0mself\u001b[0m\u001b[1;33m.\u001b[0m\u001b[0mengine\u001b[0m\u001b[1;33m)\u001b[0m\u001b[1;33m\u001b[0m\u001b[1;33m\u001b[0m\u001b[0m\n\u001b[0m\u001b[0;32m    812\u001b[0m \u001b[1;33m\u001b[0m\u001b[0m\n\u001b[0;32m    813\u001b[0m     \u001b[1;32mdef\u001b[0m \u001b[0mclose\u001b[0m\u001b[1;33m(\u001b[0m\u001b[0mself\u001b[0m\u001b[1;33m)\u001b[0m\u001b[1;33m:\u001b[0m\u001b[1;33m\u001b[0m\u001b[1;33m\u001b[0m\u001b[0m\n",
      "\u001b[1;32md:\\code\\python\\nir\\venv\\lib\\site-packages\\pandas\\io\\parsers\\readers.py\u001b[0m in \u001b[0;36m_make_engine\u001b[1;34m(self, engine)\u001b[0m\n\u001b[0;32m   1038\u001b[0m             )\n\u001b[0;32m   1039\u001b[0m         \u001b[1;31m# error: Too many arguments for \"ParserBase\"\u001b[0m\u001b[1;33m\u001b[0m\u001b[1;33m\u001b[0m\u001b[1;33m\u001b[0m\u001b[0m\n\u001b[1;32m-> 1040\u001b[1;33m         \u001b[1;32mreturn\u001b[0m \u001b[0mmapping\u001b[0m\u001b[1;33m[\u001b[0m\u001b[0mengine\u001b[0m\u001b[1;33m]\u001b[0m\u001b[1;33m(\u001b[0m\u001b[0mself\u001b[0m\u001b[1;33m.\u001b[0m\u001b[0mf\u001b[0m\u001b[1;33m,\u001b[0m \u001b[1;33m**\u001b[0m\u001b[0mself\u001b[0m\u001b[1;33m.\u001b[0m\u001b[0moptions\u001b[0m\u001b[1;33m)\u001b[0m  \u001b[1;31m# type: ignore[call-arg]\u001b[0m\u001b[1;33m\u001b[0m\u001b[1;33m\u001b[0m\u001b[0m\n\u001b[0m\u001b[0;32m   1041\u001b[0m \u001b[1;33m\u001b[0m\u001b[0m\n\u001b[0;32m   1042\u001b[0m     \u001b[1;32mdef\u001b[0m \u001b[0m_failover_to_python\u001b[0m\u001b[1;33m(\u001b[0m\u001b[0mself\u001b[0m\u001b[1;33m)\u001b[0m\u001b[1;33m:\u001b[0m\u001b[1;33m\u001b[0m\u001b[1;33m\u001b[0m\u001b[0m\n",
      "\u001b[1;32md:\\code\\python\\nir\\venv\\lib\\site-packages\\pandas\\io\\parsers\\c_parser_wrapper.py\u001b[0m in \u001b[0;36m__init__\u001b[1;34m(self, src, **kwds)\u001b[0m\n\u001b[0;32m     49\u001b[0m \u001b[1;33m\u001b[0m\u001b[0m\n\u001b[0;32m     50\u001b[0m         \u001b[1;31m# open handles\u001b[0m\u001b[1;33m\u001b[0m\u001b[1;33m\u001b[0m\u001b[1;33m\u001b[0m\u001b[0m\n\u001b[1;32m---> 51\u001b[1;33m         \u001b[0mself\u001b[0m\u001b[1;33m.\u001b[0m\u001b[0m_open_handles\u001b[0m\u001b[1;33m(\u001b[0m\u001b[0msrc\u001b[0m\u001b[1;33m,\u001b[0m \u001b[0mkwds\u001b[0m\u001b[1;33m)\u001b[0m\u001b[1;33m\u001b[0m\u001b[1;33m\u001b[0m\u001b[0m\n\u001b[0m\u001b[0;32m     52\u001b[0m         \u001b[1;32massert\u001b[0m \u001b[0mself\u001b[0m\u001b[1;33m.\u001b[0m\u001b[0mhandles\u001b[0m \u001b[1;32mis\u001b[0m \u001b[1;32mnot\u001b[0m \u001b[1;32mNone\u001b[0m\u001b[1;33m\u001b[0m\u001b[1;33m\u001b[0m\u001b[0m\n\u001b[0;32m     53\u001b[0m \u001b[1;33m\u001b[0m\u001b[0m\n",
      "\u001b[1;32md:\\code\\python\\nir\\venv\\lib\\site-packages\\pandas\\io\\parsers\\base_parser.py\u001b[0m in \u001b[0;36m_open_handles\u001b[1;34m(self, src, kwds)\u001b[0m\n\u001b[0;32m    220\u001b[0m         \u001b[0mLet\u001b[0m \u001b[0mthe\u001b[0m \u001b[0mreaders\u001b[0m \u001b[0mopen\u001b[0m \u001b[0mIOHandles\u001b[0m \u001b[0mafter\u001b[0m \u001b[0mthey\u001b[0m \u001b[0mare\u001b[0m \u001b[0mdone\u001b[0m \u001b[1;32mwith\u001b[0m \u001b[0mtheir\u001b[0m \u001b[0mpotential\u001b[0m \u001b[0mraises\u001b[0m\u001b[1;33m.\u001b[0m\u001b[1;33m\u001b[0m\u001b[1;33m\u001b[0m\u001b[0m\n\u001b[0;32m    221\u001b[0m         \"\"\"\n\u001b[1;32m--> 222\u001b[1;33m         self.handles = get_handle(\n\u001b[0m\u001b[0;32m    223\u001b[0m             \u001b[0msrc\u001b[0m\u001b[1;33m,\u001b[0m\u001b[1;33m\u001b[0m\u001b[1;33m\u001b[0m\u001b[0m\n\u001b[0;32m    224\u001b[0m             \u001b[1;34m\"r\"\u001b[0m\u001b[1;33m,\u001b[0m\u001b[1;33m\u001b[0m\u001b[1;33m\u001b[0m\u001b[0m\n",
      "\u001b[1;32md:\\code\\python\\nir\\venv\\lib\\site-packages\\pandas\\io\\common.py\u001b[0m in \u001b[0;36mget_handle\u001b[1;34m(path_or_buf, mode, encoding, compression, memory_map, is_text, errors, storage_options)\u001b[0m\n\u001b[0;32m    700\u001b[0m         \u001b[1;32mif\u001b[0m \u001b[0mioargs\u001b[0m\u001b[1;33m.\u001b[0m\u001b[0mencoding\u001b[0m \u001b[1;32mand\u001b[0m \u001b[1;34m\"b\"\u001b[0m \u001b[1;32mnot\u001b[0m \u001b[1;32min\u001b[0m \u001b[0mioargs\u001b[0m\u001b[1;33m.\u001b[0m\u001b[0mmode\u001b[0m\u001b[1;33m:\u001b[0m\u001b[1;33m\u001b[0m\u001b[1;33m\u001b[0m\u001b[0m\n\u001b[0;32m    701\u001b[0m             \u001b[1;31m# Encoding\u001b[0m\u001b[1;33m\u001b[0m\u001b[1;33m\u001b[0m\u001b[1;33m\u001b[0m\u001b[0m\n\u001b[1;32m--> 702\u001b[1;33m             handle = open(\n\u001b[0m\u001b[0;32m    703\u001b[0m                 \u001b[0mhandle\u001b[0m\u001b[1;33m,\u001b[0m\u001b[1;33m\u001b[0m\u001b[1;33m\u001b[0m\u001b[0m\n\u001b[0;32m    704\u001b[0m                 \u001b[0mioargs\u001b[0m\u001b[1;33m.\u001b[0m\u001b[0mmode\u001b[0m\u001b[1;33m,\u001b[0m\u001b[1;33m\u001b[0m\u001b[1;33m\u001b[0m\u001b[0m\n",
      "\u001b[1;31mFileNotFoundError\u001b[0m: [Errno 2] No such file or directory: 'feature_vec/SaltPaperAttackDota.txt'"
     ]
    }
   ],
   "source": [
    "Attack_Dota_SP = pd.read_csv('feature_vec/SaltPaperAttackDota.txt') # ПАРАМЕТР НА ВХОД ФУНКЦИИ\n",
    "one_WM(Attack_Dota_SP ,\"W_R/WR_SP_Dota.tif\",\"Water Mark Image/waterMark3.jpg\" , clf_no_attack )\n"
   ]
  },
  {
   "cell_type": "code",
   "execution_count": 35,
   "id": "211ace01",
   "metadata": {},
   "outputs": [
    {
     "name": "stdout",
     "output_type": "stream",
     "text": [
      "ПРОВЕРКА ДЛЯ АТАКИ JPEG50. МОДЕЛЬ ОБУЧЕНА НА НЕАТАКОВАННЫХ ИЗОБРАЖЕНИЯХ\n"
     ]
    },
    {
     "name": "stderr",
     "output_type": "stream",
     "text": [
      "[Parallel(n_jobs=1)]: Using backend SequentialBackend with 1 concurrent workers.\n"
     ]
    },
    {
     "name": "stdout",
     "output_type": "stream",
     "text": [
      "       0     1\n",
      "0  37990  4394\n",
      "1  35163  4373\n",
      "\n",
      "              precision    recall  f1-score   support\n",
      "\n",
      "           0       0.52      0.90      0.66     42384\n",
      "           1       0.50      0.11      0.18     39536\n",
      "\n",
      "    accuracy                           0.52     81920\n",
      "   macro avg       0.51      0.50      0.42     81920\n",
      "weighted avg       0.51      0.52      0.43     81920\n",
      "\n",
      "\n",
      "побитовое сравнение =  50.9765625\n"
     ]
    },
    {
     "name": "stderr",
     "output_type": "stream",
     "text": [
      "[Parallel(n_jobs=1)]: Done  50 out of  50 | elapsed:    0.3s finished\n",
      "[Parallel(n_jobs=1)]: Using backend SequentialBackend with 1 concurrent workers.\n",
      "[Parallel(n_jobs=1)]: Done  50 out of  50 | elapsed:    0.0s finished\n"
     ]
    }
   ],
   "source": [
    "NO_AttackModel_Test(JPEG50,\"W_R/WR_JPEG50.tif\", \"ПРОВЕРКА ДЛЯ АТАКИ JPEG50. МОДЕЛЬ ОБУЧЕНА НА НЕАТАКОВАННЫХ ИЗОБРАЖЕНИЯХ\",clf_no_attack)"
   ]
  },
  {
   "cell_type": "code",
   "execution_count": 14,
   "id": "630ba6cf",
   "metadata": {},
   "outputs": [
    {
     "name": "stdout",
     "output_type": "stream",
     "text": [
      "побитовое сравнение =  54.6875\n"
     ]
    }
   ],
   "source": [
    "Attack_Dota_jpeg = pd.read_csv('feature_vec/JPEG50Dota.txt') # ПАРАМЕТР НА ВХОД ФУНКЦИИ\n",
    "one_WM(Attack_Dota_jpeg ,\"W_R/WR_jpeg_Dota.tif\",\"Water Mark Image/waterMark3.jpg\" ,clf_no_attack )"
   ]
  },
  {
   "cell_type": "code",
   "execution_count": 36,
   "id": "7a3bda18",
   "metadata": {},
   "outputs": [
    {
     "name": "stdout",
     "output_type": "stream",
     "text": [
      "ПРОВЕРКА ДЛЯ АТАКИ averege - среднее. МОДЕЛЬ ОБУЧЕНА НА НЕАТАКОВАННЫХ ИЗОБРАЖЕНИЯХ\n"
     ]
    },
    {
     "name": "stderr",
     "output_type": "stream",
     "text": [
      "[Parallel(n_jobs=1)]: Using backend SequentialBackend with 1 concurrent workers.\n"
     ]
    },
    {
     "name": "stdout",
     "output_type": "stream",
     "text": [
      "       0    1\n",
      "0  41518  866\n",
      "1  38684  852\n",
      "\n",
      "              precision    recall  f1-score   support\n",
      "\n",
      "           0       0.52      0.98      0.68     42384\n",
      "           1       0.50      0.02      0.04     39536\n",
      "\n",
      "    accuracy                           0.52     81920\n",
      "   macro avg       0.51      0.50      0.36     81920\n",
      "weighted avg       0.51      0.52      0.37     81920\n",
      "\n",
      "\n",
      "побитовое сравнение =  51.5625\n"
     ]
    },
    {
     "name": "stderr",
     "output_type": "stream",
     "text": [
      "[Parallel(n_jobs=1)]: Done  50 out of  50 | elapsed:    0.2s finished\n",
      "[Parallel(n_jobs=1)]: Using backend SequentialBackend with 1 concurrent workers.\n",
      "[Parallel(n_jobs=1)]: Done  50 out of  50 | elapsed:    0.0s finished\n"
     ]
    }
   ],
   "source": [
    "NO_AttackModel_Test(averege,\"W_R/WR_averege.tif\", \"ПРОВЕРКА ДЛЯ АТАКИ averege - среднее. МОДЕЛЬ ОБУЧЕНА НА НЕАТАКОВАННЫХ ИЗОБРАЖЕНИЯХ\",clf_no_attack)"
   ]
  },
  {
   "cell_type": "code",
   "execution_count": 17,
   "id": "5318a487",
   "metadata": {},
   "outputs": [
    {
     "name": "stdout",
     "output_type": "stream",
     "text": [
      "побитовое сравнение =  54.39453125\n"
     ]
    }
   ],
   "source": [
    "Attack_Dota_Average = pd.read_csv('feature_vec/AverageAttackDota.txt') # ПАРАМЕТР НА ВХОД ФУНКЦИИ\n",
    "one_WM(Attack_Dota_Average ,\"W_R/WR_Average_Dota.tif\",\"Water Mark Image/waterMark3.jpg\",clf_no_attack )"
   ]
  },
  {
   "cell_type": "code",
   "execution_count": 37,
   "id": "5aea1974",
   "metadata": {},
   "outputs": [
    {
     "name": "stdout",
     "output_type": "stream",
     "text": [
      "ПРОВЕРКА ДЛЯ АТАКИ histogram. МОДЕЛЬ ОБУЧЕНА НА НЕАТАКОВАННЫХ ИЗОБРАЖЕНИЯХ\n"
     ]
    },
    {
     "name": "stderr",
     "output_type": "stream",
     "text": [
      "[Parallel(n_jobs=1)]: Using backend SequentialBackend with 1 concurrent workers.\n"
     ]
    },
    {
     "name": "stdout",
     "output_type": "stream",
     "text": [
      "       0      1\n",
      "0  38187   4197\n",
      "1   8502  31034\n",
      "\n",
      "              precision    recall  f1-score   support\n",
      "\n",
      "           0       0.82      0.90      0.86     42384\n",
      "           1       0.88      0.78      0.83     39536\n",
      "\n",
      "    accuracy                           0.84     81920\n",
      "   macro avg       0.85      0.84      0.84     81920\n",
      "weighted avg       0.85      0.84      0.84     81920\n",
      "\n",
      "\n",
      "побитовое сравнение =  94.04296875\n"
     ]
    },
    {
     "name": "stderr",
     "output_type": "stream",
     "text": [
      "[Parallel(n_jobs=1)]: Done  50 out of  50 | elapsed:    0.3s finished\n",
      "[Parallel(n_jobs=1)]: Using backend SequentialBackend with 1 concurrent workers.\n",
      "[Parallel(n_jobs=1)]: Done  50 out of  50 | elapsed:    0.0s finished\n"
     ]
    }
   ],
   "source": [
    "NO_AttackModel_Test(histogram,\"W_R/WR_histogram.tif\", \"ПРОВЕРКА ДЛЯ АТАКИ histogram. МОДЕЛЬ ОБУЧЕНА НА НЕАТАКОВАННЫХ ИЗОБРАЖЕНИЯХ\",clf_no_attack)"
   ]
  },
  {
   "cell_type": "code",
   "execution_count": 19,
   "id": "ad455ccc",
   "metadata": {},
   "outputs": [
    {
     "name": "stdout",
     "output_type": "stream",
     "text": [
      "побитовое сравнение =  82.32421875\n"
     ]
    }
   ],
   "source": [
    "Attack_Dota_Histogram = pd.read_csv('feature_vec/HistogramAttackDota.txt') # ПАРАМЕТР НА ВХОД ФУНКЦИИ\n",
    "one_WM(Attack_Dota_Histogram ,\"W_R/WR_Histogram_Dota.tif\",\"Water Mark Image/waterMark3.jpg\",clf_no_attack )"
   ]
  },
  {
   "cell_type": "code",
   "execution_count": 38,
   "id": "12a69535",
   "metadata": {},
   "outputs": [
    {
     "name": "stdout",
     "output_type": "stream",
     "text": [
      "ПРОВЕРКА ДЛЯ АТАКИ GammaCor. МОДЕЛЬ ОБУЧЕНА НА НЕАТАКОВАННЫХ ИЗОБРАЖЕНИЯХ\n"
     ]
    },
    {
     "name": "stderr",
     "output_type": "stream",
     "text": [
      "[Parallel(n_jobs=1)]: Using backend SequentialBackend with 1 concurrent workers.\n"
     ]
    },
    {
     "name": "stdout",
     "output_type": "stream",
     "text": [
      "       0      1\n",
      "0  41834    550\n",
      "1   7368  32168\n",
      "\n",
      "              precision    recall  f1-score   support\n",
      "\n",
      "           0       0.85      0.99      0.91     42384\n",
      "           1       0.98      0.81      0.89     39536\n",
      "\n",
      "    accuracy                           0.90     81920\n",
      "   macro avg       0.92      0.90      0.90     81920\n",
      "weighted avg       0.91      0.90      0.90     81920\n",
      "\n",
      "\n",
      "побитовое сравнение =  83.49609375\n"
     ]
    },
    {
     "name": "stderr",
     "output_type": "stream",
     "text": [
      "[Parallel(n_jobs=1)]: Done  50 out of  50 | elapsed:    0.3s finished\n",
      "[Parallel(n_jobs=1)]: Using backend SequentialBackend with 1 concurrent workers.\n",
      "[Parallel(n_jobs=1)]: Done  50 out of  50 | elapsed:    0.0s finished\n"
     ]
    }
   ],
   "source": [
    "NO_AttackModel_Test(GammaCor,\"W_R/WR_GammaCor.tif\", \"ПРОВЕРКА ДЛЯ АТАКИ GammaCor. МОДЕЛЬ ОБУЧЕНА НА НЕАТАКОВАННЫХ ИЗОБРАЖЕНИЯХ\",clf_no_attack)"
   ]
  },
  {
   "cell_type": "code",
   "execution_count": 21,
   "id": "b87b8f03",
   "metadata": {},
   "outputs": [
    {
     "name": "stdout",
     "output_type": "stream",
     "text": [
      "побитовое сравнение =  53.515625\n"
     ]
    }
   ],
   "source": [
    "Attack_Dota_GammaCorrection= pd.read_csv('feature_vec/GammaCorrectionCross.txt') # ПАРАМЕТР НА ВХОД ФУНКЦИИ\n",
    "one_WM(Attack_Dota_GammaCorrection ,\"W_R/WR_GammaCorrection.tif\",\"Water Mark Image/waterMark3.jpg\",clf_no_attack )"
   ]
  },
  {
   "cell_type": "code",
   "execution_count": 39,
   "id": "e9258322",
   "metadata": {},
   "outputs": [
    {
     "name": "stdout",
     "output_type": "stream",
     "text": [
      "ПРОВЕРКА ДЛЯ АТАКИ median. МОДЕЛЬ ОБУЧЕНА НА НЕАТАКОВАННЫХ ИЗОБРАЖЕНИЯХ\n"
     ]
    },
    {
     "name": "stderr",
     "output_type": "stream",
     "text": [
      "[Parallel(n_jobs=1)]: Using backend SequentialBackend with 1 concurrent workers.\n"
     ]
    },
    {
     "name": "stdout",
     "output_type": "stream",
     "text": [
      "       0     1\n",
      "0  38997  3387\n",
      "1  35072  4464\n",
      "\n",
      "              precision    recall  f1-score   support\n",
      "\n",
      "           0       0.53      0.92      0.67     42384\n",
      "           1       0.57      0.11      0.19     39536\n",
      "\n",
      "    accuracy                           0.53     81920\n",
      "   macro avg       0.55      0.52      0.43     81920\n",
      "weighted avg       0.55      0.53      0.44     81920\n",
      "\n",
      "\n",
      "побитовое сравнение =  53.3203125\n"
     ]
    },
    {
     "name": "stderr",
     "output_type": "stream",
     "text": [
      "[Parallel(n_jobs=1)]: Done  50 out of  50 | elapsed:    0.3s finished\n",
      "[Parallel(n_jobs=1)]: Using backend SequentialBackend with 1 concurrent workers.\n",
      "[Parallel(n_jobs=1)]: Done  50 out of  50 | elapsed:    0.0s finished\n"
     ]
    }
   ],
   "source": [
    "NO_AttackModel_Test(median,\"W_R/WR_median.tif\", \"ПРОВЕРКА ДЛЯ АТАКИ median. МОДЕЛЬ ОБУЧЕНА НА НЕАТАКОВАННЫХ ИЗОБРАЖЕНИЯХ\",clf_no_attack)"
   ]
  },
  {
   "cell_type": "code",
   "execution_count": 25,
   "id": "37d74469",
   "metadata": {},
   "outputs": [
    {
     "name": "stdout",
     "output_type": "stream",
     "text": [
      "побитовое сравнение =  64.16015625\n"
     ]
    }
   ],
   "source": [
    "Attack_Cross_medianAttack= pd.read_csv('feature_vec/medianAttackCross.txt') # ПАРАМЕТР НА ВХОД ФУНКЦИИ\n",
    "one_WM(Attack_Cross_medianAttack ,\"W_R/medianAttackCross.tif\",\"Water Mark Image/waterMark2.jpg\",clf_no_attack )"
   ]
  },
  {
   "cell_type": "code",
   "execution_count": 40,
   "id": "07f1653b",
   "metadata": {},
   "outputs": [
    {
     "name": "stdout",
     "output_type": "stream",
     "text": [
      "ПРОВЕРКА ДЛЯ АТАКИ snarpness. МОДЕЛЬ ОБУЧЕНА НА НЕАТАКОВАННЫХ ИЗОБРАЖЕНИЯХ\n"
     ]
    },
    {
     "name": "stderr",
     "output_type": "stream",
     "text": [
      "[Parallel(n_jobs=1)]: Using backend SequentialBackend with 1 concurrent workers.\n"
     ]
    },
    {
     "name": "stdout",
     "output_type": "stream",
     "text": [
      "       0      1\n",
      "0  40690   1694\n",
      "1    217  39319\n",
      "\n",
      "              precision    recall  f1-score   support\n",
      "\n",
      "           0       0.99      0.96      0.98     42384\n",
      "           1       0.96      0.99      0.98     39536\n",
      "\n",
      "    accuracy                           0.98     81920\n",
      "   macro avg       0.98      0.98      0.98     81920\n",
      "weighted avg       0.98      0.98      0.98     81920\n",
      "\n",
      "\n",
      "побитовое сравнение =  97.8515625\n"
     ]
    },
    {
     "name": "stderr",
     "output_type": "stream",
     "text": [
      "[Parallel(n_jobs=1)]: Done  50 out of  50 | elapsed:    0.3s finished\n",
      "[Parallel(n_jobs=1)]: Using backend SequentialBackend with 1 concurrent workers.\n",
      "[Parallel(n_jobs=1)]: Done  50 out of  50 | elapsed:    0.0s finished\n"
     ]
    }
   ],
   "source": [
    "NO_AttackModel_Test(snarpness,\"W_R/WR_snarpness.tif\", \"ПРОВЕРКА ДЛЯ АТАКИ snarpness. МОДЕЛЬ ОБУЧЕНА НА НЕАТАКОВАННЫХ ИЗОБРАЖЕНИЯХ\",clf_no_attack)"
   ]
  },
  {
   "cell_type": "code",
   "execution_count": 28,
   "id": "76f92dd6",
   "metadata": {},
   "outputs": [
    {
     "name": "stdout",
     "output_type": "stream",
     "text": [
      "побитовое сравнение =  75.1953125\n"
     ]
    }
   ],
   "source": [
    "Attack_Cross_Sharpness= pd.read_csv('feature_vec/SharpnessCross.txt') # ПАРАМЕТР НА ВХОД ФУНКЦИИ\n",
    "one_WM(Attack_Cross_Sharpness ,\"W_R/SharpnessCross.tif\",\"Water Mark Image/waterMark2.jpg\",clf_no_attack )"
   ]
  },
  {
   "cell_type": "markdown",
   "id": "dd455357",
   "metadata": {},
   "source": [
    "### тестирую модель обученную на attack image подсовываю атакованные изображения"
   ]
  },
  {
   "cell_type": "code",
   "execution_count": 42,
   "id": "a01d42e4",
   "metadata": {},
   "outputs": [],
   "source": [
    "X = DataFrame.iloc[:,[1,2,3,4]].values  \n",
    "Y=DataFrame.iloc[:,[0]].values\n",
    "X_train, X_test, y_train, y_test = train_test_split(X, Y, test_size=0.4, random_state=42)"
   ]
  },
  {
   "cell_type": "code",
   "execution_count": 43,
   "id": "47132d03",
   "metadata": {},
   "outputs": [
    {
     "name": "stderr",
     "output_type": "stream",
     "text": [
      "C:\\Users\\ANDREY~1\\AppData\\Local\\Temp/ipykernel_8688/2247406573.py:2: DataConversionWarning: A column-vector y was passed when a 1d array was expected. Please change the shape of y to (n_samples,), for example using ravel().\n",
      "  clf_attack.fit(X_train, y_train)\n",
      "[Parallel(n_jobs=1)]: Using backend SequentialBackend with 1 concurrent workers.\n",
      "[Parallel(n_jobs=1)]: Done  50 out of  50 | elapsed:  1.3min finished\n"
     ]
    },
    {
     "data": {
      "text/plain": [
       "RandomForestClassifier(max_depth=12, n_estimators=50, verbose=True)"
      ]
     },
     "execution_count": 43,
     "metadata": {},
     "output_type": "execute_result"
    }
   ],
   "source": [
    "clf_attack = RandomForestClassifier (max_depth = 12, n_estimators = 50 ,verbose=True)\n",
    "clf_attack.fit(X_train, y_train)"
   ]
  },
  {
   "cell_type": "code",
   "execution_count": 45,
   "id": "0b713193",
   "metadata": {},
   "outputs": [
    {
     "name": "stderr",
     "output_type": "stream",
     "text": [
      "[Parallel(n_jobs=1)]: Using backend SequentialBackend with 1 concurrent workers.\n",
      "[Parallel(n_jobs=1)]: Done  50 out of  50 | elapsed:    3.9s finished\n"
     ]
    },
    {
     "name": "stdout",
     "output_type": "stream",
     "text": [
      "        0       1\n",
      "0  279967   15962\n",
      "1  117154  160357\n",
      "              precision    recall  f1-score   support\n",
      "\n",
      "           0       0.70      0.95      0.81    295929\n",
      "           1       0.91      0.58      0.71    277511\n",
      "\n",
      "    accuracy                           0.77    573440\n",
      "   macro avg       0.81      0.76      0.76    573440\n",
      "weighted avg       0.80      0.77      0.76    573440\n",
      "\n"
     ]
    }
   ],
   "source": [
    "y_predict=clf_attack.predict(X_test)\n",
    "cm = confusion_matrix(y_test, y_predict)\n",
    "print(pd.DataFrame(cm))\n",
    "print(classification_report(y_test, y_predict))"
   ]
  },
  {
   "cell_type": "code",
   "execution_count": 46,
   "id": "2b614fcd",
   "metadata": {},
   "outputs": [
    {
     "name": "stdout",
     "output_type": "stream",
     "text": [
      "ПРОВЕРКА ДЛЯ АТАКИ СОЛЬ-ПЕРЕЦ. МОДЕЛЬ ОБУЧЕНА НА НЕАТАКОВАННЫХ ИЗОБРАЖЕНИЯХ\n"
     ]
    },
    {
     "name": "stderr",
     "output_type": "stream",
     "text": [
      "[Parallel(n_jobs=1)]: Using backend SequentialBackend with 1 concurrent workers.\n"
     ]
    },
    {
     "name": "stdout",
     "output_type": "stream",
     "text": [
      "       0      1\n",
      "0  40978   1406\n",
      "1   1375  38161\n",
      "\n",
      "              precision    recall  f1-score   support\n",
      "\n",
      "           0       0.97      0.97      0.97     42384\n",
      "           1       0.96      0.97      0.96     39536\n",
      "\n",
      "    accuracy                           0.97     81920\n",
      "   macro avg       0.97      0.97      0.97     81920\n",
      "weighted avg       0.97      0.97      0.97     81920\n",
      "\n",
      "\n",
      "побитовое сравнение =  96.875\n"
     ]
    },
    {
     "name": "stderr",
     "output_type": "stream",
     "text": [
      "[Parallel(n_jobs=1)]: Done  50 out of  50 | elapsed:    0.5s finished\n",
      "[Parallel(n_jobs=1)]: Using backend SequentialBackend with 1 concurrent workers.\n",
      "[Parallel(n_jobs=1)]: Done  50 out of  50 | elapsed:    0.0s finished\n"
     ]
    }
   ],
   "source": [
    "NO_AttackModel_Test(saltpaper,\"W_R/WR_SP.tif\", \"ПРОВЕРКА ДЛЯ АТАКИ СОЛЬ-ПЕРЕЦ. МОДЕЛЬ ОБУЧЕНА НА НЕАТАКОВАННЫХ ИЗОБРАЖЕНИЯХ\",clf_attack)"
   ]
  },
  {
   "cell_type": "code",
   "execution_count": 34,
   "id": "f77526a9",
   "metadata": {},
   "outputs": [
    {
     "name": "stdout",
     "output_type": "stream",
     "text": [
      "побитовое сравнение =  84.27734375\n"
     ]
    }
   ],
   "source": [
    "Attack_Dota_SP = pd.read_csv('feature_vec/SaltPaperAttackDota.txt') # ПАРАМЕТР НА ВХОД ФУНКЦИИ\n",
    "one_WM(Attack_Dota_SP ,\"W_R/WR_SP_Dota.tif\",\"Water Mark Image/waterMark3.jpg\",clf_attack )\n"
   ]
  },
  {
   "cell_type": "code",
   "execution_count": 47,
   "id": "cd3b457f",
   "metadata": {
    "scrolled": true
   },
   "outputs": [
    {
     "name": "stdout",
     "output_type": "stream",
     "text": [
      "ПРОВЕРКА ДЛЯ АТАКИ averege - среднее. МОДЕЛЬ ОБУЧЕНА НА НЕАТАКОВАННЫХ ИЗОБРАЖЕНИЯХ\n"
     ]
    },
    {
     "name": "stderr",
     "output_type": "stream",
     "text": [
      "[Parallel(n_jobs=1)]: Using backend SequentialBackend with 1 concurrent workers.\n"
     ]
    },
    {
     "name": "stdout",
     "output_type": "stream",
     "text": [
      "       0     1\n",
      "0  41111  1273\n",
      "1  38198  1338\n",
      "\n",
      "              precision    recall  f1-score   support\n",
      "\n",
      "           0       0.52      0.97      0.68     42384\n",
      "           1       0.51      0.03      0.06     39536\n",
      "\n",
      "    accuracy                           0.52     81920\n",
      "   macro avg       0.52      0.50      0.37     81920\n",
      "weighted avg       0.52      0.52      0.38     81920\n",
      "\n",
      "\n",
      "побитовое сравнение =  51.46484375\n"
     ]
    },
    {
     "name": "stderr",
     "output_type": "stream",
     "text": [
      "[Parallel(n_jobs=1)]: Done  50 out of  50 | elapsed:    0.3s finished\n",
      "[Parallel(n_jobs=1)]: Using backend SequentialBackend with 1 concurrent workers.\n",
      "[Parallel(n_jobs=1)]: Done  50 out of  50 | elapsed:    0.0s finished\n"
     ]
    }
   ],
   "source": [
    "NO_AttackModel_Test(averege,\"W_R/WR_averege.tif\", \"ПРОВЕРКА ДЛЯ АТАКИ averege - среднее. МОДЕЛЬ ОБУЧЕНА НА НЕАТАКОВАННЫХ ИЗОБРАЖЕНИЯХ\",clf_attack)"
   ]
  },
  {
   "cell_type": "code",
   "execution_count": 38,
   "id": "0de8524f",
   "metadata": {},
   "outputs": [
    {
     "name": "stdout",
     "output_type": "stream",
     "text": [
      "побитовое сравнение =  51.7578125\n"
     ]
    }
   ],
   "source": [
    "Attack_Dota_Average = pd.read_csv('feature_vec/AverageAttackDota.txt') # ПАРАМЕТР НА ВХОД ФУНКЦИИ\n",
    "one_WM(Attack_Dota_Average ,\"W_R/WR_Average_Dota.tif\",\"Water Mark Image/waterMark3.jpg\",clf_attack )"
   ]
  },
  {
   "cell_type": "code",
   "execution_count": 48,
   "id": "b7bf146c",
   "metadata": {},
   "outputs": [
    {
     "name": "stdout",
     "output_type": "stream",
     "text": [
      "ПРОВЕРКА ДЛЯ АТАКИ histogram. МОДЕЛЬ ОБУЧЕНА НА НЕАТАКОВАННЫХ ИЗОБРАЖЕНИЯХ\n"
     ]
    },
    {
     "name": "stderr",
     "output_type": "stream",
     "text": [
      "[Parallel(n_jobs=1)]: Using backend SequentialBackend with 1 concurrent workers.\n",
      "[Parallel(n_jobs=1)]: Done  50 out of  50 | elapsed:    0.5s finished\n",
      "[Parallel(n_jobs=1)]: Using backend SequentialBackend with 1 concurrent workers.\n",
      "[Parallel(n_jobs=1)]: Done  50 out of  50 | elapsed:    0.0s finished\n"
     ]
    },
    {
     "name": "stdout",
     "output_type": "stream",
     "text": [
      "       0      1\n",
      "0  38913   3471\n",
      "1   6567  32969\n",
      "\n",
      "              precision    recall  f1-score   support\n",
      "\n",
      "           0       0.86      0.92      0.89     42384\n",
      "           1       0.90      0.83      0.87     39536\n",
      "\n",
      "    accuracy                           0.88     81920\n",
      "   macro avg       0.88      0.88      0.88     81920\n",
      "weighted avg       0.88      0.88      0.88     81920\n",
      "\n",
      "\n",
      "побитовое сравнение =  96.484375\n"
     ]
    }
   ],
   "source": [
    "NO_AttackModel_Test(histogram,\"W_R/WR_histogram.tif\", \"ПРОВЕРКА ДЛЯ АТАКИ histogram. МОДЕЛЬ ОБУЧЕНА НА НЕАТАКОВАННЫХ ИЗОБРАЖЕНИЯХ\",clf_attack)"
   ]
  },
  {
   "cell_type": "code",
   "execution_count": 40,
   "id": "79ab7f95",
   "metadata": {},
   "outputs": [
    {
     "name": "stdout",
     "output_type": "stream",
     "text": [
      "побитовое сравнение =  84.86328125\n"
     ]
    }
   ],
   "source": [
    "Attack_Dota_Histogram = pd.read_csv('feature_vec/HistogramAttackDota.txt') # ПАРАМЕТР НА ВХОД ФУНКЦИИ\n",
    "one_WM(Attack_Dota_Histogram ,\"W_R/WR_Histogram_Dota.tif\",\"Water Mark Image/waterMark3.jpg\",clf_attack )"
   ]
  },
  {
   "cell_type": "code",
   "execution_count": 49,
   "id": "526e8bd7",
   "metadata": {},
   "outputs": [
    {
     "name": "stdout",
     "output_type": "stream",
     "text": [
      "ПРОВЕРКА ДЛЯ АТАКИ GammaCor. МОДЕЛЬ ОБУЧЕНА НА НЕАТАКОВАННЫХ ИЗОБРАЖЕНИЯХ\n"
     ]
    },
    {
     "name": "stderr",
     "output_type": "stream",
     "text": [
      "[Parallel(n_jobs=1)]: Using backend SequentialBackend with 1 concurrent workers.\n"
     ]
    },
    {
     "name": "stdout",
     "output_type": "stream",
     "text": [
      "       0      1\n",
      "0  42162    222\n",
      "1    945  38591\n",
      "\n",
      "              precision    recall  f1-score   support\n",
      "\n",
      "           0       0.98      0.99      0.99     42384\n",
      "           1       0.99      0.98      0.99     39536\n",
      "\n",
      "    accuracy                           0.99     81920\n",
      "   macro avg       0.99      0.99      0.99     81920\n",
      "weighted avg       0.99      0.99      0.99     81920\n",
      "\n",
      "\n",
      "побитовое сравнение =  98.73046875\n"
     ]
    },
    {
     "name": "stderr",
     "output_type": "stream",
     "text": [
      "[Parallel(n_jobs=1)]: Done  50 out of  50 | elapsed:    0.5s finished\n",
      "[Parallel(n_jobs=1)]: Using backend SequentialBackend with 1 concurrent workers.\n",
      "[Parallel(n_jobs=1)]: Done  50 out of  50 | elapsed:    0.0s finished\n"
     ]
    }
   ],
   "source": [
    "NO_AttackModel_Test(GammaCor,\"W_R/WR_GammaCor.tif\", \"ПРОВЕРКА ДЛЯ АТАКИ GammaCor. МОДЕЛЬ ОБУЧЕНА НА НЕАТАКОВАННЫХ ИЗОБРАЖЕНИЯХ\",clf_attack)"
   ]
  },
  {
   "cell_type": "code",
   "execution_count": 42,
   "id": "c03a7e22",
   "metadata": {},
   "outputs": [
    {
     "name": "stdout",
     "output_type": "stream",
     "text": [
      "побитовое сравнение =  49.21875\n"
     ]
    }
   ],
   "source": [
    "Attack_Dota_GammaCorrection= pd.read_csv('feature_vec/GammaCorrectionCross.txt') # ПАРАМЕТР НА ВХОД ФУНКЦИИ\n",
    "one_WM(Attack_Dota_GammaCorrection ,\"W_R/WR_GammaCorrection.tif\",\"Water Mark Image/waterMark3.jpg\",clf_attack )"
   ]
  },
  {
   "cell_type": "code",
   "execution_count": 27,
   "id": "aa516f4d",
   "metadata": {},
   "outputs": [
    {
     "name": "stdout",
     "output_type": "stream",
     "text": [
      "ПРОВЕРКА ДЛЯ АТАКИ median. МОДЕЛЬ ОБУЧЕНА НА НЕАТАКОВАННЫХ ИЗОБРАЖЕНИЯХ\n",
      "       0      1\n",
      "0  34550   7834\n",
      "1  28211  11325\n",
      "\n",
      "              precision    recall  f1-score   support\n",
      "\n",
      "           0       0.55      0.82      0.66     42384\n",
      "           1       0.59      0.29      0.39     39536\n",
      "\n",
      "    accuracy                           0.56     81920\n",
      "   macro avg       0.57      0.55      0.52     81920\n",
      "weighted avg       0.57      0.56      0.53     81920\n",
      "\n",
      "\n",
      "побитовое сравнение =  55.76171875\n"
     ]
    }
   ],
   "source": [
    "NO_AttackModel_Test(median,\"W_R/WR_median.tif\", \"ПРОВЕРКА ДЛЯ АТАКИ median. МОДЕЛЬ ОБУЧЕНА НА НЕАТАКОВАННЫХ ИЗОБРАЖЕНИЯХ\",clf_attack)"
   ]
  },
  {
   "cell_type": "code",
   "execution_count": 44,
   "id": "64402a65",
   "metadata": {},
   "outputs": [
    {
     "name": "stdout",
     "output_type": "stream",
     "text": [
      "побитовое сравнение =  57.71484375\n"
     ]
    }
   ],
   "source": [
    "Attack_Cross_medianAttack= pd.read_csv('feature_vec/medianAttackCross.txt') # ПАРАМЕТР НА ВХОД ФУНКЦИИ\n",
    "one_WM(Attack_Cross_medianAttack ,\"W_R/medianAttackCross.tif\",\"Water Mark Image/waterMark2.jpg\",clf_attack )"
   ]
  },
  {
   "cell_type": "code",
   "execution_count": 50,
   "id": "c4ccd601",
   "metadata": {},
   "outputs": [
    {
     "name": "stdout",
     "output_type": "stream",
     "text": [
      "ПРОВЕРКА ДЛЯ АТАКИ snarpness. МОДЕЛЬ ОБУЧЕНА НА НЕАТАКОВАННЫХ ИЗОБРАЖЕНИЯХ\n"
     ]
    },
    {
     "name": "stderr",
     "output_type": "stream",
     "text": [
      "[Parallel(n_jobs=1)]: Using backend SequentialBackend with 1 concurrent workers.\n"
     ]
    },
    {
     "name": "stdout",
     "output_type": "stream",
     "text": [
      "       0      1\n",
      "0  41752    632\n",
      "1    186  39350\n",
      "\n",
      "              precision    recall  f1-score   support\n",
      "\n",
      "           0       1.00      0.99      0.99     42384\n",
      "           1       0.98      1.00      0.99     39536\n",
      "\n",
      "    accuracy                           0.99     81920\n",
      "   macro avg       0.99      0.99      0.99     81920\n",
      "weighted avg       0.99      0.99      0.99     81920\n",
      "\n",
      "\n",
      "побитовое сравнение =  99.31640625\n"
     ]
    },
    {
     "name": "stderr",
     "output_type": "stream",
     "text": [
      "[Parallel(n_jobs=1)]: Done  50 out of  50 | elapsed:    0.5s finished\n",
      "[Parallel(n_jobs=1)]: Using backend SequentialBackend with 1 concurrent workers.\n",
      "[Parallel(n_jobs=1)]: Done  50 out of  50 | elapsed:    0.0s finished\n"
     ]
    }
   ],
   "source": [
    "NO_AttackModel_Test(snarpness,\"W_R/WR_snarpness.tif\", \"ПРОВЕРКА ДЛЯ АТАКИ snarpness. МОДЕЛЬ ОБУЧЕНА НА НЕАТАКОВАННЫХ ИЗОБРАЖЕНИЯХ\",clf_attack)"
   ]
  },
  {
   "cell_type": "code",
   "execution_count": 46,
   "id": "d0f5b146",
   "metadata": {},
   "outputs": [
    {
     "name": "stdout",
     "output_type": "stream",
     "text": [
      "побитовое сравнение =  78.3203125\n"
     ]
    }
   ],
   "source": [
    "Attack_Cross_Sharpness= pd.read_csv('feature_vec/SharpnessCross.txt') # ПАРАМЕТР НА ВХОД ФУНКЦИИ\n",
    "one_WM(Attack_Cross_Sharpness ,\"W_R/SharpnessCross.tif\",\"Water Mark Image/waterMark2.jpg\",clf_attack )"
   ]
  },
  {
   "cell_type": "code",
   "execution_count": 51,
   "id": "fe25c6e0",
   "metadata": {},
   "outputs": [
    {
     "name": "stdout",
     "output_type": "stream",
     "text": [
      "ПРОВЕРКА ДЛЯ АТАКИ JPEG50. МОДЕЛЬ ОБУЧЕНА НА НЕАТАКОВАННЫХ ИЗОБРАЖЕНИЯХ\n"
     ]
    },
    {
     "name": "stderr",
     "output_type": "stream",
     "text": [
      "[Parallel(n_jobs=1)]: Using backend SequentialBackend with 1 concurrent workers.\n"
     ]
    },
    {
     "name": "stdout",
     "output_type": "stream",
     "text": [
      "       0     1\n",
      "0  38182  4202\n",
      "1  35084  4452\n",
      "\n",
      "              precision    recall  f1-score   support\n",
      "\n",
      "           0       0.52      0.90      0.66     42384\n",
      "           1       0.51      0.11      0.18     39536\n",
      "\n",
      "    accuracy                           0.52     81920\n",
      "   macro avg       0.52      0.51      0.42     81920\n",
      "weighted avg       0.52      0.52      0.43     81920\n",
      "\n",
      "\n",
      "побитовое сравнение =  52.5390625\n"
     ]
    },
    {
     "name": "stderr",
     "output_type": "stream",
     "text": [
      "[Parallel(n_jobs=1)]: Done  50 out of  50 | elapsed:    0.4s finished\n",
      "[Parallel(n_jobs=1)]: Using backend SequentialBackend with 1 concurrent workers.\n",
      "[Parallel(n_jobs=1)]: Done  50 out of  50 | elapsed:    0.0s finished\n"
     ]
    }
   ],
   "source": [
    "NO_AttackModel_Test(JPEG50,\"W_R/WR_JPEG50.tif\", \"ПРОВЕРКА ДЛЯ АТАКИ JPEG50. МОДЕЛЬ ОБУЧЕНА НА НЕАТАКОВАННЫХ ИЗОБРАЖЕНИЯХ\",clf_attack)"
   ]
  },
  {
   "cell_type": "code",
   "execution_count": 48,
   "id": "7b587a42",
   "metadata": {},
   "outputs": [
    {
     "name": "stdout",
     "output_type": "stream",
     "text": [
      "побитовое сравнение =  54.98046875\n"
     ]
    }
   ],
   "source": [
    "Attack_Dota_jpeg = pd.read_csv('feature_vec/JPEG50Dota.txt') # ПАРАМЕТР НА ВХОД ФУНКЦИИ\n",
    "one_WM(Attack_Dota_jpeg ,\"W_R/WR_jpeg_Dota.tif\",\"Water Mark Image/waterMark3.jpg\" ,clf_attack )"
   ]
  },
  {
   "cell_type": "markdown",
   "id": "fa1ca33b",
   "metadata": {},
   "source": [
    "#  Обучаю сеть на одной конкретной атаке и смотрю на результат"
   ]
  },
  {
   "cell_type": "markdown",
   "id": "5f89886b",
   "metadata": {},
   "source": [
    "### Медианная фильтрация"
   ]
  },
  {
   "cell_type": "code",
   "execution_count": 30,
   "id": "d2c19c3c",
   "metadata": {},
   "outputs": [
    {
     "data": {
      "text/html": [
       "<div>\n",
       "<style scoped>\n",
       "    .dataframe tbody tr th:only-of-type {\n",
       "        vertical-align: middle;\n",
       "    }\n",
       "\n",
       "    .dataframe tbody tr th {\n",
       "        vertical-align: top;\n",
       "    }\n",
       "\n",
       "    .dataframe thead th {\n",
       "        text-align: right;\n",
       "    }\n",
       "</style>\n",
       "<table border=\"1\" class=\"dataframe\">\n",
       "  <thead>\n",
       "    <tr style=\"text-align: right;\">\n",
       "      <th></th>\n",
       "      <th>bit</th>\n",
       "      <th>feature_1</th>\n",
       "      <th>feature_2</th>\n",
       "      <th>feature_3</th>\n",
       "      <th>feature_4</th>\n",
       "    </tr>\n",
       "  </thead>\n",
       "  <tbody>\n",
       "    <tr>\n",
       "      <th>0</th>\n",
       "      <td>1</td>\n",
       "      <td>0.0</td>\n",
       "      <td>0.5</td>\n",
       "      <td>-1.5</td>\n",
       "      <td>1.5</td>\n",
       "    </tr>\n",
       "    <tr>\n",
       "      <th>1</th>\n",
       "      <td>0</td>\n",
       "      <td>-3.0</td>\n",
       "      <td>-31.5</td>\n",
       "      <td>-5.0</td>\n",
       "      <td>-38.0</td>\n",
       "    </tr>\n",
       "    <tr>\n",
       "      <th>2</th>\n",
       "      <td>1</td>\n",
       "      <td>0.0</td>\n",
       "      <td>29.0</td>\n",
       "      <td>0.5</td>\n",
       "      <td>29.5</td>\n",
       "    </tr>\n",
       "    <tr>\n",
       "      <th>3</th>\n",
       "      <td>1</td>\n",
       "      <td>-31.0</td>\n",
       "      <td>-4.0</td>\n",
       "      <td>-44.0</td>\n",
       "      <td>4.5</td>\n",
       "    </tr>\n",
       "    <tr>\n",
       "      <th>4</th>\n",
       "      <td>1</td>\n",
       "      <td>-21.0</td>\n",
       "      <td>0.0</td>\n",
       "      <td>-17.0</td>\n",
       "      <td>-3.5</td>\n",
       "    </tr>\n",
       "    <tr>\n",
       "      <th>...</th>\n",
       "      <td>...</td>\n",
       "      <td>...</td>\n",
       "      <td>...</td>\n",
       "      <td>...</td>\n",
       "      <td>...</td>\n",
       "    </tr>\n",
       "    <tr>\n",
       "      <th>204795</th>\n",
       "      <td>0</td>\n",
       "      <td>-6.5</td>\n",
       "      <td>3.0</td>\n",
       "      <td>-1.0</td>\n",
       "      <td>3.0</td>\n",
       "    </tr>\n",
       "    <tr>\n",
       "      <th>204796</th>\n",
       "      <td>1</td>\n",
       "      <td>-3.5</td>\n",
       "      <td>11.5</td>\n",
       "      <td>0.5</td>\n",
       "      <td>-2.5</td>\n",
       "    </tr>\n",
       "    <tr>\n",
       "      <th>204797</th>\n",
       "      <td>1</td>\n",
       "      <td>0.5</td>\n",
       "      <td>-8.0</td>\n",
       "      <td>11.5</td>\n",
       "      <td>-2.5</td>\n",
       "    </tr>\n",
       "    <tr>\n",
       "      <th>204798</th>\n",
       "      <td>1</td>\n",
       "      <td>2.0</td>\n",
       "      <td>28.0</td>\n",
       "      <td>-2.0</td>\n",
       "      <td>45.0</td>\n",
       "    </tr>\n",
       "    <tr>\n",
       "      <th>204799</th>\n",
       "      <td>0</td>\n",
       "      <td>28.0</td>\n",
       "      <td>3.5</td>\n",
       "      <td>27.5</td>\n",
       "      <td>9.0</td>\n",
       "    </tr>\n",
       "  </tbody>\n",
       "</table>\n",
       "<p>409600 rows × 5 columns</p>\n",
       "</div>"
      ],
      "text/plain": [
       "        bit  feature_1  feature_2  feature_3  feature_4\n",
       "0         1        0.0        0.5       -1.5        1.5\n",
       "1         0       -3.0      -31.5       -5.0      -38.0\n",
       "2         1        0.0       29.0        0.5       29.5\n",
       "3         1      -31.0       -4.0      -44.0        4.5\n",
       "4         1      -21.0        0.0      -17.0       -3.5\n",
       "...     ...        ...        ...        ...        ...\n",
       "204795    0       -6.5        3.0       -1.0        3.0\n",
       "204796    1       -3.5       11.5        0.5       -2.5\n",
       "204797    1        0.5       -8.0       11.5       -2.5\n",
       "204798    1        2.0       28.0       -2.0       45.0\n",
       "204799    0       28.0        3.5       27.5        9.0\n",
       "\n",
       "[409600 rows x 5 columns]"
      ]
     },
     "execution_count": 30,
     "metadata": {},
     "output_type": "execute_result"
    }
   ],
   "source": [
    "median=pd.read_csv(path_median) \n",
    "No_Attack_frame = pd.read_csv('feature_vec/NO_Attack.txt') # ПАРАМЕТР НА ВХОД ФУНКЦИИ\n",
    "frames = [ median , No_Attack_frame ]\n",
    "DataFrame = pd.concat(frames)\n",
    "del DataFrame['Unnamed: 0']\n",
    "del median['Unnamed: 0']\n",
    "DataFrame"
   ]
  },
  {
   "cell_type": "code",
   "execution_count": 31,
   "id": "c40a63bf",
   "metadata": {},
   "outputs": [],
   "source": [
    "X = DataFrame.iloc[:,[1,2,3,4]].values  \n",
    "Y=DataFrame.iloc[:,[0]].values\n",
    "X_train, X_test, y_train, y_test = train_test_split(X, Y, test_size=0.35, random_state=42)"
   ]
  },
  {
   "cell_type": "code",
   "execution_count": 32,
   "id": "1aa01ac3",
   "metadata": {},
   "outputs": [
    {
     "name": "stderr",
     "output_type": "stream",
     "text": [
      "d:\\code\\python\\nir\\venv\\lib\\site-packages\\sklearn\\neural_network\\_multilayer_perceptron.py:1109: DataConversionWarning: A column-vector y was passed when a 1d array was expected. Please change the shape of y to (n_samples, ), for example using ravel().\n",
      "  y = column_or_1d(y, warn=True)\n"
     ]
    },
    {
     "name": "stdout",
     "output_type": "stream",
     "text": [
      "Iteration 1, loss = 0.59281706\n",
      "Validation score: 0.756761\n",
      "Iteration 2, loss = 0.52534694\n",
      "Validation score: 0.774076\n",
      "Iteration 3, loss = 0.51036256\n",
      "Validation score: 0.772048\n",
      "Iteration 4, loss = 0.50160991\n",
      "Validation score: 0.775503\n",
      "Iteration 5, loss = 0.49453901\n",
      "Validation score: 0.776367\n",
      "Iteration 6, loss = 0.48927642\n",
      "Validation score: 0.777231\n",
      "Iteration 7, loss = 0.48560861\n",
      "Validation score: 0.777306\n",
      "Iteration 8, loss = 0.48330229\n",
      "Validation score: 0.778621\n",
      "Iteration 9, loss = 0.48101394\n",
      "Validation score: 0.779184\n",
      "Iteration 10, loss = 0.47940130\n",
      "Validation score: 0.780311\n",
      "Iteration 11, loss = 0.47789233\n",
      "Validation score: 0.780048\n",
      "Iteration 12, loss = 0.47704731\n",
      "Validation score: 0.779973\n",
      "Iteration 13, loss = 0.47611274\n",
      "Validation score: 0.779785\n",
      "Iteration 14, loss = 0.47551980\n",
      "Validation score: 0.778583\n",
      "Iteration 15, loss = 0.47501093\n",
      "Validation score: 0.781025\n",
      "Iteration 16, loss = 0.47426552\n",
      "Validation score: 0.779973\n",
      "Iteration 17, loss = 0.47349904\n",
      "Validation score: 0.779935\n",
      "Iteration 18, loss = 0.47334712\n",
      "Validation score: 0.780499\n",
      "Iteration 19, loss = 0.47258212\n",
      "Validation score: 0.781025\n",
      "Iteration 20, loss = 0.47192376\n",
      "Validation score: 0.779710\n",
      "Iteration 21, loss = 0.47159786\n",
      "Validation score: 0.781513\n",
      "Iteration 22, loss = 0.47108340\n",
      "Validation score: 0.781776\n",
      "Iteration 23, loss = 0.47110009\n",
      "Validation score: 0.781813\n",
      "Iteration 24, loss = 0.47057896\n",
      "Validation score: 0.781776\n",
      "Iteration 25, loss = 0.47031118\n",
      "Validation score: 0.781212\n",
      "Iteration 26, loss = 0.47014734\n",
      "Validation score: 0.781175\n",
      "Iteration 27, loss = 0.46976331\n",
      "Validation score: 0.781889\n",
      "Iteration 28, loss = 0.46925036\n",
      "Validation score: 0.781513\n",
      "Iteration 29, loss = 0.46937410\n",
      "Validation score: 0.780311\n",
      "Iteration 30, loss = 0.46890938\n",
      "Validation score: 0.780161\n",
      "Iteration 31, loss = 0.46857643\n",
      "Validation score: 0.782489\n",
      "Iteration 32, loss = 0.46873363\n",
      "Validation score: 0.779147\n",
      "Iteration 33, loss = 0.46834053\n",
      "Validation score: 0.780536\n",
      "Iteration 34, loss = 0.46819238\n",
      "Validation score: 0.780273\n",
      "Iteration 35, loss = 0.46775977\n",
      "Validation score: 0.781513\n",
      "Iteration 36, loss = 0.46797522\n",
      "Validation score: 0.781701\n",
      "Iteration 37, loss = 0.46744697\n",
      "Validation score: 0.781175\n",
      "Iteration 38, loss = 0.46771576\n",
      "Validation score: 0.781100\n",
      "Iteration 39, loss = 0.46738935\n",
      "Validation score: 0.781137\n",
      "Iteration 40, loss = 0.46726371\n",
      "Validation score: 0.781513\n",
      "Iteration 41, loss = 0.46715936\n",
      "Validation score: 0.782640\n",
      "Iteration 42, loss = 0.46724551\n",
      "Validation score: 0.781738\n",
      "Iteration 43, loss = 0.46676877\n",
      "Validation score: 0.781550\n",
      "Iteration 44, loss = 0.46732662\n",
      "Validation score: 0.781851\n",
      "Iteration 45, loss = 0.46680893\n",
      "Validation score: 0.782339\n",
      "Iteration 46, loss = 0.46672361\n",
      "Validation score: 0.780912\n",
      "Iteration 47, loss = 0.46644523\n",
      "Validation score: 0.781513\n",
      "Iteration 48, loss = 0.46649821\n",
      "Validation score: 0.780724\n",
      "Iteration 49, loss = 0.46632064\n",
      "Validation score: 0.780724\n",
      "Iteration 50, loss = 0.46629550\n",
      "Validation score: 0.780311\n",
      "Iteration 51, loss = 0.46596407\n",
      "Validation score: 0.781325\n",
      "Iteration 52, loss = 0.46614755\n",
      "Validation score: 0.781250\n",
      "Validation score did not improve more than tol=0.000100 for 10 consecutive epochs. Stopping.\n"
     ]
    },
    {
     "data": {
      "text/plain": [
       "MLPClassifier(early_stopping=True, hidden_layer_sizes=(20, 15, 10, 5),\n",
       "              max_iter=1000, verbose=True)"
      ]
     },
     "execution_count": 32,
     "metadata": {},
     "output_type": "execute_result"
    }
   ],
   "source": [
    "clf_specific_attack = MLPClassifier(hidden_layer_sizes = (20,15,10,5) , max_iter=1000 ,early_stopping=True , verbose=True)\n",
    "clf_specific_attack.fit(X_train, y_train)"
   ]
  },
  {
   "cell_type": "code",
   "execution_count": 33,
   "id": "02436ec1",
   "metadata": {},
   "outputs": [
    {
     "name": "stdout",
     "output_type": "stream",
     "text": [
      "ПРОВЕРКА ДЛЯ АТАКИ median. МОДЕЛЬ ОБУЧЕНА НА НЕАТАКОВАННЫХ ИЗОБРАЖЕНИЯХ\n",
      "       0      1\n",
      "0  30812  11572\n",
      "1  23816  15720\n",
      "\n",
      "              precision    recall  f1-score   support\n",
      "\n",
      "           0       0.56      0.73      0.64     42384\n",
      "           1       0.58      0.40      0.47     39536\n",
      "\n",
      "    accuracy                           0.57     81920\n",
      "   macro avg       0.57      0.56      0.55     81920\n",
      "weighted avg       0.57      0.57      0.56     81920\n",
      "\n",
      "\n",
      "побитовое сравнение =  56.34765625\n"
     ]
    }
   ],
   "source": [
    "NO_AttackModel_Test(median,\"W_R/WR_median.tif\", \"ПРОВЕРКА ДЛЯ АТАКИ median. МОДЕЛЬ ОБУЧЕНА НА НЕАТАКОВАННЫХ ИЗОБРАЖЕНИЯХ\",clf_specific_attack)"
   ]
  },
  {
   "cell_type": "code",
   "execution_count": 65,
   "id": "75d040f1",
   "metadata": {},
   "outputs": [
    {
     "name": "stdout",
     "output_type": "stream",
     "text": [
      "побитовое сравнение =  62.6953125\n"
     ]
    }
   ],
   "source": [
    "Attack_Cross_medianAttack= pd.read_csv('feature_vec/medianAttackCross.txt') # ПАРАМЕТР НА ВХОД ФУНКЦИИ\n",
    "one_WM(Attack_Cross_medianAttack ,\"W_R/medianAttackCross.tif\",\"Water Mark Image/waterMark2.jpg\",clf_specific_attack )"
   ]
  },
  {
   "cell_type": "markdown",
   "id": "9996115a",
   "metadata": {},
   "source": [
    "### Среднее"
   ]
  },
  {
   "cell_type": "code",
   "execution_count": 34,
   "id": "80311eed",
   "metadata": {},
   "outputs": [
    {
     "name": "stderr",
     "output_type": "stream",
     "text": [
      "d:\\code\\python\\nir\\venv\\lib\\site-packages\\sklearn\\neural_network\\_multilayer_perceptron.py:1109: DataConversionWarning: A column-vector y was passed when a 1d array was expected. Please change the shape of y to (n_samples, ), for example using ravel().\n",
      "  y = column_or_1d(y, warn=True)\n"
     ]
    },
    {
     "name": "stdout",
     "output_type": "stream",
     "text": [
      "Iteration 1, loss = 0.59898790\n",
      "Validation score: 0.748235\n",
      "Iteration 2, loss = 0.51925582\n",
      "Validation score: 0.752779\n",
      "Iteration 3, loss = 0.50569332\n",
      "Validation score: 0.757399\n",
      "Iteration 4, loss = 0.50031389\n",
      "Validation score: 0.757812\n",
      "Iteration 5, loss = 0.49624868\n",
      "Validation score: 0.758676\n",
      "Iteration 6, loss = 0.49306574\n",
      "Validation score: 0.759578\n",
      "Iteration 7, loss = 0.49029154\n",
      "Validation score: 0.760554\n",
      "Iteration 8, loss = 0.48819053\n",
      "Validation score: 0.760705\n",
      "Iteration 9, loss = 0.48638716\n",
      "Validation score: 0.759991\n",
      "Iteration 10, loss = 0.48492682\n",
      "Validation score: 0.760817\n",
      "Iteration 11, loss = 0.48356299\n",
      "Validation score: 0.761306\n",
      "Iteration 12, loss = 0.48264327\n",
      "Validation score: 0.760254\n",
      "Iteration 13, loss = 0.48155514\n",
      "Validation score: 0.760367\n",
      "Iteration 14, loss = 0.48088148\n",
      "Validation score: 0.761306\n",
      "Iteration 15, loss = 0.47967852\n",
      "Validation score: 0.761756\n",
      "Iteration 16, loss = 0.47872190\n",
      "Validation score: 0.761719\n",
      "Iteration 17, loss = 0.47809091\n",
      "Validation score: 0.761944\n",
      "Iteration 18, loss = 0.47737252\n",
      "Validation score: 0.759578\n",
      "Iteration 19, loss = 0.47684334\n",
      "Validation score: 0.761193\n",
      "Iteration 20, loss = 0.47636269\n",
      "Validation score: 0.762019\n",
      "Iteration 21, loss = 0.47594748\n",
      "Validation score: 0.763522\n",
      "Iteration 22, loss = 0.47544847\n",
      "Validation score: 0.763747\n",
      "Iteration 23, loss = 0.47533446\n",
      "Validation score: 0.764273\n",
      "Iteration 24, loss = 0.47481460\n",
      "Validation score: 0.762470\n",
      "Iteration 25, loss = 0.47448472\n",
      "Validation score: 0.764386\n",
      "Iteration 26, loss = 0.47442184\n",
      "Validation score: 0.762320\n",
      "Iteration 27, loss = 0.47400415\n",
      "Validation score: 0.762057\n",
      "Iteration 28, loss = 0.47386605\n",
      "Validation score: 0.761944\n",
      "Iteration 29, loss = 0.47384006\n",
      "Validation score: 0.762320\n",
      "Iteration 30, loss = 0.47330873\n",
      "Validation score: 0.763860\n",
      "Iteration 31, loss = 0.47297204\n",
      "Validation score: 0.761869\n",
      "Iteration 32, loss = 0.47276550\n",
      "Validation score: 0.764874\n",
      "Iteration 33, loss = 0.47262876\n",
      "Validation score: 0.763071\n",
      "Iteration 34, loss = 0.47211664\n",
      "Validation score: 0.762470\n",
      "Iteration 35, loss = 0.47225060\n",
      "Validation score: 0.761343\n",
      "Iteration 36, loss = 0.47199213\n",
      "Validation score: 0.762921\n",
      "Iteration 37, loss = 0.47203164\n",
      "Validation score: 0.763860\n",
      "Iteration 38, loss = 0.47152628\n",
      "Validation score: 0.762395\n",
      "Iteration 39, loss = 0.47133934\n",
      "Validation score: 0.763146\n",
      "Iteration 40, loss = 0.47149547\n",
      "Validation score: 0.762846\n",
      "Iteration 41, loss = 0.47129970\n",
      "Validation score: 0.763559\n",
      "Iteration 42, loss = 0.47090517\n",
      "Validation score: 0.762958\n",
      "Iteration 43, loss = 0.47090571\n",
      "Validation score: 0.764573\n",
      "Validation score did not improve more than tol=0.000100 for 10 consecutive epochs. Stopping.\n"
     ]
    },
    {
     "data": {
      "text/plain": [
       "MLPClassifier(early_stopping=True, hidden_layer_sizes=(20, 15, 10, 5),\n",
       "              max_iter=1000, verbose=True)"
      ]
     },
     "execution_count": 34,
     "metadata": {},
     "output_type": "execute_result"
    }
   ],
   "source": [
    "averege=pd.read_csv(path_averege) \n",
    "No_Attack_frame = pd.read_csv('feature_vec/NO_Attack.txt') # ПАРАМЕТР НА ВХОД ФУНКЦИИ\n",
    "frames = [ averege , No_Attack_frame ]\n",
    "DataFrame = pd.concat(frames)\n",
    "del DataFrame['Unnamed: 0']\n",
    "del averege['Unnamed: 0']\n",
    "DataFrame\n",
    "\n",
    "X = DataFrame.iloc[:,[1,2,3,4]].values  \n",
    "Y=DataFrame.iloc[:,[0]].values\n",
    "X_train, X_test, y_train, y_test = train_test_split(X, Y, test_size=0.35, random_state=42)\n",
    "\n",
    "clf_specific_attack = MLPClassifier(hidden_layer_sizes = (20,15,10,5) , max_iter=1000 ,early_stopping=True , verbose=True)\n",
    "clf_specific_attack.fit(X_train, y_train)"
   ]
  },
  {
   "cell_type": "code",
   "execution_count": 35,
   "id": "6ea17271",
   "metadata": {},
   "outputs": [
    {
     "name": "stdout",
     "output_type": "stream",
     "text": [
      "ПРОВЕРКА ДЛЯ АТАКИ average МОДЕЛЬ ОБУЧЕНА НА НЕАТАКОВАННЫХ ИЗОБРАЖЕНИЯХ\n",
      "       0      1\n",
      "0  31144  11240\n",
      "1  24393  15143\n",
      "\n",
      "              precision    recall  f1-score   support\n",
      "\n",
      "           0       0.56      0.73      0.64     42384\n",
      "           1       0.57      0.38      0.46     39536\n",
      "\n",
      "    accuracy                           0.57     81920\n",
      "   macro avg       0.57      0.56      0.55     81920\n",
      "weighted avg       0.57      0.57      0.55     81920\n",
      "\n",
      "\n",
      "побитовое сравнение =  57.03125\n"
     ]
    }
   ],
   "source": [
    "NO_AttackModel_Test(median,\"W_R/WR_average.tif\", \"ПРОВЕРКА ДЛЯ АТАКИ average МОДЕЛЬ ОБУЧЕНА НА НЕАТАКОВАННЫХ ИЗОБРАЖЕНИЯХ\",clf_specific_attack)"
   ]
  },
  {
   "cell_type": "code",
   "execution_count": 36,
   "id": "38189b60",
   "metadata": {},
   "outputs": [
    {
     "ename": "FileNotFoundError",
     "evalue": "[Errno 2] No such file or directory: 'feature_vec/AverageAttackDota.txt'",
     "output_type": "error",
     "traceback": [
      "\u001b[1;31m---------------------------------------------------------------------------\u001b[0m",
      "\u001b[1;31mFileNotFoundError\u001b[0m                         Traceback (most recent call last)",
      "\u001b[1;32mC:\\Users\\ANDREY~1\\AppData\\Local\\Temp/ipykernel_8272/1179531966.py\u001b[0m in \u001b[0;36m<module>\u001b[1;34m\u001b[0m\n\u001b[1;32m----> 1\u001b[1;33m \u001b[0mAttack_Dota_Average\u001b[0m \u001b[1;33m=\u001b[0m \u001b[0mpd\u001b[0m\u001b[1;33m.\u001b[0m\u001b[0mread_csv\u001b[0m\u001b[1;33m(\u001b[0m\u001b[1;34m'feature_vec/AverageAttackDota.txt'\u001b[0m\u001b[1;33m)\u001b[0m \u001b[1;31m# ПАРАМЕТР НА ВХОД ФУНКЦИИ\u001b[0m\u001b[1;33m\u001b[0m\u001b[1;33m\u001b[0m\u001b[0m\n\u001b[0m\u001b[0;32m      2\u001b[0m \u001b[0mone_WM\u001b[0m\u001b[1;33m(\u001b[0m\u001b[0mAttack_Dota_Average\u001b[0m \u001b[1;33m,\u001b[0m\u001b[1;34m\"W_R/WR_Average_Dota.tif\"\u001b[0m\u001b[1;33m,\u001b[0m\u001b[1;34m\"Water Mark Image/waterMark3.jpg\"\u001b[0m\u001b[1;33m,\u001b[0m\u001b[0mclf_specific_attack\u001b[0m \u001b[1;33m)\u001b[0m\u001b[1;33m\u001b[0m\u001b[1;33m\u001b[0m\u001b[0m\n",
      "\u001b[1;32md:\\code\\python\\nir\\venv\\lib\\site-packages\\pandas\\util\\_decorators.py\u001b[0m in \u001b[0;36mwrapper\u001b[1;34m(*args, **kwargs)\u001b[0m\n\u001b[0;32m    309\u001b[0m                     \u001b[0mstacklevel\u001b[0m\u001b[1;33m=\u001b[0m\u001b[0mstacklevel\u001b[0m\u001b[1;33m,\u001b[0m\u001b[1;33m\u001b[0m\u001b[1;33m\u001b[0m\u001b[0m\n\u001b[0;32m    310\u001b[0m                 )\n\u001b[1;32m--> 311\u001b[1;33m             \u001b[1;32mreturn\u001b[0m \u001b[0mfunc\u001b[0m\u001b[1;33m(\u001b[0m\u001b[1;33m*\u001b[0m\u001b[0margs\u001b[0m\u001b[1;33m,\u001b[0m \u001b[1;33m**\u001b[0m\u001b[0mkwargs\u001b[0m\u001b[1;33m)\u001b[0m\u001b[1;33m\u001b[0m\u001b[1;33m\u001b[0m\u001b[0m\n\u001b[0m\u001b[0;32m    312\u001b[0m \u001b[1;33m\u001b[0m\u001b[0m\n\u001b[0;32m    313\u001b[0m         \u001b[1;32mreturn\u001b[0m \u001b[0mwrapper\u001b[0m\u001b[1;33m\u001b[0m\u001b[1;33m\u001b[0m\u001b[0m\n",
      "\u001b[1;32md:\\code\\python\\nir\\venv\\lib\\site-packages\\pandas\\io\\parsers\\readers.py\u001b[0m in \u001b[0;36mread_csv\u001b[1;34m(filepath_or_buffer, sep, delimiter, header, names, index_col, usecols, squeeze, prefix, mangle_dupe_cols, dtype, engine, converters, true_values, false_values, skipinitialspace, skiprows, skipfooter, nrows, na_values, keep_default_na, na_filter, verbose, skip_blank_lines, parse_dates, infer_datetime_format, keep_date_col, date_parser, dayfirst, cache_dates, iterator, chunksize, compression, thousands, decimal, lineterminator, quotechar, quoting, doublequote, escapechar, comment, encoding, encoding_errors, dialect, error_bad_lines, warn_bad_lines, on_bad_lines, delim_whitespace, low_memory, memory_map, float_precision, storage_options)\u001b[0m\n\u001b[0;32m    584\u001b[0m     \u001b[0mkwds\u001b[0m\u001b[1;33m.\u001b[0m\u001b[0mupdate\u001b[0m\u001b[1;33m(\u001b[0m\u001b[0mkwds_defaults\u001b[0m\u001b[1;33m)\u001b[0m\u001b[1;33m\u001b[0m\u001b[1;33m\u001b[0m\u001b[0m\n\u001b[0;32m    585\u001b[0m \u001b[1;33m\u001b[0m\u001b[0m\n\u001b[1;32m--> 586\u001b[1;33m     \u001b[1;32mreturn\u001b[0m \u001b[0m_read\u001b[0m\u001b[1;33m(\u001b[0m\u001b[0mfilepath_or_buffer\u001b[0m\u001b[1;33m,\u001b[0m \u001b[0mkwds\u001b[0m\u001b[1;33m)\u001b[0m\u001b[1;33m\u001b[0m\u001b[1;33m\u001b[0m\u001b[0m\n\u001b[0m\u001b[0;32m    587\u001b[0m \u001b[1;33m\u001b[0m\u001b[0m\n\u001b[0;32m    588\u001b[0m \u001b[1;33m\u001b[0m\u001b[0m\n",
      "\u001b[1;32md:\\code\\python\\nir\\venv\\lib\\site-packages\\pandas\\io\\parsers\\readers.py\u001b[0m in \u001b[0;36m_read\u001b[1;34m(filepath_or_buffer, kwds)\u001b[0m\n\u001b[0;32m    480\u001b[0m \u001b[1;33m\u001b[0m\u001b[0m\n\u001b[0;32m    481\u001b[0m     \u001b[1;31m# Create the parser.\u001b[0m\u001b[1;33m\u001b[0m\u001b[1;33m\u001b[0m\u001b[1;33m\u001b[0m\u001b[0m\n\u001b[1;32m--> 482\u001b[1;33m     \u001b[0mparser\u001b[0m \u001b[1;33m=\u001b[0m \u001b[0mTextFileReader\u001b[0m\u001b[1;33m(\u001b[0m\u001b[0mfilepath_or_buffer\u001b[0m\u001b[1;33m,\u001b[0m \u001b[1;33m**\u001b[0m\u001b[0mkwds\u001b[0m\u001b[1;33m)\u001b[0m\u001b[1;33m\u001b[0m\u001b[1;33m\u001b[0m\u001b[0m\n\u001b[0m\u001b[0;32m    483\u001b[0m \u001b[1;33m\u001b[0m\u001b[0m\n\u001b[0;32m    484\u001b[0m     \u001b[1;32mif\u001b[0m \u001b[0mchunksize\u001b[0m \u001b[1;32mor\u001b[0m \u001b[0miterator\u001b[0m\u001b[1;33m:\u001b[0m\u001b[1;33m\u001b[0m\u001b[1;33m\u001b[0m\u001b[0m\n",
      "\u001b[1;32md:\\code\\python\\nir\\venv\\lib\\site-packages\\pandas\\io\\parsers\\readers.py\u001b[0m in \u001b[0;36m__init__\u001b[1;34m(self, f, engine, **kwds)\u001b[0m\n\u001b[0;32m    809\u001b[0m             \u001b[0mself\u001b[0m\u001b[1;33m.\u001b[0m\u001b[0moptions\u001b[0m\u001b[1;33m[\u001b[0m\u001b[1;34m\"has_index_names\"\u001b[0m\u001b[1;33m]\u001b[0m \u001b[1;33m=\u001b[0m \u001b[0mkwds\u001b[0m\u001b[1;33m[\u001b[0m\u001b[1;34m\"has_index_names\"\u001b[0m\u001b[1;33m]\u001b[0m\u001b[1;33m\u001b[0m\u001b[1;33m\u001b[0m\u001b[0m\n\u001b[0;32m    810\u001b[0m \u001b[1;33m\u001b[0m\u001b[0m\n\u001b[1;32m--> 811\u001b[1;33m         \u001b[0mself\u001b[0m\u001b[1;33m.\u001b[0m\u001b[0m_engine\u001b[0m \u001b[1;33m=\u001b[0m \u001b[0mself\u001b[0m\u001b[1;33m.\u001b[0m\u001b[0m_make_engine\u001b[0m\u001b[1;33m(\u001b[0m\u001b[0mself\u001b[0m\u001b[1;33m.\u001b[0m\u001b[0mengine\u001b[0m\u001b[1;33m)\u001b[0m\u001b[1;33m\u001b[0m\u001b[1;33m\u001b[0m\u001b[0m\n\u001b[0m\u001b[0;32m    812\u001b[0m \u001b[1;33m\u001b[0m\u001b[0m\n\u001b[0;32m    813\u001b[0m     \u001b[1;32mdef\u001b[0m \u001b[0mclose\u001b[0m\u001b[1;33m(\u001b[0m\u001b[0mself\u001b[0m\u001b[1;33m)\u001b[0m\u001b[1;33m:\u001b[0m\u001b[1;33m\u001b[0m\u001b[1;33m\u001b[0m\u001b[0m\n",
      "\u001b[1;32md:\\code\\python\\nir\\venv\\lib\\site-packages\\pandas\\io\\parsers\\readers.py\u001b[0m in \u001b[0;36m_make_engine\u001b[1;34m(self, engine)\u001b[0m\n\u001b[0;32m   1038\u001b[0m             )\n\u001b[0;32m   1039\u001b[0m         \u001b[1;31m# error: Too many arguments for \"ParserBase\"\u001b[0m\u001b[1;33m\u001b[0m\u001b[1;33m\u001b[0m\u001b[1;33m\u001b[0m\u001b[0m\n\u001b[1;32m-> 1040\u001b[1;33m         \u001b[1;32mreturn\u001b[0m \u001b[0mmapping\u001b[0m\u001b[1;33m[\u001b[0m\u001b[0mengine\u001b[0m\u001b[1;33m]\u001b[0m\u001b[1;33m(\u001b[0m\u001b[0mself\u001b[0m\u001b[1;33m.\u001b[0m\u001b[0mf\u001b[0m\u001b[1;33m,\u001b[0m \u001b[1;33m**\u001b[0m\u001b[0mself\u001b[0m\u001b[1;33m.\u001b[0m\u001b[0moptions\u001b[0m\u001b[1;33m)\u001b[0m  \u001b[1;31m# type: ignore[call-arg]\u001b[0m\u001b[1;33m\u001b[0m\u001b[1;33m\u001b[0m\u001b[0m\n\u001b[0m\u001b[0;32m   1041\u001b[0m \u001b[1;33m\u001b[0m\u001b[0m\n\u001b[0;32m   1042\u001b[0m     \u001b[1;32mdef\u001b[0m \u001b[0m_failover_to_python\u001b[0m\u001b[1;33m(\u001b[0m\u001b[0mself\u001b[0m\u001b[1;33m)\u001b[0m\u001b[1;33m:\u001b[0m\u001b[1;33m\u001b[0m\u001b[1;33m\u001b[0m\u001b[0m\n",
      "\u001b[1;32md:\\code\\python\\nir\\venv\\lib\\site-packages\\pandas\\io\\parsers\\c_parser_wrapper.py\u001b[0m in \u001b[0;36m__init__\u001b[1;34m(self, src, **kwds)\u001b[0m\n\u001b[0;32m     49\u001b[0m \u001b[1;33m\u001b[0m\u001b[0m\n\u001b[0;32m     50\u001b[0m         \u001b[1;31m# open handles\u001b[0m\u001b[1;33m\u001b[0m\u001b[1;33m\u001b[0m\u001b[1;33m\u001b[0m\u001b[0m\n\u001b[1;32m---> 51\u001b[1;33m         \u001b[0mself\u001b[0m\u001b[1;33m.\u001b[0m\u001b[0m_open_handles\u001b[0m\u001b[1;33m(\u001b[0m\u001b[0msrc\u001b[0m\u001b[1;33m,\u001b[0m \u001b[0mkwds\u001b[0m\u001b[1;33m)\u001b[0m\u001b[1;33m\u001b[0m\u001b[1;33m\u001b[0m\u001b[0m\n\u001b[0m\u001b[0;32m     52\u001b[0m         \u001b[1;32massert\u001b[0m \u001b[0mself\u001b[0m\u001b[1;33m.\u001b[0m\u001b[0mhandles\u001b[0m \u001b[1;32mis\u001b[0m \u001b[1;32mnot\u001b[0m \u001b[1;32mNone\u001b[0m\u001b[1;33m\u001b[0m\u001b[1;33m\u001b[0m\u001b[0m\n\u001b[0;32m     53\u001b[0m \u001b[1;33m\u001b[0m\u001b[0m\n",
      "\u001b[1;32md:\\code\\python\\nir\\venv\\lib\\site-packages\\pandas\\io\\parsers\\base_parser.py\u001b[0m in \u001b[0;36m_open_handles\u001b[1;34m(self, src, kwds)\u001b[0m\n\u001b[0;32m    220\u001b[0m         \u001b[0mLet\u001b[0m \u001b[0mthe\u001b[0m \u001b[0mreaders\u001b[0m \u001b[0mopen\u001b[0m \u001b[0mIOHandles\u001b[0m \u001b[0mafter\u001b[0m \u001b[0mthey\u001b[0m \u001b[0mare\u001b[0m \u001b[0mdone\u001b[0m \u001b[1;32mwith\u001b[0m \u001b[0mtheir\u001b[0m \u001b[0mpotential\u001b[0m \u001b[0mraises\u001b[0m\u001b[1;33m.\u001b[0m\u001b[1;33m\u001b[0m\u001b[1;33m\u001b[0m\u001b[0m\n\u001b[0;32m    221\u001b[0m         \"\"\"\n\u001b[1;32m--> 222\u001b[1;33m         self.handles = get_handle(\n\u001b[0m\u001b[0;32m    223\u001b[0m             \u001b[0msrc\u001b[0m\u001b[1;33m,\u001b[0m\u001b[1;33m\u001b[0m\u001b[1;33m\u001b[0m\u001b[0m\n\u001b[0;32m    224\u001b[0m             \u001b[1;34m\"r\"\u001b[0m\u001b[1;33m,\u001b[0m\u001b[1;33m\u001b[0m\u001b[1;33m\u001b[0m\u001b[0m\n",
      "\u001b[1;32md:\\code\\python\\nir\\venv\\lib\\site-packages\\pandas\\io\\common.py\u001b[0m in \u001b[0;36mget_handle\u001b[1;34m(path_or_buf, mode, encoding, compression, memory_map, is_text, errors, storage_options)\u001b[0m\n\u001b[0;32m    700\u001b[0m         \u001b[1;32mif\u001b[0m \u001b[0mioargs\u001b[0m\u001b[1;33m.\u001b[0m\u001b[0mencoding\u001b[0m \u001b[1;32mand\u001b[0m \u001b[1;34m\"b\"\u001b[0m \u001b[1;32mnot\u001b[0m \u001b[1;32min\u001b[0m \u001b[0mioargs\u001b[0m\u001b[1;33m.\u001b[0m\u001b[0mmode\u001b[0m\u001b[1;33m:\u001b[0m\u001b[1;33m\u001b[0m\u001b[1;33m\u001b[0m\u001b[0m\n\u001b[0;32m    701\u001b[0m             \u001b[1;31m# Encoding\u001b[0m\u001b[1;33m\u001b[0m\u001b[1;33m\u001b[0m\u001b[1;33m\u001b[0m\u001b[0m\n\u001b[1;32m--> 702\u001b[1;33m             handle = open(\n\u001b[0m\u001b[0;32m    703\u001b[0m                 \u001b[0mhandle\u001b[0m\u001b[1;33m,\u001b[0m\u001b[1;33m\u001b[0m\u001b[1;33m\u001b[0m\u001b[0m\n\u001b[0;32m    704\u001b[0m                 \u001b[0mioargs\u001b[0m\u001b[1;33m.\u001b[0m\u001b[0mmode\u001b[0m\u001b[1;33m,\u001b[0m\u001b[1;33m\u001b[0m\u001b[1;33m\u001b[0m\u001b[0m\n",
      "\u001b[1;31mFileNotFoundError\u001b[0m: [Errno 2] No such file or directory: 'feature_vec/AverageAttackDota.txt'"
     ]
    }
   ],
   "source": [
    "Attack_Dota_Average = pd.read_csv('feature_vec/AverageAttackDota.txt') # ПАРАМЕТР НА ВХОД ФУНКЦИИ\n",
    "one_WM(Attack_Dota_Average ,\"W_R/WR_Average_Dota.tif\",\"Water Mark Image/waterMark3.jpg\",clf_specific_attack )"
   ]
  },
  {
   "cell_type": "code",
   "execution_count": null,
   "id": "924d490e",
   "metadata": {},
   "outputs": [],
   "source": []
  }
 ],
 "metadata": {
  "kernelspec": {
   "display_name": "Python 3 (ipykernel)",
   "language": "python",
   "name": "python3"
  },
  "language_info": {
   "codemirror_mode": {
    "name": "ipython",
    "version": 3
   },
   "file_extension": ".py",
   "mimetype": "text/x-python",
   "name": "python",
   "nbconvert_exporter": "python",
   "pygments_lexer": "ipython3",
   "version": "3.9.0"
  }
 },
 "nbformat": 4,
 "nbformat_minor": 5
}
